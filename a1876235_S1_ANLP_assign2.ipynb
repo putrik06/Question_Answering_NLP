{
  "cells": [
    {
      "cell_type": "markdown",
      "metadata": {
        "id": "view-in-github",
        "colab_type": "text"
      },
      "source": [
        "<a href=\"https://colab.research.google.com/github/putrik06/Question_Answering_NLP/blob/main/a1876235_S1_ANLP_assign2.ipynb\" target=\"_parent\"><img src=\"https://colab.research.google.com/assets/colab-badge.svg\" alt=\"Open In Colab\"/></a>"
      ]
    },
    {
      "cell_type": "markdown",
      "id": "6730fecf",
      "metadata": {
        "id": "6730fecf"
      },
      "source": [
        "# Assignment 2\n",
        "### \\Jordana Izquierdo \\a1876235\n",
        "### \\Putri Kamaluddin \\a1873127"
      ]
    },
    {
      "cell_type": "markdown",
      "id": "3df2aac6",
      "metadata": {
        "id": "3df2aac6"
      },
      "source": [
        "# A. Tasks as specified for your team structure"
      ]
    },
    {
      "cell_type": "markdown",
      "source": [
        "## Load dataset"
      ],
      "metadata": {
        "id": "r4ky3kYulbag"
      },
      "id": "r4ky3kYulbag"
    },
    {
      "cell_type": "code",
      "source": [
        "# Get some libraries\n",
        "import pandas as pd\n",
        "import numpy as np\n",
        "import nltk\n",
        "import regex as re\n",
        "import seaborn as sns\n",
        "import json\n",
        "import spacy\n",
        "import matplotlib.pyplot as plt"
      ],
      "metadata": {
        "id": "B13XcaHRmCGh"
      },
      "id": "B13XcaHRmCGh",
      "execution_count": 1,
      "outputs": []
    },
    {
      "cell_type": "code",
      "source": [
        "# Read the dataset from google drive\n",
        "from google.colab import drive\n",
        "drive.mount('/content/drive')\n",
        "\n",
        "# Path to my JSON file\n",
        "archive_path ='/content/drive/My Drive/Colab Notebooks/NLP/NLP_A2/news_dataset.csv'\n",
        "\n",
        "# Get data from JSON file\n",
        "encoding_type = 'latin1'\n",
        "df = pd.read_csv(archive_path, encoding=encoding_type)\n",
        "\n",
        "# Display DataFrame information\n",
        "df.info()"
      ],
      "metadata": {
        "colab": {
          "base_uri": "https://localhost:8080/"
        },
        "id": "H0lqKRMEllpX",
        "outputId": "06dfba2e-dcfc-4bb3-c3b0-87f05498185f"
      },
      "id": "H0lqKRMEllpX",
      "execution_count": 2,
      "outputs": [
        {
          "output_type": "stream",
          "name": "stdout",
          "text": [
            "Drive already mounted at /content/drive; to attempt to forcibly remount, call drive.mount(\"/content/drive\", force_remount=True).\n",
            "<class 'pandas.core.frame.DataFrame'>\n",
            "RangeIndex: 1000 entries, 0 to 999\n",
            "Data columns (total 7 columns):\n",
            " #   Column   Non-Null Count  Dtype \n",
            "---  ------   --------------  ----- \n",
            " 0   id       1000 non-null   int64 \n",
            " 1   author   994 non-null    object\n",
            " 2   date     1000 non-null   object\n",
            " 3   year     1000 non-null   object\n",
            " 4   month    1000 non-null   object\n",
            " 5   topic    1000 non-null   object\n",
            " 6   article  1000 non-null   object\n",
            "dtypes: int64(1), object(6)\n",
            "memory usage: 54.8+ KB\n"
          ]
        }
      ]
    },
    {
      "cell_type": "code",
      "source": [
        "df"
      ],
      "metadata": {
        "colab": {
          "base_uri": "https://localhost:8080/",
          "height": 424
        },
        "id": "yiHpq2Ywmma_",
        "outputId": "9f860bde-3846-4c62-c0c9-c9711fb2578c"
      },
      "id": "yiHpq2Ywmma_",
      "execution_count": 3,
      "outputs": [
        {
          "output_type": "execute_result",
          "data": {
            "text/plain": [
              "        id               author        date  year month         topic  \\\n",
              "0    17307       Marlise Simons   1/01/2017  2017     1  architecture   \n",
              "1    17292          Andy Newman  31/12/2016  2016    12           art   \n",
              "2    17298  Emma G. Fitzsimmons   2/01/2017  2017     1      business   \n",
              "3    17311           Carl Hulse   3/01/2017  2017     1      business   \n",
              "4    17339        Jim Rutenberg   5/01/2017  2017     1      business   \n",
              "..     ...                  ...         ...   ...   ...           ...   \n",
              "995  18460        Gerry Mullany  14/03/2017  2017     3     accidents   \n",
              "996  18461           Rory Smith  10/02/2017  2017     2        sports   \n",
              "997  18462           Jack Ewing   9/02/2017  2017     2      business   \n",
              "998  18463       Scott Cacciola  10/02/2017  2017     2        sports   \n",
              "999  18465          Sam Roberts  10/02/2017  2017     2     lifestyle   \n",
              "\n",
              "                                               article  \n",
              "0    PARIS  ?   When the Islamic State was about to...  \n",
              "1    Angels are everywhere in the Mu?iz family?s ap...  \n",
              "2    Finally. The Second Avenue subway opened in Ne...  \n",
              "3    WASHINGTON  ?   It?s   or   time for Republica...  \n",
              "4    For Megyn Kelly, the shift from Fox News to NB...  \n",
              "..                                                 ...  \n",
              "995  HONG KONG  ?   Hundreds of pilot whales that s...  \n",
              "996  NICE, France  ?     Riv?re accepts the complim...  \n",
              "997  FRANKFURT  ?   Germans who never really warmed...  \n",
              "998  Charles Oakley has strong feelings about compe...  \n",
              "999  Hans Rosling, a Swedish doctor who transformed...  \n",
              "\n",
              "[1000 rows x 7 columns]"
            ],
            "text/html": [
              "\n",
              "  <div id=\"df-a4ab0d44-9edb-46c1-855f-0dedd48f3c1d\" class=\"colab-df-container\">\n",
              "    <div>\n",
              "<style scoped>\n",
              "    .dataframe tbody tr th:only-of-type {\n",
              "        vertical-align: middle;\n",
              "    }\n",
              "\n",
              "    .dataframe tbody tr th {\n",
              "        vertical-align: top;\n",
              "    }\n",
              "\n",
              "    .dataframe thead th {\n",
              "        text-align: right;\n",
              "    }\n",
              "</style>\n",
              "<table border=\"1\" class=\"dataframe\">\n",
              "  <thead>\n",
              "    <tr style=\"text-align: right;\">\n",
              "      <th></th>\n",
              "      <th>id</th>\n",
              "      <th>author</th>\n",
              "      <th>date</th>\n",
              "      <th>year</th>\n",
              "      <th>month</th>\n",
              "      <th>topic</th>\n",
              "      <th>article</th>\n",
              "    </tr>\n",
              "  </thead>\n",
              "  <tbody>\n",
              "    <tr>\n",
              "      <th>0</th>\n",
              "      <td>17307</td>\n",
              "      <td>Marlise Simons</td>\n",
              "      <td>1/01/2017</td>\n",
              "      <td>2017</td>\n",
              "      <td>1</td>\n",
              "      <td>architecture</td>\n",
              "      <td>PARIS  ?   When the Islamic State was about to...</td>\n",
              "    </tr>\n",
              "    <tr>\n",
              "      <th>1</th>\n",
              "      <td>17292</td>\n",
              "      <td>Andy Newman</td>\n",
              "      <td>31/12/2016</td>\n",
              "      <td>2016</td>\n",
              "      <td>12</td>\n",
              "      <td>art</td>\n",
              "      <td>Angels are everywhere in the Mu?iz family?s ap...</td>\n",
              "    </tr>\n",
              "    <tr>\n",
              "      <th>2</th>\n",
              "      <td>17298</td>\n",
              "      <td>Emma G. Fitzsimmons</td>\n",
              "      <td>2/01/2017</td>\n",
              "      <td>2017</td>\n",
              "      <td>1</td>\n",
              "      <td>business</td>\n",
              "      <td>Finally. The Second Avenue subway opened in Ne...</td>\n",
              "    </tr>\n",
              "    <tr>\n",
              "      <th>3</th>\n",
              "      <td>17311</td>\n",
              "      <td>Carl Hulse</td>\n",
              "      <td>3/01/2017</td>\n",
              "      <td>2017</td>\n",
              "      <td>1</td>\n",
              "      <td>business</td>\n",
              "      <td>WASHINGTON  ?   It?s   or   time for Republica...</td>\n",
              "    </tr>\n",
              "    <tr>\n",
              "      <th>4</th>\n",
              "      <td>17339</td>\n",
              "      <td>Jim Rutenberg</td>\n",
              "      <td>5/01/2017</td>\n",
              "      <td>2017</td>\n",
              "      <td>1</td>\n",
              "      <td>business</td>\n",
              "      <td>For Megyn Kelly, the shift from Fox News to NB...</td>\n",
              "    </tr>\n",
              "    <tr>\n",
              "      <th>...</th>\n",
              "      <td>...</td>\n",
              "      <td>...</td>\n",
              "      <td>...</td>\n",
              "      <td>...</td>\n",
              "      <td>...</td>\n",
              "      <td>...</td>\n",
              "      <td>...</td>\n",
              "    </tr>\n",
              "    <tr>\n",
              "      <th>995</th>\n",
              "      <td>18460</td>\n",
              "      <td>Gerry Mullany</td>\n",
              "      <td>14/03/2017</td>\n",
              "      <td>2017</td>\n",
              "      <td>3</td>\n",
              "      <td>accidents</td>\n",
              "      <td>HONG KONG  ?   Hundreds of pilot whales that s...</td>\n",
              "    </tr>\n",
              "    <tr>\n",
              "      <th>996</th>\n",
              "      <td>18461</td>\n",
              "      <td>Rory Smith</td>\n",
              "      <td>10/02/2017</td>\n",
              "      <td>2017</td>\n",
              "      <td>2</td>\n",
              "      <td>sports</td>\n",
              "      <td>NICE, France  ?     Riv?re accepts the complim...</td>\n",
              "    </tr>\n",
              "    <tr>\n",
              "      <th>997</th>\n",
              "      <td>18462</td>\n",
              "      <td>Jack Ewing</td>\n",
              "      <td>9/02/2017</td>\n",
              "      <td>2017</td>\n",
              "      <td>2</td>\n",
              "      <td>business</td>\n",
              "      <td>FRANKFURT  ?   Germans who never really warmed...</td>\n",
              "    </tr>\n",
              "    <tr>\n",
              "      <th>998</th>\n",
              "      <td>18463</td>\n",
              "      <td>Scott Cacciola</td>\n",
              "      <td>10/02/2017</td>\n",
              "      <td>2017</td>\n",
              "      <td>2</td>\n",
              "      <td>sports</td>\n",
              "      <td>Charles Oakley has strong feelings about compe...</td>\n",
              "    </tr>\n",
              "    <tr>\n",
              "      <th>999</th>\n",
              "      <td>18465</td>\n",
              "      <td>Sam Roberts</td>\n",
              "      <td>10/02/2017</td>\n",
              "      <td>2017</td>\n",
              "      <td>2</td>\n",
              "      <td>lifestyle</td>\n",
              "      <td>Hans Rosling, a Swedish doctor who transformed...</td>\n",
              "    </tr>\n",
              "  </tbody>\n",
              "</table>\n",
              "<p>1000 rows × 7 columns</p>\n",
              "</div>\n",
              "    <div class=\"colab-df-buttons\">\n",
              "\n",
              "  <div class=\"colab-df-container\">\n",
              "    <button class=\"colab-df-convert\" onclick=\"convertToInteractive('df-a4ab0d44-9edb-46c1-855f-0dedd48f3c1d')\"\n",
              "            title=\"Convert this dataframe to an interactive table.\"\n",
              "            style=\"display:none;\">\n",
              "\n",
              "  <svg xmlns=\"http://www.w3.org/2000/svg\" height=\"24px\" viewBox=\"0 -960 960 960\">\n",
              "    <path d=\"M120-120v-720h720v720H120Zm60-500h600v-160H180v160Zm220 220h160v-160H400v160Zm0 220h160v-160H400v160ZM180-400h160v-160H180v160Zm440 0h160v-160H620v160ZM180-180h160v-160H180v160Zm440 0h160v-160H620v160Z\"/>\n",
              "  </svg>\n",
              "    </button>\n",
              "\n",
              "  <style>\n",
              "    .colab-df-container {\n",
              "      display:flex;\n",
              "      gap: 12px;\n",
              "    }\n",
              "\n",
              "    .colab-df-convert {\n",
              "      background-color: #E8F0FE;\n",
              "      border: none;\n",
              "      border-radius: 50%;\n",
              "      cursor: pointer;\n",
              "      display: none;\n",
              "      fill: #1967D2;\n",
              "      height: 32px;\n",
              "      padding: 0 0 0 0;\n",
              "      width: 32px;\n",
              "    }\n",
              "\n",
              "    .colab-df-convert:hover {\n",
              "      background-color: #E2EBFA;\n",
              "      box-shadow: 0px 1px 2px rgba(60, 64, 67, 0.3), 0px 1px 3px 1px rgba(60, 64, 67, 0.15);\n",
              "      fill: #174EA6;\n",
              "    }\n",
              "\n",
              "    .colab-df-buttons div {\n",
              "      margin-bottom: 4px;\n",
              "    }\n",
              "\n",
              "    [theme=dark] .colab-df-convert {\n",
              "      background-color: #3B4455;\n",
              "      fill: #D2E3FC;\n",
              "    }\n",
              "\n",
              "    [theme=dark] .colab-df-convert:hover {\n",
              "      background-color: #434B5C;\n",
              "      box-shadow: 0px 1px 3px 1px rgba(0, 0, 0, 0.15);\n",
              "      filter: drop-shadow(0px 1px 2px rgba(0, 0, 0, 0.3));\n",
              "      fill: #FFFFFF;\n",
              "    }\n",
              "  </style>\n",
              "\n",
              "    <script>\n",
              "      const buttonEl =\n",
              "        document.querySelector('#df-a4ab0d44-9edb-46c1-855f-0dedd48f3c1d button.colab-df-convert');\n",
              "      buttonEl.style.display =\n",
              "        google.colab.kernel.accessAllowed ? 'block' : 'none';\n",
              "\n",
              "      async function convertToInteractive(key) {\n",
              "        const element = document.querySelector('#df-a4ab0d44-9edb-46c1-855f-0dedd48f3c1d');\n",
              "        const dataTable =\n",
              "          await google.colab.kernel.invokeFunction('convertToInteractive',\n",
              "                                                    [key], {});\n",
              "        if (!dataTable) return;\n",
              "\n",
              "        const docLinkHtml = 'Like what you see? Visit the ' +\n",
              "          '<a target=\"_blank\" href=https://colab.research.google.com/notebooks/data_table.ipynb>data table notebook</a>'\n",
              "          + ' to learn more about interactive tables.';\n",
              "        element.innerHTML = '';\n",
              "        dataTable['output_type'] = 'display_data';\n",
              "        await google.colab.output.renderOutput(dataTable, element);\n",
              "        const docLink = document.createElement('div');\n",
              "        docLink.innerHTML = docLinkHtml;\n",
              "        element.appendChild(docLink);\n",
              "      }\n",
              "    </script>\n",
              "  </div>\n",
              "\n",
              "\n",
              "<div id=\"df-61057b91-c838-443d-b751-3c287eb412bf\">\n",
              "  <button class=\"colab-df-quickchart\" onclick=\"quickchart('df-61057b91-c838-443d-b751-3c287eb412bf')\"\n",
              "            title=\"Suggest charts\"\n",
              "            style=\"display:none;\">\n",
              "\n",
              "<svg xmlns=\"http://www.w3.org/2000/svg\" height=\"24px\"viewBox=\"0 0 24 24\"\n",
              "     width=\"24px\">\n",
              "    <g>\n",
              "        <path d=\"M19 3H5c-1.1 0-2 .9-2 2v14c0 1.1.9 2 2 2h14c1.1 0 2-.9 2-2V5c0-1.1-.9-2-2-2zM9 17H7v-7h2v7zm4 0h-2V7h2v10zm4 0h-2v-4h2v4z\"/>\n",
              "    </g>\n",
              "</svg>\n",
              "  </button>\n",
              "\n",
              "<style>\n",
              "  .colab-df-quickchart {\n",
              "      --bg-color: #E8F0FE;\n",
              "      --fill-color: #1967D2;\n",
              "      --hover-bg-color: #E2EBFA;\n",
              "      --hover-fill-color: #174EA6;\n",
              "      --disabled-fill-color: #AAA;\n",
              "      --disabled-bg-color: #DDD;\n",
              "  }\n",
              "\n",
              "  [theme=dark] .colab-df-quickchart {\n",
              "      --bg-color: #3B4455;\n",
              "      --fill-color: #D2E3FC;\n",
              "      --hover-bg-color: #434B5C;\n",
              "      --hover-fill-color: #FFFFFF;\n",
              "      --disabled-bg-color: #3B4455;\n",
              "      --disabled-fill-color: #666;\n",
              "  }\n",
              "\n",
              "  .colab-df-quickchart {\n",
              "    background-color: var(--bg-color);\n",
              "    border: none;\n",
              "    border-radius: 50%;\n",
              "    cursor: pointer;\n",
              "    display: none;\n",
              "    fill: var(--fill-color);\n",
              "    height: 32px;\n",
              "    padding: 0;\n",
              "    width: 32px;\n",
              "  }\n",
              "\n",
              "  .colab-df-quickchart:hover {\n",
              "    background-color: var(--hover-bg-color);\n",
              "    box-shadow: 0 1px 2px rgba(60, 64, 67, 0.3), 0 1px 3px 1px rgba(60, 64, 67, 0.15);\n",
              "    fill: var(--button-hover-fill-color);\n",
              "  }\n",
              "\n",
              "  .colab-df-quickchart-complete:disabled,\n",
              "  .colab-df-quickchart-complete:disabled:hover {\n",
              "    background-color: var(--disabled-bg-color);\n",
              "    fill: var(--disabled-fill-color);\n",
              "    box-shadow: none;\n",
              "  }\n",
              "\n",
              "  .colab-df-spinner {\n",
              "    border: 2px solid var(--fill-color);\n",
              "    border-color: transparent;\n",
              "    border-bottom-color: var(--fill-color);\n",
              "    animation:\n",
              "      spin 1s steps(1) infinite;\n",
              "  }\n",
              "\n",
              "  @keyframes spin {\n",
              "    0% {\n",
              "      border-color: transparent;\n",
              "      border-bottom-color: var(--fill-color);\n",
              "      border-left-color: var(--fill-color);\n",
              "    }\n",
              "    20% {\n",
              "      border-color: transparent;\n",
              "      border-left-color: var(--fill-color);\n",
              "      border-top-color: var(--fill-color);\n",
              "    }\n",
              "    30% {\n",
              "      border-color: transparent;\n",
              "      border-left-color: var(--fill-color);\n",
              "      border-top-color: var(--fill-color);\n",
              "      border-right-color: var(--fill-color);\n",
              "    }\n",
              "    40% {\n",
              "      border-color: transparent;\n",
              "      border-right-color: var(--fill-color);\n",
              "      border-top-color: var(--fill-color);\n",
              "    }\n",
              "    60% {\n",
              "      border-color: transparent;\n",
              "      border-right-color: var(--fill-color);\n",
              "    }\n",
              "    80% {\n",
              "      border-color: transparent;\n",
              "      border-right-color: var(--fill-color);\n",
              "      border-bottom-color: var(--fill-color);\n",
              "    }\n",
              "    90% {\n",
              "      border-color: transparent;\n",
              "      border-bottom-color: var(--fill-color);\n",
              "    }\n",
              "  }\n",
              "</style>\n",
              "\n",
              "  <script>\n",
              "    async function quickchart(key) {\n",
              "      const quickchartButtonEl =\n",
              "        document.querySelector('#' + key + ' button');\n",
              "      quickchartButtonEl.disabled = true;  // To prevent multiple clicks.\n",
              "      quickchartButtonEl.classList.add('colab-df-spinner');\n",
              "      try {\n",
              "        const charts = await google.colab.kernel.invokeFunction(\n",
              "            'suggestCharts', [key], {});\n",
              "      } catch (error) {\n",
              "        console.error('Error during call to suggestCharts:', error);\n",
              "      }\n",
              "      quickchartButtonEl.classList.remove('colab-df-spinner');\n",
              "      quickchartButtonEl.classList.add('colab-df-quickchart-complete');\n",
              "    }\n",
              "    (() => {\n",
              "      let quickchartButtonEl =\n",
              "        document.querySelector('#df-61057b91-c838-443d-b751-3c287eb412bf button');\n",
              "      quickchartButtonEl.style.display =\n",
              "        google.colab.kernel.accessAllowed ? 'block' : 'none';\n",
              "    })();\n",
              "  </script>\n",
              "</div>\n",
              "\n",
              "  <div id=\"id_06214ab7-9e39-47c3-b9a2-1fac11828836\">\n",
              "    <style>\n",
              "      .colab-df-generate {\n",
              "        background-color: #E8F0FE;\n",
              "        border: none;\n",
              "        border-radius: 50%;\n",
              "        cursor: pointer;\n",
              "        display: none;\n",
              "        fill: #1967D2;\n",
              "        height: 32px;\n",
              "        padding: 0 0 0 0;\n",
              "        width: 32px;\n",
              "      }\n",
              "\n",
              "      .colab-df-generate:hover {\n",
              "        background-color: #E2EBFA;\n",
              "        box-shadow: 0px 1px 2px rgba(60, 64, 67, 0.3), 0px 1px 3px 1px rgba(60, 64, 67, 0.15);\n",
              "        fill: #174EA6;\n",
              "      }\n",
              "\n",
              "      [theme=dark] .colab-df-generate {\n",
              "        background-color: #3B4455;\n",
              "        fill: #D2E3FC;\n",
              "      }\n",
              "\n",
              "      [theme=dark] .colab-df-generate:hover {\n",
              "        background-color: #434B5C;\n",
              "        box-shadow: 0px 1px 3px 1px rgba(0, 0, 0, 0.15);\n",
              "        filter: drop-shadow(0px 1px 2px rgba(0, 0, 0, 0.3));\n",
              "        fill: #FFFFFF;\n",
              "      }\n",
              "    </style>\n",
              "    <button class=\"colab-df-generate\" onclick=\"generateWithVariable('df')\"\n",
              "            title=\"Generate code using this dataframe.\"\n",
              "            style=\"display:none;\">\n",
              "\n",
              "  <svg xmlns=\"http://www.w3.org/2000/svg\" height=\"24px\"viewBox=\"0 0 24 24\"\n",
              "       width=\"24px\">\n",
              "    <path d=\"M7,19H8.4L18.45,9,17,7.55,7,17.6ZM5,21V16.75L18.45,3.32a2,2,0,0,1,2.83,0l1.4,1.43a1.91,1.91,0,0,1,.58,1.4,1.91,1.91,0,0,1-.58,1.4L9.25,21ZM18.45,9,17,7.55Zm-12,3A5.31,5.31,0,0,0,4.9,8.1,5.31,5.31,0,0,0,1,6.5,5.31,5.31,0,0,0,4.9,4.9,5.31,5.31,0,0,0,6.5,1,5.31,5.31,0,0,0,8.1,4.9,5.31,5.31,0,0,0,12,6.5,5.46,5.46,0,0,0,6.5,12Z\"/>\n",
              "  </svg>\n",
              "    </button>\n",
              "    <script>\n",
              "      (() => {\n",
              "      const buttonEl =\n",
              "        document.querySelector('#id_06214ab7-9e39-47c3-b9a2-1fac11828836 button.colab-df-generate');\n",
              "      buttonEl.style.display =\n",
              "        google.colab.kernel.accessAllowed ? 'block' : 'none';\n",
              "\n",
              "      buttonEl.onclick = () => {\n",
              "        google.colab.notebook.generateWithVariable('df');\n",
              "      }\n",
              "      })();\n",
              "    </script>\n",
              "  </div>\n",
              "\n",
              "    </div>\n",
              "  </div>\n"
            ],
            "application/vnd.google.colaboratory.intrinsic+json": {
              "type": "dataframe",
              "variable_name": "df",
              "summary": "{\n  \"name\": \"df\",\n  \"rows\": 1000,\n  \"fields\": [\n    {\n      \"column\": \"id\",\n      \"properties\": {\n        \"dtype\": \"number\",\n        \"std\": 341,\n        \"min\": 17283,\n        \"max\": 18465,\n        \"num_unique_values\": 1000,\n        \"samples\": [\n          17904,\n          18166,\n          18169\n        ],\n        \"semantic_type\": \"\",\n        \"description\": \"\"\n      }\n    },\n    {\n      \"column\": \"author\",\n      \"properties\": {\n        \"dtype\": \"string\",\n        \"num_unique_values\": 579,\n        \"samples\": [\n          \"Daniel E. Slotnik\",\n          \"Tamar Adler\",\n          \"Alan Blinder\"\n        ],\n        \"semantic_type\": \"\",\n        \"description\": \"\"\n      }\n    },\n    {\n      \"column\": \"date\",\n      \"properties\": {\n        \"dtype\": \"category\",\n        \"num_unique_values\": 79,\n        \"samples\": [\n          \"11/03/2017\",\n          \"1/01/2017\",\n          \"12/01/2017\"\n        ],\n        \"semantic_type\": \"\",\n        \"description\": \"\"\n      }\n    },\n    {\n      \"column\": \"year\",\n      \"properties\": {\n        \"dtype\": \"category\",\n        \"num_unique_values\": 3,\n        \"samples\": [\n          \"2017\",\n          \"2016\",\n          \"AMSTERDAM ? Pedram Paragomi, a Iranian medical student, was excited about his first trip to the United States.\\n\\nMr. Paragomi and six other Iranians remained stranded at Schiphol Airport outside Amsterdam on Tuesday, as their travel ordeal stretched into its fourth day.\\n\\nThe largely spontaneous and spirited protests at American airports over the weekend focused on several aspects of Mr. Trump?s order, including a ban on all refugees, an indefinite ban on Syrian refugees and an attempt ? later blocked by judges ? to deport people with valid visas or refugee status who had already arrived in the United States.\\n\\nThe seven Iranians stuck in Amsterdam were pulled aside on Saturday by United States agents stationed at the airport.\\n\\nOne man in the group went to pray at the airport?s meditation center, where he met an airport official who introduced the group to a Dutch pastor who offered to help.\"\n        ],\n        \"semantic_type\": \"\",\n        \"description\": \"\"\n      }\n    },\n    {\n      \"column\": \"month\",\n      \"properties\": {\n        \"dtype\": \"category\",\n        \"num_unique_values\": 8,\n        \"samples\": [\n          \"12\",\n          \"2\",\n          \"1\"\n        ],\n        \"semantic_type\": \"\",\n        \"description\": \"\"\n      }\n    },\n    {\n      \"column\": \"topic\",\n      \"properties\": {\n        \"dtype\": \"category\",\n        \"num_unique_values\": 14,\n        \"samples\": [\n          \"sports\",\n          \"law\",\n          \"architecture\"\n        ],\n        \"semantic_type\": \"\",\n        \"description\": \"\"\n      }\n    },\n    {\n      \"column\": \"article\",\n      \"properties\": {\n        \"dtype\": \"string\",\n        \"num_unique_values\": 995,\n        \"samples\": [\n          \"That was fast. Two weeks after her ?America First? fashion statement at the inauguration, Melania Trump emerged last weekend from the relative seclusion of her life in New York to join her husband at     a. k. a. the winter White   golf club in Florida. And as far as her sartorial language went, America was  ?   well, pretty much last. On Friday, greeting the president as he disembarked from Air Force One in Palm Beach, the first lady wore a short red Givenchy cape dress. On Saturday, at a Red Cross ball, she wore a long   gown from Christian Dior (both brands connected, by the way, to LVMH Mo?t Hennessy Louis Vuitton, the French luxury conglomerate led by Bernard Arnault, the only foreign luxury mogul to have made a postelection pilgrimage to Trump Tower). But on Sunday, for a Super Bowl party at Trump International Golf Club, she wore leather pants from the Row, the brand of   Olsen and Ashley Olsen, and a thin knit sweater by Derek Lam, both names at New York Fashion Week. Does it matter? On one hand, Mrs. Trump has been explicit about her desire to eschew, at least for the moment, the Washington spotlight. Perhaps her clothes are a part of that, and thus the point was simply to look elegant and not to bother with more complicated billboarding. If so, she achieved that aim. However, Mrs. Trump has also said that she intends to meaningfully inhabit the role of first lady, and certainly this appearance was part of that goal. The choice of the red dress  ?   which made for a compelling visual next to President Trump?s red tie as the two walked together along the tarmac  ?   was consciously symbolic, according to Stephanie Winston Wolkoff, Mrs. Trump?s senior adviser, who said it was in honor of ?National Wear Red Day, which is to highlight the importance and raise awareness about heart disease. ? So it?s not like they haven?t been thinking this through. Or that they aren?t aware of the symbolic value of dress, especially when it comes to a first lady who prefers to let her clothes do the talking. If so, there is a contradiction implicit in her choices of clothing, given her husband?s promise in his Inaugural Address that ?Buy American? would be a tenet of his administration. But the    dress requirement for first ladies, historically held dear, was largely taken off the table during the Obama administration and transformed into a vehicle for   outreach. It was Mr. Trump who made it an issue again, and in a forum arguably more public, and permanent, than Twitter. When asked about the issue, Ms. Winston Wolkoff emailed the following statement: ?Mrs. Trump is a proud and longtime supporter of American fashion. She appreciates fashion as art. As a former model, she has always been a patron of the world?s most distinguished designers both here and abroad. Mrs. Trump buys from an international mix of brands because that is what reflects her uniquely American life experience and style. She is more excited than ever to make a platform for American designers as she did on one of the most important weeks in history, the Inauguration, showcasing the extraordinary talents of American designers. ? In other words: Buying European is a reflection of the American shopping experience. For anyone who has walked down any main shopping street in a big American city  ?   such as Fifth Avenue in New York, where Mrs. Trump lives  ?   it?s hard to argue with that. Though it also seems like something of a contorted rationale, and one that could be exploited by companies seeking to relocate some factories overseas. That choice is, after all, also a part of the American industrial story. In any case, it?s worth noting that Givenchy and Dior have been playing possum since the weekend, another indication of fashion?s   relationship with Mrs. Trump. Neither fashion house issued the de rigueur news release trumpeting the first lady?s appearance in one of their dresses. Asked whether the brand had worked with the first lady on the red dress, a spokesman for Givenchy said that the company had no comment and that the dress had been purchased from a store, without any interpersonal discussion. (It is for sale on the Neiman Marcus website, among others, for $2, 095.) Dior simply did not respond. As for Mr. Lam, who in November told the fashion magazine WWD, ?I really don?t see myself getting involved with the Trump presidency,? the situation pretty much shows the problem with that stance. After all, the first lady is free to buy his product, whether he wants to get involved or not. Which is another American story, of sorts.\",\n          \"Good morning.  Here?s what you need to know: ? President Trump is expected to order the construction of a Mexican border wall today and slash immigration of refugees from ?terror prone? nations, White House officials said. He pressed automakers to increase jobs in the U. S. but a new forecast of a federal budget deficit that could expand to almost $10 trillion over 10 years could complicate his agenda to cut taxes and ramp up spending. Mr. Trump also revived two pipelines blocked under President Obama: the Keystone XL pipeline, the focus of years of debate over energy needs and climate change and the Dakota Access pipeline, the target of Native American protests. _____ ? And tensions are rising between the U. S. and China. Beijing, after a challenge from a Trump spokesman, insisted it had ?irrefutable? sovereignty over disputed islands in the South China Sea. China sees opportunities to extend its global reach with Mr. Trump in power, but it also sees a threat to its prized goal, stability. _____ ? Israel, discarding diplomatic restraint just a few days into the Trump administration, approved the construction of 2, 500 housing units for Jews in West Bank settlements. A month ago, the Obama administration declined to veto a Security Council resolution condemning the settlements, and last week, a gathering of world leaders warned Israel to stop expanding them. _____ ? The office of Prime Minister Theresa May pledged to stay on its timetable for taking Britain out of the European Union despite a top court ruling requiring the approval of Parliament before the process can begin. Political observers said it was unlikely that legislators, despite being largely opposed to Brexit, would try to block the will of the voters. _____ ? Three months after Prime Minister Narendra Modi abruptly banned 86 percent of India?s currency in a bid to fight ?black money?  ?   hidden reserves that feed corruption  ?   unemployment is spreading, and some people are going without fruit, vegetables and milk. ?This has actually hurt the poor enormously,? one business leader said. Above, a protest over cash shortages last week. _____ ? And this year?s Oscar nominations are out. Voters gave ?La La Land? 14 nominations, a tie for the most in Academy Award history. The academy also honored six black actors  ?   a record. Here is the full list of nominees. _____ ? The Alibaba Group beat estimates with strong   earnings. The results showed how much the   giant  ?   despite a growing global profile and its record I. P. O. on Wall Street  ?   is still dependent on China. ? Silver Lake, an investment firm, is leading a $1. 1 billion investment in Koubei, an   business that is part of what is increasingly known as the    sector, or O2O. ? President Trump?s pick for the Federal Communications Commission, Ajit Pai, an   from Kansas, is expected to roll back rules that ban internet service providers from favoring certain websites and apps. ? Nearly 470 million Chinese citizens used their mobile phones to make payments last year, an increase of 31 percent from 2015, new government data shows. ? Japan releases data on its imports and exports for December. The country?s   economy has been struggling despite government efforts at stimulus. ? South Korea and Taiwan release G. D. P. figures. ? Wall Street was up. Here?s a snapshot of global markets. ? China?s 816 nuclear plant, begun in the 1960s, was one of the country?s most ambitious military projects. Today, the   mountain has been reborn as a tourist attraction. [The New York Times] ? Peter Thiel, the American billionaire, has taken New Zealand citizenship and quietly acquired a sprawling estate on Lake Wanaka. [New Zealand Herald] ? Afghanistan ordered the arrest of nine bodyguards of Gen. Abdul Rashid Dostum, the more senior of the country?s two vice presidents, on accusations of the rape and torture of an Uzbek elder. [The New York Times] ? A wave of smog is forecast to engulf four northern Chinese provinces as the Lunar New Year approaches. [Reuters] ? Talks in Astana, Kazakhstan, may have done more to to firm up Russia?s growing role in diplomacy over Syria than to create any progress toward peace. [The New York Times] ? A proposal to ban the display of Vietnam?s flag on city poles has divided the Vietnamese community of San Jose, Calif. [The Mercury News] ? Gambia?s former president, Yahya Jammeh, didn?t go into exile in Equatorial Guinea  : He left with two   a   and a plane full of luxury items. [The New York Times] ? China?s government has shut down 111 of the country?s 683 golf courses since 2011, citing illegal land or water use. [Xinhua] ? Scientists found the fossils of a huge, nearly    otter that roamed rivers and lakes in southwestern China about 6. 2 million years ago. [Reuters] ? Doing just 12 minutes of yoga can improve your bone health. ? Vacations don?t have to be all about relaxing: Here?s how to plan one with some good deeds along the way. ? Recipe of the day: Try this grilled cheese sandwich featuring mayonnaise for some midweek comfort food. ? In China, members of the Tanka people have survived on southern coastal waterways, and on the margins of society, since ancient times. As big cities spread, their floating way of life is disappearing. ? Genetic research is taking some truly   turns. Ant researchers have identified the molecular and neural cues that help explain social behaviors, including caring for young, breeding  ?   even capturing and   upstarts, like tiny police officers. ? And a pioneering scientist, Maria Sibylla Merian, captivated Europeans 300 years ago with her studies of insects. Now, her findings are being celebrated again. Grandstands filled with cheering fans, perfectly plated vegetables, and your country?s name on the line  ?   this isn?t your typical cooking competition. This is the Bocuse d?Or, or the culinary version of the Olympics. The competition, which takes place this week in Lyon, France, was founded by the master French chef Paul Bocuse. He was influential in establishing nouvelle cuisine, which emphasizes ingredients and presentation. At 90, Mr. Bocuse remains a king among chefs. Long before ?  ? became a trendy concept, a    Bocuse was learning how to butcher a cow for his first restaurant job. He eventually joined his father at their family restaurant, L?Auberge du Pont de Collonges. One year after he took over, the restaurant won a Michelin star. He recalled how early in his career he wowed a prominent food critic with fresh ingredients. Mr. Bocuse served haricots verts picked that morning, lightly boiled and served with olive oil, shallots and salt. In 1966, The Times?s Craig Claiborne described the restaurant outside of Lyon as ?one of the most elegant and proudest restaurants outside of Paris. ? Mr. Bocuse, though, once offered a less refined assessment of his skills. ?Some men have mistresses,? Mr. Bocuse once said. ?I run a luxury restaurant. ? Remy Tumin contributed reporting. _____ Your Morning Briefing is published weekday mornings. What would you like to see here? Contact us at asiabriefing@nytimes. com.\",\n          \"Now that Joaqu\\u00adn Guzm\\u00ffn Loera, the crime lord known as El Chapo, has been extradited from Mexico and has pleaded not guilty in Brooklyn to charges of running the planet?s biggest drug empire, his prosecution will enter a crucial phase  ?   provided, of course, he does not manage to tunnel free from the   jail in Manhattan where he is being held. Two chief questions will define what comes next: Will Mr. Guzm\\u00ffn decide to go to trial? And if he does, what sort of defense will he mount to counter what appears to be a Matterhorn of evidence against him? When Robert L. Capers, the United States attorney in Brooklyn, outlined the government?s case against Mr. Guzm\\u00ffn at a news conference on Friday, he seemed unable to disguise a sly smile of satisfaction. After all, that morning, Mr. Capers?s office had filed a memorandum that set forth in exhaustive detail the cinematic story of Mr. Guzm\\u00ffn?s rise from a teenage marijuana farmer to an international kingpin who armed himself with a diamond encrusted pistol. It further noted that dozens of witnesses were lined up to testify and corroborate what prosecutors described as extensive secret recordings in which Mr. Guzm\\u00ffn discussed drug transactions. Several lawyers who have represented drug lords in the past said that the aggressive tenor of the memo suggested that, at least for now, federal prosecutors were serious about trying Mr. Guzm\\u00ffn and were unlikely to offer him a deal to plead guilty to lesser charges. Mr. Guzm\\u00ffn, moreover, is facing life in prison on a sweeping count of running a continuing criminal enterprise. So there was no real downside, the lawyers said, for him to fight the government?s case. ?The government has made it clear that they?re going full bore with this,? said David O. Markus, who negotiated the 2006 guilty pleas for Gilberto and Miguel Rodr\\u00adguez Orejuela, Colombian brothers who helped found the Cali cartel. ?For El Chapo, if there?s no offer on the table and it?s life if you go to trial and life or near it if you plead guilty, it?s pretty easy  ?   he?ll go to trial. ? Before Mr. Guzm\\u00ffn has to make that decision, however, a number of complicated issues are certain to arise. Given that he has been indicted not only in Brooklyn, but also in six other federal districts, his legal team is likely to question whether he is being prosecuted in the appropriate jurisdiction. They could also attack the manner in which he was sent to New York, some lawyers said, casting doubt on whether he was properly extradited. Then there is the question of his hiring a private lawyer. For the moment, Mr. Guzm\\u00ffn is being represented by two seasoned public defenders, Michael Schneider and Michelle Gelernt. While there is a   narco bar of lawyers, mainly in Florida and Texas, who regularly handle cartel cases, many of them are already representing people who may appear as witnesses at Mr. Guzm\\u00ffn?s trial. Further complicating matters, the federal government has said that it wants to seize $14 billion in profits that Mr. Guzm\\u00ffn was said to have made while running the Sinaloa cartel, leaving his financial situation unclear. ?Many good criminal defense lawyers may shy away from the case not only because of the conduct that?s been charged, but because it?s hard to get paid if the government argues that all his money is   tainted,? said Benjamin Brafman, one of New York City?s top defense lawyers. But if Mr. Guzm\\u00ffn does end up before a jury, Mr. Brafman and other lawyers said that he could borrow a tactic from the manifold Mafia trials that have taken place in Brooklyn and defend himself by attacking the credibility of the government?s witnesses. According to the prosecution?s memo, ?a large coterie of cooperating witnesses?  ?   among them, Colombian cartel members, Mexican couriers and United   distributors  ?   is ready to testify about every aspect of Mr. Guzm\\u00ffn?s organization, including bribes paid to politicians and murders of rival drug dealers and government and law enforcement officials. ?It?s inconceivable to me that these people don?t have baggage of their own,? Mr. Brafman said, ?if, indeed, they were involved in the organization for a long time. ? The case of Vicente Zambada Niebla, the son of Ismael Zambada Garc\\u00ada, who long served as Mr. Guzm\\u00ffn?s top lieutenant in the Sinaloa cartel, offers another possible avenue of defense. Mr. Zambada was arrested by the Mexican authorities in 2009 and extradited to Chicago, where he was poised to stand trial as the cartel?s chief logistics officer for importing drugs into that city. But a few years into the case his lawyers suddenly claimed that he could not be prosecuted in the United States because he had been secretly working as an informant for the Drug Enforcement Administration. Though the government subsequently acknowledged that D. E. A. agents had in fact met with Mr. Zambada, it denied that it had engaged with him in any quid pro quo. Nonetheless, in 2014, the D. E. A. announced that Mr. Zambada would not stand trial because he had pleaded guilty to trafficking charges and was working as a government informant. The possibility that Mr. Guzm\\u00ffn might also become an informant is a complicated one. Some lawyers said that because he was accused in court papers of kidnapping, torture and causing the deaths of thousands of people, it would be hard to imagine the government allowing him to cooperate  ?   unless, perhaps, he had reliable and damning information on   Mexican officials. Others said they found that prospect dubious because of Mr. Guzm\\u00ffn?s reputation as a Robin   hero in his homeland. ?He has this mythic legacy behind him,? said W. Rob Heroy, a lawyer for Carlos Ramon   a Mexican who pleaded guilty in 2014 to producing and distributing heroin in the United States, much of it in and around Charlotte, N. C. ?Maybe the government would want him as an informant, but I just can?t see El Chapo getting done with all of that and then going to work at a Cinnabon in Omaha. ?\"\n        ],\n        \"semantic_type\": \"\",\n        \"description\": \"\"\n      }\n    }\n  ]\n}"
            }
          },
          "metadata": {},
          "execution_count": 3
        }
      ]
    },
    {
      "cell_type": "code",
      "source": [
        "df.drop(columns=['author','date', 'year','month','topic'], inplace=True)"
      ],
      "metadata": {
        "id": "hB6ZJQ_hOy6h"
      },
      "id": "hB6ZJQ_hOy6h",
      "execution_count": 4,
      "outputs": []
    },
    {
      "cell_type": "markdown",
      "source": [
        "## Experiment"
      ],
      "metadata": {
        "id": "bSskOy8gm_My"
      },
      "id": "bSskOy8gm_My"
    },
    {
      "cell_type": "markdown",
      "source": [
        "### Information Retrieval"
      ],
      "metadata": {
        "id": "n1rYpVlNnGb-"
      },
      "id": "n1rYpVlNnGb-"
    },
    {
      "cell_type": "markdown",
      "source": [
        "#### BM25"
      ],
      "metadata": {
        "id": "058cBuRx2wjR"
      },
      "id": "058cBuRx2wjR"
    },
    {
      "cell_type": "code",
      "source": [
        "query= 'Who is the vice chairman of Samsung?'"
      ],
      "metadata": {
        "id": "vY-W2YUW4URx"
      },
      "id": "vY-W2YUW4URx",
      "execution_count": 11,
      "outputs": []
    },
    {
      "cell_type": "code",
      "source": [
        "# pip install rank_bm25"
      ],
      "metadata": {
        "id": "A6pq6BNf81fs"
      },
      "id": "A6pq6BNf81fs",
      "execution_count": 12,
      "outputs": []
    },
    {
      "cell_type": "code",
      "source": [
        "from rank_bm25 import BM25Okapi"
      ],
      "metadata": {
        "id": "Yxvpv7JD8u6f"
      },
      "id": "Yxvpv7JD8u6f",
      "execution_count": 13,
      "outputs": []
    },
    {
      "cell_type": "code",
      "source": [
        "nltk.download('punkt')\n",
        "from nltk.tokenize import word_tokenize"
      ],
      "metadata": {
        "colab": {
          "base_uri": "https://localhost:8080/"
        },
        "id": "_lL1BT6N-zTe",
        "outputId": "fd5ae940-9678-4fb2-aaf5-f0e7df99b65e"
      },
      "id": "_lL1BT6N-zTe",
      "execution_count": 14,
      "outputs": [
        {
          "output_type": "stream",
          "name": "stderr",
          "text": [
            "[nltk_data] Downloading package punkt to /root/nltk_data...\n",
            "[nltk_data]   Package punkt is already up-to-date!\n"
          ]
        }
      ]
    },
    {
      "cell_type": "code",
      "source": [
        "tokenized_query = word_tokenize(query)\n",
        "tokenized_query"
      ],
      "metadata": {
        "colab": {
          "base_uri": "https://localhost:8080/"
        },
        "id": "dGG45Iy18Cv_",
        "outputId": "5a7592db-dd06-46c5-ef55-3ab8a68837c2"
      },
      "id": "dGG45Iy18Cv_",
      "execution_count": 15,
      "outputs": [
        {
          "output_type": "execute_result",
          "data": {
            "text/plain": [
              "['Who', 'is', 'the', 'vice', 'chairman', 'of', 'Samsung', '?']"
            ]
          },
          "metadata": {},
          "execution_count": 15
        }
      ]
    },
    {
      "cell_type": "code",
      "source": [
        "df['article_tokenized']= df['article'].apply(lambda x:word_tokenize(x))\n"
      ],
      "metadata": {
        "id": "o-fr8k5W8mwb"
      },
      "id": "o-fr8k5W8mwb",
      "execution_count": 16,
      "outputs": []
    },
    {
      "cell_type": "code",
      "source": [
        "corpus=df"
      ],
      "metadata": {
        "id": "guH-rQJJ_Ruj"
      },
      "id": "guH-rQJJ_Ruj",
      "execution_count": 17,
      "outputs": []
    },
    {
      "cell_type": "code",
      "source": [
        "bm25 = BM25Okapi(df['article_tokenized'])\n",
        "doc_scores = bm25.get_scores(tokenized_query)"
      ],
      "metadata": {
        "id": "v2X5DbEP-_7p"
      },
      "id": "v2X5DbEP-_7p",
      "execution_count": 18,
      "outputs": []
    },
    {
      "cell_type": "code",
      "source": [
        "top_5_doc=bm25.get_top_n(tokenized_query, df['article_tokenized'], n=5) #ranked in order of relevance, with the most relevant document first"
      ],
      "metadata": {
        "id": "9zweo-33ASE0"
      },
      "id": "9zweo-33ASE0",
      "execution_count": 19,
      "outputs": []
    },
    {
      "cell_type": "code",
      "source": [
        "for doc in top_5_doc:\n",
        "  print(\" \".join(doc))"
      ],
      "metadata": {
        "colab": {
          "base_uri": "https://localhost:8080/"
        },
        "id": "PlMssCHjo-aD",
        "outputId": "39713eb2-a822-4b7a-e7c7-377e3422d313"
      },
      "id": "PlMssCHjo-aD",
      "execution_count": 20,
      "outputs": [
        {
          "output_type": "stream",
          "name": "stdout",
          "text": [
            "SEOUL , South Korea ? A special prosecutor investigating the corruption scandal that led to President Park ? s impeachment summoned the de facto head of Samsung for questioning on Wednesday , calling him a bribery suspect . The de facto leader , Jay Y. Lee , the vice chairman of Samsung , will be questioned on Thursday , according to the special prosecutor ? s office , which recommended that he also be investigated on suspicion of perjury . Mr. Lee effectively runs Samsung , South Korea ? s largest conglomerate he is the son of its chairman , Lee who has been incapacitated with health problems . He is expected to be asked whether donations that Samsung made to two foundations controlled by Choi a longtime friend of the president , amounted to bribes , and what role , if any , he played in the decision to give the money . Investigators at the special prosecutor ? s office have questioned other senior Samsung executives as suspects about the bribery accusations . Neither Samsung nor Mr. Lee responded immediately to the announcement on Wednesday . Allegations that Ms. Park helped Ms. Choi extort millions in bribes from Samsung and other companies are at the heart of the corruption scandal that led to the National Assembly ? s vote to impeach her last month . Since then , Ms. Park ? s powers have been suspended , and she is on trial at the Constitutional Court , which will ultimately decide whether to end her presidency . Last month , Mr. Lee testified at a National Assembly hearing that he was not involved in the decision by Samsung to make the donations . He also said that the donations were not voluntary , suggesting that the company was a victim of extortion , not a participant in bribery . The reference on Wednesday to possible perjury charges against Mr. Lee stemmed from that testimony . The special prosecutor ? s office said it had evidence that Mr. Lee had ? received a request for bribery from the president and ordered Samsung subsidiaries to send bribes to destinations designated by the president . ? It asked the National Assembly to file a perjury complaint against Mr. Lee , which would authorize the special prosecutor to open an investigation of that charge . Asked whether investigators would seek to arrest Mr. Lee on bribery charges , a spokesman for the special prosecutor ? s office , Lee said , ? All possibilities are open . ? In November , state prosecutors indicted Ms. Choi on charges of coercing 53 big businesses , including Samsung , to contribute $ 69 million to her two foundations . They identified Ms. Park as an accomplice but stopped short of filing any charges against the businesses , all of which insisted that they were under government pressure to donate . In its impeachment bill , the National Assembly asserted that the donations were bribes , made with the expectation of political favors from the president . The special prosecutor , which took over the investigations from the state prosecutors last month , has been looking into possible bribery charges against not only Ms. Park but the businesses , particularly Samsung . Ms. Park can not be indicted while in office . Samsung gave the largest donations to Ms. Choi ? s foundations , totaling $ 17 million . Unlike the other corporate contributors , it went beyond support for the foundations , signing an $ 18 million contract with a sports management company that Ms. Choi ran in Germany , to fund a program for training Korean equestrians , which mainly benefited Ms. Choi ? s daughter . Samsung also contributed $ 1 . 3 million to a winter sports program for young athletes that Ms. Choi and her nephew ran . Also on Wednesday , the special prosecutor ? s office said it had acquired a tablet computer used by Ms. Choi that contained emails she exchanged with a Samsung executive . The emails contained information about the financial support provided by Samsung , the prosecutor ? s office said . The special prosecutor has been investigating whether Samsung gave its support to Ms. Choi in exchange for a decision by the National Pension Service to support a contentious merger of two Samsung affiliates in 2015 . Moon chairman of the pension fund , was arrested last month on charges that he illegally pressured the fund to back that merger when he was South Korea ? s health and welfare minister . The national pension fund ? s support was crucial for the merger , which analysts said helped Mr. Lee inherit control of Samsung from his father .\n",
            "SEOUL , South Korea ? A South Korean court on Thursday blocked a prosecutor ? s attempt to arrest Jay Y. Lee , the leader of Samsung , saying there was not enough evidence that Mr. Lee had bribed President Park in a scandal that led to her impeachment . A justice on the Central District Court in Seoul , Cho rejected the prosecutor ? s request to issue an arrest warrant , saying said it was ? difficult to recognize the need ? to incarcerate Mr. Lee . Mr. Lee , a scion and vice chairman of Samsung , one of the world ? s biggest conglomerates , was immediately released from a detention center outside Seoul , where he had been waiting for the court to decide whether he should be formally arrested . South Koreans have paid keen attention to the fate of Mr. Lee . Some analysts said his case was a test of whether the country ? s relatively youthful democracy and judicial system are ready to crack down on the crimes of conglomerates . No Samsung leader has ever been jailed , though the company has been investigated many times for corruption . The court ? s decision is likely to anger many South Koreans who have held weekend rallies calling for Ms. Park ? s ouster and the arrest of business tycoons on corruption charges . The special prosecutor called the court decision ? very regrettable . ? But he has yet to announce whether he will offer more evidence in a renewed effort to have Mr. Lee arrested . He can also indict Mr. Lee on bribery or lesser charges without arresting him . ? We will take necessary steps and persist in our investigation without wavering , ? said Lee a spokesman for the special prosecutor , without elaborating . Samsung welcomed the court ? s decision . For now , the ruling allows Mr. Lee to continue to lead Samsung . It dealt a blow to the special prosecutor who had tried to build a bribery case against Mr. Lee and Ms. Park . Mr. Lee ? s father has twice been convicted of bribery and tax evasion but has never spent a day in prison . Each time , he received a presidential pardon and returned to management . Mr. Lee , 48 , was accused of paying $ 36 million to Ms. Park ? s secretive confidante , Choi . The special prosecutor and Mr. Lee ? s lawyers have been arguing over how to characterize the money . In November , state prosecutors indicted Ms. Choi on extortion charges , saying she leveraged her connections with Ms. Park to coerce Samsung and scores of other big businesses to contribute tens of millions of dollars to two foundations Ms. Choi controlled or to companies run by her or her associates . They identified Ms. Park as an accomplice , but they brought no charges against the businesses , which they saw as victims of extortion . But the special prosecutor , Park who took over the investigation from state prosecutors last month , has called Samsung ? s contributions bribes that were exchanged for political favors from Ms. Park . That includes government support for a merger of two Samsung affiliates in 2015 , which helped Mr. Lee inherit corporate control from his incapacitated father , the chairman , Lee according to the prosecutor . groups accused the prosecutor of overreaching in an attempt to find a scapegoat to soothe a public infuriated over Ms. Park ? s corruption scandal and fed up with decades of collusive ties between the government and the chaebol . Mr. Lee was the most prominent businessman to be ensnared in the special prosecutor ? s broadening investigation into the corruption scandal that led to Ms. Park ? s impeachment by Parliament last month . Ms. Park ? s presidential powers remained suspended , while the Constitutional Court is expected to rule in coming weeks whether she should be reinstated or formally removed from office . ? We have been too lenient toward chaebol corruption , ? said Moon an opposition politician who leads in polls on contenders to replace Ms. Park if she is removed . Speaking to a group of foreign reporters hours before the court ? s decision , Mr . Moon said Samsung was typical of a chaebol whose top boss wielded ? imperial powers ? over his sprawling business group but was ? seldom held accountable ? for corruption or managerial failures . Ms. Park denies any wrongdoing . Mr. Lee and Samsung have also denied bribery they argued that the ? donations ? Samsung paid out to Ms. Choi were coerced , not meant as a quid pro quo for political favors from Ms. Park .\n",
            "ESCONDIDO , Calif. ? In Southern California in the fall of 2015 , a giant natural gas leak not only caused one of the worst environmental disasters in the nation ? s history , it also knocked out a critical fuel source for regional power plants . Energy regulators needed a quick fix . But rather than sticking with gas , they turned to a technology more closely associated with flashlights : batteries . They freed up the utilities to start installing batteries ? and lots of them . It is a solution that ? s audacious and risky . The idea is that the batteries can store electricity during daylight hours ( when the state ? s many solar panels are flooding the grid with power ) then release it as demand peaks ( early evening , when people get home ) . In effect , the rechargeable batteries are like an power plant , and , in theory , able to replace an actual plant . Utilities have been studying batteries nationwide . But none have moved ahead with the gusto of those in Southern California . This idea has potential . But the challenge of storing electricity has vexed engineers , researchers , policy makers and entrepreneurs for centuries . Even as countless technologies have raced ahead , batteries haven ? t yet fulfilled their promise . And the most powerful new designs come with their own risks , such as fire or explosion if poorly made or maintained . It ? s the same problem that forced Samsung to recall 2 . 5 million Galaxy Note 7 smartphones in September because of fire risk . After racing for months , engineers here in California have brought three sites close to completion to begin serving the Southern California electric grid within the next month . They are made up of thousands of oversize versions of the batteries now widely used in smartphones , laptop computers and other digital devices . One of the installations , at a San Diego Gas Electric operations center surrounded by industrial parks in Escondido , Calif. 30 miles north of San Diego , will be the largest of its kind in the world , developers say . It represents the most crucial test yet of an technology that many experts see as fundamental to a future . Here , about 130 miles southeast of Aliso Canyon , the site of the immense gas leak in 2015 ? the equivalent of operating about 1 . 7 million cars over the course of a year ? 19 , 000 battery modules the size of a kitchen drawer are being wired together in racks . They will operate out of two dozen beige , trailers . Made by Samsung , the batteries are meant to store enough energy to serve as a backup in cases of fuel shortages . They are also designed to absorb energy , particularly solar power , during the day and feed it back to the grid after dusk . They in effect can fill in for the plants that might lack the fuel to fully operate because of the disastrous leak . ? California is giving batteries the opportunity to show what they can do , ? said Andr ? s Gluski , chief executive of AES , which is installing the storage systems . AES is installing a smaller array for the electric utility in El Cajon , a suburb east of San Diego . And separately Tesla , the company perhaps better known for its electric cars , has built an array for a different utility on the grid , Southern California Edison , near Chino , Calif . The stakes are high for both energy storage companies . If their projects struggle or fail , it could jeopardize not only the stability of Southern California ? s grid but also interest in the technology over all . After a smaller , but pioneering battery project at a wind farm on Oahu in Hawaii went up in flames in 2012 , investment in battery storage all but dried up for a few years . That installation , which used 12 , 000 batteries to help even out fluctuations in the power flow , caught fire three times in its first 18 months of operation . The storage developer , Xtreme , eventually went bankrupt . The wind farm turned to a different technology to smooth its output . Keeping a close eye on the Southern California battery efforts is Susan Kennedy , who helped shepherd California ? s energy policy for more than a decade as a state utility regulator and operative for two governors ? Gray Davis , a Democrat , and Arnold Schwarzenegger , a Republican . She now runs an energy storage one not involved in the response to the Aliso Canyon gas leak . ? The moment one fails , ? Ms. Kennedy said of the big bet on batteries , ? they won ? t build any more . ? As soon as AES ? s chief executive , Mr. Gluski , learned last June that San Diego Gas Electric had awarded AES the big battery contract , he leapt out of his chair and interrupted a meeting in his board room at the company ? s headquarters in Arlington , Va. As employees watched in astonishment , he barreled down two flights of stairs , grabbed a mallet and , with a ceremonial flourish , banged a gong that one of his executives kept on hand for big news . Mr. Gluski had not had much occasion to celebrate since he had taken the AES reins five years earlier . The company was struggling with debt and trying to coax profits from projects around the developing world that are buffeted by instability in politics , currency and commodity prices . His first steps included an austerity program in which he gave up many of his own executive perks : No more membership . No more corporate Audi A8 , with driver . But the more part of his plan would be AES ? s battery division , which was then fledgling . The unit had roots in two midlevel executives who had been speculating about a future over beers . Those two men , John Zahurancik , a science fiction fan , and Chris Shelton , a former physics teacher , had started talking about batteries a decade ago , before electric cars became fashionable or even feasible . In 2006 , Mr. Shelton had come across a professor ? s paper that predicted a future dominated by electric cars that , when parked , could be connected to the power grid so their batteries could act as storage devices to help balance electricity demand . He and Mr. Zahurancik bounced the idea off some AES colleagues , who said it was at least theoretically feasible . So the two continued their bull sessions but decided that stationary battery arrays may make more sense than relying on electric cars . At the time , batteries , the standard in consumer products , were widely in use in the transportation and power tool industries , but no one had paired them with the technology necessary to serve the power grid . Earlier experiments with and other types of batteries worked only for a year or two before conking out . A different technology , ? flow batteries , ? which use chemicals dissolved in liquids in tanks , were considered even more experimental . But lithium packs more energy per weight than other metals , offering the promise of greater energy density and longevity . The trick would be to figure out how to harness all that power , which creates heat , while avoiding the fires such batteries have caused in any number of vehicles and gadgets , including Teslas , HP computers , hoverboards and , most recently , Samsung Galaxy Note 7s . The two hit upon a design and persuaded executives to begin a pilot project in 2008 . That eventually led to the first commercial battery on a grid . Mr. Zahurancik , who owns the gong , is now president of AES Energy Storage . Mr. Shelton is now the company ? s vice president and chief technology officer . AES does not actually make its batteries but buys them , along with other equipment , from manufacturers like Samsung , LG Chem and Panasonic . It designs and assembles the arrays , stacking the boxy batteries into racks inside containers . In Escondido , where local radio stations still carry public service announcements about the shortage , the AES battery packs are being installed at a critical spot on the regional electrical grid : the place where the giant wires from power plants and wind and solar arrays connect to the network of local wires . The batteries are intended to relieve the pressure on the system . Mainly , they will serve as a kind of sponge , soaking up excess or solar energy during the day and then squeezing it back into the grid in the evening , when demand surges as the sun sets . There is enough capacity in the containers full of batteries to power about 20 , 000 homes for four hours . The idea is that they help the utility lessen its dependence on the type of natural gas plants known as ? peakers , ? which can turn on and off quickly to meet sudden peaks of demand but are generally used only for short periods and at great expense . And peakers , by burning fossil fuel , are also at odds with California ? s goals . The project is also being watched closely by advocates for renewable energy . The reason : If battery installations work as designed , they would help wind or solar generators to act more like conventional power plants by working steadily even when the sun isn ? t shining or the wind isn ? t blowing . ? Energy storage is really the tool to do renewables integration for a utility infrastructure company like us , ? said Josh Gerber , advanced technology integration manager of SDGE , as workers smoothed the concrete pads that support the containers at the Escondido site . ? Without it , you have more risk that the variability of renewables is going to cause reliability problems . ? Under the contract , AES is responsible for making sure the batteries perform for 10 years , after which SDGE will take over . One potential downside is that if the batteries are fully charged and discharged each day , they could degrade more quickly . The executives involved expressed confidence in the design and reliability , despite Samsung ? s recent smartphone problems . Not only are these batteries a different configuration than the smartphone units , executives said , but the larger footprint allows for the inclusion of sophisticated monitoring as well as industrial safety and cooling and ventilation equipment . The project , along with the smaller array AES has installed in El Cajon , could provide the leap Mr. Gluski has been striving for . AES has a deal for an even bigger installation in a $ 1 billion project in Long Beach with Southern California Edison that is not part of the Aliso Canyon remediation effort it is projected to go online by the end of 2020 . The electric company plans to use batteries as part of a plan to replace an aging gas plant along the San Gabriel River . Long term , Mr. Gluski plans to shift the company ? s portfolio ? still heavily based on coal and natural gas ? toward more renewable energy . He sees the storage systems as vital components in turning solar and wind energy into a dominant power source in the parts of Latin America , Asia and Africa where AES is active . Whatever progress it has made , AES still has its share of problems , with $ 20 billion in debt and a stock price less than the value that it had at the start of the century . It faces wary , if not outright skeptical , treatment by Wall Street utility analysts and energy experts , who say the technology AES is peddling on such a large scale in California remains untested and financially risky . ? The problem comes if there is a hiccup with the battery storage business in California , ? said Charles Fishman , a utilities analyst at Morningstar . ? You don ? t have the parent that can push money to it and keep it out of trouble . ? Despite all the battery activity in California , executives around the utility industry remain cautious . ? The reason we don ? t have widespread batteries on our system is because it is not for us , ? said Alice Jackson , vice president for strategic revenue initiatives at Xcel , a giant electricity and gas utility serving eight Western and Midwestern states . Xcel has been testing batteries about as long as AES , but almost exclusively in small pilots . ? It ? s fair to say we don ? t have experience with this technology to say that it is perfect , or a nirvana , ? Ms. Jackson said . ? It ? s something we ? ll observe as California goes through its experience . ? California ? s latest experiment with batteries is but the latest bout in the state ? s long struggle to match its energy needs with its environmental sensibilities . In the early 2000s , after market deregulation and Enron ? s notorious manipulation of gas supplies led to blackouts and financial instability among the power companies , state officials decided to lessen reliance on natural gas by encouraging the development of wind and solar . Under Mr. Schwarzenegger , who was governor until 2011 , officials pushed through a raft of overlapping regulations that created a boom in renewables , especially solar . But that upended the traditional patterns of supply and demand , making the overall energy system technically and economically difficult to manage . Batteries were the logical solution . But the technology wasn ? t fully developed and was still too expensive . In order for companies to make the necessary investments , they needed a signal that there would be a big enough market for their products . So in 2010 , the state approved one of the first mandates , ultimately requiring utilities to install some form of storage equipment in their territories . That set off a flurry of new investment and innovation and , after the sudden closure of the San Onofre nuclear plant on the coast in northwest San Diego County in 2012 when a steam generator tube sprung a leak , new contracts for battery installations . But the Aliso Canyon accident , which began on Oct. 23 , 2015 , when the Southern California Gas Company first detected the leak , put that process on . The gas and intermittent oily mist that spewed forth over almost four months traveled into the surrounding neighborhoods on the strong winds that sweep down from the Santa Susana Mountains . At the same time , it forced the battery strategy into its most test yet . Now it ? s showtime , and the pressure to succeed is high all around . For AES , it could signify an important step for a relic that is seeking to revitalize itself as a powerhouse in battery storage and other advanced technologies . For advocates ? including residents of the Porter Ranch section of Los Angeles , so that Steven Spielberg chose it as the setting for the 1982 movie ? E . T. , ? but where many still complain of the rashes , headaches and other debilitating symptoms that drove thousands from their homes during the leak ? it could be a powerful weapon in the fight to keep the gas depot closed . But the pressure may be highest for the Southern California utilities , their reputations still blackened by waves of forced electricity cuts that followed the Enron debacle . No one wants to contemplate a repeat of that chapter , when blackouts affected factories and even some hospitals . ? When the power goes out , people die , ? said Ms. Kennedy , the former state official . ? Failure is not an option here on any level . ?\n",
            "Good morning . Here ? s what you need to know : ? President Obama commuted most of the sentence of Chelsea Manning , the army intelligence analyst convicted of an enormous 2010 leak to WikiLeaks that revealed U. S. military and diplomatic activities around the world . She will be free in five months . The decision will likely come up at Mr. Obama ? s final news conference today , along with other legacy issues , like the fight to preserve the Affordable Care Act . A report found that repealing major provisions of Obamacare would cost 18 million people medical insurance in the first year , a number that could increase to 32 million in 10 years . _____ ? President Xi Jinping of China continues a visit to Switzerland , with stops at the U. N. in Geneva and the International Olympic Committee in Lausanne . Mr. Xi , who made a forceful argument for free trade , international integration and climate responsibility at the World Economic Forum on Tuesday , appears to be positioning China as a global leader in sharp contrast to the incoming U. S. president , Donald J. Trump . _____ ? ? Rigged . ? Mr. Trump hit back at a poll that put his favorability rating at 40 percent , compared with President Obama ? s 79 percent before inauguration and George W. Bush ? s 62 percent . Senate hearings for Mr. Trump ? s cabinet picks continue on a packed schedule . And officials are putting the final touches on days of celebrations for his inauguration on Friday , which will also be surrounded by protests . Security costs could top $ 100 million . _____ ? Australia ? s transport minister did not rule out future underwater searches for missing Malaysia Airlines Flight 370 , but said that investigators were certain the jet is not on the seabed in the area that searchers had scoured for nearly three years . The decision , while expected , drew criticism from families of the 239 people who were on board _____ ? Jay Y. Lee , the Samsung vice chairman , is expected to attend a hearing and then be held in detention ? possibly overnight ? to await the decision of a judge in Seoul on whether he should be arrested . Mr. Lee has denied accusations that he paid more than $ 36 million in bribes to organizations linked to Choi the unofficial adviser at the center of the corruption scandal that engulfed President Park . ? British American Tobacco is buying all of Reynolds American that it did not already own . The $ 49 billion deal , if approved by shareholders and regulators , will reshape the global tobacco industry . ? General Motors became the latest company to highlight initiatives following Mr. Trump ? s pressure to bolster U. S. manufacturing , announcing a $ 1 billion investment in American factories . ? the maker of aircraft engines and turbines , agreed to pay $ 817 million to resolve corruption inquiries by Britain , the U. S. and Brazil , including accusations of wrongdoing in Indonesia and China . ? The New York Times released a review of its newsroom and a blueprint for the future created by a team of seven of its journalists . ? U. S. stocks were lower . Here ? s a snapshot of global markets . ? Prime Minister Theresa May charted a ? clean break ? for Britain from the European Union and stressed her country ? s determination to regain control of migration . [ The New York Times ] ? A Nigerian fighter jet that meant to strike Boko Haram militants bombed a refugee camp . Doctors Without Borders counted more than 50 dead and 200 injured . [ The New York Times ] ? The widow of the gunman who killed 49 people at an Orlando , Fla. nightclub last year was charged under antiterrorism laws . ? She knew he was going to conduct the attack , ? a federal prosecutor asserted . [ The New York Times ] ? NASA and the National Oceanic and Atmospheric Administration are expected to announce that 2016 set the record for the hottest year globally . [ Climate Central ] ? The head of Air India was quoted as saying that the carrier planned to set aside seats to allow more protection for women traveling alone . [ The Economist ] ? Cambodia canceled military exercises with the U. S. for two years , a decision announced weeks after its exercises with China . [ The Cambodia Daily ] ? Bhutan has struggled to persuade other nations to adopt its Gross National Happiness index as a measure of social ills . [ The New York Times ] ? Fifty years ago this month , Vo Thi Mo led three commando squads against a U. S. Army battalion in the Vietnam War . Here is her story of resilience and survival . [ The New York Times ] ? Maybe don ? t skip your workout this morning ? it just might help your brain grow stronger . ? Here is a guide to help you teach young people about philanthropy and offer them the tools to give . ? Recipe of the day : For a simple side dish , try braised greens spiced with red pepper flakes . ? India ? s democracy includes 287 million illiterate people , so party symbols matter . This week , a feud over the image of a bicycle that had split a powerful political dynasty was resolved . ? Each spring , poplar trees planted by the millions under Mao blanket Chinese cities with cottonlike balls of fluff . In Beijing , the government hopes to eliminate the fuzz forever . ? And we introduce The Long View , in which the historian Jon Meacham looks at books that speak to historical and cultural moments . This first installment looks at the chaotic U. S. of the 1930s . The Oval Office is often used as shorthand for the U. S. presidency , but did you know that fewer than half of the presidents have worked there ? During President Theodore Roosevelt ? s term ( ) the West Wing was added to hold the executive branch ? s growing staff . He had a office in the addition ( now called the Roosevelt Room ) . Earlier leaders worked in the residence , mostly in what is known as the Lincoln Bedroom . Roosevelt ? s successor , William H. Taft , had the Oval Office built and was its first occupant . The design wasn ? t novel . George Washington had rooms in Philadelphia in 1791 , allowing him to greet guests circled around him . The pomp mimics an English court tradition called the lev ? e . There was a White House precursor , too . The Blue Room is rounded and used for diplomatic receptions . In the family quarters , there ? s a Yellow Oval Room . On Christmas Eve in 1929 , the Oval Office was badly damaged in a fire . President Franklin Roosevelt renovated it , moving it closer to the residence . The ? commute ? is under a minute . Presidents can redecorate , but there are limits . One is that the presidential seal must remain on the ceiling . And there ? s an other tradition : the outgoing president leaves a letter on the desk for his successor . Adeel Hassan contributed reporting . _____ Your Morning Briefing is published weekday mornings . What would you like to see here ? Contact us at asiabriefing @ nytimes . com .\n",
            "SAN FRANCISCO ? By mastering some tough computer chip technology and then pulling off an audacious business strategy based on selling its smartphone knowledge , Qualcomm has made billions of dollars and seized influence in the tech industry . Some days that is a real drag . On Friday , Apple , its longtime partner , sued Qualcomm over what it said was $ 1 billion in withheld rebates . In the lawsuit , filed in Federal District Court for the Southern District of California , in San Diego , Apple said the money had been promised in conjunction with an agreement not to buy chips from other suppliers or to divulge Qualcomm ? s intellectual property licensing practices . The suit seeks the rebates , among other things . Apple sued three days after the Federal Trade Commission accused Qualcomm of using anticompetitive practices to guarantee its high royalty payments for advanced wireless technology . The commission cited Qualcomm ? s deals with Taiwanese companies that manufacture Apple iPhones over semiconductors it sells for the iPhone . In its complaint , the commission described Qualcomm as ? the world ? s dominant supplier ? of semiconductors that manage smartphone communications . The commission said Qualcomm had obtained ? elevated royalties ? for its patented intellectual property on wireless communications . Other smartphone chip makers have to pay Qualcomm for that intellectual property , too . The commission and Apple complaints follow several other problems , including a $ 975 million fine by Chinese regulators in 2015 and activist shareholder complaints later that year that forced layoffs at Qualcomm . Last month , Qualcomm was fined $ 850 million in South Korea for unfair patent licensing . When Apple provided information to South Korean regulators in that case , and sought competing chips from Intel , Qualcomm refused to pay Apple its promised money , Apple said . Qualcomm has vowed to fight the South Korean charge and the F. T. C. suit . ? Apple has intentionally mischaracterized our agreements and negotiations , ? Qualcomm said in a statement , adding that it would fight that lawsuit , too . Few expect Qualcomm to back down . It was shaped by its founders to be brainy , combative and profitable . ? They are seasoned , and equipped to fight , ? said Mark Hung , an analyst at Gartner . ? But when such a big company is so reliant on the way it sells its intellectual property , and under the microscope in various geographies , it ? s tough . ? Qualcomm , which is based in San Diego , far from Silicon Valley , was founded in 1985 by seven people , including Irwin Jacobs and Andrew Viterbi . The two were electrical engineering professors who had formed a military satellite communications company . Qualcomm ? s engineers work at a campus between a park and the University of California , San Diego . They have earned thousands of patents , including for the airplane mode on smartphones and the way apps are downloaded from stores . Companies like Samsung and Apple need Qualcomm for the technology that enables things like wireless video for millions of people at once . Its major technology is spread spectrum , which harnesses lots of computation and clever radio engineering for use in the various functions of smartphones . Qualcomm ? s radio technology is called CDMA , for code division multiple access , a way voice calls work more efficiently over cellphone networks . And the company ? s influence grew over the last several years with the advent of or 3G , phones as people started downloading lots of mobile data as well as making calls . At the time , many thought Qualcomm ? s success would be limited to that transition . Instead , Qualcomm innovated in 4G wireless for the new smartphones from Samsung and Apple that toppled Nokia and Motorola . In its last fiscal year , Qualcomm had revenue of $ 23 . 6 billion and a profit of $ 5 . 7 billion . Qualcomm ? s ventures in phones and network gear helped promote CDMA but did not make much money because older companies did not need CDMA until the success of wireless began to tax the capacity of their networks . Qualcomm turned to Asian companies that wanted to get into wireless . ? You ? d never have seen the Koreans or the Chinese in wireless if not for Qualcomm and CDMA , ? said Clint McClellan , a employee of Qualcomm who now runs a wireless health business . ? We enabled those markets . ? South Korea , in particular , made CDMA an industrial policy , which carried Qualcomm for years . More recently , China accounted for half of Qualcomm ? s revenue . Apple ? s Taiwanese manufacturers , which pay Qualcomm royalties for iPhones , are another big profit center . Qualcomm would not say what it charges for its intellectual property , but analysts figure the fee usually amounts to 5 percent of the selling price of a phone ? at least it did , until the 2015 Chinese fine , which included an agreement that Chinese manufacturers pay only about half the old Qualcomm royalty . That , and problems collecting Chinese royalties even before the agreement , hurt Qualcomm ? s share price . In 2015 , Jana Partners , an activist hedge fund , stepped in and pressed for a breakup of the company into separate intellectual property and chip businesses . That did not happen , but Qualcomm cut about 15 percent of its staff , cut executive pay and gave Jana three board seats . The stock has recovered to about where it was just before the fine , but not to the heights it reached before the problems . By helping to create today ? s smartphone giants , Qualcomm may have engineered its current woes . Qualcomm executives say they see a connection between the China discounts , which Qualcomm had hoped would be limited to that country , and the latest regulatory attacks . ? We believe Samsung had a major role to play in the Korean decision , ? said Don Rosenberg , a lawyer for Qualcomm . The regulators , he said , ? were prodded and misled by commercial interests . ? In an email , Jee , a spokeswoman for Samsung , said it ? was one of many multinational corporations ? that responded to questions from South Korean regulators . Qualcomm ? s lawyer figures the Korean case may take years to move through the courts . And recent events , including the impeachment of South Korea ? s president and a bribery scandal at Samsung , could complicate , or eliminate , Qualcomm ? s regulatory issues there . Additionally , the F. T. C. has just three of its normal five commissioners . One of those , Maureen Ohlhausen , a Republican , voted against the suit . She may be named chairwoman when the current chairwoman , Edith Ramirez , a Democrat , steps down on Feb. 10 . Neither the F. T. C. nor Apple would comment on the United States case against Qualcomm . ? It ? s disappointing when our partners want to pay less after we ? ve contributed to their success , ? said Derek Aberle , Qualcomm ? s president . Now it must get out ahead of other technology inventors in 5G , possibly while paying billions in fines and dealing with a painful restructuring and fraying relationships with its biggest customers . ? We ? re not sitting still ? while the problems are sorted , Mr. Aberle said . ? You have to invest , and invent cool stuff that will change the way people live their lives . ? In other words , create unique technology so people will keep paying for Qualcomm ? s expensive intellectual property .\n"
          ]
        }
      ]
    },
    {
      "cell_type": "markdown",
      "source": [
        "#### BERT"
      ],
      "metadata": {
        "id": "pnu8i47T26fD"
      },
      "id": "pnu8i47T26fD"
    },
    {
      "cell_type": "code",
      "source": [
        "# pip install transformers"
      ],
      "metadata": {
        "id": "jYDtrvlEZ5NA"
      },
      "id": "jYDtrvlEZ5NA",
      "execution_count": 21,
      "outputs": []
    },
    {
      "cell_type": "code",
      "source": [
        "from transformers import BertTokenizer, BertModel\n",
        "import torch\n",
        "\n",
        "# Initialize the tokenizer and model\n",
        "tokenizer = BertTokenizer.from_pretrained('bert-base-uncased')\n",
        "model = BertModel.from_pretrained('bert-base-uncased')\n",
        "\n",
        "# Function to encode pairs of query and document using BERT\n",
        "def encode_pairs(tokenized_query, tokenized_documents, tokenizer, model):\n",
        "  query = \" \".join(tokenized_query)\n",
        "  cls_embeddings = []\n",
        "  for tokenized_doc in tokenized_documents:\n",
        "      document = \" \".join(tokenized_doc)\n",
        "      # Tokenize and encode the sequences as a pair\n",
        "      inputs = tokenizer.encode_plus(query, document, return_tensors='pt', padding='max_length', truncation=True, max_length=512)\n",
        "      outputs = model(**inputs)\n",
        "      # Retrieve the [CLS] token's embeddings\n",
        "      cls_embedding = outputs.last_hidden_state[:, 0, :]\n",
        "      cls_embeddings.append(cls_embedding)\n",
        "  return cls_embeddings\n",
        "\n",
        "\n",
        "\n",
        "# Encode each query-document pair\n",
        "pair_embeddings = encode_pairs(tokenized_query, top_5_doc, tokenizer, model)\n",
        "\n",
        "# Flatten the embeddings tensor to 1D for scoring\n",
        "pair_scores = [torch.flatten(embed).detach().numpy() for embed in pair_embeddings]\n",
        "\n",
        "# Rank the documents based on the scores\n",
        "# The score here could be the sum of the embeddings or any other metric you determine to be relevant\n",
        "sorted_doc_indices = sorted(range(len(pair_scores)), key=lambda i: pair_scores[i].sum())\n",
        "\n",
        "# Sort the documents according to the scores\n",
        "sorted_docs = [top_5_doc[i] for i in sorted_doc_indices]\n",
        "\n",
        "# Print out the sorted documents\n",
        "print(\"Sorted documents based on BERT [CLS] embeddings:\")\n",
        "for doc in sorted_docs:\n",
        "    print(f\"Document: {' '.join(doc)}\")"
      ],
      "metadata": {
        "colab": {
          "base_uri": "https://localhost:8080/"
        },
        "id": "oHWGWLyGIlbc",
        "outputId": "b01ef510-481e-47c3-8131-f5299998dfa7"
      },
      "id": "oHWGWLyGIlbc",
      "execution_count": 22,
      "outputs": [
        {
          "output_type": "stream",
          "name": "stderr",
          "text": [
            "/usr/local/lib/python3.10/dist-packages/huggingface_hub/utils/_token.py:89: UserWarning: \n",
            "The secret `HF_TOKEN` does not exist in your Colab secrets.\n",
            "To authenticate with the Hugging Face Hub, create a token in your settings tab (https://huggingface.co/settings/tokens), set it as secret in your Google Colab and restart your session.\n",
            "You will be able to reuse this secret in all of your notebooks.\n",
            "Please note that authentication is recommended but still optional to access public models or datasets.\n",
            "  warnings.warn(\n",
            "Be aware, overflowing tokens are not returned for the setting you have chosen, i.e. sequence pairs with the 'longest_first' truncation strategy. So the returned list will always be empty even if some tokens have been removed.\n",
            "Be aware, overflowing tokens are not returned for the setting you have chosen, i.e. sequence pairs with the 'longest_first' truncation strategy. So the returned list will always be empty even if some tokens have been removed.\n",
            "Be aware, overflowing tokens are not returned for the setting you have chosen, i.e. sequence pairs with the 'longest_first' truncation strategy. So the returned list will always be empty even if some tokens have been removed.\n",
            "Be aware, overflowing tokens are not returned for the setting you have chosen, i.e. sequence pairs with the 'longest_first' truncation strategy. So the returned list will always be empty even if some tokens have been removed.\n",
            "Be aware, overflowing tokens are not returned for the setting you have chosen, i.e. sequence pairs with the 'longest_first' truncation strategy. So the returned list will always be empty even if some tokens have been removed.\n"
          ]
        },
        {
          "output_type": "stream",
          "name": "stdout",
          "text": [
            "Sorted documents based on BERT [CLS] embeddings:\n",
            "Document: SEOUL , South Korea ? A special prosecutor investigating the corruption scandal that led to President Park ? s impeachment summoned the de facto head of Samsung for questioning on Wednesday , calling him a bribery suspect . The de facto leader , Jay Y. Lee , the vice chairman of Samsung , will be questioned on Thursday , according to the special prosecutor ? s office , which recommended that he also be investigated on suspicion of perjury . Mr. Lee effectively runs Samsung , South Korea ? s largest conglomerate he is the son of its chairman , Lee who has been incapacitated with health problems . He is expected to be asked whether donations that Samsung made to two foundations controlled by Choi a longtime friend of the president , amounted to bribes , and what role , if any , he played in the decision to give the money . Investigators at the special prosecutor ? s office have questioned other senior Samsung executives as suspects about the bribery accusations . Neither Samsung nor Mr. Lee responded immediately to the announcement on Wednesday . Allegations that Ms. Park helped Ms. Choi extort millions in bribes from Samsung and other companies are at the heart of the corruption scandal that led to the National Assembly ? s vote to impeach her last month . Since then , Ms. Park ? s powers have been suspended , and she is on trial at the Constitutional Court , which will ultimately decide whether to end her presidency . Last month , Mr. Lee testified at a National Assembly hearing that he was not involved in the decision by Samsung to make the donations . He also said that the donations were not voluntary , suggesting that the company was a victim of extortion , not a participant in bribery . The reference on Wednesday to possible perjury charges against Mr. Lee stemmed from that testimony . The special prosecutor ? s office said it had evidence that Mr. Lee had ? received a request for bribery from the president and ordered Samsung subsidiaries to send bribes to destinations designated by the president . ? It asked the National Assembly to file a perjury complaint against Mr. Lee , which would authorize the special prosecutor to open an investigation of that charge . Asked whether investigators would seek to arrest Mr. Lee on bribery charges , a spokesman for the special prosecutor ? s office , Lee said , ? All possibilities are open . ? In November , state prosecutors indicted Ms. Choi on charges of coercing 53 big businesses , including Samsung , to contribute $ 69 million to her two foundations . They identified Ms. Park as an accomplice but stopped short of filing any charges against the businesses , all of which insisted that they were under government pressure to donate . In its impeachment bill , the National Assembly asserted that the donations were bribes , made with the expectation of political favors from the president . The special prosecutor , which took over the investigations from the state prosecutors last month , has been looking into possible bribery charges against not only Ms. Park but the businesses , particularly Samsung . Ms. Park can not be indicted while in office . Samsung gave the largest donations to Ms. Choi ? s foundations , totaling $ 17 million . Unlike the other corporate contributors , it went beyond support for the foundations , signing an $ 18 million contract with a sports management company that Ms. Choi ran in Germany , to fund a program for training Korean equestrians , which mainly benefited Ms. Choi ? s daughter . Samsung also contributed $ 1 . 3 million to a winter sports program for young athletes that Ms. Choi and her nephew ran . Also on Wednesday , the special prosecutor ? s office said it had acquired a tablet computer used by Ms. Choi that contained emails she exchanged with a Samsung executive . The emails contained information about the financial support provided by Samsung , the prosecutor ? s office said . The special prosecutor has been investigating whether Samsung gave its support to Ms. Choi in exchange for a decision by the National Pension Service to support a contentious merger of two Samsung affiliates in 2015 . Moon chairman of the pension fund , was arrested last month on charges that he illegally pressured the fund to back that merger when he was South Korea ? s health and welfare minister . The national pension fund ? s support was crucial for the merger , which analysts said helped Mr. Lee inherit control of Samsung from his father .\n",
            "Document: ESCONDIDO , Calif. ? In Southern California in the fall of 2015 , a giant natural gas leak not only caused one of the worst environmental disasters in the nation ? s history , it also knocked out a critical fuel source for regional power plants . Energy regulators needed a quick fix . But rather than sticking with gas , they turned to a technology more closely associated with flashlights : batteries . They freed up the utilities to start installing batteries ? and lots of them . It is a solution that ? s audacious and risky . The idea is that the batteries can store electricity during daylight hours ( when the state ? s many solar panels are flooding the grid with power ) then release it as demand peaks ( early evening , when people get home ) . In effect , the rechargeable batteries are like an power plant , and , in theory , able to replace an actual plant . Utilities have been studying batteries nationwide . But none have moved ahead with the gusto of those in Southern California . This idea has potential . But the challenge of storing electricity has vexed engineers , researchers , policy makers and entrepreneurs for centuries . Even as countless technologies have raced ahead , batteries haven ? t yet fulfilled their promise . And the most powerful new designs come with their own risks , such as fire or explosion if poorly made or maintained . It ? s the same problem that forced Samsung to recall 2 . 5 million Galaxy Note 7 smartphones in September because of fire risk . After racing for months , engineers here in California have brought three sites close to completion to begin serving the Southern California electric grid within the next month . They are made up of thousands of oversize versions of the batteries now widely used in smartphones , laptop computers and other digital devices . One of the installations , at a San Diego Gas Electric operations center surrounded by industrial parks in Escondido , Calif. 30 miles north of San Diego , will be the largest of its kind in the world , developers say . It represents the most crucial test yet of an technology that many experts see as fundamental to a future . Here , about 130 miles southeast of Aliso Canyon , the site of the immense gas leak in 2015 ? the equivalent of operating about 1 . 7 million cars over the course of a year ? 19 , 000 battery modules the size of a kitchen drawer are being wired together in racks . They will operate out of two dozen beige , trailers . Made by Samsung , the batteries are meant to store enough energy to serve as a backup in cases of fuel shortages . They are also designed to absorb energy , particularly solar power , during the day and feed it back to the grid after dusk . They in effect can fill in for the plants that might lack the fuel to fully operate because of the disastrous leak . ? California is giving batteries the opportunity to show what they can do , ? said Andr ? s Gluski , chief executive of AES , which is installing the storage systems . AES is installing a smaller array for the electric utility in El Cajon , a suburb east of San Diego . And separately Tesla , the company perhaps better known for its electric cars , has built an array for a different utility on the grid , Southern California Edison , near Chino , Calif . The stakes are high for both energy storage companies . If their projects struggle or fail , it could jeopardize not only the stability of Southern California ? s grid but also interest in the technology over all . After a smaller , but pioneering battery project at a wind farm on Oahu in Hawaii went up in flames in 2012 , investment in battery storage all but dried up for a few years . That installation , which used 12 , 000 batteries to help even out fluctuations in the power flow , caught fire three times in its first 18 months of operation . The storage developer , Xtreme , eventually went bankrupt . The wind farm turned to a different technology to smooth its output . Keeping a close eye on the Southern California battery efforts is Susan Kennedy , who helped shepherd California ? s energy policy for more than a decade as a state utility regulator and operative for two governors ? Gray Davis , a Democrat , and Arnold Schwarzenegger , a Republican . She now runs an energy storage one not involved in the response to the Aliso Canyon gas leak . ? The moment one fails , ? Ms. Kennedy said of the big bet on batteries , ? they won ? t build any more . ? As soon as AES ? s chief executive , Mr. Gluski , learned last June that San Diego Gas Electric had awarded AES the big battery contract , he leapt out of his chair and interrupted a meeting in his board room at the company ? s headquarters in Arlington , Va. As employees watched in astonishment , he barreled down two flights of stairs , grabbed a mallet and , with a ceremonial flourish , banged a gong that one of his executives kept on hand for big news . Mr. Gluski had not had much occasion to celebrate since he had taken the AES reins five years earlier . The company was struggling with debt and trying to coax profits from projects around the developing world that are buffeted by instability in politics , currency and commodity prices . His first steps included an austerity program in which he gave up many of his own executive perks : No more membership . No more corporate Audi A8 , with driver . But the more part of his plan would be AES ? s battery division , which was then fledgling . The unit had roots in two midlevel executives who had been speculating about a future over beers . Those two men , John Zahurancik , a science fiction fan , and Chris Shelton , a former physics teacher , had started talking about batteries a decade ago , before electric cars became fashionable or even feasible . In 2006 , Mr. Shelton had come across a professor ? s paper that predicted a future dominated by electric cars that , when parked , could be connected to the power grid so their batteries could act as storage devices to help balance electricity demand . He and Mr. Zahurancik bounced the idea off some AES colleagues , who said it was at least theoretically feasible . So the two continued their bull sessions but decided that stationary battery arrays may make more sense than relying on electric cars . At the time , batteries , the standard in consumer products , were widely in use in the transportation and power tool industries , but no one had paired them with the technology necessary to serve the power grid . Earlier experiments with and other types of batteries worked only for a year or two before conking out . A different technology , ? flow batteries , ? which use chemicals dissolved in liquids in tanks , were considered even more experimental . But lithium packs more energy per weight than other metals , offering the promise of greater energy density and longevity . The trick would be to figure out how to harness all that power , which creates heat , while avoiding the fires such batteries have caused in any number of vehicles and gadgets , including Teslas , HP computers , hoverboards and , most recently , Samsung Galaxy Note 7s . The two hit upon a design and persuaded executives to begin a pilot project in 2008 . That eventually led to the first commercial battery on a grid . Mr. Zahurancik , who owns the gong , is now president of AES Energy Storage . Mr. Shelton is now the company ? s vice president and chief technology officer . AES does not actually make its batteries but buys them , along with other equipment , from manufacturers like Samsung , LG Chem and Panasonic . It designs and assembles the arrays , stacking the boxy batteries into racks inside containers . In Escondido , where local radio stations still carry public service announcements about the shortage , the AES battery packs are being installed at a critical spot on the regional electrical grid : the place where the giant wires from power plants and wind and solar arrays connect to the network of local wires . The batteries are intended to relieve the pressure on the system . Mainly , they will serve as a kind of sponge , soaking up excess or solar energy during the day and then squeezing it back into the grid in the evening , when demand surges as the sun sets . There is enough capacity in the containers full of batteries to power about 20 , 000 homes for four hours . The idea is that they help the utility lessen its dependence on the type of natural gas plants known as ? peakers , ? which can turn on and off quickly to meet sudden peaks of demand but are generally used only for short periods and at great expense . And peakers , by burning fossil fuel , are also at odds with California ? s goals . The project is also being watched closely by advocates for renewable energy . The reason : If battery installations work as designed , they would help wind or solar generators to act more like conventional power plants by working steadily even when the sun isn ? t shining or the wind isn ? t blowing . ? Energy storage is really the tool to do renewables integration for a utility infrastructure company like us , ? said Josh Gerber , advanced technology integration manager of SDGE , as workers smoothed the concrete pads that support the containers at the Escondido site . ? Without it , you have more risk that the variability of renewables is going to cause reliability problems . ? Under the contract , AES is responsible for making sure the batteries perform for 10 years , after which SDGE will take over . One potential downside is that if the batteries are fully charged and discharged each day , they could degrade more quickly . The executives involved expressed confidence in the design and reliability , despite Samsung ? s recent smartphone problems . Not only are these batteries a different configuration than the smartphone units , executives said , but the larger footprint allows for the inclusion of sophisticated monitoring as well as industrial safety and cooling and ventilation equipment . The project , along with the smaller array AES has installed in El Cajon , could provide the leap Mr. Gluski has been striving for . AES has a deal for an even bigger installation in a $ 1 billion project in Long Beach with Southern California Edison that is not part of the Aliso Canyon remediation effort it is projected to go online by the end of 2020 . The electric company plans to use batteries as part of a plan to replace an aging gas plant along the San Gabriel River . Long term , Mr. Gluski plans to shift the company ? s portfolio ? still heavily based on coal and natural gas ? toward more renewable energy . He sees the storage systems as vital components in turning solar and wind energy into a dominant power source in the parts of Latin America , Asia and Africa where AES is active . Whatever progress it has made , AES still has its share of problems , with $ 20 billion in debt and a stock price less than the value that it had at the start of the century . It faces wary , if not outright skeptical , treatment by Wall Street utility analysts and energy experts , who say the technology AES is peddling on such a large scale in California remains untested and financially risky . ? The problem comes if there is a hiccup with the battery storage business in California , ? said Charles Fishman , a utilities analyst at Morningstar . ? You don ? t have the parent that can push money to it and keep it out of trouble . ? Despite all the battery activity in California , executives around the utility industry remain cautious . ? The reason we don ? t have widespread batteries on our system is because it is not for us , ? said Alice Jackson , vice president for strategic revenue initiatives at Xcel , a giant electricity and gas utility serving eight Western and Midwestern states . Xcel has been testing batteries about as long as AES , but almost exclusively in small pilots . ? It ? s fair to say we don ? t have experience with this technology to say that it is perfect , or a nirvana , ? Ms. Jackson said . ? It ? s something we ? ll observe as California goes through its experience . ? California ? s latest experiment with batteries is but the latest bout in the state ? s long struggle to match its energy needs with its environmental sensibilities . In the early 2000s , after market deregulation and Enron ? s notorious manipulation of gas supplies led to blackouts and financial instability among the power companies , state officials decided to lessen reliance on natural gas by encouraging the development of wind and solar . Under Mr. Schwarzenegger , who was governor until 2011 , officials pushed through a raft of overlapping regulations that created a boom in renewables , especially solar . But that upended the traditional patterns of supply and demand , making the overall energy system technically and economically difficult to manage . Batteries were the logical solution . But the technology wasn ? t fully developed and was still too expensive . In order for companies to make the necessary investments , they needed a signal that there would be a big enough market for their products . So in 2010 , the state approved one of the first mandates , ultimately requiring utilities to install some form of storage equipment in their territories . That set off a flurry of new investment and innovation and , after the sudden closure of the San Onofre nuclear plant on the coast in northwest San Diego County in 2012 when a steam generator tube sprung a leak , new contracts for battery installations . But the Aliso Canyon accident , which began on Oct. 23 , 2015 , when the Southern California Gas Company first detected the leak , put that process on . The gas and intermittent oily mist that spewed forth over almost four months traveled into the surrounding neighborhoods on the strong winds that sweep down from the Santa Susana Mountains . At the same time , it forced the battery strategy into its most test yet . Now it ? s showtime , and the pressure to succeed is high all around . For AES , it could signify an important step for a relic that is seeking to revitalize itself as a powerhouse in battery storage and other advanced technologies . For advocates ? including residents of the Porter Ranch section of Los Angeles , so that Steven Spielberg chose it as the setting for the 1982 movie ? E . T. , ? but where many still complain of the rashes , headaches and other debilitating symptoms that drove thousands from their homes during the leak ? it could be a powerful weapon in the fight to keep the gas depot closed . But the pressure may be highest for the Southern California utilities , their reputations still blackened by waves of forced electricity cuts that followed the Enron debacle . No one wants to contemplate a repeat of that chapter , when blackouts affected factories and even some hospitals . ? When the power goes out , people die , ? said Ms. Kennedy , the former state official . ? Failure is not an option here on any level . ?\n",
            "Document: SEOUL , South Korea ? A South Korean court on Thursday blocked a prosecutor ? s attempt to arrest Jay Y. Lee , the leader of Samsung , saying there was not enough evidence that Mr. Lee had bribed President Park in a scandal that led to her impeachment . A justice on the Central District Court in Seoul , Cho rejected the prosecutor ? s request to issue an arrest warrant , saying said it was ? difficult to recognize the need ? to incarcerate Mr. Lee . Mr. Lee , a scion and vice chairman of Samsung , one of the world ? s biggest conglomerates , was immediately released from a detention center outside Seoul , where he had been waiting for the court to decide whether he should be formally arrested . South Koreans have paid keen attention to the fate of Mr. Lee . Some analysts said his case was a test of whether the country ? s relatively youthful democracy and judicial system are ready to crack down on the crimes of conglomerates . No Samsung leader has ever been jailed , though the company has been investigated many times for corruption . The court ? s decision is likely to anger many South Koreans who have held weekend rallies calling for Ms. Park ? s ouster and the arrest of business tycoons on corruption charges . The special prosecutor called the court decision ? very regrettable . ? But he has yet to announce whether he will offer more evidence in a renewed effort to have Mr. Lee arrested . He can also indict Mr. Lee on bribery or lesser charges without arresting him . ? We will take necessary steps and persist in our investigation without wavering , ? said Lee a spokesman for the special prosecutor , without elaborating . Samsung welcomed the court ? s decision . For now , the ruling allows Mr. Lee to continue to lead Samsung . It dealt a blow to the special prosecutor who had tried to build a bribery case against Mr. Lee and Ms. Park . Mr. Lee ? s father has twice been convicted of bribery and tax evasion but has never spent a day in prison . Each time , he received a presidential pardon and returned to management . Mr. Lee , 48 , was accused of paying $ 36 million to Ms. Park ? s secretive confidante , Choi . The special prosecutor and Mr. Lee ? s lawyers have been arguing over how to characterize the money . In November , state prosecutors indicted Ms. Choi on extortion charges , saying she leveraged her connections with Ms. Park to coerce Samsung and scores of other big businesses to contribute tens of millions of dollars to two foundations Ms. Choi controlled or to companies run by her or her associates . They identified Ms. Park as an accomplice , but they brought no charges against the businesses , which they saw as victims of extortion . But the special prosecutor , Park who took over the investigation from state prosecutors last month , has called Samsung ? s contributions bribes that were exchanged for political favors from Ms. Park . That includes government support for a merger of two Samsung affiliates in 2015 , which helped Mr. Lee inherit corporate control from his incapacitated father , the chairman , Lee according to the prosecutor . groups accused the prosecutor of overreaching in an attempt to find a scapegoat to soothe a public infuriated over Ms. Park ? s corruption scandal and fed up with decades of collusive ties between the government and the chaebol . Mr. Lee was the most prominent businessman to be ensnared in the special prosecutor ? s broadening investigation into the corruption scandal that led to Ms. Park ? s impeachment by Parliament last month . Ms. Park ? s presidential powers remained suspended , while the Constitutional Court is expected to rule in coming weeks whether she should be reinstated or formally removed from office . ? We have been too lenient toward chaebol corruption , ? said Moon an opposition politician who leads in polls on contenders to replace Ms. Park if she is removed . Speaking to a group of foreign reporters hours before the court ? s decision , Mr . Moon said Samsung was typical of a chaebol whose top boss wielded ? imperial powers ? over his sprawling business group but was ? seldom held accountable ? for corruption or managerial failures . Ms. Park denies any wrongdoing . Mr. Lee and Samsung have also denied bribery they argued that the ? donations ? Samsung paid out to Ms. Choi were coerced , not meant as a quid pro quo for political favors from Ms. Park .\n",
            "Document: Good morning . Here ? s what you need to know : ? President Obama commuted most of the sentence of Chelsea Manning , the army intelligence analyst convicted of an enormous 2010 leak to WikiLeaks that revealed U. S. military and diplomatic activities around the world . She will be free in five months . The decision will likely come up at Mr. Obama ? s final news conference today , along with other legacy issues , like the fight to preserve the Affordable Care Act . A report found that repealing major provisions of Obamacare would cost 18 million people medical insurance in the first year , a number that could increase to 32 million in 10 years . _____ ? President Xi Jinping of China continues a visit to Switzerland , with stops at the U. N. in Geneva and the International Olympic Committee in Lausanne . Mr. Xi , who made a forceful argument for free trade , international integration and climate responsibility at the World Economic Forum on Tuesday , appears to be positioning China as a global leader in sharp contrast to the incoming U. S. president , Donald J. Trump . _____ ? ? Rigged . ? Mr. Trump hit back at a poll that put his favorability rating at 40 percent , compared with President Obama ? s 79 percent before inauguration and George W. Bush ? s 62 percent . Senate hearings for Mr. Trump ? s cabinet picks continue on a packed schedule . And officials are putting the final touches on days of celebrations for his inauguration on Friday , which will also be surrounded by protests . Security costs could top $ 100 million . _____ ? Australia ? s transport minister did not rule out future underwater searches for missing Malaysia Airlines Flight 370 , but said that investigators were certain the jet is not on the seabed in the area that searchers had scoured for nearly three years . The decision , while expected , drew criticism from families of the 239 people who were on board _____ ? Jay Y. Lee , the Samsung vice chairman , is expected to attend a hearing and then be held in detention ? possibly overnight ? to await the decision of a judge in Seoul on whether he should be arrested . Mr. Lee has denied accusations that he paid more than $ 36 million in bribes to organizations linked to Choi the unofficial adviser at the center of the corruption scandal that engulfed President Park . ? British American Tobacco is buying all of Reynolds American that it did not already own . The $ 49 billion deal , if approved by shareholders and regulators , will reshape the global tobacco industry . ? General Motors became the latest company to highlight initiatives following Mr. Trump ? s pressure to bolster U. S. manufacturing , announcing a $ 1 billion investment in American factories . ? the maker of aircraft engines and turbines , agreed to pay $ 817 million to resolve corruption inquiries by Britain , the U. S. and Brazil , including accusations of wrongdoing in Indonesia and China . ? The New York Times released a review of its newsroom and a blueprint for the future created by a team of seven of its journalists . ? U. S. stocks were lower . Here ? s a snapshot of global markets . ? Prime Minister Theresa May charted a ? clean break ? for Britain from the European Union and stressed her country ? s determination to regain control of migration . [ The New York Times ] ? A Nigerian fighter jet that meant to strike Boko Haram militants bombed a refugee camp . Doctors Without Borders counted more than 50 dead and 200 injured . [ The New York Times ] ? The widow of the gunman who killed 49 people at an Orlando , Fla. nightclub last year was charged under antiterrorism laws . ? She knew he was going to conduct the attack , ? a federal prosecutor asserted . [ The New York Times ] ? NASA and the National Oceanic and Atmospheric Administration are expected to announce that 2016 set the record for the hottest year globally . [ Climate Central ] ? The head of Air India was quoted as saying that the carrier planned to set aside seats to allow more protection for women traveling alone . [ The Economist ] ? Cambodia canceled military exercises with the U. S. for two years , a decision announced weeks after its exercises with China . [ The Cambodia Daily ] ? Bhutan has struggled to persuade other nations to adopt its Gross National Happiness index as a measure of social ills . [ The New York Times ] ? Fifty years ago this month , Vo Thi Mo led three commando squads against a U. S. Army battalion in the Vietnam War . Here is her story of resilience and survival . [ The New York Times ] ? Maybe don ? t skip your workout this morning ? it just might help your brain grow stronger . ? Here is a guide to help you teach young people about philanthropy and offer them the tools to give . ? Recipe of the day : For a simple side dish , try braised greens spiced with red pepper flakes . ? India ? s democracy includes 287 million illiterate people , so party symbols matter . This week , a feud over the image of a bicycle that had split a powerful political dynasty was resolved . ? Each spring , poplar trees planted by the millions under Mao blanket Chinese cities with cottonlike balls of fluff . In Beijing , the government hopes to eliminate the fuzz forever . ? And we introduce The Long View , in which the historian Jon Meacham looks at books that speak to historical and cultural moments . This first installment looks at the chaotic U. S. of the 1930s . The Oval Office is often used as shorthand for the U. S. presidency , but did you know that fewer than half of the presidents have worked there ? During President Theodore Roosevelt ? s term ( ) the West Wing was added to hold the executive branch ? s growing staff . He had a office in the addition ( now called the Roosevelt Room ) . Earlier leaders worked in the residence , mostly in what is known as the Lincoln Bedroom . Roosevelt ? s successor , William H. Taft , had the Oval Office built and was its first occupant . The design wasn ? t novel . George Washington had rooms in Philadelphia in 1791 , allowing him to greet guests circled around him . The pomp mimics an English court tradition called the lev ? e . There was a White House precursor , too . The Blue Room is rounded and used for diplomatic receptions . In the family quarters , there ? s a Yellow Oval Room . On Christmas Eve in 1929 , the Oval Office was badly damaged in a fire . President Franklin Roosevelt renovated it , moving it closer to the residence . The ? commute ? is under a minute . Presidents can redecorate , but there are limits . One is that the presidential seal must remain on the ceiling . And there ? s an other tradition : the outgoing president leaves a letter on the desk for his successor . Adeel Hassan contributed reporting . _____ Your Morning Briefing is published weekday mornings . What would you like to see here ? Contact us at asiabriefing @ nytimes . com .\n",
            "Document: SAN FRANCISCO ? By mastering some tough computer chip technology and then pulling off an audacious business strategy based on selling its smartphone knowledge , Qualcomm has made billions of dollars and seized influence in the tech industry . Some days that is a real drag . On Friday , Apple , its longtime partner , sued Qualcomm over what it said was $ 1 billion in withheld rebates . In the lawsuit , filed in Federal District Court for the Southern District of California , in San Diego , Apple said the money had been promised in conjunction with an agreement not to buy chips from other suppliers or to divulge Qualcomm ? s intellectual property licensing practices . The suit seeks the rebates , among other things . Apple sued three days after the Federal Trade Commission accused Qualcomm of using anticompetitive practices to guarantee its high royalty payments for advanced wireless technology . The commission cited Qualcomm ? s deals with Taiwanese companies that manufacture Apple iPhones over semiconductors it sells for the iPhone . In its complaint , the commission described Qualcomm as ? the world ? s dominant supplier ? of semiconductors that manage smartphone communications . The commission said Qualcomm had obtained ? elevated royalties ? for its patented intellectual property on wireless communications . Other smartphone chip makers have to pay Qualcomm for that intellectual property , too . The commission and Apple complaints follow several other problems , including a $ 975 million fine by Chinese regulators in 2015 and activist shareholder complaints later that year that forced layoffs at Qualcomm . Last month , Qualcomm was fined $ 850 million in South Korea for unfair patent licensing . When Apple provided information to South Korean regulators in that case , and sought competing chips from Intel , Qualcomm refused to pay Apple its promised money , Apple said . Qualcomm has vowed to fight the South Korean charge and the F. T. C. suit . ? Apple has intentionally mischaracterized our agreements and negotiations , ? Qualcomm said in a statement , adding that it would fight that lawsuit , too . Few expect Qualcomm to back down . It was shaped by its founders to be brainy , combative and profitable . ? They are seasoned , and equipped to fight , ? said Mark Hung , an analyst at Gartner . ? But when such a big company is so reliant on the way it sells its intellectual property , and under the microscope in various geographies , it ? s tough . ? Qualcomm , which is based in San Diego , far from Silicon Valley , was founded in 1985 by seven people , including Irwin Jacobs and Andrew Viterbi . The two were electrical engineering professors who had formed a military satellite communications company . Qualcomm ? s engineers work at a campus between a park and the University of California , San Diego . They have earned thousands of patents , including for the airplane mode on smartphones and the way apps are downloaded from stores . Companies like Samsung and Apple need Qualcomm for the technology that enables things like wireless video for millions of people at once . Its major technology is spread spectrum , which harnesses lots of computation and clever radio engineering for use in the various functions of smartphones . Qualcomm ? s radio technology is called CDMA , for code division multiple access , a way voice calls work more efficiently over cellphone networks . And the company ? s influence grew over the last several years with the advent of or 3G , phones as people started downloading lots of mobile data as well as making calls . At the time , many thought Qualcomm ? s success would be limited to that transition . Instead , Qualcomm innovated in 4G wireless for the new smartphones from Samsung and Apple that toppled Nokia and Motorola . In its last fiscal year , Qualcomm had revenue of $ 23 . 6 billion and a profit of $ 5 . 7 billion . Qualcomm ? s ventures in phones and network gear helped promote CDMA but did not make much money because older companies did not need CDMA until the success of wireless began to tax the capacity of their networks . Qualcomm turned to Asian companies that wanted to get into wireless . ? You ? d never have seen the Koreans or the Chinese in wireless if not for Qualcomm and CDMA , ? said Clint McClellan , a employee of Qualcomm who now runs a wireless health business . ? We enabled those markets . ? South Korea , in particular , made CDMA an industrial policy , which carried Qualcomm for years . More recently , China accounted for half of Qualcomm ? s revenue . Apple ? s Taiwanese manufacturers , which pay Qualcomm royalties for iPhones , are another big profit center . Qualcomm would not say what it charges for its intellectual property , but analysts figure the fee usually amounts to 5 percent of the selling price of a phone ? at least it did , until the 2015 Chinese fine , which included an agreement that Chinese manufacturers pay only about half the old Qualcomm royalty . That , and problems collecting Chinese royalties even before the agreement , hurt Qualcomm ? s share price . In 2015 , Jana Partners , an activist hedge fund , stepped in and pressed for a breakup of the company into separate intellectual property and chip businesses . That did not happen , but Qualcomm cut about 15 percent of its staff , cut executive pay and gave Jana three board seats . The stock has recovered to about where it was just before the fine , but not to the heights it reached before the problems . By helping to create today ? s smartphone giants , Qualcomm may have engineered its current woes . Qualcomm executives say they see a connection between the China discounts , which Qualcomm had hoped would be limited to that country , and the latest regulatory attacks . ? We believe Samsung had a major role to play in the Korean decision , ? said Don Rosenberg , a lawyer for Qualcomm . The regulators , he said , ? were prodded and misled by commercial interests . ? In an email , Jee , a spokeswoman for Samsung , said it ? was one of many multinational corporations ? that responded to questions from South Korean regulators . Qualcomm ? s lawyer figures the Korean case may take years to move through the courts . And recent events , including the impeachment of South Korea ? s president and a bribery scandal at Samsung , could complicate , or eliminate , Qualcomm ? s regulatory issues there . Additionally , the F. T. C. has just three of its normal five commissioners . One of those , Maureen Ohlhausen , a Republican , voted against the suit . She may be named chairwoman when the current chairwoman , Edith Ramirez , a Democrat , steps down on Feb. 10 . Neither the F. T. C. nor Apple would comment on the United States case against Qualcomm . ? It ? s disappointing when our partners want to pay less after we ? ve contributed to their success , ? said Derek Aberle , Qualcomm ? s president . Now it must get out ahead of other technology inventors in 5G , possibly while paying billions in fines and dealing with a painful restructuring and fraying relationships with its biggest customers . ? We ? re not sitting still ? while the problems are sorted , Mr. Aberle said . ? You have to invest , and invent cool stuff that will change the way people live their lives . ? In other words , create unique technology so people will keep paying for Qualcomm ? s expensive intellectual property .\n"
          ]
        }
      ]
    },
    {
      "cell_type": "markdown",
      "source": [
        "### Answer Span Extraction"
      ],
      "metadata": {
        "id": "huUFkWRGnTn4"
      },
      "id": "huUFkWRGnTn4"
    },
    {
      "cell_type": "code",
      "source": [
        "!pip install sentence-transformers"
      ],
      "metadata": {
        "colab": {
          "base_uri": "https://localhost:8080/"
        },
        "id": "ODSim-wMnuDu",
        "outputId": "68e086c5-b758-4b73-ff1e-c4ad4fcb60b7"
      },
      "id": "ODSim-wMnuDu",
      "execution_count": 23,
      "outputs": [
        {
          "output_type": "stream",
          "name": "stdout",
          "text": [
            "Collecting sentence-transformers\n",
            "  Downloading sentence_transformers-2.7.0-py3-none-any.whl.metadata (11 kB)\n",
            "Requirement already satisfied: transformers<5.0.0,>=4.34.0 in /usr/local/lib/python3.10/dist-packages (from sentence-transformers) (4.38.2)\n",
            "Requirement already satisfied: tqdm in /usr/local/lib/python3.10/dist-packages (from sentence-transformers) (4.66.2)\n",
            "Requirement already satisfied: torch>=1.11.0 in /usr/local/lib/python3.10/dist-packages (from sentence-transformers) (1.13.1)\n",
            "Requirement already satisfied: numpy in /usr/local/lib/python3.10/dist-packages (from sentence-transformers) (1.25.2)\n",
            "Requirement already satisfied: scikit-learn in /usr/local/lib/python3.10/dist-packages (from sentence-transformers) (1.2.2)\n",
            "Requirement already satisfied: scipy in /usr/local/lib/python3.10/dist-packages (from sentence-transformers) (1.11.4)\n",
            "Requirement already satisfied: huggingface-hub>=0.15.1 in /usr/local/lib/python3.10/dist-packages (from sentence-transformers) (0.22.2)\n",
            "Requirement already satisfied: Pillow in /usr/local/lib/python3.10/dist-packages (from sentence-transformers) (9.4.0)\n",
            "Requirement already satisfied: filelock in /usr/local/lib/python3.10/dist-packages (from huggingface-hub>=0.15.1->sentence-transformers) (3.13.4)\n",
            "Requirement already satisfied: fsspec>=2023.5.0 in /usr/local/lib/python3.10/dist-packages (from huggingface-hub>=0.15.1->sentence-transformers) (2023.6.0)\n",
            "Requirement already satisfied: packaging>=20.9 in /usr/local/lib/python3.10/dist-packages (from huggingface-hub>=0.15.1->sentence-transformers) (24.0)\n",
            "Requirement already satisfied: pyyaml>=5.1 in /usr/local/lib/python3.10/dist-packages (from huggingface-hub>=0.15.1->sentence-transformers) (6.0.1)\n",
            "Requirement already satisfied: requests in /usr/local/lib/python3.10/dist-packages (from huggingface-hub>=0.15.1->sentence-transformers) (2.31.0)\n",
            "Requirement already satisfied: typing-extensions>=3.7.4.3 in /usr/local/lib/python3.10/dist-packages (from huggingface-hub>=0.15.1->sentence-transformers) (4.11.0)\n",
            "Requirement already satisfied: nvidia-cuda-runtime-cu11==11.7.99 in /usr/local/lib/python3.10/dist-packages (from torch>=1.11.0->sentence-transformers) (11.7.99)\n",
            "Requirement already satisfied: nvidia-cudnn-cu11==8.5.0.96 in /usr/local/lib/python3.10/dist-packages (from torch>=1.11.0->sentence-transformers) (8.5.0.96)\n",
            "Requirement already satisfied: nvidia-cublas-cu11==11.10.3.66 in /usr/local/lib/python3.10/dist-packages (from torch>=1.11.0->sentence-transformers) (11.10.3.66)\n",
            "Requirement already satisfied: nvidia-cuda-nvrtc-cu11==11.7.99 in /usr/local/lib/python3.10/dist-packages (from torch>=1.11.0->sentence-transformers) (11.7.99)\n",
            "Requirement already satisfied: setuptools in /usr/local/lib/python3.10/dist-packages (from nvidia-cublas-cu11==11.10.3.66->torch>=1.11.0->sentence-transformers) (67.7.2)\n",
            "Requirement already satisfied: wheel in /usr/local/lib/python3.10/dist-packages (from nvidia-cublas-cu11==11.10.3.66->torch>=1.11.0->sentence-transformers) (0.43.0)\n",
            "Requirement already satisfied: regex!=2019.12.17 in /usr/local/lib/python3.10/dist-packages (from transformers<5.0.0,>=4.34.0->sentence-transformers) (2023.12.25)\n",
            "Requirement already satisfied: tokenizers<0.19,>=0.14 in /usr/local/lib/python3.10/dist-packages (from transformers<5.0.0,>=4.34.0->sentence-transformers) (0.15.2)\n",
            "Requirement already satisfied: safetensors>=0.4.1 in /usr/local/lib/python3.10/dist-packages (from transformers<5.0.0,>=4.34.0->sentence-transformers) (0.4.3)\n",
            "Requirement already satisfied: joblib>=1.1.1 in /usr/local/lib/python3.10/dist-packages (from scikit-learn->sentence-transformers) (1.4.0)\n",
            "Requirement already satisfied: threadpoolctl>=2.0.0 in /usr/local/lib/python3.10/dist-packages (from scikit-learn->sentence-transformers) (3.4.0)\n",
            "Requirement already satisfied: charset-normalizer<4,>=2 in /usr/local/lib/python3.10/dist-packages (from requests->huggingface-hub>=0.15.1->sentence-transformers) (3.3.2)\n",
            "Requirement already satisfied: idna<4,>=2.5 in /usr/local/lib/python3.10/dist-packages (from requests->huggingface-hub>=0.15.1->sentence-transformers) (3.7)\n",
            "Requirement already satisfied: urllib3<3,>=1.21.1 in /usr/local/lib/python3.10/dist-packages (from requests->huggingface-hub>=0.15.1->sentence-transformers) (2.0.7)\n",
            "Requirement already satisfied: certifi>=2017.4.17 in /usr/local/lib/python3.10/dist-packages (from requests->huggingface-hub>=0.15.1->sentence-transformers) (2024.2.2)\n",
            "Downloading sentence_transformers-2.7.0-py3-none-any.whl (171 kB)\n",
            "\u001b[2K   \u001b[90m━━━━━━━━━━━━━━━━━━━━━━━━━━━━━━━━━━━━━━━━\u001b[0m \u001b[32m171.5/171.5 kB\u001b[0m \u001b[31m1.6 MB/s\u001b[0m eta \u001b[36m0:00:00\u001b[0m\n",
            "\u001b[?25hInstalling collected packages: sentence-transformers\n",
            "Successfully installed sentence-transformers-2.7.0\n",
            "\u001b[33mWARNING: Running pip as the 'root' user can result in broken permissions and conflicting behaviour with the system package manager. It is recommended to use a virtual environment instead: https://pip.pypa.io/warnings/venv\u001b[0m\u001b[33m\n",
            "\u001b[0m"
          ]
        }
      ]
    },
    {
      "cell_type": "code",
      "source": [
        "tokenizer = nltk.data.load('tokenizers/punkt/PY3/english.pickle')"
      ],
      "metadata": {
        "id": "pu6H3G4OupLk"
      },
      "id": "pu6H3G4OupLk",
      "execution_count": 24,
      "outputs": []
    },
    {
      "cell_type": "code",
      "source": [
        "from sentence_transformers import SentenceTransformer"
      ],
      "metadata": {
        "id": "mWVvVMM7vQ4P"
      },
      "id": "mWVvVMM7vQ4P",
      "execution_count": 25,
      "outputs": []
    },
    {
      "cell_type": "code",
      "source": [
        "import nltk\n",
        "import torch\n",
        "from transformers import BertTokenizer, BertModel\n",
        "from sklearn.metrics.pairwise import cosine_similarity"
      ],
      "metadata": {
        "id": "HKiON6KbwzuK"
      },
      "id": "HKiON6KbwzuK",
      "execution_count": 26,
      "outputs": []
    },
    {
      "cell_type": "code",
      "source": [
        "nltk.download('punkt')"
      ],
      "metadata": {
        "colab": {
          "base_uri": "https://localhost:8080/"
        },
        "id": "q6fKpPF_w3FC",
        "outputId": "e02e2655-5153-41ff-fa6c-2e746872d10f"
      },
      "id": "q6fKpPF_w3FC",
      "execution_count": 27,
      "outputs": [
        {
          "output_type": "stream",
          "name": "stderr",
          "text": [
            "[nltk_data] Downloading package punkt to /root/nltk_data...\n",
            "[nltk_data]   Package punkt is already up-to-date!\n"
          ]
        },
        {
          "output_type": "execute_result",
          "data": {
            "text/plain": [
              "True"
            ]
          },
          "metadata": {},
          "execution_count": 27
        }
      ]
    },
    {
      "cell_type": "code",
      "source": [
        "from nltk.util import ngrams"
      ],
      "metadata": {
        "id": "m7WAGoVfxDXs"
      },
      "id": "m7WAGoVfxDXs",
      "execution_count": 28,
      "outputs": []
    },
    {
      "cell_type": "code",
      "source": [
        "# Function to create n-grams from word tokens\n",
        "def create_ngrams(word_tokens, n=10):\n",
        "  # Generate n-grams\n",
        "  ngram_list = list(ngrams(word_tokens, n))\n",
        "\n",
        "  # Convert n-grams to string format\n",
        "  ngram_strings = [' '.join(ngram) for ngram in ngram_list]\n",
        "\n",
        "  return ngram_strings"
      ],
      "metadata": {
        "id": "gvDmGs1Dxg0v"
      },
      "id": "gvDmGs1Dxg0v",
      "execution_count": 31,
      "outputs": []
    },
    {
      "cell_type": "code",
      "source": [
        "# Define a function which returns the cosine similarity between 2 vectors\n",
        "def cosine(query, document):\n",
        "  return np.dot(query,document) / (np.linalg.norm(query) * np.linalg.norm(document))"
      ],
      "metadata": {
        "id": "Qwab5x72x6tI"
      },
      "id": "Qwab5x72x6tI",
      "execution_count": 29,
      "outputs": []
    },
    {
      "cell_type": "code",
      "source": [
        "\n",
        "# List to store tuples of (sentence, similarity)\n",
        "similarities = []\n",
        "\n",
        "# Loop through each tokenized sentence in the 'split_sentence' column\n",
        "for sent_list in article['10_grams']:\n",
        "    #Encode each tokenized sentence using SBERT model\n",
        "  for tokenized_sent in sent_list:\n",
        "    sent_embedding = sbert_model.encode([tokenized_sent])[0]\n",
        "\n",
        "    # Calculate similarity between query vector and sentence embedding\n",
        "    sim = cosine(query_vec, sent_embedding)\n",
        "\n",
        "    # Append the tuple of (sentence, similarity) to the list\n",
        "    similarities.append((tokenized_sent, sim))\n",
        "\n",
        "# Sort the list based on similarities in descending order\n",
        "similarities.sort(key=lambda x: x[1], reverse=True)\n",
        "\n",
        "# Get the top 5 entries\n",
        "top_5_sentences = similarities[:5]\n",
        "\n",
        "# Print the top 5 sentences with their cosine similarities\n",
        "for i, (sent, sim) in enumerate(top_5_sentences, start=1):\n",
        "  print(f\"Top {i} Sentence = {sent}; similarity = {sim}\")"
      ],
      "metadata": {
        "id": "fMCtAPRHxf8A"
      },
      "id": "fMCtAPRHxf8A",
      "execution_count": null,
      "outputs": []
    },
    {
      "cell_type": "markdown",
      "source": [
        "## Train"
      ],
      "metadata": {
        "id": "uLGV3GB3nrR3"
      },
      "id": "uLGV3GB3nrR3"
    },
    {
      "cell_type": "code",
      "source": [],
      "metadata": {
        "id": "o9RG8bqLn0Am"
      },
      "id": "o9RG8bqLn0Am",
      "execution_count": null,
      "outputs": []
    },
    {
      "cell_type": "markdown",
      "source": [
        "## Test"
      ],
      "metadata": {
        "id": "rbye8qeknwtw"
      },
      "id": "rbye8qeknwtw"
    },
    {
      "cell_type": "markdown",
      "source": [
        "### Information retrieval"
      ],
      "metadata": {
        "id": "vXdp69s0ppL_"
      },
      "id": "vXdp69s0ppL_"
    },
    {
      "cell_type": "code",
      "source": [],
      "metadata": {
        "id": "cWi7EFannzOn"
      },
      "id": "cWi7EFannzOn",
      "execution_count": null,
      "outputs": []
    },
    {
      "cell_type": "markdown",
      "source": [
        "### Answer Span Extraction"
      ],
      "metadata": {
        "id": "j8_481Lwpt4d"
      },
      "id": "j8_481Lwpt4d"
    },
    {
      "cell_type": "code",
      "source": [
        ""
      ],
      "metadata": {
        "id": "X18ruXMLpuVp"
      },
      "id": "X18ruXMLpuVp",
      "execution_count": null,
      "outputs": []
    },
    {
      "cell_type": "markdown",
      "source": [
        "## Proposal"
      ],
      "metadata": {
        "id": "NFh0tAtHpPSD"
      },
      "id": "NFh0tAtHpPSD"
    },
    {
      "cell_type": "code",
      "source": [
        "# def question_answer(query):\n",
        "#   #tokenize\n",
        "#   tokenized_query = word_tokenize(query)\n",
        "#   corpus=df['article'].apply(lambda x:word_tokenize(x))\n",
        "\n",
        "#   #IR\n",
        "#   bm25 = BM25Okapi(corpus)\n",
        "#   doc_scores = bm25.get_scores(tokenized_query)\n",
        "#   top_doc=bm25.get_top_n(tokenized_query, corpus, n=1)\n",
        "#   first=\" \". join(top_doc[0])\n",
        "\n",
        "\n",
        "#   #ASE\n",
        "#   sbert_model = SentenceTransformer('bert-base-nli-mean-tokens')\n",
        "#   query=\" \". join(tokenized_query)\n",
        "#   query_vec = sbert_model.encode([query])[0]\n",
        "#   article_10_grams=create_ngrams(first, n=10)\n",
        "#   similarities = []\n",
        "#   for sent_list in article_10_grams:\n",
        "#     #Encode each tokenized sentence using SBERT model\n",
        "#     for tokenized_sent in sent_list:\n",
        "#       sent_embedding = sbert_model.encode([tokenized_sent])[0]\n",
        "\n",
        "#     # Calculate similarity between query vector and sentence embedding\n",
        "#       sim = cosine(query_vec, sent_embedding)\n",
        "\n",
        "#     # Append the tuple of (sentence, similarity) to the list\n",
        "#       similarities.append((tokenized_sent, sim))\n",
        "\n",
        "#   # Sort the list based on similarities in descending order\n",
        "#       similarities.sort(key=lambda x: x[1], reverse=True)\n",
        "\n",
        "#   return similarities[0]\n"
      ],
      "metadata": {
        "id": "jlM6Gg4SqQvj"
      },
      "id": "jlM6Gg4SqQvj",
      "execution_count": 39,
      "outputs": []
    },
    {
      "cell_type": "code",
      "source": [
        "import numpy as np\n",
        "from nltk.tokenize import word_tokenize\n",
        "from rank_bm25 import BM25Okapi\n",
        "from sentence_transformers import SentenceTransformer\n",
        "from scipy.spatial.distance import cosine\n",
        "from nltk.util import ngrams\n",
        "\n",
        "def cosine_similarity(query, document):\n",
        "  return np.dot(query, document) / (np.linalg.norm(query) * np.linalg.norm(document))\n",
        "\n",
        "def create_ngrams(word_tokens, n=10):\n",
        "  if len(word_tokens) < n:\n",
        "    return []  # Return empty list if not enough tokens for one n-gram\n",
        "  ngram_list = list(ngrams(word_tokens, n))\n",
        "  ngram_strings = [' '.join(ngram) for ngram in ngram_list]\n",
        "  return ngram_strings\n",
        "\n",
        "def question_answer(query):\n",
        "\n",
        "  tokenized_query = word_tokenize(query)\n",
        "  corpus=df['article'].apply(lambda x:word_tokenize(x))\n",
        "\n",
        "  # Information Retrieval with BM25\n",
        "  bm25 = BM25Okapi(corpus)\n",
        "  doc_scores = bm25.get_scores(tokenized_query)\n",
        "  top_doc=bm25.get_top_n(tokenized_query, corpus, n=1)\n",
        "  first=\" \". join(top_doc[0])\n",
        "\n",
        "  # Answer Sentence Extraction using Sentence Embeddings\n",
        "  sbert_model = SentenceTransformer('bert-base-nli-mean-tokens')\n",
        "  query_vec = sbert_model.encode([' '.join(tokenized_query)])[0]\n",
        "  article_10_grams = create_ngrams(word_tokenize(first), n=10)\n",
        "\n",
        "  similarities = []\n",
        "  for gram in article_10_grams:\n",
        "    gram_vec = sbert_model.encode([gram])[0]\n",
        "    sim = cosine_similarity(query_vec, gram_vec)\n",
        "    similarities.append((gram, sim))\n",
        "\n",
        "    # Sort and return the highest similarity n-gram\n",
        "    if not similarities:\n",
        "      return None  # Handle case where no n-grams are generated\n",
        "    similarities.sort(key=lambda x: x[1], reverse=True)\n",
        "  return similarities[0]\n"
      ],
      "metadata": {
        "id": "yss1y3lj6hgf"
      },
      "id": "yss1y3lj6hgf",
      "execution_count": 57,
      "outputs": []
    },
    {
      "cell_type": "code",
      "source": [
        "question_answer('Who is the vice chairman of Samsung')"
      ],
      "metadata": {
        "colab": {
          "base_uri": "https://localhost:8080/"
        },
        "id": "LgFWvTsdzxqO",
        "outputId": "4de4c8aa-e920-48d2-b809-eb3085814527"
      },
      "id": "LgFWvTsdzxqO",
      "execution_count": 58,
      "outputs": [
        {
          "output_type": "execute_result",
          "data": {
            "text/plain": [
              "(', Jay Y. Lee , the vice chairman of Samsung', 0.9505648)"
            ]
          },
          "metadata": {},
          "execution_count": 58
        }
      ]
    },
    {
      "cell_type": "code",
      "source": [
        "question_answer('How many charges of coercing on Ms. Choi')"
      ],
      "metadata": {
        "colab": {
          "base_uri": "https://localhost:8080/"
        },
        "id": "zO3-z2Wj9J1p",
        "outputId": "0d41f080-3470-4003-db12-1cd22046047e"
      },
      "id": "zO3-z2Wj9J1p",
      "execution_count": 59,
      "outputs": [
        {
          "output_type": "execute_result",
          "data": {
            "text/plain": [
              "(', state prosecutors indicted Ms. Choi on charges of coercing', 0.79896456)"
            ]
          },
          "metadata": {},
          "execution_count": 59
        }
      ]
    },
    {
      "cell_type": "code",
      "source": [
        "while True:\n",
        "  user_question = input(\"Enter your question (or type 'quit' to exit): \")\n",
        "\n",
        "  if user_question.lower() == 'quit':\n",
        "      break\n",
        "\n",
        "  # Get and print the answer\n",
        "  print(\"Answer:\", question_answer(user_question))\n"
      ],
      "metadata": {
        "id": "9Eaw_lKBqRZn"
      },
      "id": "9Eaw_lKBqRZn",
      "execution_count": null,
      "outputs": []
    },
    {
      "cell_type": "markdown",
      "id": "9d3a91b4",
      "metadata": {
        "id": "9d3a91b4"
      },
      "source": [
        "# B. References"
      ]
    },
    {
      "cell_type": "markdown",
      "id": "cf7553c1",
      "metadata": {
        "id": "cf7553c1"
      },
      "source": [
        "# C. Appendix"
      ]
    }
  ],
  "metadata": {
    "kernelspec": {
      "display_name": "Python 3",
      "name": "python3"
    },
    "language_info": {
      "codemirror_mode": {
        "name": "ipython",
        "version": 3
      },
      "file_extension": ".py",
      "mimetype": "text/x-python",
      "name": "python",
      "nbconvert_exporter": "python",
      "pygments_lexer": "ipython3",
      "version": "3.9.7"
    },
    "colab": {
      "provenance": [],
      "toc_visible": true,
      "gpuType": "V28",
      "include_colab_link": true
    },
    "accelerator": "TPU"
  },
  "nbformat": 4,
  "nbformat_minor": 5
}