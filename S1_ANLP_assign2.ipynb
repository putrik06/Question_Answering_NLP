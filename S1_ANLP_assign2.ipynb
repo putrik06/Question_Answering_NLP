{
  "cells": [
    {
      "cell_type": "markdown",
      "metadata": {
        "id": "view-in-github",
        "colab_type": "text"
      },
      "source": [
        "<a href=\"https://colab.research.google.com/github/putrik06/Question_Answering_NLP/blob/main/S1_ANLP_assign2.ipynb\" target=\"_parent\"><img src=\"https://colab.research.google.com/assets/colab-badge.svg\" alt=\"Open In Colab\"/></a>"
      ]
    },
    {
      "cell_type": "markdown",
      "id": "6730fecf",
      "metadata": {
        "id": "6730fecf"
      },
      "source": [
        "# Assignment 2\n"
      ]
    },
    {
      "cell_type": "markdown",
      "id": "3df2aac6",
      "metadata": {
        "id": "3df2aac6"
      },
      "source": [
        "# A. Tasks as specified for your team structure"
      ]
    },
    {
      "cell_type": "markdown",
      "source": [
        "## Load dataset"
      ],
      "metadata": {
        "id": "r4ky3kYulbag"
      },
      "id": "r4ky3kYulbag"
    },
    {
      "cell_type": "code",
      "source": [
        "# Get some libraries\n",
        "import pandas as pd\n",
        "import numpy as np\n",
        "import nltk\n",
        "import regex as re\n",
        "import seaborn as sns\n",
        "import json\n",
        "import spacy\n",
        "import matplotlib.pyplot as plt"
      ],
      "metadata": {
        "id": "B13XcaHRmCGh"
      },
      "id": "B13XcaHRmCGh",
      "execution_count": null,
      "outputs": []
    },
    {
      "cell_type": "code",
      "source": [
        "# Read the dataset from google drive\n",
        "from google.colab import drive\n",
        "drive.mount('/content/drive')\n",
        "\n",
        "# Path to my JSON file\n",
        "archive_path ='/content/drive/My Drive/Colab Notebooks/NLP/NLP_A2/news_dataset.csv'\n",
        "\n",
        "# Get data from JSON file\n",
        "encoding_type = 'latin1'\n",
        "df = pd.read_csv(archive_path, encoding=encoding_type)\n",
        "\n",
        "# Display DataFrame information\n",
        "df.info()"
      ],
      "metadata": {
        "colab": {
          "base_uri": "https://localhost:8080/"
        },
        "id": "H0lqKRMEllpX",
        "outputId": "c59c5082-da17-4f8c-f174-6865c6213f45"
      },
      "id": "H0lqKRMEllpX",
      "execution_count": null,
      "outputs": [
        {
          "output_type": "stream",
          "name": "stdout",
          "text": [
            "Drive already mounted at /content/drive; to attempt to forcibly remount, call drive.mount(\"/content/drive\", force_remount=True).\n",
            "<class 'pandas.core.frame.DataFrame'>\n",
            "RangeIndex: 1000 entries, 0 to 999\n",
            "Data columns (total 7 columns):\n",
            " #   Column   Non-Null Count  Dtype \n",
            "---  ------   --------------  ----- \n",
            " 0   id       1000 non-null   int64 \n",
            " 1   author   994 non-null    object\n",
            " 2   date     1000 non-null   object\n",
            " 3   year     1000 non-null   object\n",
            " 4   month    1000 non-null   object\n",
            " 5   topic    1000 non-null   object\n",
            " 6   article  1000 non-null   object\n",
            "dtypes: int64(1), object(6)\n",
            "memory usage: 54.8+ KB\n"
          ]
        }
      ]
    },
    {
      "cell_type": "code",
      "source": [
        "df"
      ],
      "metadata": {
        "colab": {
          "base_uri": "https://localhost:8080/"
        },
        "id": "yiHpq2Ywmma_",
        "outputId": "570d4891-b072-4278-b84e-1637afbd58b1"
      },
      "id": "yiHpq2Ywmma_",
      "execution_count": null,
      "outputs": [
        {
          "output_type": "execute_result",
          "data": {
            "text/plain": [
              "        id               author        date  year month         topic  \\\n",
              "0    17307       Marlise Simons   1/01/2017  2017     1  architecture   \n",
              "1    17292          Andy Newman  31/12/2016  2016    12           art   \n",
              "2    17298  Emma G. Fitzsimmons   2/01/2017  2017     1      business   \n",
              "3    17311           Carl Hulse   3/01/2017  2017     1      business   \n",
              "4    17339        Jim Rutenberg   5/01/2017  2017     1      business   \n",
              "..     ...                  ...         ...   ...   ...           ...   \n",
              "995  18460        Gerry Mullany  14/03/2017  2017     3     accidents   \n",
              "996  18461           Rory Smith  10/02/2017  2017     2        sports   \n",
              "997  18462           Jack Ewing   9/02/2017  2017     2      business   \n",
              "998  18463       Scott Cacciola  10/02/2017  2017     2        sports   \n",
              "999  18465          Sam Roberts  10/02/2017  2017     2     lifestyle   \n",
              "\n",
              "                                               article  \n",
              "0    PARIS  ?   When the Islamic State was about to...  \n",
              "1    Angels are everywhere in the Mu?iz family?s ap...  \n",
              "2    Finally. The Second Avenue subway opened in Ne...  \n",
              "3    WASHINGTON  ?   It?s   or   time for Republica...  \n",
              "4    For Megyn Kelly, the shift from Fox News to NB...  \n",
              "..                                                 ...  \n",
              "995  HONG KONG  ?   Hundreds of pilot whales that s...  \n",
              "996  NICE, France  ?     Riv?re accepts the complim...  \n",
              "997  FRANKFURT  ?   Germans who never really warmed...  \n",
              "998  Charles Oakley has strong feelings about compe...  \n",
              "999  Hans Rosling, a Swedish doctor who transformed...  \n",
              "\n",
              "[1000 rows x 7 columns]"
            ],
            "text/html": [
              "\n",
              "  <div id=\"df-65a29653-d3e8-4f3b-8195-53e2dcb1391f\" class=\"colab-df-container\">\n",
              "    <div>\n",
              "<style scoped>\n",
              "    .dataframe tbody tr th:only-of-type {\n",
              "        vertical-align: middle;\n",
              "    }\n",
              "\n",
              "    .dataframe tbody tr th {\n",
              "        vertical-align: top;\n",
              "    }\n",
              "\n",
              "    .dataframe thead th {\n",
              "        text-align: right;\n",
              "    }\n",
              "</style>\n",
              "<table border=\"1\" class=\"dataframe\">\n",
              "  <thead>\n",
              "    <tr style=\"text-align: right;\">\n",
              "      <th></th>\n",
              "      <th>id</th>\n",
              "      <th>author</th>\n",
              "      <th>date</th>\n",
              "      <th>year</th>\n",
              "      <th>month</th>\n",
              "      <th>topic</th>\n",
              "      <th>article</th>\n",
              "    </tr>\n",
              "  </thead>\n",
              "  <tbody>\n",
              "    <tr>\n",
              "      <th>0</th>\n",
              "      <td>17307</td>\n",
              "      <td>Marlise Simons</td>\n",
              "      <td>1/01/2017</td>\n",
              "      <td>2017</td>\n",
              "      <td>1</td>\n",
              "      <td>architecture</td>\n",
              "      <td>PARIS  ?   When the Islamic State was about to...</td>\n",
              "    </tr>\n",
              "    <tr>\n",
              "      <th>1</th>\n",
              "      <td>17292</td>\n",
              "      <td>Andy Newman</td>\n",
              "      <td>31/12/2016</td>\n",
              "      <td>2016</td>\n",
              "      <td>12</td>\n",
              "      <td>art</td>\n",
              "      <td>Angels are everywhere in the Mu?iz family?s ap...</td>\n",
              "    </tr>\n",
              "    <tr>\n",
              "      <th>2</th>\n",
              "      <td>17298</td>\n",
              "      <td>Emma G. Fitzsimmons</td>\n",
              "      <td>2/01/2017</td>\n",
              "      <td>2017</td>\n",
              "      <td>1</td>\n",
              "      <td>business</td>\n",
              "      <td>Finally. The Second Avenue subway opened in Ne...</td>\n",
              "    </tr>\n",
              "    <tr>\n",
              "      <th>3</th>\n",
              "      <td>17311</td>\n",
              "      <td>Carl Hulse</td>\n",
              "      <td>3/01/2017</td>\n",
              "      <td>2017</td>\n",
              "      <td>1</td>\n",
              "      <td>business</td>\n",
              "      <td>WASHINGTON  ?   It?s   or   time for Republica...</td>\n",
              "    </tr>\n",
              "    <tr>\n",
              "      <th>4</th>\n",
              "      <td>17339</td>\n",
              "      <td>Jim Rutenberg</td>\n",
              "      <td>5/01/2017</td>\n",
              "      <td>2017</td>\n",
              "      <td>1</td>\n",
              "      <td>business</td>\n",
              "      <td>For Megyn Kelly, the shift from Fox News to NB...</td>\n",
              "    </tr>\n",
              "    <tr>\n",
              "      <th>...</th>\n",
              "      <td>...</td>\n",
              "      <td>...</td>\n",
              "      <td>...</td>\n",
              "      <td>...</td>\n",
              "      <td>...</td>\n",
              "      <td>...</td>\n",
              "      <td>...</td>\n",
              "    </tr>\n",
              "    <tr>\n",
              "      <th>995</th>\n",
              "      <td>18460</td>\n",
              "      <td>Gerry Mullany</td>\n",
              "      <td>14/03/2017</td>\n",
              "      <td>2017</td>\n",
              "      <td>3</td>\n",
              "      <td>accidents</td>\n",
              "      <td>HONG KONG  ?   Hundreds of pilot whales that s...</td>\n",
              "    </tr>\n",
              "    <tr>\n",
              "      <th>996</th>\n",
              "      <td>18461</td>\n",
              "      <td>Rory Smith</td>\n",
              "      <td>10/02/2017</td>\n",
              "      <td>2017</td>\n",
              "      <td>2</td>\n",
              "      <td>sports</td>\n",
              "      <td>NICE, France  ?     Riv?re accepts the complim...</td>\n",
              "    </tr>\n",
              "    <tr>\n",
              "      <th>997</th>\n",
              "      <td>18462</td>\n",
              "      <td>Jack Ewing</td>\n",
              "      <td>9/02/2017</td>\n",
              "      <td>2017</td>\n",
              "      <td>2</td>\n",
              "      <td>business</td>\n",
              "      <td>FRANKFURT  ?   Germans who never really warmed...</td>\n",
              "    </tr>\n",
              "    <tr>\n",
              "      <th>998</th>\n",
              "      <td>18463</td>\n",
              "      <td>Scott Cacciola</td>\n",
              "      <td>10/02/2017</td>\n",
              "      <td>2017</td>\n",
              "      <td>2</td>\n",
              "      <td>sports</td>\n",
              "      <td>Charles Oakley has strong feelings about compe...</td>\n",
              "    </tr>\n",
              "    <tr>\n",
              "      <th>999</th>\n",
              "      <td>18465</td>\n",
              "      <td>Sam Roberts</td>\n",
              "      <td>10/02/2017</td>\n",
              "      <td>2017</td>\n",
              "      <td>2</td>\n",
              "      <td>lifestyle</td>\n",
              "      <td>Hans Rosling, a Swedish doctor who transformed...</td>\n",
              "    </tr>\n",
              "  </tbody>\n",
              "</table>\n",
              "<p>1000 rows × 7 columns</p>\n",
              "</div>\n",
              "    <div class=\"colab-df-buttons\">\n",
              "\n",
              "  <div class=\"colab-df-container\">\n",
              "    <button class=\"colab-df-convert\" onclick=\"convertToInteractive('df-65a29653-d3e8-4f3b-8195-53e2dcb1391f')\"\n",
              "            title=\"Convert this dataframe to an interactive table.\"\n",
              "            style=\"display:none;\">\n",
              "\n",
              "  <svg xmlns=\"http://www.w3.org/2000/svg\" height=\"24px\" viewBox=\"0 -960 960 960\">\n",
              "    <path d=\"M120-120v-720h720v720H120Zm60-500h600v-160H180v160Zm220 220h160v-160H400v160Zm0 220h160v-160H400v160ZM180-400h160v-160H180v160Zm440 0h160v-160H620v160ZM180-180h160v-160H180v160Zm440 0h160v-160H620v160Z\"/>\n",
              "  </svg>\n",
              "    </button>\n",
              "\n",
              "  <style>\n",
              "    .colab-df-container {\n",
              "      display:flex;\n",
              "      gap: 12px;\n",
              "    }\n",
              "\n",
              "    .colab-df-convert {\n",
              "      background-color: #E8F0FE;\n",
              "      border: none;\n",
              "      border-radius: 50%;\n",
              "      cursor: pointer;\n",
              "      display: none;\n",
              "      fill: #1967D2;\n",
              "      height: 32px;\n",
              "      padding: 0 0 0 0;\n",
              "      width: 32px;\n",
              "    }\n",
              "\n",
              "    .colab-df-convert:hover {\n",
              "      background-color: #E2EBFA;\n",
              "      box-shadow: 0px 1px 2px rgba(60, 64, 67, 0.3), 0px 1px 3px 1px rgba(60, 64, 67, 0.15);\n",
              "      fill: #174EA6;\n",
              "    }\n",
              "\n",
              "    .colab-df-buttons div {\n",
              "      margin-bottom: 4px;\n",
              "    }\n",
              "\n",
              "    [theme=dark] .colab-df-convert {\n",
              "      background-color: #3B4455;\n",
              "      fill: #D2E3FC;\n",
              "    }\n",
              "\n",
              "    [theme=dark] .colab-df-convert:hover {\n",
              "      background-color: #434B5C;\n",
              "      box-shadow: 0px 1px 3px 1px rgba(0, 0, 0, 0.15);\n",
              "      filter: drop-shadow(0px 1px 2px rgba(0, 0, 0, 0.3));\n",
              "      fill: #FFFFFF;\n",
              "    }\n",
              "  </style>\n",
              "\n",
              "    <script>\n",
              "      const buttonEl =\n",
              "        document.querySelector('#df-65a29653-d3e8-4f3b-8195-53e2dcb1391f button.colab-df-convert');\n",
              "      buttonEl.style.display =\n",
              "        google.colab.kernel.accessAllowed ? 'block' : 'none';\n",
              "\n",
              "      async function convertToInteractive(key) {\n",
              "        const element = document.querySelector('#df-65a29653-d3e8-4f3b-8195-53e2dcb1391f');\n",
              "        const dataTable =\n",
              "          await google.colab.kernel.invokeFunction('convertToInteractive',\n",
              "                                                    [key], {});\n",
              "        if (!dataTable) return;\n",
              "\n",
              "        const docLinkHtml = 'Like what you see? Visit the ' +\n",
              "          '<a target=\"_blank\" href=https://colab.research.google.com/notebooks/data_table.ipynb>data table notebook</a>'\n",
              "          + ' to learn more about interactive tables.';\n",
              "        element.innerHTML = '';\n",
              "        dataTable['output_type'] = 'display_data';\n",
              "        await google.colab.output.renderOutput(dataTable, element);\n",
              "        const docLink = document.createElement('div');\n",
              "        docLink.innerHTML = docLinkHtml;\n",
              "        element.appendChild(docLink);\n",
              "      }\n",
              "    </script>\n",
              "  </div>\n",
              "\n",
              "\n",
              "<div id=\"df-001707bf-1771-4c17-9353-9e718960ba4f\">\n",
              "  <button class=\"colab-df-quickchart\" onclick=\"quickchart('df-001707bf-1771-4c17-9353-9e718960ba4f')\"\n",
              "            title=\"Suggest charts\"\n",
              "            style=\"display:none;\">\n",
              "\n",
              "<svg xmlns=\"http://www.w3.org/2000/svg\" height=\"24px\"viewBox=\"0 0 24 24\"\n",
              "     width=\"24px\">\n",
              "    <g>\n",
              "        <path d=\"M19 3H5c-1.1 0-2 .9-2 2v14c0 1.1.9 2 2 2h14c1.1 0 2-.9 2-2V5c0-1.1-.9-2-2-2zM9 17H7v-7h2v7zm4 0h-2V7h2v10zm4 0h-2v-4h2v4z\"/>\n",
              "    </g>\n",
              "</svg>\n",
              "  </button>\n",
              "\n",
              "<style>\n",
              "  .colab-df-quickchart {\n",
              "      --bg-color: #E8F0FE;\n",
              "      --fill-color: #1967D2;\n",
              "      --hover-bg-color: #E2EBFA;\n",
              "      --hover-fill-color: #174EA6;\n",
              "      --disabled-fill-color: #AAA;\n",
              "      --disabled-bg-color: #DDD;\n",
              "  }\n",
              "\n",
              "  [theme=dark] .colab-df-quickchart {\n",
              "      --bg-color: #3B4455;\n",
              "      --fill-color: #D2E3FC;\n",
              "      --hover-bg-color: #434B5C;\n",
              "      --hover-fill-color: #FFFFFF;\n",
              "      --disabled-bg-color: #3B4455;\n",
              "      --disabled-fill-color: #666;\n",
              "  }\n",
              "\n",
              "  .colab-df-quickchart {\n",
              "    background-color: var(--bg-color);\n",
              "    border: none;\n",
              "    border-radius: 50%;\n",
              "    cursor: pointer;\n",
              "    display: none;\n",
              "    fill: var(--fill-color);\n",
              "    height: 32px;\n",
              "    padding: 0;\n",
              "    width: 32px;\n",
              "  }\n",
              "\n",
              "  .colab-df-quickchart:hover {\n",
              "    background-color: var(--hover-bg-color);\n",
              "    box-shadow: 0 1px 2px rgba(60, 64, 67, 0.3), 0 1px 3px 1px rgba(60, 64, 67, 0.15);\n",
              "    fill: var(--button-hover-fill-color);\n",
              "  }\n",
              "\n",
              "  .colab-df-quickchart-complete:disabled,\n",
              "  .colab-df-quickchart-complete:disabled:hover {\n",
              "    background-color: var(--disabled-bg-color);\n",
              "    fill: var(--disabled-fill-color);\n",
              "    box-shadow: none;\n",
              "  }\n",
              "\n",
              "  .colab-df-spinner {\n",
              "    border: 2px solid var(--fill-color);\n",
              "    border-color: transparent;\n",
              "    border-bottom-color: var(--fill-color);\n",
              "    animation:\n",
              "      spin 1s steps(1) infinite;\n",
              "  }\n",
              "\n",
              "  @keyframes spin {\n",
              "    0% {\n",
              "      border-color: transparent;\n",
              "      border-bottom-color: var(--fill-color);\n",
              "      border-left-color: var(--fill-color);\n",
              "    }\n",
              "    20% {\n",
              "      border-color: transparent;\n",
              "      border-left-color: var(--fill-color);\n",
              "      border-top-color: var(--fill-color);\n",
              "    }\n",
              "    30% {\n",
              "      border-color: transparent;\n",
              "      border-left-color: var(--fill-color);\n",
              "      border-top-color: var(--fill-color);\n",
              "      border-right-color: var(--fill-color);\n",
              "    }\n",
              "    40% {\n",
              "      border-color: transparent;\n",
              "      border-right-color: var(--fill-color);\n",
              "      border-top-color: var(--fill-color);\n",
              "    }\n",
              "    60% {\n",
              "      border-color: transparent;\n",
              "      border-right-color: var(--fill-color);\n",
              "    }\n",
              "    80% {\n",
              "      border-color: transparent;\n",
              "      border-right-color: var(--fill-color);\n",
              "      border-bottom-color: var(--fill-color);\n",
              "    }\n",
              "    90% {\n",
              "      border-color: transparent;\n",
              "      border-bottom-color: var(--fill-color);\n",
              "    }\n",
              "  }\n",
              "</style>\n",
              "\n",
              "  <script>\n",
              "    async function quickchart(key) {\n",
              "      const quickchartButtonEl =\n",
              "        document.querySelector('#' + key + ' button');\n",
              "      quickchartButtonEl.disabled = true;  // To prevent multiple clicks.\n",
              "      quickchartButtonEl.classList.add('colab-df-spinner');\n",
              "      try {\n",
              "        const charts = await google.colab.kernel.invokeFunction(\n",
              "            'suggestCharts', [key], {});\n",
              "      } catch (error) {\n",
              "        console.error('Error during call to suggestCharts:', error);\n",
              "      }\n",
              "      quickchartButtonEl.classList.remove('colab-df-spinner');\n",
              "      quickchartButtonEl.classList.add('colab-df-quickchart-complete');\n",
              "    }\n",
              "    (() => {\n",
              "      let quickchartButtonEl =\n",
              "        document.querySelector('#df-001707bf-1771-4c17-9353-9e718960ba4f button');\n",
              "      quickchartButtonEl.style.display =\n",
              "        google.colab.kernel.accessAllowed ? 'block' : 'none';\n",
              "    })();\n",
              "  </script>\n",
              "</div>\n",
              "\n",
              "  <div id=\"id_c5f2a7af-f182-424f-b59b-e9ebf751b6b2\">\n",
              "    <style>\n",
              "      .colab-df-generate {\n",
              "        background-color: #E8F0FE;\n",
              "        border: none;\n",
              "        border-radius: 50%;\n",
              "        cursor: pointer;\n",
              "        display: none;\n",
              "        fill: #1967D2;\n",
              "        height: 32px;\n",
              "        padding: 0 0 0 0;\n",
              "        width: 32px;\n",
              "      }\n",
              "\n",
              "      .colab-df-generate:hover {\n",
              "        background-color: #E2EBFA;\n",
              "        box-shadow: 0px 1px 2px rgba(60, 64, 67, 0.3), 0px 1px 3px 1px rgba(60, 64, 67, 0.15);\n",
              "        fill: #174EA6;\n",
              "      }\n",
              "\n",
              "      [theme=dark] .colab-df-generate {\n",
              "        background-color: #3B4455;\n",
              "        fill: #D2E3FC;\n",
              "      }\n",
              "\n",
              "      [theme=dark] .colab-df-generate:hover {\n",
              "        background-color: #434B5C;\n",
              "        box-shadow: 0px 1px 3px 1px rgba(0, 0, 0, 0.15);\n",
              "        filter: drop-shadow(0px 1px 2px rgba(0, 0, 0, 0.3));\n",
              "        fill: #FFFFFF;\n",
              "      }\n",
              "    </style>\n",
              "    <button class=\"colab-df-generate\" onclick=\"generateWithVariable('df')\"\n",
              "            title=\"Generate code using this dataframe.\"\n",
              "            style=\"display:none;\">\n",
              "\n",
              "  <svg xmlns=\"http://www.w3.org/2000/svg\" height=\"24px\"viewBox=\"0 0 24 24\"\n",
              "       width=\"24px\">\n",
              "    <path d=\"M7,19H8.4L18.45,9,17,7.55,7,17.6ZM5,21V16.75L18.45,3.32a2,2,0,0,1,2.83,0l1.4,1.43a1.91,1.91,0,0,1,.58,1.4,1.91,1.91,0,0,1-.58,1.4L9.25,21ZM18.45,9,17,7.55Zm-12,3A5.31,5.31,0,0,0,4.9,8.1,5.31,5.31,0,0,0,1,6.5,5.31,5.31,0,0,0,4.9,4.9,5.31,5.31,0,0,0,6.5,1,5.31,5.31,0,0,0,8.1,4.9,5.31,5.31,0,0,0,12,6.5,5.46,5.46,0,0,0,6.5,12Z\"/>\n",
              "  </svg>\n",
              "    </button>\n",
              "    <script>\n",
              "      (() => {\n",
              "      const buttonEl =\n",
              "        document.querySelector('#id_c5f2a7af-f182-424f-b59b-e9ebf751b6b2 button.colab-df-generate');\n",
              "      buttonEl.style.display =\n",
              "        google.colab.kernel.accessAllowed ? 'block' : 'none';\n",
              "\n",
              "      buttonEl.onclick = () => {\n",
              "        google.colab.notebook.generateWithVariable('df');\n",
              "      }\n",
              "      })();\n",
              "    </script>\n",
              "  </div>\n",
              "\n",
              "    </div>\n",
              "  </div>\n"
            ],
            "application/vnd.google.colaboratory.intrinsic+json": {
              "type": "dataframe",
              "variable_name": "df",
              "summary": "{\n  \"name\": \"df\",\n  \"rows\": 1000,\n  \"fields\": [\n    {\n      \"column\": \"id\",\n      \"properties\": {\n        \"dtype\": \"number\",\n        \"std\": 341,\n        \"min\": 17283,\n        \"max\": 18465,\n        \"num_unique_values\": 1000,\n        \"samples\": [\n          17904,\n          18166,\n          18169\n        ],\n        \"semantic_type\": \"\",\n        \"description\": \"\"\n      }\n    },\n    {\n      \"column\": \"author\",\n      \"properties\": {\n        \"dtype\": \"string\",\n        \"num_unique_values\": 579,\n        \"samples\": [\n          \"Daniel E. Slotnik\",\n          \"Tamar Adler\",\n          \"Alan Blinder\"\n        ],\n        \"semantic_type\": \"\",\n        \"description\": \"\"\n      }\n    },\n    {\n      \"column\": \"date\",\n      \"properties\": {\n        \"dtype\": \"category\",\n        \"num_unique_values\": 79,\n        \"samples\": [\n          \"11/03/2017\",\n          \"1/01/2017\",\n          \"12/01/2017\"\n        ],\n        \"semantic_type\": \"\",\n        \"description\": \"\"\n      }\n    },\n    {\n      \"column\": \"year\",\n      \"properties\": {\n        \"dtype\": \"category\",\n        \"num_unique_values\": 3,\n        \"samples\": [\n          \"2017\",\n          \"2016\",\n          \"AMSTERDAM ? Pedram Paragomi, a Iranian medical student, was excited about his first trip to the United States.\\n\\nMr. Paragomi and six other Iranians remained stranded at Schiphol Airport outside Amsterdam on Tuesday, as their travel ordeal stretched into its fourth day.\\n\\nThe largely spontaneous and spirited protests at American airports over the weekend focused on several aspects of Mr. Trump?s order, including a ban on all refugees, an indefinite ban on Syrian refugees and an attempt ? later blocked by judges ? to deport people with valid visas or refugee status who had already arrived in the United States.\\n\\nThe seven Iranians stuck in Amsterdam were pulled aside on Saturday by United States agents stationed at the airport.\\n\\nOne man in the group went to pray at the airport?s meditation center, where he met an airport official who introduced the group to a Dutch pastor who offered to help.\"\n        ],\n        \"semantic_type\": \"\",\n        \"description\": \"\"\n      }\n    },\n    {\n      \"column\": \"month\",\n      \"properties\": {\n        \"dtype\": \"category\",\n        \"num_unique_values\": 8,\n        \"samples\": [\n          \"12\",\n          \"2\",\n          \"1\"\n        ],\n        \"semantic_type\": \"\",\n        \"description\": \"\"\n      }\n    },\n    {\n      \"column\": \"topic\",\n      \"properties\": {\n        \"dtype\": \"category\",\n        \"num_unique_values\": 14,\n        \"samples\": [\n          \"sports\",\n          \"law\",\n          \"architecture\"\n        ],\n        \"semantic_type\": \"\",\n        \"description\": \"\"\n      }\n    },\n    {\n      \"column\": \"article\",\n      \"properties\": {\n        \"dtype\": \"string\",\n        \"num_unique_values\": 995,\n        \"samples\": [\n          \"That was fast. Two weeks after her ?America First? fashion statement at the inauguration, Melania Trump emerged last weekend from the relative seclusion of her life in New York to join her husband at     a. k. a. the winter White   golf club in Florida. And as far as her sartorial language went, America was  ?   well, pretty much last. On Friday, greeting the president as he disembarked from Air Force One in Palm Beach, the first lady wore a short red Givenchy cape dress. On Saturday, at a Red Cross ball, she wore a long   gown from Christian Dior (both brands connected, by the way, to LVMH Mo?t Hennessy Louis Vuitton, the French luxury conglomerate led by Bernard Arnault, the only foreign luxury mogul to have made a postelection pilgrimage to Trump Tower). But on Sunday, for a Super Bowl party at Trump International Golf Club, she wore leather pants from the Row, the brand of   Olsen and Ashley Olsen, and a thin knit sweater by Derek Lam, both names at New York Fashion Week. Does it matter? On one hand, Mrs. Trump has been explicit about her desire to eschew, at least for the moment, the Washington spotlight. Perhaps her clothes are a part of that, and thus the point was simply to look elegant and not to bother with more complicated billboarding. If so, she achieved that aim. However, Mrs. Trump has also said that she intends to meaningfully inhabit the role of first lady, and certainly this appearance was part of that goal. The choice of the red dress  ?   which made for a compelling visual next to President Trump?s red tie as the two walked together along the tarmac  ?   was consciously symbolic, according to Stephanie Winston Wolkoff, Mrs. Trump?s senior adviser, who said it was in honor of ?National Wear Red Day, which is to highlight the importance and raise awareness about heart disease. ? So it?s not like they haven?t been thinking this through. Or that they aren?t aware of the symbolic value of dress, especially when it comes to a first lady who prefers to let her clothes do the talking. If so, there is a contradiction implicit in her choices of clothing, given her husband?s promise in his Inaugural Address that ?Buy American? would be a tenet of his administration. But the    dress requirement for first ladies, historically held dear, was largely taken off the table during the Obama administration and transformed into a vehicle for   outreach. It was Mr. Trump who made it an issue again, and in a forum arguably more public, and permanent, than Twitter. When asked about the issue, Ms. Winston Wolkoff emailed the following statement: ?Mrs. Trump is a proud and longtime supporter of American fashion. She appreciates fashion as art. As a former model, she has always been a patron of the world?s most distinguished designers both here and abroad. Mrs. Trump buys from an international mix of brands because that is what reflects her uniquely American life experience and style. She is more excited than ever to make a platform for American designers as she did on one of the most important weeks in history, the Inauguration, showcasing the extraordinary talents of American designers. ? In other words: Buying European is a reflection of the American shopping experience. For anyone who has walked down any main shopping street in a big American city  ?   such as Fifth Avenue in New York, where Mrs. Trump lives  ?   it?s hard to argue with that. Though it also seems like something of a contorted rationale, and one that could be exploited by companies seeking to relocate some factories overseas. That choice is, after all, also a part of the American industrial story. In any case, it?s worth noting that Givenchy and Dior have been playing possum since the weekend, another indication of fashion?s   relationship with Mrs. Trump. Neither fashion house issued the de rigueur news release trumpeting the first lady?s appearance in one of their dresses. Asked whether the brand had worked with the first lady on the red dress, a spokesman for Givenchy said that the company had no comment and that the dress had been purchased from a store, without any interpersonal discussion. (It is for sale on the Neiman Marcus website, among others, for $2, 095.) Dior simply did not respond. As for Mr. Lam, who in November told the fashion magazine WWD, ?I really don?t see myself getting involved with the Trump presidency,? the situation pretty much shows the problem with that stance. After all, the first lady is free to buy his product, whether he wants to get involved or not. Which is another American story, of sorts.\",\n          \"Good morning.  Here?s what you need to know: ? President Trump is expected to order the construction of a Mexican border wall today and slash immigration of refugees from ?terror prone? nations, White House officials said. He pressed automakers to increase jobs in the U. S. but a new forecast of a federal budget deficit that could expand to almost $10 trillion over 10 years could complicate his agenda to cut taxes and ramp up spending. Mr. Trump also revived two pipelines blocked under President Obama: the Keystone XL pipeline, the focus of years of debate over energy needs and climate change and the Dakota Access pipeline, the target of Native American protests. _____ ? And tensions are rising between the U. S. and China. Beijing, after a challenge from a Trump spokesman, insisted it had ?irrefutable? sovereignty over disputed islands in the South China Sea. China sees opportunities to extend its global reach with Mr. Trump in power, but it also sees a threat to its prized goal, stability. _____ ? Israel, discarding diplomatic restraint just a few days into the Trump administration, approved the construction of 2, 500 housing units for Jews in West Bank settlements. A month ago, the Obama administration declined to veto a Security Council resolution condemning the settlements, and last week, a gathering of world leaders warned Israel to stop expanding them. _____ ? The office of Prime Minister Theresa May pledged to stay on its timetable for taking Britain out of the European Union despite a top court ruling requiring the approval of Parliament before the process can begin. Political observers said it was unlikely that legislators, despite being largely opposed to Brexit, would try to block the will of the voters. _____ ? Three months after Prime Minister Narendra Modi abruptly banned 86 percent of India?s currency in a bid to fight ?black money?  ?   hidden reserves that feed corruption  ?   unemployment is spreading, and some people are going without fruit, vegetables and milk. ?This has actually hurt the poor enormously,? one business leader said. Above, a protest over cash shortages last week. _____ ? And this year?s Oscar nominations are out. Voters gave ?La La Land? 14 nominations, a tie for the most in Academy Award history. The academy also honored six black actors  ?   a record. Here is the full list of nominees. _____ ? The Alibaba Group beat estimates with strong   earnings. The results showed how much the   giant  ?   despite a growing global profile and its record I. P. O. on Wall Street  ?   is still dependent on China. ? Silver Lake, an investment firm, is leading a $1. 1 billion investment in Koubei, an   business that is part of what is increasingly known as the    sector, or O2O. ? President Trump?s pick for the Federal Communications Commission, Ajit Pai, an   from Kansas, is expected to roll back rules that ban internet service providers from favoring certain websites and apps. ? Nearly 470 million Chinese citizens used their mobile phones to make payments last year, an increase of 31 percent from 2015, new government data shows. ? Japan releases data on its imports and exports for December. The country?s   economy has been struggling despite government efforts at stimulus. ? South Korea and Taiwan release G. D. P. figures. ? Wall Street was up. Here?s a snapshot of global markets. ? China?s 816 nuclear plant, begun in the 1960s, was one of the country?s most ambitious military projects. Today, the   mountain has been reborn as a tourist attraction. [The New York Times] ? Peter Thiel, the American billionaire, has taken New Zealand citizenship and quietly acquired a sprawling estate on Lake Wanaka. [New Zealand Herald] ? Afghanistan ordered the arrest of nine bodyguards of Gen. Abdul Rashid Dostum, the more senior of the country?s two vice presidents, on accusations of the rape and torture of an Uzbek elder. [The New York Times] ? A wave of smog is forecast to engulf four northern Chinese provinces as the Lunar New Year approaches. [Reuters] ? Talks in Astana, Kazakhstan, may have done more to to firm up Russia?s growing role in diplomacy over Syria than to create any progress toward peace. [The New York Times] ? A proposal to ban the display of Vietnam?s flag on city poles has divided the Vietnamese community of San Jose, Calif. [The Mercury News] ? Gambia?s former president, Yahya Jammeh, didn?t go into exile in Equatorial Guinea  : He left with two   a   and a plane full of luxury items. [The New York Times] ? China?s government has shut down 111 of the country?s 683 golf courses since 2011, citing illegal land or water use. [Xinhua] ? Scientists found the fossils of a huge, nearly    otter that roamed rivers and lakes in southwestern China about 6. 2 million years ago. [Reuters] ? Doing just 12 minutes of yoga can improve your bone health. ? Vacations don?t have to be all about relaxing: Here?s how to plan one with some good deeds along the way. ? Recipe of the day: Try this grilled cheese sandwich featuring mayonnaise for some midweek comfort food. ? In China, members of the Tanka people have survived on southern coastal waterways, and on the margins of society, since ancient times. As big cities spread, their floating way of life is disappearing. ? Genetic research is taking some truly   turns. Ant researchers have identified the molecular and neural cues that help explain social behaviors, including caring for young, breeding  ?   even capturing and   upstarts, like tiny police officers. ? And a pioneering scientist, Maria Sibylla Merian, captivated Europeans 300 years ago with her studies of insects. Now, her findings are being celebrated again. Grandstands filled with cheering fans, perfectly plated vegetables, and your country?s name on the line  ?   this isn?t your typical cooking competition. This is the Bocuse d?Or, or the culinary version of the Olympics. The competition, which takes place this week in Lyon, France, was founded by the master French chef Paul Bocuse. He was influential in establishing nouvelle cuisine, which emphasizes ingredients and presentation. At 90, Mr. Bocuse remains a king among chefs. Long before ?  ? became a trendy concept, a    Bocuse was learning how to butcher a cow for his first restaurant job. He eventually joined his father at their family restaurant, L?Auberge du Pont de Collonges. One year after he took over, the restaurant won a Michelin star. He recalled how early in his career he wowed a prominent food critic with fresh ingredients. Mr. Bocuse served haricots verts picked that morning, lightly boiled and served with olive oil, shallots and salt. In 1966, The Times?s Craig Claiborne described the restaurant outside of Lyon as ?one of the most elegant and proudest restaurants outside of Paris. ? Mr. Bocuse, though, once offered a less refined assessment of his skills. ?Some men have mistresses,? Mr. Bocuse once said. ?I run a luxury restaurant. ? Remy Tumin contributed reporting. _____ Your Morning Briefing is published weekday mornings. What would you like to see here? Contact us at asiabriefing@nytimes. com.\",\n          \"Now that Joaqu\\u00adn Guzm\\u00ffn Loera, the crime lord known as El Chapo, has been extradited from Mexico and has pleaded not guilty in Brooklyn to charges of running the planet?s biggest drug empire, his prosecution will enter a crucial phase  ?   provided, of course, he does not manage to tunnel free from the   jail in Manhattan where he is being held. Two chief questions will define what comes next: Will Mr. Guzm\\u00ffn decide to go to trial? And if he does, what sort of defense will he mount to counter what appears to be a Matterhorn of evidence against him? When Robert L. Capers, the United States attorney in Brooklyn, outlined the government?s case against Mr. Guzm\\u00ffn at a news conference on Friday, he seemed unable to disguise a sly smile of satisfaction. After all, that morning, Mr. Capers?s office had filed a memorandum that set forth in exhaustive detail the cinematic story of Mr. Guzm\\u00ffn?s rise from a teenage marijuana farmer to an international kingpin who armed himself with a diamond encrusted pistol. It further noted that dozens of witnesses were lined up to testify and corroborate what prosecutors described as extensive secret recordings in which Mr. Guzm\\u00ffn discussed drug transactions. Several lawyers who have represented drug lords in the past said that the aggressive tenor of the memo suggested that, at least for now, federal prosecutors were serious about trying Mr. Guzm\\u00ffn and were unlikely to offer him a deal to plead guilty to lesser charges. Mr. Guzm\\u00ffn, moreover, is facing life in prison on a sweeping count of running a continuing criminal enterprise. So there was no real downside, the lawyers said, for him to fight the government?s case. ?The government has made it clear that they?re going full bore with this,? said David O. Markus, who negotiated the 2006 guilty pleas for Gilberto and Miguel Rodr\\u00adguez Orejuela, Colombian brothers who helped found the Cali cartel. ?For El Chapo, if there?s no offer on the table and it?s life if you go to trial and life or near it if you plead guilty, it?s pretty easy  ?   he?ll go to trial. ? Before Mr. Guzm\\u00ffn has to make that decision, however, a number of complicated issues are certain to arise. Given that he has been indicted not only in Brooklyn, but also in six other federal districts, his legal team is likely to question whether he is being prosecuted in the appropriate jurisdiction. They could also attack the manner in which he was sent to New York, some lawyers said, casting doubt on whether he was properly extradited. Then there is the question of his hiring a private lawyer. For the moment, Mr. Guzm\\u00ffn is being represented by two seasoned public defenders, Michael Schneider and Michelle Gelernt. While there is a   narco bar of lawyers, mainly in Florida and Texas, who regularly handle cartel cases, many of them are already representing people who may appear as witnesses at Mr. Guzm\\u00ffn?s trial. Further complicating matters, the federal government has said that it wants to seize $14 billion in profits that Mr. Guzm\\u00ffn was said to have made while running the Sinaloa cartel, leaving his financial situation unclear. ?Many good criminal defense lawyers may shy away from the case not only because of the conduct that?s been charged, but because it?s hard to get paid if the government argues that all his money is   tainted,? said Benjamin Brafman, one of New York City?s top defense lawyers. But if Mr. Guzm\\u00ffn does end up before a jury, Mr. Brafman and other lawyers said that he could borrow a tactic from the manifold Mafia trials that have taken place in Brooklyn and defend himself by attacking the credibility of the government?s witnesses. According to the prosecution?s memo, ?a large coterie of cooperating witnesses?  ?   among them, Colombian cartel members, Mexican couriers and United   distributors  ?   is ready to testify about every aspect of Mr. Guzm\\u00ffn?s organization, including bribes paid to politicians and murders of rival drug dealers and government and law enforcement officials. ?It?s inconceivable to me that these people don?t have baggage of their own,? Mr. Brafman said, ?if, indeed, they were involved in the organization for a long time. ? The case of Vicente Zambada Niebla, the son of Ismael Zambada Garc\\u00ada, who long served as Mr. Guzm\\u00ffn?s top lieutenant in the Sinaloa cartel, offers another possible avenue of defense. Mr. Zambada was arrested by the Mexican authorities in 2009 and extradited to Chicago, where he was poised to stand trial as the cartel?s chief logistics officer for importing drugs into that city. But a few years into the case his lawyers suddenly claimed that he could not be prosecuted in the United States because he had been secretly working as an informant for the Drug Enforcement Administration. Though the government subsequently acknowledged that D. E. A. agents had in fact met with Mr. Zambada, it denied that it had engaged with him in any quid pro quo. Nonetheless, in 2014, the D. E. A. announced that Mr. Zambada would not stand trial because he had pleaded guilty to trafficking charges and was working as a government informant. The possibility that Mr. Guzm\\u00ffn might also become an informant is a complicated one. Some lawyers said that because he was accused in court papers of kidnapping, torture and causing the deaths of thousands of people, it would be hard to imagine the government allowing him to cooperate  ?   unless, perhaps, he had reliable and damning information on   Mexican officials. Others said they found that prospect dubious because of Mr. Guzm\\u00ffn?s reputation as a Robin   hero in his homeland. ?He has this mythic legacy behind him,? said W. Rob Heroy, a lawyer for Carlos Ramon   a Mexican who pleaded guilty in 2014 to producing and distributing heroin in the United States, much of it in and around Charlotte, N. C. ?Maybe the government would want him as an informant, but I just can?t see El Chapo getting done with all of that and then going to work at a Cinnabon in Omaha. ?\"\n        ],\n        \"semantic_type\": \"\",\n        \"description\": \"\"\n      }\n    }\n  ]\n}"
            }
          },
          "metadata": {},
          "execution_count": 181
        }
      ]
    },
    {
      "cell_type": "code",
      "source": [
        "df.drop(columns=['author','date', 'year','month', 'topic'], inplace=True)"
      ],
      "metadata": {
        "id": "hB6ZJQ_hOy6h"
      },
      "id": "hB6ZJQ_hOy6h",
      "execution_count": null,
      "outputs": []
    },
    {
      "cell_type": "code",
      "source": [
        "df"
      ],
      "metadata": {
        "colab": {
          "base_uri": "https://localhost:8080/"
        },
        "id": "ywVQa4tgu9Mr",
        "outputId": "e289560e-8f2a-440d-e1b8-ff3a6819fd41"
      },
      "id": "ywVQa4tgu9Mr",
      "execution_count": null,
      "outputs": [
        {
          "output_type": "execute_result",
          "data": {
            "text/plain": [
              "        id                                            article\n",
              "0    17307  PARIS  ?   When the Islamic State was about to...\n",
              "1    17292  Angels are everywhere in the Mu?iz family?s ap...\n",
              "2    17298  Finally. The Second Avenue subway opened in Ne...\n",
              "3    17311  WASHINGTON  ?   It?s   or   time for Republica...\n",
              "4    17339  For Megyn Kelly, the shift from Fox News to NB...\n",
              "..     ...                                                ...\n",
              "995  18460  HONG KONG  ?   Hundreds of pilot whales that s...\n",
              "996  18461  NICE, France  ?     Riv?re accepts the complim...\n",
              "997  18462  FRANKFURT  ?   Germans who never really warmed...\n",
              "998  18463  Charles Oakley has strong feelings about compe...\n",
              "999  18465  Hans Rosling, a Swedish doctor who transformed...\n",
              "\n",
              "[1000 rows x 2 columns]"
            ],
            "text/html": [
              "\n",
              "  <div id=\"df-dd72fb32-2282-4913-9193-a8cbef5549ac\" class=\"colab-df-container\">\n",
              "    <div>\n",
              "<style scoped>\n",
              "    .dataframe tbody tr th:only-of-type {\n",
              "        vertical-align: middle;\n",
              "    }\n",
              "\n",
              "    .dataframe tbody tr th {\n",
              "        vertical-align: top;\n",
              "    }\n",
              "\n",
              "    .dataframe thead th {\n",
              "        text-align: right;\n",
              "    }\n",
              "</style>\n",
              "<table border=\"1\" class=\"dataframe\">\n",
              "  <thead>\n",
              "    <tr style=\"text-align: right;\">\n",
              "      <th></th>\n",
              "      <th>id</th>\n",
              "      <th>article</th>\n",
              "    </tr>\n",
              "  </thead>\n",
              "  <tbody>\n",
              "    <tr>\n",
              "      <th>0</th>\n",
              "      <td>17307</td>\n",
              "      <td>PARIS  ?   When the Islamic State was about to...</td>\n",
              "    </tr>\n",
              "    <tr>\n",
              "      <th>1</th>\n",
              "      <td>17292</td>\n",
              "      <td>Angels are everywhere in the Mu?iz family?s ap...</td>\n",
              "    </tr>\n",
              "    <tr>\n",
              "      <th>2</th>\n",
              "      <td>17298</td>\n",
              "      <td>Finally. The Second Avenue subway opened in Ne...</td>\n",
              "    </tr>\n",
              "    <tr>\n",
              "      <th>3</th>\n",
              "      <td>17311</td>\n",
              "      <td>WASHINGTON  ?   It?s   or   time for Republica...</td>\n",
              "    </tr>\n",
              "    <tr>\n",
              "      <th>4</th>\n",
              "      <td>17339</td>\n",
              "      <td>For Megyn Kelly, the shift from Fox News to NB...</td>\n",
              "    </tr>\n",
              "    <tr>\n",
              "      <th>...</th>\n",
              "      <td>...</td>\n",
              "      <td>...</td>\n",
              "    </tr>\n",
              "    <tr>\n",
              "      <th>995</th>\n",
              "      <td>18460</td>\n",
              "      <td>HONG KONG  ?   Hundreds of pilot whales that s...</td>\n",
              "    </tr>\n",
              "    <tr>\n",
              "      <th>996</th>\n",
              "      <td>18461</td>\n",
              "      <td>NICE, France  ?     Riv?re accepts the complim...</td>\n",
              "    </tr>\n",
              "    <tr>\n",
              "      <th>997</th>\n",
              "      <td>18462</td>\n",
              "      <td>FRANKFURT  ?   Germans who never really warmed...</td>\n",
              "    </tr>\n",
              "    <tr>\n",
              "      <th>998</th>\n",
              "      <td>18463</td>\n",
              "      <td>Charles Oakley has strong feelings about compe...</td>\n",
              "    </tr>\n",
              "    <tr>\n",
              "      <th>999</th>\n",
              "      <td>18465</td>\n",
              "      <td>Hans Rosling, a Swedish doctor who transformed...</td>\n",
              "    </tr>\n",
              "  </tbody>\n",
              "</table>\n",
              "<p>1000 rows × 2 columns</p>\n",
              "</div>\n",
              "    <div class=\"colab-df-buttons\">\n",
              "\n",
              "  <div class=\"colab-df-container\">\n",
              "    <button class=\"colab-df-convert\" onclick=\"convertToInteractive('df-dd72fb32-2282-4913-9193-a8cbef5549ac')\"\n",
              "            title=\"Convert this dataframe to an interactive table.\"\n",
              "            style=\"display:none;\">\n",
              "\n",
              "  <svg xmlns=\"http://www.w3.org/2000/svg\" height=\"24px\" viewBox=\"0 -960 960 960\">\n",
              "    <path d=\"M120-120v-720h720v720H120Zm60-500h600v-160H180v160Zm220 220h160v-160H400v160Zm0 220h160v-160H400v160ZM180-400h160v-160H180v160Zm440 0h160v-160H620v160ZM180-180h160v-160H180v160Zm440 0h160v-160H620v160Z\"/>\n",
              "  </svg>\n",
              "    </button>\n",
              "\n",
              "  <style>\n",
              "    .colab-df-container {\n",
              "      display:flex;\n",
              "      gap: 12px;\n",
              "    }\n",
              "\n",
              "    .colab-df-convert {\n",
              "      background-color: #E8F0FE;\n",
              "      border: none;\n",
              "      border-radius: 50%;\n",
              "      cursor: pointer;\n",
              "      display: none;\n",
              "      fill: #1967D2;\n",
              "      height: 32px;\n",
              "      padding: 0 0 0 0;\n",
              "      width: 32px;\n",
              "    }\n",
              "\n",
              "    .colab-df-convert:hover {\n",
              "      background-color: #E2EBFA;\n",
              "      box-shadow: 0px 1px 2px rgba(60, 64, 67, 0.3), 0px 1px 3px 1px rgba(60, 64, 67, 0.15);\n",
              "      fill: #174EA6;\n",
              "    }\n",
              "\n",
              "    .colab-df-buttons div {\n",
              "      margin-bottom: 4px;\n",
              "    }\n",
              "\n",
              "    [theme=dark] .colab-df-convert {\n",
              "      background-color: #3B4455;\n",
              "      fill: #D2E3FC;\n",
              "    }\n",
              "\n",
              "    [theme=dark] .colab-df-convert:hover {\n",
              "      background-color: #434B5C;\n",
              "      box-shadow: 0px 1px 3px 1px rgba(0, 0, 0, 0.15);\n",
              "      filter: drop-shadow(0px 1px 2px rgba(0, 0, 0, 0.3));\n",
              "      fill: #FFFFFF;\n",
              "    }\n",
              "  </style>\n",
              "\n",
              "    <script>\n",
              "      const buttonEl =\n",
              "        document.querySelector('#df-dd72fb32-2282-4913-9193-a8cbef5549ac button.colab-df-convert');\n",
              "      buttonEl.style.display =\n",
              "        google.colab.kernel.accessAllowed ? 'block' : 'none';\n",
              "\n",
              "      async function convertToInteractive(key) {\n",
              "        const element = document.querySelector('#df-dd72fb32-2282-4913-9193-a8cbef5549ac');\n",
              "        const dataTable =\n",
              "          await google.colab.kernel.invokeFunction('convertToInteractive',\n",
              "                                                    [key], {});\n",
              "        if (!dataTable) return;\n",
              "\n",
              "        const docLinkHtml = 'Like what you see? Visit the ' +\n",
              "          '<a target=\"_blank\" href=https://colab.research.google.com/notebooks/data_table.ipynb>data table notebook</a>'\n",
              "          + ' to learn more about interactive tables.';\n",
              "        element.innerHTML = '';\n",
              "        dataTable['output_type'] = 'display_data';\n",
              "        await google.colab.output.renderOutput(dataTable, element);\n",
              "        const docLink = document.createElement('div');\n",
              "        docLink.innerHTML = docLinkHtml;\n",
              "        element.appendChild(docLink);\n",
              "      }\n",
              "    </script>\n",
              "  </div>\n",
              "\n",
              "\n",
              "<div id=\"df-0d3fe4ef-4f48-4da5-8130-2b2306b1847d\">\n",
              "  <button class=\"colab-df-quickchart\" onclick=\"quickchart('df-0d3fe4ef-4f48-4da5-8130-2b2306b1847d')\"\n",
              "            title=\"Suggest charts\"\n",
              "            style=\"display:none;\">\n",
              "\n",
              "<svg xmlns=\"http://www.w3.org/2000/svg\" height=\"24px\"viewBox=\"0 0 24 24\"\n",
              "     width=\"24px\">\n",
              "    <g>\n",
              "        <path d=\"M19 3H5c-1.1 0-2 .9-2 2v14c0 1.1.9 2 2 2h14c1.1 0 2-.9 2-2V5c0-1.1-.9-2-2-2zM9 17H7v-7h2v7zm4 0h-2V7h2v10zm4 0h-2v-4h2v4z\"/>\n",
              "    </g>\n",
              "</svg>\n",
              "  </button>\n",
              "\n",
              "<style>\n",
              "  .colab-df-quickchart {\n",
              "      --bg-color: #E8F0FE;\n",
              "      --fill-color: #1967D2;\n",
              "      --hover-bg-color: #E2EBFA;\n",
              "      --hover-fill-color: #174EA6;\n",
              "      --disabled-fill-color: #AAA;\n",
              "      --disabled-bg-color: #DDD;\n",
              "  }\n",
              "\n",
              "  [theme=dark] .colab-df-quickchart {\n",
              "      --bg-color: #3B4455;\n",
              "      --fill-color: #D2E3FC;\n",
              "      --hover-bg-color: #434B5C;\n",
              "      --hover-fill-color: #FFFFFF;\n",
              "      --disabled-bg-color: #3B4455;\n",
              "      --disabled-fill-color: #666;\n",
              "  }\n",
              "\n",
              "  .colab-df-quickchart {\n",
              "    background-color: var(--bg-color);\n",
              "    border: none;\n",
              "    border-radius: 50%;\n",
              "    cursor: pointer;\n",
              "    display: none;\n",
              "    fill: var(--fill-color);\n",
              "    height: 32px;\n",
              "    padding: 0;\n",
              "    width: 32px;\n",
              "  }\n",
              "\n",
              "  .colab-df-quickchart:hover {\n",
              "    background-color: var(--hover-bg-color);\n",
              "    box-shadow: 0 1px 2px rgba(60, 64, 67, 0.3), 0 1px 3px 1px rgba(60, 64, 67, 0.15);\n",
              "    fill: var(--button-hover-fill-color);\n",
              "  }\n",
              "\n",
              "  .colab-df-quickchart-complete:disabled,\n",
              "  .colab-df-quickchart-complete:disabled:hover {\n",
              "    background-color: var(--disabled-bg-color);\n",
              "    fill: var(--disabled-fill-color);\n",
              "    box-shadow: none;\n",
              "  }\n",
              "\n",
              "  .colab-df-spinner {\n",
              "    border: 2px solid var(--fill-color);\n",
              "    border-color: transparent;\n",
              "    border-bottom-color: var(--fill-color);\n",
              "    animation:\n",
              "      spin 1s steps(1) infinite;\n",
              "  }\n",
              "\n",
              "  @keyframes spin {\n",
              "    0% {\n",
              "      border-color: transparent;\n",
              "      border-bottom-color: var(--fill-color);\n",
              "      border-left-color: var(--fill-color);\n",
              "    }\n",
              "    20% {\n",
              "      border-color: transparent;\n",
              "      border-left-color: var(--fill-color);\n",
              "      border-top-color: var(--fill-color);\n",
              "    }\n",
              "    30% {\n",
              "      border-color: transparent;\n",
              "      border-left-color: var(--fill-color);\n",
              "      border-top-color: var(--fill-color);\n",
              "      border-right-color: var(--fill-color);\n",
              "    }\n",
              "    40% {\n",
              "      border-color: transparent;\n",
              "      border-right-color: var(--fill-color);\n",
              "      border-top-color: var(--fill-color);\n",
              "    }\n",
              "    60% {\n",
              "      border-color: transparent;\n",
              "      border-right-color: var(--fill-color);\n",
              "    }\n",
              "    80% {\n",
              "      border-color: transparent;\n",
              "      border-right-color: var(--fill-color);\n",
              "      border-bottom-color: var(--fill-color);\n",
              "    }\n",
              "    90% {\n",
              "      border-color: transparent;\n",
              "      border-bottom-color: var(--fill-color);\n",
              "    }\n",
              "  }\n",
              "</style>\n",
              "\n",
              "  <script>\n",
              "    async function quickchart(key) {\n",
              "      const quickchartButtonEl =\n",
              "        document.querySelector('#' + key + ' button');\n",
              "      quickchartButtonEl.disabled = true;  // To prevent multiple clicks.\n",
              "      quickchartButtonEl.classList.add('colab-df-spinner');\n",
              "      try {\n",
              "        const charts = await google.colab.kernel.invokeFunction(\n",
              "            'suggestCharts', [key], {});\n",
              "      } catch (error) {\n",
              "        console.error('Error during call to suggestCharts:', error);\n",
              "      }\n",
              "      quickchartButtonEl.classList.remove('colab-df-spinner');\n",
              "      quickchartButtonEl.classList.add('colab-df-quickchart-complete');\n",
              "    }\n",
              "    (() => {\n",
              "      let quickchartButtonEl =\n",
              "        document.querySelector('#df-0d3fe4ef-4f48-4da5-8130-2b2306b1847d button');\n",
              "      quickchartButtonEl.style.display =\n",
              "        google.colab.kernel.accessAllowed ? 'block' : 'none';\n",
              "    })();\n",
              "  </script>\n",
              "</div>\n",
              "\n",
              "  <div id=\"id_893d88f4-a50d-4ca3-beb0-fd53a9915352\">\n",
              "    <style>\n",
              "      .colab-df-generate {\n",
              "        background-color: #E8F0FE;\n",
              "        border: none;\n",
              "        border-radius: 50%;\n",
              "        cursor: pointer;\n",
              "        display: none;\n",
              "        fill: #1967D2;\n",
              "        height: 32px;\n",
              "        padding: 0 0 0 0;\n",
              "        width: 32px;\n",
              "      }\n",
              "\n",
              "      .colab-df-generate:hover {\n",
              "        background-color: #E2EBFA;\n",
              "        box-shadow: 0px 1px 2px rgba(60, 64, 67, 0.3), 0px 1px 3px 1px rgba(60, 64, 67, 0.15);\n",
              "        fill: #174EA6;\n",
              "      }\n",
              "\n",
              "      [theme=dark] .colab-df-generate {\n",
              "        background-color: #3B4455;\n",
              "        fill: #D2E3FC;\n",
              "      }\n",
              "\n",
              "      [theme=dark] .colab-df-generate:hover {\n",
              "        background-color: #434B5C;\n",
              "        box-shadow: 0px 1px 3px 1px rgba(0, 0, 0, 0.15);\n",
              "        filter: drop-shadow(0px 1px 2px rgba(0, 0, 0, 0.3));\n",
              "        fill: #FFFFFF;\n",
              "      }\n",
              "    </style>\n",
              "    <button class=\"colab-df-generate\" onclick=\"generateWithVariable('df')\"\n",
              "            title=\"Generate code using this dataframe.\"\n",
              "            style=\"display:none;\">\n",
              "\n",
              "  <svg xmlns=\"http://www.w3.org/2000/svg\" height=\"24px\"viewBox=\"0 0 24 24\"\n",
              "       width=\"24px\">\n",
              "    <path d=\"M7,19H8.4L18.45,9,17,7.55,7,17.6ZM5,21V16.75L18.45,3.32a2,2,0,0,1,2.83,0l1.4,1.43a1.91,1.91,0,0,1,.58,1.4,1.91,1.91,0,0,1-.58,1.4L9.25,21ZM18.45,9,17,7.55Zm-12,3A5.31,5.31,0,0,0,4.9,8.1,5.31,5.31,0,0,0,1,6.5,5.31,5.31,0,0,0,4.9,4.9,5.31,5.31,0,0,0,6.5,1,5.31,5.31,0,0,0,8.1,4.9,5.31,5.31,0,0,0,12,6.5,5.46,5.46,0,0,0,6.5,12Z\"/>\n",
              "  </svg>\n",
              "    </button>\n",
              "    <script>\n",
              "      (() => {\n",
              "      const buttonEl =\n",
              "        document.querySelector('#id_893d88f4-a50d-4ca3-beb0-fd53a9915352 button.colab-df-generate');\n",
              "      buttonEl.style.display =\n",
              "        google.colab.kernel.accessAllowed ? 'block' : 'none';\n",
              "\n",
              "      buttonEl.onclick = () => {\n",
              "        google.colab.notebook.generateWithVariable('df');\n",
              "      }\n",
              "      })();\n",
              "    </script>\n",
              "  </div>\n",
              "\n",
              "    </div>\n",
              "  </div>\n"
            ],
            "application/vnd.google.colaboratory.intrinsic+json": {
              "type": "dataframe",
              "variable_name": "df",
              "summary": "{\n  \"name\": \"df\",\n  \"rows\": 1000,\n  \"fields\": [\n    {\n      \"column\": \"id\",\n      \"properties\": {\n        \"dtype\": \"number\",\n        \"std\": 341,\n        \"min\": 17283,\n        \"max\": 18465,\n        \"num_unique_values\": 1000,\n        \"samples\": [\n          17904,\n          18166,\n          18169\n        ],\n        \"semantic_type\": \"\",\n        \"description\": \"\"\n      }\n    },\n    {\n      \"column\": \"article\",\n      \"properties\": {\n        \"dtype\": \"string\",\n        \"num_unique_values\": 995,\n        \"samples\": [\n          \"That was fast. Two weeks after her ?America First? fashion statement at the inauguration, Melania Trump emerged last weekend from the relative seclusion of her life in New York to join her husband at     a. k. a. the winter White   golf club in Florida. And as far as her sartorial language went, America was  ?   well, pretty much last. On Friday, greeting the president as he disembarked from Air Force One in Palm Beach, the first lady wore a short red Givenchy cape dress. On Saturday, at a Red Cross ball, she wore a long   gown from Christian Dior (both brands connected, by the way, to LVMH Mo?t Hennessy Louis Vuitton, the French luxury conglomerate led by Bernard Arnault, the only foreign luxury mogul to have made a postelection pilgrimage to Trump Tower). But on Sunday, for a Super Bowl party at Trump International Golf Club, she wore leather pants from the Row, the brand of   Olsen and Ashley Olsen, and a thin knit sweater by Derek Lam, both names at New York Fashion Week. Does it matter? On one hand, Mrs. Trump has been explicit about her desire to eschew, at least for the moment, the Washington spotlight. Perhaps her clothes are a part of that, and thus the point was simply to look elegant and not to bother with more complicated billboarding. If so, she achieved that aim. However, Mrs. Trump has also said that she intends to meaningfully inhabit the role of first lady, and certainly this appearance was part of that goal. The choice of the red dress  ?   which made for a compelling visual next to President Trump?s red tie as the two walked together along the tarmac  ?   was consciously symbolic, according to Stephanie Winston Wolkoff, Mrs. Trump?s senior adviser, who said it was in honor of ?National Wear Red Day, which is to highlight the importance and raise awareness about heart disease. ? So it?s not like they haven?t been thinking this through. Or that they aren?t aware of the symbolic value of dress, especially when it comes to a first lady who prefers to let her clothes do the talking. If so, there is a contradiction implicit in her choices of clothing, given her husband?s promise in his Inaugural Address that ?Buy American? would be a tenet of his administration. But the    dress requirement for first ladies, historically held dear, was largely taken off the table during the Obama administration and transformed into a vehicle for   outreach. It was Mr. Trump who made it an issue again, and in a forum arguably more public, and permanent, than Twitter. When asked about the issue, Ms. Winston Wolkoff emailed the following statement: ?Mrs. Trump is a proud and longtime supporter of American fashion. She appreciates fashion as art. As a former model, she has always been a patron of the world?s most distinguished designers both here and abroad. Mrs. Trump buys from an international mix of brands because that is what reflects her uniquely American life experience and style. She is more excited than ever to make a platform for American designers as she did on one of the most important weeks in history, the Inauguration, showcasing the extraordinary talents of American designers. ? In other words: Buying European is a reflection of the American shopping experience. For anyone who has walked down any main shopping street in a big American city  ?   such as Fifth Avenue in New York, where Mrs. Trump lives  ?   it?s hard to argue with that. Though it also seems like something of a contorted rationale, and one that could be exploited by companies seeking to relocate some factories overseas. That choice is, after all, also a part of the American industrial story. In any case, it?s worth noting that Givenchy and Dior have been playing possum since the weekend, another indication of fashion?s   relationship with Mrs. Trump. Neither fashion house issued the de rigueur news release trumpeting the first lady?s appearance in one of their dresses. Asked whether the brand had worked with the first lady on the red dress, a spokesman for Givenchy said that the company had no comment and that the dress had been purchased from a store, without any interpersonal discussion. (It is for sale on the Neiman Marcus website, among others, for $2, 095.) Dior simply did not respond. As for Mr. Lam, who in November told the fashion magazine WWD, ?I really don?t see myself getting involved with the Trump presidency,? the situation pretty much shows the problem with that stance. After all, the first lady is free to buy his product, whether he wants to get involved or not. Which is another American story, of sorts.\",\n          \"Good morning.  Here?s what you need to know: ? President Trump is expected to order the construction of a Mexican border wall today and slash immigration of refugees from ?terror prone? nations, White House officials said. He pressed automakers to increase jobs in the U. S. but a new forecast of a federal budget deficit that could expand to almost $10 trillion over 10 years could complicate his agenda to cut taxes and ramp up spending. Mr. Trump also revived two pipelines blocked under President Obama: the Keystone XL pipeline, the focus of years of debate over energy needs and climate change and the Dakota Access pipeline, the target of Native American protests. _____ ? And tensions are rising between the U. S. and China. Beijing, after a challenge from a Trump spokesman, insisted it had ?irrefutable? sovereignty over disputed islands in the South China Sea. China sees opportunities to extend its global reach with Mr. Trump in power, but it also sees a threat to its prized goal, stability. _____ ? Israel, discarding diplomatic restraint just a few days into the Trump administration, approved the construction of 2, 500 housing units for Jews in West Bank settlements. A month ago, the Obama administration declined to veto a Security Council resolution condemning the settlements, and last week, a gathering of world leaders warned Israel to stop expanding them. _____ ? The office of Prime Minister Theresa May pledged to stay on its timetable for taking Britain out of the European Union despite a top court ruling requiring the approval of Parliament before the process can begin. Political observers said it was unlikely that legislators, despite being largely opposed to Brexit, would try to block the will of the voters. _____ ? Three months after Prime Minister Narendra Modi abruptly banned 86 percent of India?s currency in a bid to fight ?black money?  ?   hidden reserves that feed corruption  ?   unemployment is spreading, and some people are going without fruit, vegetables and milk. ?This has actually hurt the poor enormously,? one business leader said. Above, a protest over cash shortages last week. _____ ? And this year?s Oscar nominations are out. Voters gave ?La La Land? 14 nominations, a tie for the most in Academy Award history. The academy also honored six black actors  ?   a record. Here is the full list of nominees. _____ ? The Alibaba Group beat estimates with strong   earnings. The results showed how much the   giant  ?   despite a growing global profile and its record I. P. O. on Wall Street  ?   is still dependent on China. ? Silver Lake, an investment firm, is leading a $1. 1 billion investment in Koubei, an   business that is part of what is increasingly known as the    sector, or O2O. ? President Trump?s pick for the Federal Communications Commission, Ajit Pai, an   from Kansas, is expected to roll back rules that ban internet service providers from favoring certain websites and apps. ? Nearly 470 million Chinese citizens used their mobile phones to make payments last year, an increase of 31 percent from 2015, new government data shows. ? Japan releases data on its imports and exports for December. The country?s   economy has been struggling despite government efforts at stimulus. ? South Korea and Taiwan release G. D. P. figures. ? Wall Street was up. Here?s a snapshot of global markets. ? China?s 816 nuclear plant, begun in the 1960s, was one of the country?s most ambitious military projects. Today, the   mountain has been reborn as a tourist attraction. [The New York Times] ? Peter Thiel, the American billionaire, has taken New Zealand citizenship and quietly acquired a sprawling estate on Lake Wanaka. [New Zealand Herald] ? Afghanistan ordered the arrest of nine bodyguards of Gen. Abdul Rashid Dostum, the more senior of the country?s two vice presidents, on accusations of the rape and torture of an Uzbek elder. [The New York Times] ? A wave of smog is forecast to engulf four northern Chinese provinces as the Lunar New Year approaches. [Reuters] ? Talks in Astana, Kazakhstan, may have done more to to firm up Russia?s growing role in diplomacy over Syria than to create any progress toward peace. [The New York Times] ? A proposal to ban the display of Vietnam?s flag on city poles has divided the Vietnamese community of San Jose, Calif. [The Mercury News] ? Gambia?s former president, Yahya Jammeh, didn?t go into exile in Equatorial Guinea  : He left with two   a   and a plane full of luxury items. [The New York Times] ? China?s government has shut down 111 of the country?s 683 golf courses since 2011, citing illegal land or water use. [Xinhua] ? Scientists found the fossils of a huge, nearly    otter that roamed rivers and lakes in southwestern China about 6. 2 million years ago. [Reuters] ? Doing just 12 minutes of yoga can improve your bone health. ? Vacations don?t have to be all about relaxing: Here?s how to plan one with some good deeds along the way. ? Recipe of the day: Try this grilled cheese sandwich featuring mayonnaise for some midweek comfort food. ? In China, members of the Tanka people have survived on southern coastal waterways, and on the margins of society, since ancient times. As big cities spread, their floating way of life is disappearing. ? Genetic research is taking some truly   turns. Ant researchers have identified the molecular and neural cues that help explain social behaviors, including caring for young, breeding  ?   even capturing and   upstarts, like tiny police officers. ? And a pioneering scientist, Maria Sibylla Merian, captivated Europeans 300 years ago with her studies of insects. Now, her findings are being celebrated again. Grandstands filled with cheering fans, perfectly plated vegetables, and your country?s name on the line  ?   this isn?t your typical cooking competition. This is the Bocuse d?Or, or the culinary version of the Olympics. The competition, which takes place this week in Lyon, France, was founded by the master French chef Paul Bocuse. He was influential in establishing nouvelle cuisine, which emphasizes ingredients and presentation. At 90, Mr. Bocuse remains a king among chefs. Long before ?  ? became a trendy concept, a    Bocuse was learning how to butcher a cow for his first restaurant job. He eventually joined his father at their family restaurant, L?Auberge du Pont de Collonges. One year after he took over, the restaurant won a Michelin star. He recalled how early in his career he wowed a prominent food critic with fresh ingredients. Mr. Bocuse served haricots verts picked that morning, lightly boiled and served with olive oil, shallots and salt. In 1966, The Times?s Craig Claiborne described the restaurant outside of Lyon as ?one of the most elegant and proudest restaurants outside of Paris. ? Mr. Bocuse, though, once offered a less refined assessment of his skills. ?Some men have mistresses,? Mr. Bocuse once said. ?I run a luxury restaurant. ? Remy Tumin contributed reporting. _____ Your Morning Briefing is published weekday mornings. What would you like to see here? Contact us at asiabriefing@nytimes. com.\",\n          \"Now that Joaqu\\u00adn Guzm\\u00ffn Loera, the crime lord known as El Chapo, has been extradited from Mexico and has pleaded not guilty in Brooklyn to charges of running the planet?s biggest drug empire, his prosecution will enter a crucial phase  ?   provided, of course, he does not manage to tunnel free from the   jail in Manhattan where he is being held. Two chief questions will define what comes next: Will Mr. Guzm\\u00ffn decide to go to trial? And if he does, what sort of defense will he mount to counter what appears to be a Matterhorn of evidence against him? When Robert L. Capers, the United States attorney in Brooklyn, outlined the government?s case against Mr. Guzm\\u00ffn at a news conference on Friday, he seemed unable to disguise a sly smile of satisfaction. After all, that morning, Mr. Capers?s office had filed a memorandum that set forth in exhaustive detail the cinematic story of Mr. Guzm\\u00ffn?s rise from a teenage marijuana farmer to an international kingpin who armed himself with a diamond encrusted pistol. It further noted that dozens of witnesses were lined up to testify and corroborate what prosecutors described as extensive secret recordings in which Mr. Guzm\\u00ffn discussed drug transactions. Several lawyers who have represented drug lords in the past said that the aggressive tenor of the memo suggested that, at least for now, federal prosecutors were serious about trying Mr. Guzm\\u00ffn and were unlikely to offer him a deal to plead guilty to lesser charges. Mr. Guzm\\u00ffn, moreover, is facing life in prison on a sweeping count of running a continuing criminal enterprise. So there was no real downside, the lawyers said, for him to fight the government?s case. ?The government has made it clear that they?re going full bore with this,? said David O. Markus, who negotiated the 2006 guilty pleas for Gilberto and Miguel Rodr\\u00adguez Orejuela, Colombian brothers who helped found the Cali cartel. ?For El Chapo, if there?s no offer on the table and it?s life if you go to trial and life or near it if you plead guilty, it?s pretty easy  ?   he?ll go to trial. ? Before Mr. Guzm\\u00ffn has to make that decision, however, a number of complicated issues are certain to arise. Given that he has been indicted not only in Brooklyn, but also in six other federal districts, his legal team is likely to question whether he is being prosecuted in the appropriate jurisdiction. They could also attack the manner in which he was sent to New York, some lawyers said, casting doubt on whether he was properly extradited. Then there is the question of his hiring a private lawyer. For the moment, Mr. Guzm\\u00ffn is being represented by two seasoned public defenders, Michael Schneider and Michelle Gelernt. While there is a   narco bar of lawyers, mainly in Florida and Texas, who regularly handle cartel cases, many of them are already representing people who may appear as witnesses at Mr. Guzm\\u00ffn?s trial. Further complicating matters, the federal government has said that it wants to seize $14 billion in profits that Mr. Guzm\\u00ffn was said to have made while running the Sinaloa cartel, leaving his financial situation unclear. ?Many good criminal defense lawyers may shy away from the case not only because of the conduct that?s been charged, but because it?s hard to get paid if the government argues that all his money is   tainted,? said Benjamin Brafman, one of New York City?s top defense lawyers. But if Mr. Guzm\\u00ffn does end up before a jury, Mr. Brafman and other lawyers said that he could borrow a tactic from the manifold Mafia trials that have taken place in Brooklyn and defend himself by attacking the credibility of the government?s witnesses. According to the prosecution?s memo, ?a large coterie of cooperating witnesses?  ?   among them, Colombian cartel members, Mexican couriers and United   distributors  ?   is ready to testify about every aspect of Mr. Guzm\\u00ffn?s organization, including bribes paid to politicians and murders of rival drug dealers and government and law enforcement officials. ?It?s inconceivable to me that these people don?t have baggage of their own,? Mr. Brafman said, ?if, indeed, they were involved in the organization for a long time. ? The case of Vicente Zambada Niebla, the son of Ismael Zambada Garc\\u00ada, who long served as Mr. Guzm\\u00ffn?s top lieutenant in the Sinaloa cartel, offers another possible avenue of defense. Mr. Zambada was arrested by the Mexican authorities in 2009 and extradited to Chicago, where he was poised to stand trial as the cartel?s chief logistics officer for importing drugs into that city. But a few years into the case his lawyers suddenly claimed that he could not be prosecuted in the United States because he had been secretly working as an informant for the Drug Enforcement Administration. Though the government subsequently acknowledged that D. E. A. agents had in fact met with Mr. Zambada, it denied that it had engaged with him in any quid pro quo. Nonetheless, in 2014, the D. E. A. announced that Mr. Zambada would not stand trial because he had pleaded guilty to trafficking charges and was working as a government informant. The possibility that Mr. Guzm\\u00ffn might also become an informant is a complicated one. Some lawyers said that because he was accused in court papers of kidnapping, torture and causing the deaths of thousands of people, it would be hard to imagine the government allowing him to cooperate  ?   unless, perhaps, he had reliable and damning information on   Mexican officials. Others said they found that prospect dubious because of Mr. Guzm\\u00ffn?s reputation as a Robin   hero in his homeland. ?He has this mythic legacy behind him,? said W. Rob Heroy, a lawyer for Carlos Ramon   a Mexican who pleaded guilty in 2014 to producing and distributing heroin in the United States, much of it in and around Charlotte, N. C. ?Maybe the government would want him as an informant, but I just can?t see El Chapo getting done with all of that and then going to work at a Cinnabon in Omaha. ?\"\n        ],\n        \"semantic_type\": \"\",\n        \"description\": \"\"\n      }\n    }\n  ]\n}"
            }
          },
          "metadata": {},
          "execution_count": 183
        }
      ]
    },
    {
      "cell_type": "code",
      "source": [
        "df['article'] = df['article'].str.replace('?', '')"
      ],
      "metadata": {
        "id": "7HLeOmazzx5r"
      },
      "id": "7HLeOmazzx5r",
      "execution_count": null,
      "outputs": []
    },
    {
      "cell_type": "code",
      "source": [
        "# df['article'] = df['article'].str.lower()"
      ],
      "metadata": {
        "id": "0bjums8i0a-F"
      },
      "id": "0bjums8i0a-F",
      "execution_count": null,
      "outputs": []
    },
    {
      "cell_type": "code",
      "source": [
        "# df=df.loc[ :100, :]"
      ],
      "metadata": {
        "id": "Q4-9aNKYN84P"
      },
      "id": "Q4-9aNKYN84P",
      "execution_count": null,
      "outputs": []
    },
    {
      "cell_type": "markdown",
      "source": [
        "## Experiment"
      ],
      "metadata": {
        "id": "bSskOy8gm_My"
      },
      "id": "bSskOy8gm_My"
    },
    {
      "cell_type": "code",
      "source": [
        "import spacy\n",
        "import pandas as pd\n",
        "\n",
        "# Load spaCy model\n",
        "nlp = spacy.load(\"en_core_web_sm\")"
      ],
      "metadata": {
        "id": "HOvmGhggLLYb"
      },
      "id": "HOvmGhggLLYb",
      "execution_count": null,
      "outputs": []
    },
    {
      "cell_type": "code",
      "source": [
        "# Function to extract named entities and build an index\n",
        "def build_index(df):\n",
        "  entity_index = {}\n",
        "  for index, row in df.iterrows():\n",
        "    # Apply the nlp model to the text and store the Doc object in the dictionary\n",
        "    entity_index[row['id']] = list(set(nlp(row['article'].lower()).ents))\n",
        "  return entity_index\n",
        "\n",
        "# Build the index\n",
        "index = build_index(df)\n",
        "\n",
        "# Print the index\n",
        "# print(index)"
      ],
      "metadata": {
        "id": "o0WtBpCc-IQK"
      },
      "id": "o0WtBpCc-IQK",
      "execution_count": null,
      "outputs": []
    },
    {
      "cell_type": "code",
      "source": [
        "print(index)"
      ],
      "metadata": {
        "colab": {
          "base_uri": "https://localhost:8080/"
        },
        "id": "hVyB4Ilfbjfm",
        "outputId": "2311a963-0094-402a-9ebf-f0e4f26665df"
      },
      "id": "hVyB4Ilfbjfm",
      "execution_count": null,
      "outputs": [
        {
          "output_type": "stream",
          "name": "stdout",
          "text": [
            "{17307: [paris, islamic, march, ubelmann, 36, syria, paris, syrian, four days, four, six, ubelmann, ubelmann, one, today, syria, iraq, islamic, ubelmann, paris, jan. 9, 40, several weeks ago, france, the middle eastern, islamist, iraqi, b. c., damascus, christian, ubelmann, syrian, bashar, syrian, the last year, some 20, syria, iraq, islamic, some 3, 000, years, nimrud, november, 2015, nimrud, assyrian, syrian, paris, europe, the middle east, 150, syria, islamic, iraq, syria, yemen, saudi, pascal butterlin, paris, butterlin, more than 20 years, mari, iraq, iraq, syrian, france, syrian, first, 2012, ali, 2014, islamic, ali, paris, french, syria, france, the first half of the 20th century, hollande, this past month, france, $30 million, $100 million, hollande, france, syrian, two], 17292: [bronx, jos, zoraida muiz, puerto rico, jos, vietnam, 14, 29, new york, 1983, 1987, muiz, eight, first, jos jr., 2, six, first, muiz, 50, bronx, muiz, second, jesus, 3, 2007, muiz, muiz, muizs, jos jr., 24, years, the summer, jesus, 22, manhattans, august, about $770, 245, jesus, jos sr., the summer, muiz, new york, one, eight, the new york, first, 600, jesus, maria, december, jos jr., new york, jos sr., zoraida, jos jr., muiz], 17298: [second, new york city, sunday, thousands, nearly a century, manhattan, brooklyn, the first day of 2017, three, betsy morris, 70, first, 96th, noon, decades, one, manhattan, first, 96th, 4, 5, 6, lexington avenue, manhattan, shortly before noon, three, manhattan, more than eight and a half million, 1948, march, the united states, recent years, asia, american, first, new york, washington, boston, washington, second avenue subway, first, the 1920s, first, nearly a decade, about $4. 4 billion, three, 472, manhattans, 2015, sunday, 72nd, sumana harihareswara, south asian, burgundy sari, harihareswara, harihareswara, astoria, new york, harihareswara, decades, second, at least three, the 1970s, 2007, 2013, the end of 2016 many years ago, andrew m. cuomo, democrat, december 2016, new years eve, midnight, cuomo, second, bill de blasio, democrat, saturday, 125th, sunday morning, cuomo, 96th, thomas f. prendergast, first, cuomos, the first day, around 3, about an hour earlier, 86th, jill tallmer, 62, 91, another day, 10 years, tallmer, a few minutes, 72nd, george braith, mosaic, braith, 77, chef daniel boulud, braiths mosaic, braith, ian ma, 15, brooklyn], 17311: [washington, republicans, a tumultuous decade, republicans, senate, the white house, first, 2006, american, america, republicans, senate, house, 115th, tuesday, democrats, american, tom cole, republican, oklahoma, republican, republicans, congress, donald j. trump, republicans, capitol hill, the white house, republicans, congress, republicans, senate, november, democrats, republicans, merrick b. garland, the united states, supreme court, democrats, republican, supreme court, republicans, the contemporary republican party, obama, house, republicans, republican, washington, republicans, senate, democrats, republicans, annual, democrats, democrats, republicans, republicans, recent years, republican, 2006, george w. bush, iraq, republicans, 2010, senate, 2014, eight years, republicans, house, senate, republicans, 1995, first, four decades, republicans, senate, bill clinton, the white house, republicans, trump, house, republicans, democrats, senate, senate, republicans, republican, the white house, republican, congress, cory gardner, republican, colorado, weekly, saturday, americans, tomorrow, today, cole, republicans], 17339: [fox news, daily, daytime, sunday, tuesday, fox news, nbc news, jan. 20, donald j. trump, murdoch, fox newss, 21st century, kelly, more than $20 million, republican, fox news, kellys, trump, second, trumps, sean, van susteren, fox, fox, kelly, nbc, kelly, 46, kelly, nbc, andrew lack, americans, trump, kellys, months, trumps, ailess, kelly, kelly, rupert murdoch, 21st century, her 12 years, fox news, kelly, fox news, many years, the weeks, election day, republican, kelly, kelly, abc news, cnn, nbc news, nbc, one, kellys, lack, douglas brunt, kellys, annual, nbc, fox news, kelly, nbc news, $20 million, fox, the last 15 years, kelly, the wall street journal, $15 million, the final year, lack, nbc news, msnbc, 2015, 14 years, nbc, nightly, brian williams, iraq, msnbc, msnbc, daytime hours, last year, fox news, nbc news, kelly, msnbc, lack, kellys, daytime, monday through friday, sunday nights, 60 minutes, lack, daytime, daytime, a traditional daytime, kelly, kelly, trump, cbs, sunday, last year, kelly, as an hour, kelly, tuesday, the end of that, kelly, friday], 17340: [nbc news, fox news, manhattan, kelly, kelly, 46, the last 10 years, sunday, nbc, kelly, decades, 60 minutes, cbs, kelly, years, donald j. trump, nbc news, one, years, one, tuesday, fox, nbc, kellys, nbc, her past few months, kelly, first, oprah winfrey, barbara walters, charlie, trump, robert shapiro, kellys, daily, daytime, jane pauley, meredith vieira, katie couric, anderson cooper, one, pauleys, nbc, millions of dollars, 2005, just one year, nbc, tuesday, kellys, daytime, like days, steve harvey, daytime, sunday, 60 minutes, brian williams, two seasons, 60 minutes, five weeks, about four million, more than nine million, 60 minutes, two, this season, 60 minutes, more than 14 million, nbc, kellys, the national football league season, sunday, night, 7 p. m. eastern, andrew lack, nbc newss, 60 minutes, cbs, the 1980s, lack, nbc, the 1990s, fox, kellys, fox news, the day, the wall street journal, kelly, tuesday afternoon, kelly, 9 p. m., kelly, greta van susteren, september, kelly, fox news, friday, fox news, tuesday, four, kelly, sandra smith, noon, trish regan, fox business network shannon, the supreme court, martha maccallum, morning, five, trumps, tucker carlson, fox newss 7 p. m. slot, sean, 10 p. m., 2016, election day, an hour, fox, one, kelly, cnn, cnn, 25, 2016, cnn, 58, half, fox, a penny, cnn], 17342: [the last 40 years, ibm, first, the last half decade, nearly a year ago, five, apple, microsoft, alphabet, five, american, last year, 2017, the united states, europe, asia, south america, five, europe, donald j. trumps, five, five, new year, 2017, five, 2016, half, 10, five, the last few years, five, last year, 2016, five, one, five, five, years, five, american, microsoft, the 1990s, america, last year, five, the last year, silicon valley, the federal bureau of investigation, last year, americans, trump, america, the washington post, jeff bezos, trump, bezoss, trump, years, five, the u. s., the federal communications commission, the carlyle group, the obama years, the united states, genachowskis, the f. c. c., tom wheeler, genachowski, two, five, five, five], 17344: [beijing, china, communist party, wednesday, china, panzhihua, sichuan province, chinese, panzhihua, gunmans, chen zhongshu, the city party committee, sichuan, daily, the panzhihua government press office, chen, li jianqin, zhang yan, zhang, 2006, li, last year, chinese, chen, chinese], 17346: [harvard, sarah, 2008, american, americans, trumps, steve bannon, harvard, one, american, about half a century ago, 2004, democrat, howard dean, new york, vermont, 2016, 2016, months, americans, british, united states, jacksonians, the late 19th century, first, the middle of the 20th century, joseph mccarthy, 1955, their day, eight years later, american, 1952, american, c. wright, 1956, millss, republicans, democrats, ohio, california, william f. buckley jr., first, yale, ronald reagan, 1964, republican, barry goldwater, the american revolution, lyndon johnson, middle america, the 1990s, american, christopher lasch, middle america, chris hayes, 2012, 2017, american, the white house], 17284: [bronx, manhattan, new york city, 40th, bronx, september, four, five, this year, 77, 40th, manhattan, new york, this year, bronx, five, nine, 14, manhattans, bronx, 1, 300, this year, one, four, one, two, manhattan, more than one, manhattan, methadone clinics, gunmans, bronx, hispanic, the united states, 911, hours, 911, 12 hours, 40th, gola white, this summer, four years, bronx, this year, 40th, one, new york city, 14, this year, nine, 2015, half, this year, hundreds, 40th, the residue of years, one 911, st., two, the 40th precinct this year, james fernandez, marijuana, fernandez, 40, new york, 40th, 14 this year, 83, 1991, fernandez, three years ago, 11, two, 7, marijuana, fernandez, fernandez, august 2015, second, the same day, fernandez, one, three days later, fernandezs, maria fernandez, 10 days, first, a week later, fernandez, first, 8:50, p. m., one, 911, p. m., 40th, some months later, fernandez, the 1980s, around 6:30, michael j. lopuzzo, 40th, one, one day this summer, 184, bronx, early september, more than a third, 66, 40th, three, 17, 72, 343, michael r. bloomberg, raymond w. kelly, 2012, 40th, 18, 276, that year, 15, 521, one, today, argenis rosado, 2010, 115, alexander avenue, mott haven, 19, last year, one, four, five years, one, 14 to 21, russell lewis, 8 hours 35 minutes, only about two square miles, more than a dozen, methadone clinics, 1, 300, 40th, 25 911, james p. oneill, bronx, 15 years ago, several dozen, last year, brian, last january, oneill, bill de blasio, 911, one, graffiti, this summer, first, years, 40th, manhattan, bronx, brooklyn, three, 16, more than 400, each this year, 300s, 150, four days, a month, 40th, 79, this year, nine, 16, washington, 32, last year, the 40th, 65, bronx, 58, this year, 27, manhattan, 37, brooklyn, 38, 25, manhattan, bronx, 40th, michael palladino, bronx, bronx, 40th, 36, robert k. boyce, 40th, 40th, 2015, only a tenth, 2001, more than a third, the same period, about eight, those years, the squad covering union square, third, about 11, 40th, four, this summer, three, manhattan, manhattan, howard landesberg, 40th, the late 1980s, bronx, brooklyn, 67 percent, manhattan, 76 percent, this year, 54 percent, bronx, 42 percent, 31 percent, brooklyn, last years, 71 percent, manhattan, 63 percent, bronx, 62 percent, 57 percent, 31 percent, brooklyn, manhattan, joseph l. giacalone, bronx, two, the last five years, bronx, bronx, this year, november, bronx, 40th, bronx, d. clark, 2015, bronx, 36 hours, chinese, the months, 40th, 40th, one, this year, 40th, jeff, womans, this year, two, new york city, east 146th, james fernandez, october, fernandez, fed, fernandez, fernandez, fernandezs, fernandez, ruben diaz jr., oct. 20, 2015, 2, months, 40th, 7, jerry osullivan, bronx, fernandez, womans, fernandez, fernandez, two weeks later, two, about $700, one, new york, fernandez, fernandez, about two, 40th, last january, osullivan, fernandez, fernandezs, two, this year, one, fernandez, this summer, three, fernandez], 17300: [nine, emanuel a. m. e. church, charleston, s. c., june 2015, jewish, roof, tuesday, richard m. gergel, dec. 16, only two hours, 33, wednesday, roof, roofs, wednesday, night, second, nine, three, roof, david i. bruck, roofs, bruck, roof, bruck, bruck, one, hundreds, the f. b. i., bruck, november, gergel, roof, brucks request, second, monday, last week, roof, roof, tuesday, bruck, dozens, robert dunham, only one, 10, two, roof, gergel, roofs, bruck, charleston, 10 days earlier, michael t. slager, 2015, joseph a. darby, african, charleston, roof, america, darby, the justice department, two, five, roof, two days, john h. blume, roof, first, 2009, roof, roof, roof, roofs, 2008, the supreme court, indiana, bruck, roof, the 41 years, the supreme court, sixth, faretta v. california, roofs, peter d. greenspun, john a. muhammad, 2002, washington, muhammad, greenspun, 2003, six years later, greenspun], 17302: [monday, baghdad, at least 36, france, iraqi, islamic, 52, hollande, day, islamic, third, three days, baghdad, the past year, sadr city, baghdad, 2003, asaad hashim, 28, hashim, sadr, late last month, iraqi, baghdad, six million, ali abbas, four, monday, at least 20, at least 70, the united states, american, monday, iraq, hollande, abadi, fuad masum, kurdish, french, iraqis, iraqi, islamic, france, 2014, islamic, iraq, syria, france], 17314: [islamic, monday, turkey, years day, at least 39, reina nightclub, eight, monday, two, winter, numan kurtulmus, kurtulmus, islamic, just after midnight, sunday, morning, kurtulmus, the first minutes of 2017, 2017, turkish, monday, kyrgyzstan, asia, the russian news agency, aiymkan kulukeyeva, the foreign ministry, kyrgyzstan, islamic, islamic, christians, islamic, syria, muslims, islamic, just days, the nashir media foundation, islamic, years, jihadist, the last year, islamic, november, turkey, islamic, turkey, years, turkey, jihadist, bashar, syria, turkey, syrian, millions, syrian, turkey, syria, august, kurdish, islamic, turkey, turkish, monday, islamic, syria, at least 22, american, turkey, dec. 22, american, three days, turkish, andrey g. karlov, russian, turkey, syria, 38, 39, sunday, at least two dozen], 17319: [jerusalem, israeli, benjamin netanyahu, three hours, monday evening, netanyahu, netanyahu, the ministry of justice, late monday, netanyahu, 433, avichai, dozens, netanyahu, two, one, netanyahu, israeli, israeli, ronald s. lauder, american, netanyahus, israel, late september, shimon peres, israel, israeli, lauder, helena beilin, lauder, netanyahus, the weekend, monday afternoon, netanyahu, likud party, netanyahu, third, fourth, the united states, israel, daniel b. shapiro, late last month, the obama administration, israel, united nations security council, israeli, west bank, east jerusalem, netanyahu, years, donald j. trump, israeli, netanyahus, late 2019, israeli, nahum barnea, netanyahu, barnea, netanyahu, isaac, the zionist union, israel, herzog, likud, israeli, israeli, netanyahus, ehud olmert, 2008, 2009, february, olmert, first, israeli, netanyahu, olmert, 2008, the 1990s, netanyahus, germany, netanyahus, israeli, german, israel, netanyahu, david shimron, netanyahus, french, last year, netanyahu, 2009], 17323: [7 a. m., 99, six, 737, calgary international airport, cancun, mexico, one, calgary, alberta, miroslav gronych, 37, saturday, two, paul stacey, the calgary police service, ken thrower, the calgary police services traffic, canada, gronych, two, more than 80, 100, stacey, eight hours, toronto, sunwings gate agents, stacey, transport canada, gronych, canada, thursday, janine massey], 17325: [september, one, monday, sunday, monday, sept. 1, 9, florida, about eight minutes, two days later, second, less than a tenth, second, $200 million, africa, the united states, nasa, the national transportation safety board, falcon, 9, nasa, 2018, three, december 2015, 9, 340 degrees, 40 degrees, cnbc, november, calif., tex., 65, 70, a month ago, less than a week later, early january, vandenberg air force base, california, florida, 39a, the kennedy space center, this month], 17336: [jerusalem, israeli, israelis, wednesday, palestinian, west bank, hebron, march, israelis, 50th, the west bank, israeli, hours, benjamin netanyahu, netanyahu, the israel defense forces, the i. d. f., david enoch, hebrew, jerusalem, israeli, palestinians, hebron, israel, jews, avigdor lieberman, wednesdays, first, lieberman, lieberman, wednesday, netanyahus, naftali bennett, israeli, qassem, more than 60 years ago, 49, arab, tel aviv, bay., hundreds, maya heller, one, more than two and a, 19, ilan katz, one, israeli, palestinian, jewish, netanyahu, jewish, up to 32 months, israeli, two, palestinian, israeli, hebron, israeli, sharif, 21, about six minutes later, 11 minutes, sharif, sharif, tom naaman, sharif, sharifs, jan. 15, ahmad tibi, arab, israeli, dozens, palestinians, fifty years, more than one, tibi], 17345: [last year, new york city, the internal police data, the new york times, the last two years, 412, 2016, 560, the year before, dec. 28 of each year, 79, 2016, 129, 2015, 998 by years end, 1, 138, 2015, 335, 352, the year before, new york city, james p. oneill, 1, first, at least the early 1990s, oneill, bill de blasio, brooklyn, wednesday, this year, stephen p. davis, manhattan, david m. kennedy, the john jay college, new york city, zero, new york, chicago, 2016, the year, 762, the new york police department data offers, the departments detective bureau, last year, 29, 2016, 42, the year before, 57, last year, 49, 2015, kennedy, new york, 2016, 73, 50, the year before, last year, dec. 28, 12, three, the year before, 19, 49, about a third, 2 a. m., more than half, 2 a. m. the, five, 2016, two, two, just under a third, last year, 22 percent, forty percent, eight], 17355: [charleston, s. c.     , wednesday, nine, june 2015, roof, one, roof, last month, african, three minutes, roof, roof, charleston, the six weeks, roof, 21, daily, first, nathan s. williams, united states, 10, two, roofs, one, two or four or, five, nine, williams, several days, williams, roof, next week, dec. 15, six days, roof, 33, eighteen, roof, 22, roof, f. b. i. agents, wednesday, first, roof, roof, second, one, roof, wednesday, justice department lawyers, more than 30, at least one, wednesday, clementa c. pinckney, two, jennifer benjamin, pinckney, 15 years, dozens, two, caribbean, first, senate, pinckney, pinckney, the night of june 17, 2015, malana, 6, pinckney, pinckney, pinckney, two, pinckney, roof, united states, julius n. richardson, pinckney, two, kylon middleton, an a. m. e. minister, pinckney, 13, first, pinckney, 49, cynthia hurd, 54, susie jackson, 87, ethel lee, 70, 26, daniel lee, 74, sharonda, 45, myra thompson, 59, the end of the day, thompsons, anthony b. thompson, thompson, evening, hours later, thompson], 17285: [1942, chinese, decades, america, the years, his 90s, wong, friday, 106, later years, the 20th century, wong, chinese, wong, california, first, second, 1932, 1934, the art institute of chicago, matisse, paul klee, the 1930s, the 1960s, the years, warner, 1949, 1955, 1969, dozens, wong, john canemaker, new york university, march, 2013, 2014, wong, san francisco, san francisco bay, more than nine decades earlier, oct. 25, 1910, guangdong province, 1920, the united states, chinese, chinese, 1882, chester a. arthur, chinese, 1906, san francisco, chinese, san francisco, united states, chinese, dec. 30, 1920, a month, angel island immigration station, wong, angel island, the west coast, lisa see, 1995, 2016, angel island, chinese, the united states, nearly a month, half, wong, pamela tom, 2015, every day, jan. 27, 1921, three, sacramento, wong, los angeles, sacramento, two years later, los angeles, two, 50 cents, first, los angeles, 90, at least five years, the 1930s, wong, 1936 to 1938, wong, los angeles, asian, wong, 1938, thousands, asians, wong, disney, warner brothers, one, wong, canemaker, the late 1930s, wong, 1923, austrian, 1937, seven, wong, a. d. 960   1279, two, walt disney, canemaker, wong, 1996, wong, canemaker, wong, two years, 1941, that year, wong, canemaker, wongs, wong, warner, 1942, 1968, ruth kim, a month, wong, japanese, december 1941, wong, american beat, wongs, okubo, tens of thousands, world war ii, today, see, wong, united states, 1946, christmas, sunland, calif, more than 100 feet, california, the last 15 years, ruth, wong, 1995, 2001, wong, fred macmurray, julie andrews, the walt disney company, 2003, the chinese american museum, los angeles, 2015, the museum of chinese in america, manhattan, tom, three, kay fong, kim, two, wong], 17286: [2016, the bleakest year, david bowie, the year, only days old, 69, just two days, about three months later, prince accidentally, minneapolis, 57, rogers nelson, his sixth decade, his 83rd year, the year, george michael, 1980s, later years, 53, christmas, all year, paul kantner, jefferson airplane keith emerson, leon russell, mans, merle haggard, ralph stanley, the early days, george martin, john, paul, george, fifth, the 20th century, the vietnam war, first, gentlemans, one, hockey, saskatchewan, the national hockey league, 52, 88, ralph branca, one, bobby thomson, 1951, national league, pat summitt, eight, 64, months, the national basketball association, two, clyde lovelette, n. b. a., one, first, 86, thurmond, 74, 96, the 1940s, new york, major league, first, antonin scalia, texas, one, supreme court, nancy, 1980s, white house, west coast, potomac, john glenns, tom hayden, daniel berrigan, the 1960s, vietnam, phyllis schlaflys, american, janet reno, first, years, all eight, waco, tex., cuban, eliÿn gonzÿlez, senate, fidel castros, 90, only 90 miles, boutros, egyptian, the united nations, rwanda, bosnia, shimon peres, israel, decades, new york, lee, pat conroy, jim harrison, anita brookner, alvin toffler, gloria naylor, william trevor, peter shaffer, 2016, fisher, just a day later, a year, reynolds, 84, harry potter movies, alan rickman, zsa zsa gabors celebrity, gene wilder, the same year, barney miller, so years ago, jacques rivette, french, abbas kiarostami, iranian, akira kurosawa, poland, first, communists, noel neill, alan young, ed, robert vaughn, u. n. c. l. e. ), william schallert, patty duke, dan haggerty, florence henderson, brady, alan thicke, garry marshall, mindy, 81, brian bedford, tammy grimes, anne jackson, their day, manhattan, overnight, french, the last half of the 20th century, ruth gruber, marc riboud, louis stettner, john mclaughlin, pierre boulez, mose allison, bobby hutcherson, malik taylor, latin, juan gabriel, andrew s. grove, intel, grant tinker, 80s, nbc, astrophysics, tens of thousands, henry j. heimlich, 2016, dutch, jews, the early 1940s, one, nazi, three, 150, a few weeks ago, 96], 17297: [the season, the new year, one, asia, 4 feet, 3 feet, 20, 25, two, 1980s, japan, more than a dozen, 4x4, 36x54, less than $2, about $80, 24x36, 34, 99, tokyo, 8x12, 65, tennessee, tokyo, photobarn, weeks, about 1, 800, 300, 145, irvine, calif, one, 300, 259, 600, 300, an additional $15, 95, the new york times, 37, 12, minneapolis, minn., more than two months, up to 8, 60 cents, 10, 8 gb or, 15, 16, half an hour, each day, google, first, first, 150, thousands, scan], 17306: [carey, new years eve, sunday, careys, dick clarks, years, stella bulochnikov, three, mike, bulochnikov, us weekly magazine, sunday, the f. b. i. to investigate, new years eve, dick clark, sunday night, years eve, robert goldstein, maryland, years, goldstein, carey, sunday, nicole perna, one, carey, the 1990s, five, 34, the years, dick clarks, years, the opening seconds, more than one million, manhattan, carey, 1, abc, carey, one, first, carey, carey, emoji, 2017, abc, sunday], 17308: [90, chris, janet jackson, 90, david fincher, several days, merton park, london, michaels, 1990, 1, five, linda evangelista, christy turlington, cindy crawford, tatjana, six and a half minutes, camilla nickerson, hairdresser, carol brown, john pearson, 90, more than 37 million, michaels, 53 last sunday, this week, naomi campbell, british, peter lindbergh, george in l. a., america, tatjana, the night, five, paris, 76, 3, the morning, george, first, london, david fincher, cindy, the day, the day, london, palau, george michael, david fincher, british, a day, linda, linda, lindas hair, the days, the end of the day, george., tatjana patitz, the day, george michael, the day, l. a. herb, those days, 40s and, those days, first, george, wham, one, first, five, early winter, the day, new york, 90, 80s, john pearson, george michael fan., london, 3, david fincher, all day, linda, one, linda, linda, george, the day, the end of the day, tomorrow, 15, the day, three years, n. y. c., the 90s, linda, linda, george michael, alan hunter, one, v. j. s., a day, mtv, george michaels, george michael, zac posen, 10 years old, 10, george michaels, 80s], 17327: [jonathan lethem, 52, yale university, walt whitman, james baldwin, marilynne robinson, american, 1999, 2003, new york, 1970s, melissa barton, american, barton, manhattan, glenn horowitz, lethems, two, more recent years, lethem, october, lethem, new york, 2010, pomona college, claremont, calif, lethem, alaska, one, ed koch, lethems, lethem, 1979, brooklyn, 42nd street, lethem, philip k. dick novel, lethem, between ages 18 and 23, three, lethem, berkeley, calif, today, about 15 years, about 2 a. m., lethem, lethems, lethem, more than 200, lethem, 1994, 2009, lethems, samuel j. underberg, graffiti, lethem, 1978, 100, dozens, donna tartt, paul auster, suzanne vega, jennifer egan, thomas berger, ursula k. le guin, david bowman, 2012, lethem, david], 17347: [hundreds of thousands, every year, the new york times, this past year, manhattan, one, obama, 10, the year, litman, michelis, eighth, the horace mann school, bronx, november 2015, n. y., michelis, litman, two, first, michelis, oct. 8, first, fall 2011, fallsgraff, obama, 2015, fallsgraff, obama, washington, spring, june, fallsgraff, three months later, obama, fallsgraff, obama, fallsgraff, wilson, fallsgraff, fallsgraff, the united states, fallsgraff, wilson, july 3, june 2015, paris, six months later, purcell, 110, about $119, 2003, 1, 100, roughly $1, 195, purcell, bui, san francisco, the golden gate bridge, purcell, bui, paris, married nov. 26, 2007, new york city, may 2014, meagher, 86th, second, meagher, meagher, one, grossman, jan. 9, august 2014, gentlemans, fogelman, phillips, phillips, fogelman, august 2015, fogelman, phillips, phillips, sept. 4, whelden, boston, two, five, a new years eve, mass, delaney, brooklyn, early 2011, july 2015, bay ridge, their first day, roth, marini, marini, chinese, chinese, roth, marini, marini, roth, marini, aug. 6, march 11, 2005, powell, manhattan, albertson, 23, powell, 20, powell, albertson, may 2014, powell, albertson, march 11, 2015, 10 years to the day, powell, first, one, march 11, turke, february, a full day, an hour, 6 a. m., today, the day, helmling, manhattan, three, later in the day, helmling, washington, new jersey, turke, september 2013, turke, nov. 13, 2008, stucky, somerville, mass., three years, june 2014, mathiowetz, new york, nearly six hours, stucky, stucky, only 24 hours, mathiowetz, january 2015, stucky, mathiowetz, second, portsmouth, n. h. this time, june 11], 17296: [this morning, first, each day, our 20s, decades, years, today, 8, 20s, the last decade, three, 2002, new mexico state university, 266, at least three, each morning, first, 5, three miles, 5, three miles, each morning], 17337: [five minutes every hour, years, all day, more than eight or nine hours, daily, workday, november, the university of colorado, johnson, johnson, johnson  johnson, colorado, 30, three, 30 minutes, the next five and a half hours, third, the six hours, each hour, five minutes, each day, six uninterrupted hours, the day, the start of the day, the other days, the day, early afternoon, all day, the day, jack groppel, johnson, johnson, groppel, 2017, five minutes every hour], 17318: [years, wrap fragile, brooklyn, a year, laura cattano, brooklyn, one, sharon lowenheim, manhattan, lowenheim, manhattan, half the year, lowenheim, lowenheim, 3, lowenheim, roberson, american, roberson, four, lowenheim, the end of the day, roberson, lowenheim], 17360: [canada, 1, years 52, millions of square miles, five, canadian, hong kong, years, six, log loaders, 25, english, carr, three days, a few days, canada, b. c., 1849, 2013, british columbia, 1851, five hours, a little over a year later, november night, two, fourteen years later, a decade ago, 75 percent, first, canada, madeleine thien, grindstone island, kingston, ottawa, the 19th century, summer, charles kingsmill, first, the royal canadian navy, diana, stanford, annual, toronto, kingston, ottawa, today, 80s, one, one, morning, summer, kingston, today, david bearman, first, five years ago, 25 years, a week, this year, burbank, calif., the hawker siddeley hs, 748, 300 miles, paris, three months, canadian, pierre berton, west dawson, almost every day, october, alaska, the next few weeks, first, one morning, november, this time of year, canadian, one, less than 60 miles, american, canada, around west dawson, two, first, second, kim fu, today, hans johann, barbara, german, world war ii, niagara, linda, fourth, seven, sarah nicole, one, four, sarah, london, ontario, two, german, two, summer, avondale, more than three days, sarah nicole prickett, new york, a few years ago, quebec, first, new england, the united states, american, the 19th century, irish, the vietnam war, first, thousand, chemin st., second, quebec, first, quebec, the united states, four, guyana], 17361: [the 12th straight year, annual, 360, 52, 2017, canada, toronto, alberta, canada, americans, 150th, this year, all year, the united states dollar, 360, 360, 360, the new york times, many wet days, one morning, josh haner, a spectacular 45 minutes, hundreds, first, this the year, london, berlin, tokyo, this years, 52, thousands, 52places2017], 17362: [2017, the days, june 28 to july 9, milwaukee, 800, 11, henry maier, michigan, this year, latin, june 16 to 18, monterey, calif., 50 this year, the same weekend, monterey county, 1967, jimi hendrix, this year, three days, nine, 12th, november and december, richard bona, 2016, caribbean, mustique, jan. 18 to feb. 1, the mustique blues festival, nearly two weeks, joe louis, michael kors, past years, austria, vienna, 175th, more than 100, the year, summer night, may 25, viennas schnbrunn palace, four, salzburg, july 21 to aug. 30, russian, anna netrebko, germany, hamburg, january, two, all year, march 19 to 23, gustavo dudamel, montreal, march 11, 24, 375th, 1979, roger waters], 17363: [2017, midyear, florida, miami, west palm beach, 2019, miami, orlando, three hours, four, switzerland, last june, december, 45 minutes, peruvian, two nights, bingham, machu picchu, japan, hokkaido shinkansen, last march, tokyo, just over four hours, this spring, tokyo, 2017, the summer, mediterranean, november, miami, caribbean, march, two, seven to 13 nights, 16, first, june, alaska, 2017, 32 sails, 300, april, mediterranean, eight, french, japanese, france, march, crystal river, june, crystal, august, 106, five, crystal, crystal, 2017, 159, 27 days, aug. 31, canada, 150th, british columbia], 17283: [washington, republicans, billions of dollars, americans, handing house, republicans, millions, republicans, republicans, republicans, the obama health care law,, years, donald j. trumps administration, republican, republicans, capitol hill, at least late february, the united states court of appeals, congress, phillip j. blando, 2015, rosemary m. collyer, house, republicans, congress, the justice department, trump, republicans, last month, jan. 20, 2017, republican, an estimated $13 billion, house, republicans, this month, two, house, republicans, republicans, two, congress, house, republicans, congress, john a. boehner, republicans, the white house, 2010, annual, republicans, collyer, congress, the white house, republicans, white house], 17287: [seoul, south korea, north koreas, kim, sunday, first, less than a month, donald j. trump, north korea, five, the last decade, more than 20, 2016, the united states, annual, years day, kctv, sunday, kim, north korea, the united states, south korea, kim, coming months, the united states, south korea, trump, jan. 20, south korea, dec. 9, north korea, coming months, trumps, years, north korea, kims, the united states, kims, sunday, north korea, this year, south korea, first, trumps, cheong, the first new years, kim, kim, trumps, north korea, recent years, february, south korean, more than 7, 400 miles, 1, 100 to 1, 300 pounds, the united states, north korea, south korea, japan, american, april, north korea, kim, the u. s. mainland, sept. 9, fifth, kim, november, the united nations security council], 17289: [beijing, tsai, taiwan, saturday, beijing, taiwan, taipei, taiwan, china, 1949, december, tsai, american, donald j. trump, recent weeks, china, taiwan, monday, beijing, tom, the west coast, africa, fewer than two dozen, taiwan, taiwanese, tsai, tsai, beijing, taiwan, the united states, taiwan, asia, billions of dollars, two, trump, one, china, washington, beijing, decades, south china sea, bonnie s. glaser, asia, washington, tsais words, american, glaser, tsai, taiwan, the coming months, taiwan, trump, china, tsais, trumps, richard c. bush, east asia, washington, tsai, china, the united states, tsais vision, china, tsai, houston, san francisco, january, the chinese ministry of foreign affairs, thursday, the united states, tsai, taiwan, tsai], 17295: [west palm beach, fla, donald j. trump rang, the new year this weekend, trumps, palm beach, george w. bush, crawford, tex., obama, hawaii, trumps, florida, the past two weeks, new york city, 45th, winter, white house, 1973, trump, less than $10 million, six, trumps, palm beach, jews, first, trumps, november, mickey mouse, all day, jeff greene, democratic, senate, florida, 2010, hillary clinton, manhattan, trump, two, trumps, night, evening, trump, annual, saturday night, trumps, swiss, trump, the years, howie carr, trump, carr, trump, the white house, trumps, two, eric, donald jr., joe, joe, trumps, a little more than $500, trumps, trump, new york, sunday night, trumps, douglas brinkley, last week, chris ruddy, ruddy, carr, laura ingraham, trump, trump, trump, rudolph w. giuliani, mitt romney, rex w. tillerson, exxon mobil, trump, exxon, the department of veteran affairs, trump, new york times, joseph p. kennedy, ireland, isaac perlmutter, trump, trump, robert k. kraft, the new england patriots, trump, melania, trump, trump, one, trump, white house, saturday, jupiter, trump, harry hurt, trump years ago, david h. koch, trump, hurt, hurt, the years, trump, palm beach, night, robin bernstein, nearly 25 years, david, brinkley, maryland, maryland], 17301: [mumbai, india, narendra modi, india, india, midnight, friday, the last day, modis bet, indians, modi, modi, 39, new delhi, 50 percent, chechi, nearly two months, new delhi, indians, recent years, modi, nov. 8, 500, about $8 and $15, the next morning, modi, indians, chechi, americans, donald j. trump, last year, s. prasad, cornell university, india, prasad, new years eve, indians, mohandas k. gandhi, today, mahatma gandhi, modi, gandhi, the centenary year, mahatma, modi, 86 percent, geng xiao, the university of hong kong, first, more than 250, about $3, 670, modis, hundreds of millions, daily, india, modi, indian, indian, new delhi, xiao, modi, 2014, indian, 2014, pant, modi, gujarat, his first two years, modi, modi, 2016, pant, august, seven weeks, nagender tiwari, 42, east delhi, only 60 percent, 1, about $15, daily, two, 11th, kumar bindal, 65, new delhi, the days, about half, new york, modi, the coming months, india, bhalla, the united states, 100, an estimated $20, india, 100, 200, india, pant, modis, pant], 17305: [washington, week 11, sunday night, earlier in the day, the n. f. c. north, first, sixth, third, detroit, pundits, the week, ten, 6, detroit, 3, p. m. eastern, saturday, nbc, earl thomas, the season, three, green bay, 43, 5, 4, 4:40, p. m. eastern, sunday, the n. f. c. east, dallas, giants, atlanta, the n. f. c., 5, six, two, 44, weeks, dallas, atlanta, 5, oakland, 4, houston, texans, 4:35 p. m. eastern, saturday, texans, 37, texans, the n. f. l. s division champions, tom, week 17s, tennessee, carr, week 16, matt, week 17, 2, the a. f. c. to no. 5, rookie connor cook, houston, 6, miami, 3, 1:05, p. m., sunday, cbs, week 14, matt moore, two, three, pittsburgh, 47, weeks, new england, kansas city, four, two n. f. c. playoff, sunday, evening, giants, 5, the n. f. c. all, sunday, the a. f. c., the a. f. c. west, just a week, carr, oakland, denver, kansas, san diego, 2, the a. f. c. which, oakland, last week, houston, next week, matt mcgloin, broncos, the a. f. c. it, weeks, the new england patriots, the a. f. c., miami, dallas, the n. f. c., philadelphia, atlanta, 2, the n. f. c., new orleans, the de facto n. f. c. north, one, the week, dallas, tennessee, san francisco, tampa bay, early in the day, dallas, philadelphia], 17309: [washington, congress, 20 years, tuesday, american, the obama administration, donald j. trump, jan. 20, republicans, congress, supreme court, trumps, mitch mcconnell, kentucky, republicans, the first 100 days, congress, democrats, russian, trumps, saturday, years, republicans, the health care law and, medicare, congress, republicans, republican, years, senate, two, republican, newt gingrich, senate, bob dole, the senate chamber, lott, republican, senate, the years, one, the white house, senate, lott, two, the senate finance committee, trumps, senate, 48, 10, two years, trump, republicans, senate, democrats, chuck schumer, new york, senate, trumps, trumps, patty murray, democrat, washington, democrats, republicans, years, obama, paul d. ryan, wisconsin, late december, one, dozens, trump, one day, congress, only 51, senate, first, 60 legislative days, senate, republicans, the fiscal year, a quarter, republican, obamas, years, senate, trumps, senate, democrats, supreme court, only 51, 60, democratic, trumps, republicans, jeff sessions, alabama, trump, democrats, the senate judiciary committee, california, sessions, january, tom mentzer, one, democrats, mcconnells, last year, supreme court, merrick b. garland, russia, democrats, republicans, trump, the obama administration, last week, russians, this month, republicans, americans, mcconnell], 17312: [istanbul, new years day, at least 39, no fewer than 12, islamic, the syrian war, iraq, baghdad, dozens, iraqi, south koreas, samsung, chois, months, house, republicans, washington, today, congress, 20 years, north koreas, donald j. trump, the weekend, trump, today, russia, the u. s. election, indians, narendra modis, supreme court, modis, janata party, 9, september, sunday, american tech giants, european, the united states, u. s. companies, muslims, the new years holiday, african, the new york times], mogadishu, somalia, at least three, al jazeera], brazil, about 60, the new york times], benjamin netanyahu, israel, the new york times]  pakistan, chinese, tibetan, the new york times], pan pan, nearly a quarter, last week, sichuan province, the new york times]  , first, meteor, the year, asia, the early hours of wednesday, nixon, 1968, the vietnam war, yanan, china, american, 1944, washington, mao zedong, j. r. r. tolkien, 125 years ago, today, 9 p. m., the 20th century, 106, asia, xi jinpings, 55, 43 years ago this week, american, first, 1973, opec cut, the united states, israel, arab, american, 1974, richard m. nixon, american, japan, decades, 1995, bill clinton, texas, 85 m. p. h., 1901, 12 miles per hour, chris stanford, morning, weekday, mornings], 17313: [iraqi, 2003, iraq, united states, american, james n. mattis, donald j. trumps, iraq, ralph dengler, january 2004, arrived hours, british, the iraq war, american, trump, new york, late november, 2, 2 million, trump, trump, november, the united states central command, august 2010 to march 2013, t. g. taylor, america, taylor, the geneva conventions, 1969, the vietnam war, vietnam, american, the united states, 2006, david h. petraeus, senate armed services committee, secret c. i. a. prisons, the years, 2001, americans, the new york times, c. i. a. jails or, american, american, p. o. w.s, vietnam, korea, afghanistan, iraq, american, the c. i. a. s, guantÿnamo bay, cuba, american, senate, 2015, the united states, the geneva conventions, red cross, united states, trump, two, taylor, trumps, trump, american, bush, the united states, donald j. guter, the department of defense, iraq, one, 2003, iraqi, iraq, united states, iraqis, sadoon hatab, days earlier, jessica lynch, hatab, american, one, hatab, 50 minutes of each hour, up to 10 hours, hatab, midnight, june 6, 2003, hatab, hours, hatab, six, eight, william b. gallo, hatab, two, hatabs, marine corps, iraqi, first, first], 17317: [washington, the spring and summer of 2015, afghanistan, american, early august of that year, obama, the national security council, obama, 14 years, billions of dollars, more than 2, american, afghanistan, the united states, a few weeks later, thousands, american, 2008, afghanistan, george w. bushs bad, iraq, american, afghanistan, american, september, obama, donald j. trump, american, afghanistan, 2009, afghanistan, american, american, iraq, syria, libya, obama, illinois, october 2002, iraq, afghanistan, sept. 11, that day, chicagos federal plaza, july 2008, democratic, obama, afghanistan, iraq, obama, bush, iraq, that year, the united states, iraqi, afghanistan, at least two, roughly 10, afghanistan, the united states, close to, 50, american, afghanistan, obama, that summer, taliban, nine, american, taliban, nuristan, mike mullen, obama, more than 100, americans, afghanistan, the end of 2008, prior year, obama, january 2009, afghanistan, pentagon, 17, 000, afghanistan, nearly 70, american, the fall of 2009, taliban, hillary clinton, iraq, as many as 40, 000, american, afghanistan, iraq, the iraq war, r. nasr, afghanistan, pakistan, afghanistan, nasr, johns hopkins school of advanced international, obama, months, 30, 000, afghanistan, july 2011, 20, obama, karl w. eikenberry, afghanistan, 2005, 2007, obamas, kabul, obama, eikenberry, late 2009, afghanistan, al qaeda, afghanistan, eikenberry, a few months, the spring of 2010, david h. petraeus, the university of chicago, kandahar, obama, kandahar, benjamin j. rhodes, first, obama, afghan, the white house, 2010, taliban, afghanistan, august 2010, 100, american, afghanistan, taliban, american, kabul, 2002, 2011, navy, osama bin laden, pakistan, may 2011, midnight, may 1, 2012, afghanistan, hamid karzai, 2014, the united states, afghans, obama, the united states, afghanistan, american, afghan, obama, american, afghanistan, one year ago, afghanistan, osama bin laden, al qaeda, obama, an hour, karzai, two, obama, karzai, afghan, crocker, karzai, washington, obama, the united states, obama, pakistan, israel, rhodes, obama, national security council, that day, august 2015, taliban, kabul, islamic, iraq, the united states, obama, washington, american, afghanistan, the end of 2016, daniel f. feldman, afghanistan, pakistan, 2014, 2015, islamic, american, iraq, obama, afghanistan, isil, iraq, afghanistan, rhodes, obama, afghanistan, ghani, first, obama, afghan, taliban, the united states, august, american, joseph r. biden jr., afghanistan, 2009, the united states, tomorrow, 10 years from now, martin e. dempsey, the united states, kabul, 10, obama, afghanistan, asia, north africa, obama, 2014, the united states, west point, n. y., america, afghanistan, one, 10 years, obama, september, american, fewer than 10, more than 100, afghan, america, afghanistan, one, obama, afghanistan, the united states, warsaw, july, obama, american], 17321: [paris, french, 2017, some quarters, hours, hours, myriam el khomri, labor, last year, the new year, french, more than 50, days, half, each evening, the 10 hours, between 9 p. m., 7 a. m., the 12 hours, between 7 p. m., a. m., catholic, france, french, france, ireland, italy, french, recent years, 27 to 28 percent, at least two, french, sunday, nine years ago, 2019, french, french, 100 percent, french, more than 8 percent, more than 50 percent, french, america, france], 17328: [2007, rey canunayon, the united states, years, new york city, canunayon, america, canunayon, canunayons, new jersey, canunayon, canunayon, 46, one, 49, october 2015, canunayon, god, canunayon, st., adalbert roman catholic church, filipino, one, 600, september, canunayon, one, catholic, brooklyn, filipino, that day, hankins, one, eight, the new york times neediest, 641, 45, canunayon], 17330: [washington, republicans, capitol hill, donald j. trump, noon, the day, house, republicans, tuesday, midmorning, trump, republican, kevin mccarthy, california, paul d. ryan, republicans, two, minutes later, less than 24 hours, house, republicans, 2008, three, washington, republican, senate, house, republicans, robert w. goodlatte, virginia, monday, congress millions of dollars, steve king, republican, iowa, tuesday, tuesday morning, thousands, republicans, monday night, tuesday, morning, google, mark sanford, republican, south carolina, south carolina, trump, washington, ryan, mccarthy, monday, new mexico, first, tuesday, morning, ryan, mccarthy, mccarthy, ryan, republicans, congress, tuesday, about an hour later, congress, mccarthy, republicans, one, first, democrats, republicans, 2011, melvin watt, north carolina, democrat, congress, 40 percent, the house ethics committee, 2015, nine, azerbaijan, 2013, house, 90 days, recent years, 21, 68, 2009, this week, republican, north carolina, roger williams, republican, texas, markwayne mullin, republican, oklahoma, cathy mcmorris, republican, washington, bobby l. rush, democrat, illinois, luis v. gutirrez, democrat, illinois, tuesday, house, republicans, this summer, goodlatte, the house judiciary committee, goodlattes, house, republicans, congress, washington], 17332: [washington, congress, washington, tuesday, senate, a day, congress, paul d. ryan, donald j. trump, republican, republicans, washington, congress, the white house, trump, republican, democrats, mitch mcconnell, kentucky, the spring, years, tuesday, senate, jan. 27, senate, wednesday, white house, wednesday, obama, democrats, mike pence, republicans, gird, senate, republicans, house, republicans, monday, democrats, republican, texas, tuesday, morning, republicans, senate, ryan, today, ryan, 2, 500, democrats, overnight, last june, senate, joseph r. biden jr., seven, last year, senate, dick cheney, chuck schumer, new york, democratic, republicans, trumps, american, congress, america, tuesday, tuesday, senate, republicans, republicans, weeks, four, two, two, jan. 27, republicans, the obama administration, some 20 million, republicans, republicans, 2010, republicans, americans, mike enzi, republican, the senate budget committee, the american medical association urged, congress, tuesday, american, james l. madara, nancy pelosi, california, 2010, this week, democrats, republicans, several years, pelosi, republicans, democrats, trumps, california, democrat, the judiciary committee, charles e. grassley, iowa, first, next week, jeff, alabama, trump], 17333: [washington, donald j. trump, tuesday, washington, trump, china, mexico, trump, american, tuesday, morning, mexico, chevrolet, hours later, trump, ford, flat rock, mich, robert lighthizer, the united states, trumps, trumps, america, republicans, trumps, democrats, trump, nine, democrats, tuesday, the a. f. l. ., i. o. president, richard trumka, north american, mexico, canada, trumka, republican, first, trump, lighthizer, the united states, recent decades, american, lighthizer, the last few decades, american steel, trump, one, senate, americans, trump, republicans, trump, orrin hatch, utah, the senate finance committee, lighthizers, tuesday, hatch, trump, peter navarro, china, white house, trump, wilbur ross, lighthizer, u. s. t. r., alan wolff, american, lighthizer, nearly 20 years, lighthizers, wilbur ross, trump, gary d. cohn, the national economic council rex w. tillerson, exxon mobil, terry branstad, iowa, trumps, china, republicans, scott lincicome, trump, several decades, american, trumka, trumps, china, china, lincicome, china, trump, three years, trump, general motors, mexican, tuesday, u. s. a. or, 2015, coahuila, mexico, american, mexico, the united states, tuesday, ford, michigan, mexico, congress, lighthizer, united states, the ronald reagan administration, japan, american, trump, china, reagan, early hours, japanese, first, china, recent years, american, lighthizer, 2008, john mccain, republican, arizona], 17334: [donald j. trump, united states, mike, omarosa manigault, trump, republican, friday, the white house, friday, the republican party, assange, american, iraq, american, london, trump, assange, assange, fox news, tuesday night, sean, one, trumps, russians, the democratic national committee, hillary clintons, john podesta, trump, wednesday, thursday, two, russian, 100 percent, assange, russian, assange, russian, assange, hannity, two, 2, 0, american, russian, american, the d. n. c., russian, congress, russia, thursday, trump, new york, friday, john mccain, arizona, the senate armed services committee, first, thursday, trump, cnn, donna brazile, podesta, flint, mich., clinton, bernie sanders, vermont, brazile, cnn, mike, trumps, capitol hill, wednesday, united states, trump, american, pence, republican, trumps, republicans, wednesday morning, paul d. ryan, assange, russia, ryan, trump, russia, russia, manigault, trumps, the white house office of public liaison, one, wednesday, bill stepien, chris, new jersey, white house, trumps, john destefano, house, john a. boehner, george gigicos, trump, manigault, manigault, trump, trump, wednesday, joe hagin, 14 years, the white house, roanld reagan, george bush, george w. bush, rick, 25 years, capitol hill, congress, katie walsh, the republican national committee under reince priebus, trumps, the white house, priebus, three, kellyanne conway, trump, walsh, first, trump, russian, american, new years eve, tuesday, wednesday, americans, trump, friday, new york, republican, first, russia, obama, capitol hill, wednesday, mike, republicans, first, pence, trump, republican, democrats, 20 million, tens of millions, chuck schumer, new york, republicans, americans, medicare, medicaid, schumer, republicans, nancy, california, republicans, jay clayton, the securities and exchange commission, trump, july 27, vladimir v. putin, russia, calif, next wednesday, last month], 17335: [los angeles, four years, donald j. trump, democratic, california, wednesday, eric h. holder jr., republican, white house, holder, washington, the next four years, washington, hillary clinton, democratic, trump, more than four million, the united states, california, kevin de len, democratic, senate, de len, california, washington, washington, california, democrats, holder, trump, de len, trumps, the past year, california, trump, de len, democratic, anthony rendon, jerry browns, last month, kamala d. harris, united states, senate, becerra one, brown, the democratic party, senate, california, democrat, holder, obamas, 2009 to 2015, first, washington, holder, holder, the coming years, de len, the billions of dollars, california], 17349: [washington, congress, wednesday, republicans, capitol hill, republicans, wednesday, mike pence, republicans, democrats, millions, medicaid, republicans, american, pence, donald j. trump, democrats, chuck schumer, new york, democratic, trumps, republicans, democrats, senate, 51 to 48, wednesday, senate, first, republicans, senate, several days, senate, republicans, about 20 million, trump, republicans, dems, trump, the health care law, chris collins, new york, republican, one, trumps, congress, democrats, republicans, america, collins, donald trumps, republicans, millions, republican, texas, john cornyn, texas, 2, senate, republican, six years, cornyn, debbie stabenow, democrat, michigan, first, democrats, republicans, schumer, a year, republicans, democrats, republicans, first, schumer, schumer, trump, paul d., 2017, obama, democrats, about 90 minutes, the white house, republicans, congress, hank johnson, democrat, georgia, congress, democratic, johnson, obama, democrats, republicans, the years, jeff merkley, democrat, oregon, american], 17350: [washington, republicans, the past 35 years, congress, congress, q., process a., congress, medicare, medicaid, senate, 1974, congress, congress, congress, q., 1980, congress, 24, twenty, four, 1981, reagan, medicare, medicaid, 1996, congress, six decades, republicans, bill clinton, congress, 1997, the same day in 1997, clinton, bush, george w. bush, 2001, 2003, congress, congress, obama, 2010, republicans, congress, obama, january 2016, republicans, this year, donald j. trump, the senate a., senate, one, senate, 20 hours, senate, senate, robert c. byrd, democrat, west virginia, senate, senate, republicans, tens of billions of dollars, each year, medicaid, republicans, obama, last january, the age of 26, democrats, obama], 17352: [washington, congress, the very first day, house, republicans, washington, congress, tuesday, first, republican, house, republicans, donald j. trump, republicans, republicans, trump, day 1, walter b. jones, republican, north carolina, republican, monday night, trump, republicans, house, republicans, paul d. ryan, kevin mccarthy, california, house, republicans, trumps, republicans, trumps, republicans, capitol hill, ryan, mccarthy, house, republicans, capitol hill, the white house, ryan, ryan, trumps, ryan, later this year, 2008, nancy pelosi, california, democrat, republicans, democrats, democrats, republicans, 2005, tom, democrats, democrats, the next year, republicans, john feehery, republican, one, trump, congress, trump, congress, washington, congress, jones, house, republicans], 17353: [washington, washington, two, wednesday, russia, russian, trump, jared kushner, donald j. trump, 5, 5 million, december, dan k. rapoport, trumps, first, washingtonian, kushner, trumps, william f. x. moody, washington, first, washington, tony podesta, the podesta group, washington, podesta, obama, the white house, podesta, trump, kushner, three, the white house, trump, kushner, belmont, belmont, obama, trump, wednesday, afternoon, john damgard, 1971, democrats, damgard, several decades, zlotnick kraft, washington, rapoport, riga, latvia, the united states, france, russia, vladimir ashurkov, aleksei a. navalny, russian, russian, vladimir v. putin, rapoport, moscow, one, navalny, 2010, washington, kiev, ukraine, ashurkov, trump, kushner, less than two miles, the white house], 17354: [walter j. clayton, america, the securities and exchange commission, two, clayton, 2008, 2007, $25 billion, china, 2013, clayton, mary jo white, kenneth d. lewis, bank of america, laura s. unger, the s. e. c., claytons, sullivan  cromwell, clayton, more than a century, clayton, $5 billion, warren e. buffetts, claytons, the s. e. c. nomination, 2, gary d. cohn, donald j. trump, steven t. mnuchin, treasury, trumps, stephen k. bannon, trump, trump, clayton, dec. 22, clayton, rodgin cohen, 2009, cohen, trumps, sherrod brown, democrat, ohio, clayton, the s. e. c. oversees, one, claytons, chinese, the s. e. c. over, clayton, 1, 2 billion, a decade ago, more than $100 million, african, $400 million, september, 2011, u. s. regulated companies, the u. s. capital markets, clayton, the new york city bar association committee, clayton, sullivan  cromwell, the s. e. c. hes a, richard truesdell, davis, clayton, today, the securities and exchange commission, trumps, harvey pitt, the s. e. c., george w. bush, clayton, pitt, claytons, clayton, the university of pennsylvania, the university of cambridge, the university of pennsylvania law school, clayton, mitt romney, obama, 2015, clayton, cohen, sullivan  cromwell, brad whitman, morgan stanley, clayton, many years], 17356: [turkish, the united states, last summer, russian, turkey, last month, the turkish press, the united states, early on new years day, dozens, the united states, america, one, reina attack, cia, turkey, the syrian civil war, nato, washington, moscow, russian, vladimir v. putin, syria, one, the turkish press, american, turkey, the united states, islamic, american, the united states, the united states, turkish, the united states, islamic, kurdish, muslim, erdogan, turkish, the united states, donald j. trump, this week, the united states, kurdish, syria, islamic, turkey, yildirim, wednesday, united states, istanbul, this week, first, turkey, americans, night, aydin engin, daily, last year, metro, the days, santa claus, the wall street journal, islamic, istanbul, 1980, today, spanish, luis buuel, erdogan, about half, turkey, erdogan, the washington institute for near east, three months, last summer, erdogans, tens of thousands, gulen, pennsylvania, erdogan, wednesday, first, sunday morning, daily, erdogan, islamist, islamist, turkish, years, 79 million, erdogan, erdogan, this week, world war, today, turkey], 17358: [beirut, lebanon, millions, damascus, syria, nearly two weeks, syrian, hundreds of thousands, about half, 22 million, jihadist, russia, turkey, last week, bashar, assad, dec. 22, the spring, the spring, first, jens laerke, the united nations humanitarian office, geneva, tuesday, 5, 5 million, damascus, the barada valley, hezbollah, syrian, britain, syria, 15, monday, syrian, wednesday, astana, kazakhstan, jan. 23, damascus, winter, syrian, the united nations, 120, laerke, 10 days, one, 10 days, two, damascus, damascus, syrian, russian, last month, united nations, the united nations, syria, wednesday, malik, more than 100, four million, 1. 5 million, roughly 400, syrians, thousands, malik], 17364: [the end of the year, this year, a week, two, a few more days, stephen karams, last seasons, jan. 15, sunday, first, august, the 1970s, 1979, the hill district, pittsburgh, manhattan, jan. 19, samuel j. friedman theater., blanchett, platonov, the past decade, new york, russia, the 19th century, russia, the late 20th century, andrew upton, blanchetts, australian, richard roxburgh, platonov, sunday, first, burton lane, e. y. harburg, a dozen years ago, sharon, errico, charlotte moore, jan. 29, irish, 122s, january, this year, 600, fourth, martin, first, irish, marie mullen, the brooklyn academy, jan. 11], 17365: [andrew m. cuomo, new york, wednesday, la guardia airport, new york, citys other airport, john f. kennedy, cuomo, more than $10 billion, j. f. k., la guardia, cuomo, new york, manhattan, j. f. k. and, la guardia, second, sunday, cuomo, new york, cuomo, wednesday, new york, new jersey, la guardia, j. f. k., thursday, $30 billion, only about $1 billion, j. f. k., cuomo, 2015, j. f. k., john j. degnan, tuesday, degnan, wednesday, degnan, chris, new jersey, republican, cuomo, democrat, manhattan, newark liberty international airport, cuomo, 2, 5 billion, the new york, new york, la guardia, cuomos, $7 billion, j. f. k. kennedy, 5, 2008, delta air lines, more than $1 billion, the recent years, 2, la guardia, $600 million, about $4 billion, $4 billion, last year, cuomo, j. f. k. to, wednesday, cuomo, donald j. trump, cuomos, j. f. k. matthew driscoll, new york, as much as $2 billion, the van wyck expressway, driscoll, 250, 000, thomas f. prendergast, manhattan, j. f. k. travelers, prendergast, new york city, j. f., city hall, cuomos, new york, melissa grace, bill de blasio, j. f. k., the months], 17294: [one, donald j. trump, trumps, nova, about 30 miles, houston, one, 90 percent, 240 megawatts, 700 megawatts, 1, 6 million tons, 3, 5 billion miles, 214, 338, a tower hundreds, nova, petra nova, nova, petra nova, 81 miles, 15, about 300 barrels, a quarter, $190 million, about $50, david knox, january, knox, more than $1 billion, the obama administration, nova, 20 percent, nova, have c. c. s. the chance, julio friedmann, california, have c. c. s. the chance, david mohler, clean coal and carbon management, the federal energy department, mark brownstein, the environmental defense fund, heidi heitkamp, trump, last month, heitkamp, democrat, sheldon whitehouse, rhode island, one, trumps, heitkamp, decades, today, jeff erikson, one, 50 miles, nova, la porte, tex., $140 million, 50 megawatt, british, rodney allam, zero, bill brown, fatima maria ahmad, 8, toshiba, the united states, trump, a republican congress, the united states, daniel mccarthy, john coequyt, sierra club, fig, the billions of dollars, first], 17303: [sydney, annual, the height of summer, monday, 21, anthony boxshall, boxshall, summer, 86, the day, sam riley, two, the summer, boxshall, between 24 and 48 hours], 17331: [congress, today, obama, democrats, mike, first day, republican, monday, donald j. trump, trumps, republicans, robert lighthizer, trumps, america, republicans, democrats, tuesday, trump, mexico, hours later, ford, michigan, mexico, democratic, california, eric h. holder jr., the white house, turkish, at least 39, last weekend, netanyahu, benjamin netanyahu, israel, israeli, today, palestinian, one, this week, b. j. miller, nbc, fox news, daytime, sunday, kelly, india, english, indian, the u. s., two, the u. s., europe, chinese, about $1, 025, 140 percent, more than a year ago, u. s. stocks, tuesday, mich., 360, john colone, 72, adiga, 2008, irish, 30 years, weeks, the day, the new year, british, this month, second, first, the u. s. louisa adams, john quincy, 1825, first, london, 1775, english, american, american, 1795, 1797, the u. s., 1801, john adams, state, congress, the white house, 1852, washington, hassan, morning, 6 a. m. eastern, all morning], 17326: [manhattan, one, several miles, bronx, s. a. r., american, israeli, two, new york city, jewish, the late 1970s, recent years, as many as 1, jewish, 22, 18, 15, 12, the spring season, four, goalies, zizit, summer, one, jersey yeshivas, between long hours, friday, season, late october through march, last month, livingston, n. j. a, jared kushner, donald j. trump, kushner, paramus, n. j., three, 12 minutes, manhattans, one, israeli, one night, last month, r. t. m. a., elizabeth, n. j., brooklyn, david yeshivah, the next day, stone, five, hundreds, david kolb, summer, pennsylvania, two, five, the hebrew, five, the d. r. s. yeshiva high, 2014, hebrew, years, seth gordon, sixth, gordon, jewish, jewish, gavarin, the 1990s, yeshiva university high school to, 65, the late 1970s, two, nick fotiu, 1979, the years, god, jordan, a recent weeknight, the s. a. r. team, kolbs, two, gordie, falkenstein, summer day, n. y., bronx, first, second, falkenstein, gordie, the s. a. r. stings, s. a. r. wound, falkenstein], 17341: [china, 48, china, 2, 800, nearly every day, wang kai, three years, morning, spanish, chinese, portuguese, china, 1, xi jinping, china, the last two weeks, chinese, europe, south america, as much as $40 million, chinese, $105 million, last week, antonio conte, chinese, last month, china, chinese, 2015, the last two years, tens of thousands, tens of thousands, chinese, tens of millions, chinese, hundreds of millions of dollars, european, simon chadwick, the university of salford, britain, daily, the communist party, last month, chinese, one, cameron wilson, scottish, shanghai, china, 83rd, fifa, the faroe islands, fewer than 50, 2018, chinese, past decades, 1999, xu yun, 16, beijing, henan province, decades, years, 2009, wilson, david beckham, ireland, 2012, september, beijing, xi, last year, 16, chinese, super league, about $300 million, english, nearly $120 million, fifa, 2017, 50, 2025, 5, 2015, 70, the end of 2020, under 11, 50 million, chinese, 30 million, dai wei, r., dai, china, an early age, liu jiangnan, 2012, seven or eight years, half, the chinese national squad, up to about $8, 700, 24, spanish, 90 minutes, european, south american, sergio zarco diaz, spanish, year, year, zhang lu, chinese, zhang, beijing, the 1980s and 1990s, zhang, a recent afternoon, beijing, this morning, lin yanling, midday], 17291: [hillary kerr, los angeles, five years ago, these days, german, andy warhol, jonathan leahy, 38, december, night, 2011, 4100, los angeles, kerr, leahy, lena dunham, kerr, leahy, leahy, almost a year, leahy, kerr, leahy, laconia, n. h. graduated, william, williamsburg, va, 2000, los angeles, later that year, tom wolfe, leahy, kerr, san diego, the university of southern california, 2000, new york, elle, 2005, the west coast, los angeles, katherine power, 13 million, monthly, kerr, power, nine months, leahy, kerr, kerr, leahy, kerr, a few months later, leahy, ben schneider, leahy, kerr, leahy, kerr, months, kerr, new york, leahy, john newman, kerr, kerr, leahy, kerr, kerr, kerr, leahy, leahy, kerr, kerr, leahy, christmas, minneapolis, leahys favorite tom, hillary kerr, early 2014, leahy, jack antonoff, dunhams, dunham, kerr, kerr, leahy, first, that night, kauai, hawaii, jan. 1, 2016, dec. 10, 125, palm springs, calif, 1936, al wertheimer, ronald reagan, kirk douglas, zsa zsa gabor, kerr, four, leahy, kerr, just minutes, kerrs, jen atkin, joey maalouf, hundreds of thousands, #imwithkerr and, eva chen, kerr, hillary, ray, first, leahy, several hours, a d. j., hawaiian, leahy, first, dec. 10, 2016, palm springs, calif., new hampshire, leahy, marie leahy, leahys, catholic, kerrs, john, marshall goldsmith, kerr, mary oliver, 2015, catholic, lesbian, kerr], 17366: [the morning of may 18, 2014, election day, first, one, google, pan allies, 1, mexico, rafael moreno valle, one, mexican, 2010, rafael micalco, 2014, 2018, this past september, two, gustavo madero, maderos campaign, mexican, election day, all morning, 40, the day before, madero, 57 percent, 162, 792, roughly 74 percent, another year, italian, one, american, roughly 120, each passing year, nearly two years later, john podesta, hillary clintons, ukraine, one, the south pacific, one, first, years, 2009, british, 2014, sony, american, north korean, hundredth, second, the white house, c. i. a. and f. b. i., clinton, russian, more than a dozen, german, trovicor, the united states, joel brenner, bashar, abdel fattah, fewer than 50, r. c. s., as little as $200, the n. s. a. s   , the r. c. s. acquires, the united states, at least two, the f. b. i. beginning, 2011, 2012, the f. b. i. contract, more than $700, the d. e. a., colombia, ethiopia, morocco, egypt, saudi arabia, turkey, between 2012 and 2014, nearly one million, the f. s. b. one, russia, between 2012 and 2014, 451, at least one, david vincenzetti, mexican, one, american, eric rabe, russia, 2014, russia, the h. t. contract., july 2015, 420, 33, earth, one, pdf, one, p4ssword, passw0rd, south korea, one, ecuador, seven, the r. c. s. three, fourth, quito, four, the end of the year, eric rabe, american, philadelphia, a couple of months later, alessandro scarafile, three, two, three, the r. c. s., microsoft, fourth, one, the r. c. s. through, the r. c. s. discreetly, third, jimmy page, jimmy pages dell, harry potter, keyser, one, david vincenzetti, r. c. s. captured, r. c. s., one, hell week, the south china sea, iran, iran, 48, morocco, the morning, two, 64, one, the university of milan, the 90s, his senior year, these early days, three, 2003, italian, italy, 2004, madrid, italy, europe, singapore, first, 2008, 2011, arab, two, muammar  s, libyan, the united nations, nineteen, italian, egyptian, the r. c. s. to, giulio regeni, italian, egypt, last year, egyptian, italian, several months, the european union, italian, egypt, latin american, italian, i. e. a, italian, the university of torontos munk school of global affairs, morocco, the united arab emirates, alexandria, va, ronald deibert, a week, ethiopia, o. k. so am i. so, china, iran, luis fernando garc­a, 2014, hong kong, london, amsterdam, atlanta, mexico, three, one, jalisco, nearly half a million, the mexican press, lado bs, ernesto aroche, six years, 2013, aroche, fernando maldonado, 400, mexican, one, mexican, aroche, 2015, lado, at least 47, aroche, more than a year later, this fall], 17367: [one, more than a fifth, american, american, two, the bureau of labor, 2014 to 2024, 70 percent, 50 percent, 96 percent, 98 percent, about 90 percent, david autor, m. i. t. i, 53, st. clair, mo., china, mexico, womans, 10, 50 an hour, dawson, 18, dawson, autor, one, andrew cherlin, johns hopkins, america, joan williams, u. c. hastings, donald j. trump, lawrence katz, harvard, jon ray, 31, a year ago, janette dill, the university of akron, dill, april, 10 percent, 22 percent, 3, 3, 1, 8, dawson, one], 17368: [apple, chinese, the new york times, china, late last month, one, china, 2012, wen jiabao, recent months, apple, apps, china, dec. 23, apps, the wall street journal, the new york times app, china, the new york times app, china, sainz, china, beijing, chinese, new york, eileen murphy, chinese, china, the new york times of that country, murphy, june 2016, apps, apps, communist party, china, one, chinese, china, beijing, timothy d. cook, early 2016, the united states, cook, farzana aslam, the university of hong kong, china, aslam, the weeks, chinese, one, dec. 29, the billions of dollars, chinese, china, dec. 23, david barboza, barboza, foxconn, chinese, later that day, murphy, dec. 22, chinese, hong kong, taiwan, china, china, chinese, 2012, china, july 2015, china, china, 2012, chinese, china, april, just six months, mark natkin, marbridge consulting, american, china, chinese, natkin, apple, chinese], 17369: [washington, federal reserve, donald j. trumps, the next several years, trump, fed, fed, fed, fed, michael gapen, wednesday, december, fed, second, 2008, fed, last year, wednesday, trump, fed, recent months, james marple, fed, janet l. yellen, december, three, this year, trump, congress, the feds   committee, 17, 10, fed, two percent, yellen, fed, fed, fed, fed, 0, 5 percent, 0, 75 percent, last month, 2017, alan maceachin, navy federal credit union, 1, monthly, 5, december, trumps, the next several years, american, fed, trumps, the minutes, john williams, the federal reserve bank, san francisco, the western united states, just 4, 6 percent, november], 17370: [rajiv j. shah, the rockefeller foundation, about six months ago, shah, the united states, thursday, the rockefeller foundation, one, shah, judith rodin, 12 years, shah, roughly $200 million, each year, shah, 43, first, rockefeller, recent years, 1913, john d. rockefeller, more than $17 billion, first, the american red cross, recent years, 100, 100, hamilton, rodin, africa, shah, the university of pennsylvania, shah, melinda, nearly a decade, 2009 to 2015, u. s. a. i. d., 2010, haiti, 2014, west africa, shah, rodin, the rockefeller foundation, this week, tens of thousands, millions, rodin, shah, years, the rockefeller foundation board, 2015, rodin, this week, his years, rodin, shah, u. s. a. i. d., one, rockefeller, rodin, richard parsons, the rockefeller foundation board, shah, hundreds, parsons, shah, american, today, 10 or 15 years ago, the rockefeller foundation, rodins, clinton, shah, republicans, senate, shah, $200 million], 17371: [wednesday, more than 150, one, kidapawan city, peter bungat, muslim, bungat, five, 158, north cotabato district, xavier solda, the philippine bureau of jail management, manila, one, bungat, early wednesday, bungat, at least a dozen, bungat, derbie, moro islamic liberation, derbie, derbie, islamic, abu misry, ernesto abella, rodrigo, three, north cotabato district, last august, eight years ago, three], 17374: [fla, two, walt disney, $1 billion, millions, john padgett, 2014, 18 years, more than 100, 10, thursday, las vegas, arnold w. donald, this year, donald, the hundreds of millions of dollars, donald, donald, the most recent quarter, a record $1. 4 billion, 17 percent, the same period a year earlier, about 24, 2 million, 2016, about 2 percent, david beckel, one, beckel, three, recent months, abc, nbc, one, josh garcia, rico, at least 80, robin m. farley, thursday, roughly 7, brooks, padgett, michael g. jungen, 2015, 15 years, miami, one, 2013, padgett, jungen, padgett], 17376: [tuesday, more than $23, 2 million, only $1, more than $200, 13, 93 million, $3 million, 3, 8 million, 2, 5 million, july 2011, equifax, between july 2011 and march 2014, chicago, atlanta, david blumberg, 2015, 31], 17378: [london, more than 104 years ago, more than 1, 500, one, as long as three weeks, new york, southampton, england, 4, britain, new years day, senan molony, irish, more than 30 years, one, the united states, smithsonian, january 21, molonys, southwest england, more than a century, about four years ago, molonys, belfast, two, molony, london, molony, richard de kerbrech, two, british, 1912, de kerbrech, molony, april 15, 1912, german, egyptian, mummy, china, molony, 12, 1955, two hours, 40 minutes, irish, daily, molony, irish, hundreds, irish, molony, fed, david hill, british, the 1950s, midnight, april 14, 1912], 17379: [jpmorgan chase, last summer, 1, 500, 4, the first three months, half, jan. 12, the last day, march 12, ashley e. dodd, $200 million to $300 million, 450, annual, 300, each year, three, first, a few years], 17381: [broadway rang, 2016, 33, last week, 49, 7 million, the   week, the   week, 359, 495, the best week, chicago, more than a century ago, 911, 1903, 17, 3, 3 million, hamilton, 24, more than $1 million, last week, seven, more than $2 million, tuesday, three, $3 million, hamilton, the week ending jan. 1, 63 percent, the previous week, 15 percent, the same week the previous year, five, last year, the holiday, over $100, hamilton, 310, 998, first, new york city, an estimated 60, 3 million, 58, 5 million, the previous year, christopher, christmas, the week, first, 1, 9 million, 1, 9 million, last week, eight, last week 25, nine, a holiday season, 17, three, sunday, several years, the current season, three, 1812, bronx, evan hansen, the last week, charlotte st, martin, sunday, its best week, 1, 9 million, jan. 15, 1, 8 million, last year, 815, jan. 15, january, february, months, thirteen, between dec. 31 and jan. 29, late winter], 17382: [lecce, italy, one, first, four years earlier, marco albanese, 19 years, five, albanese, 43, a recent afternoon, albanese, albanese, second, eight lessons, 30, rita russo, italy, three, albanese, first, first, three, the 1970s, italian, thousands, all day, milan, italy, georgia zara, the university of turin, zara, gianvito rizzo, 53, rizzo, nearly 75 acres, the coming year, italy, rizzo, rizzo, the bocconi university business school, milan, three decades ago, italian, 16, vineyards, two, first, rizzo, russo, one], 17383: [first, one day, penelope, justina machado, alex, penelope, friday, two, the 1970s, shirley, lear, the era, sanford, lear, american, 1973, the 1980s and 90s, one day, one day, lears, ann romano, bonnie franklin, two, 1975, just five years, gloria caldern kellett, mike, echo park, los angeles, lears, british, sanford, gloria estefan, third, isabella gomez, pat harrington, 70s       , penelope, afghanistan, dramedy, the season, machado, six feet, 70s, one, one, america, netflix, abc, hispanic, americans, hispanic], 17384: [white america, white america, the united states, america, washington, the united negro college fund, the united negro college fund, $25 million, martin luther king jr., $25 million], 17385: [cond, some eight million, vogue, 15th, one, manhattan, more than 100 years, first, dec. 17, 1892, horst p., 1999, new york, paris, ivan shaw, 48, vogue, june, shaw, cathy hoffman glosser, 2015, shaw, edward steichen, 15 years, the 1920s, edward steichen, one, shaws, diana, the 1960s, october, shaw, charlotte, n. c., los angeles, california, arthur elgort, robert frank, george   herbert matter, helmut newton, irving penn, john rawlings, bert stern, annie leibovitz, paddle8, three, may 2, 2016, 2, 700, 95, 189, shaw, 325, 121, shaw, two, 1970s, elgort, 76, camilla nickerson, shaw, shaw, 1957, shaw, all day], 17386: [washington, a united front, thursday, russian, donald j. trumps, trump, james r. clapper jr, the senate armed services committee, russian, russians, senate, friday, clapper, trump, russian, obama, thursday, vladimir v. putin, russia, trump, american, early thursday, trump, julian, democratic, julian, thursday, night, the f. b. i. s, the democratic national committee, fbi, russia, a day, early next week, hillary clintons, trumps, clapper, russian, only one, clapper, later this month, the marine corps, 1961, dan coats, indiana, thursday, the senate intelligence committee, coats, 16, the sept. 11, 2001, the same day, r., james woolsey, c. i. a. director, trump, senate, thursday, clapper, republican, trump, john mccain, republican, arizona, mccain, trumps, russia, assange, mccain, clapper, michael s. rogers, united states, trump, clapper, iraq, democrats, trumps, joe donnelly, democrat, indiana, clapper, assange, russian, clapper, russia, one, claire mccaskill, democrat, missouri, mccaskill, republican, democrat, trump, tim kaine, democrat, virginia, clintons, michael t. flynn, trumps, kaine, flynn, flynn, fourth, republican, trumps, trump, tom cotton, republican, arkansas, russia, cotton, clapper, cotton, putin, trump, clinton, trump, american, cotton, lindsey graham, republican, south carolina, russian, the white house, graham, republicans, republicans, democrats], 17387: [washington, donald j. trump, dan coats, germany, coats, cory gardner, republican, colorado, coats, indiana, republican, second, senate, this month, democrats, democrats, coats, eastern europe, congress, 2004, sept. 11, 2001, 16, white house, the c. i. a., congress, 2009, leon e. panetta, c. i. a. director, dennis c. blair, blair, american, panetta, blairs, the c. i. a., the year, obama, 2010, james r. clapper jr, senate, six years later, coats, first, george w. bush, bushs, dick cheney, donald h. rumsfeld, coats, 73, wheaton, illinois, the indiana university, robert h. mckinney school, fort wayne, dan quayle, coats, quayle, coats, quayles, 1980, the year, senate, quayle, 1988, coats, the senate armed services, 1998, coats, evan, 2001, coats, germany, only three days, sept. 11, coats, a day earlier, mitch mcconnell, kentucky, republican, senate, last year, coats, that day, september, many years later, coats, senate, january 2011, coats, one, republican, congress, coats, republican], 17388: [washington, the federal bureau of investigation, the democratic national committee, september 2015, at least one, the d. n. c., russian, the f. b. i. knew, the last few years, the white house, the state department, one, the d. n. c., first, the d. n. c. computer system, the next several weeks, tamene, the new york times, the f. b. i. it, first, 2016, first, american, one, hillary clinton, donald j. trump, american, the d. n. c., first, 44 years ago, kremlin, zeros, russian, dozens, the d. n. c. s, the f. b. i. meant, russian, russians, the f. b. i. meant, russian, nearly seven months, n. c., the d. n. c. including, clintons, john d. podesta, months later, podesta, washington, 2014, last summer, democrats, russian, american, trump, florida, the d. n. c., democrats, russian, the d. n. c. s sister organization, dozen, recent days, two, vladimir v. putin, russia, american, clintons, russian, clintons, the f. b. i. director, james b. comey, russia, europe, the united states, russia, michael s. rogers, united states, neera tanden, american, clintons, tanden, the united states, decades, the c. i. a., russian, trump, american, chinese, trump, putin, tuesday, russian, trumps, american, maria zakharova, the russian foreign ministry, the weekend, four, two, republicans, two, democrats, trumps, democrats, republicans, congress, john mccain, lindsey graham, chuck schumer, jack reed, the democratic national committee, 2012, gop, 5, the washington post on, june 19, 1972, bob woodward, carl bernstein, andrew brown, 37, the d. n. c., this years, the d. n. c., the d. n. c., brown, the d. n. c., brown, the d. n. c., russian, the d. n. c. the committee, c. memos, tamene, brown, the f. b. i. agent, the d. n. c. switchboard, the f. b. i. thinks, the d. n. c., at least one, the f. b. i. wanted, the d. n. c., the d. n. c., tamene, the f. b. i. he, the u. s. intelligence community, the d. n. c. nor, the f. b. i. knew, tamenes, the d. n. c. system     , the f. b. i.     , october, tamene, tamene, november, a d. n. c. computer, russia, tamenes memo, moscow, sa hawkins, the f. b. i., brown, tamene, the f. b. i., bernie, vermont, clintons, democratic, wasserman schultz, the d. n. c. s chairwoman, shawn henry, the f. b. i. s cyber, the d. n. c., april, the f. b. i., the d. n. c. or send an, montana, henry, half a mile, the f. b. i. office, the u. s. infrastructure, a couple of months, the f. b. i. declined, the f. b. i. takes, march, tamene, the f. b. i., second, the d. n. c., democrats, billy rinehart, d. n. c. regional, clintons, google, march 22, ukraine, google, rinehart, a. m., east coast, half, months later, russian, hundreds, american, march 19, podesta, clinton, podesta, one, charles delavan, clinton, podestas, john, a decade, podesta, about 60, russian, delavan, dozens, second, the d. n. c. the f. b. i. observed, tamene, tamene, the d. n. c. s, the middle of april, the d. n. c., seven months, first, tamenes, the united states, two decades, russians, first, oct. 7, 1996, colorado, navy, two decades later, the d. n. c., first, thomas rid, london, two years, the department of energy, nasa, washington, first, years, russians, chinese, the united states, 2008, chinese, obama, mccain, russians, kevin mandia, russian, clinton, russians, 2007, estonia, soviet republic, nato, russia, the next year, georgia, american, russians, the united states, leon e. panetta, 2014, 2015, russian, the white house, michael sulmeyer, ben buchanan, harvard, russians, the state department, one, state, john kerry, iran, obama, the white house, russians, the united states, syria, one, state department, russians, russians, russians, february 2014, victoria nuland, russian, putin, geoffrey pyatt, the united states, ukraine, nuland, american, ukraine, russians, george soros, russian, last year, russia, french, ukraine, sulmeyer, the day, the white house correspondents association dinner, april, dacey, the d. n. c. s, a night, tamene, the d. n. c. s computer, the d. n. c. s, the f. b. i. has, one, n. c. email, april 29, the d. n. c. may, this week, dacey, wasserman schultz, brown, michael sussmann, the department of justice, washington, handles d. n. c. political matters, three, sussmann, the night, 1, 2, 3, sussmann, d. n. c. email, the d. n. c., one, sussmann, the d. n. c. immediately, a day, russia, sussmann, two, russian, the d. n. c. network, a. p. t. 29, the f. s. b., k. g. b., russian, first, 2014, dmitri alperovitch, first, the d. n. c., the summer of 2015, american, washington, russians, the d. n. c. they, alperovitch, russia, the united states, march 2016, first, the d. n. c. investigators believe, a. p. t. 28, the g. r. u. russias military intelligence agency, nearly a decade, podestas, ukraine, georgia, nato, alperovitch, russia, russian, working hours, moscow, alperovitch, two, russian, cozy bear, d. n. c. files, months, the six weeks, the d. n. c., a weekend, d. n. c. officials, clinton, sanders, wasserman schultz, the d. n. c. s, two, russian, the d. n. c. executives, first, f. b. i., nine months, first, russian, russians, the d. n. c., sussmann, the f. b. i. we need, american, d. n. c. leaders, washington, russian, the very next day, 2, 0, the d. n. c. hacker, trumps, half a dozen, democrats, thousands, russian, months, democratic, 2, 0, romanian, george w. bush, state, colin l. powell, the d. n. c. s, russia, 2, 2, illuminati, romanian, google, romanian, romanian, 2, google, romanian, russia, microsoft, 2, russian, soviet, russian, 2, 0, a period of weeks, first, weeks later, june, russians, april, russian, 2, 2, 0, july 6, 12 days, the republican national convention, cleveland, the d. n. c. s battle, republican, 2, july 22, three days, the democratic national convention, philadelphia, 44, 053 d. n. c., 17, 761, some d. n. c. officials, clinton, sanders, sanders, democrat, congress, clinton, decades, philadelphia, wasserman schultz, the eve of the convention, trump, republican], 17389: [the united nations, gambia, two years ago, the united nations, juan e. mndez, mendez, united nations special rapporteur, mendez, the united states, donald j. trumps, trump, the u. s., bush, americans, mendez, the united nations special rapporteur, november, jos miguel vivanco, the white house, trump, islamic, trump, james n. mattis, pentagon, the new york times, november, trump, mattis, trump, americans, nora sveaass, the university of oslo, the united nations committee, trump, the united states, the u. s., sveaass, one, the u. s. openly, trump, argentina, argentina, omar graffigna, the countrys air force, september, 1978, two, patricia roisinblit, jos manuel prez rojo, graffigna, this year, argentina, early 1980s, tunisia, first, november, 1955, ben ali, arab, 2011, december, 1964 to 1982, samuel herbert nsubuga, the african center for treatment and rehabilitation, uganda, 2012, uganda, trump, trumps, carlos jibaja, lima, peru, trumps, russia, olga sadovskaya, russia, russian, putin, 200, melzer, the united nations, trump, melzer, the united states, the united states], 17390: [washington, mike, republicans, congress, wednesday, 20 million, millions, americans, republican, congress, obama, march 2010, senate, next week, senate, republican, next week, four, two, senate, two, at least $1 billion, 10 years, senate, 51, four, just a few weeks, jan. 27, house, republicans, more than 60, 2011, congress, senate, senate, the congressional budget act, 1974, senate, tens of billions of dollars, each year, medicaid, republicans, 2010, republicans, republicans, two to four years, days, donald j. trump, pence, wednesday, the last few years, republicans, pence, wednesday, trump, democrats, congress, republican, senate, next week, democrats, republicans, american, the american heart association, senate, democratic, chuck schumer, new york, democratic, nancy, california, jan. 15, republicans, democrats, the white house, the urban institute], 17391: [washington, donald j. trumps, american, decades, dec. 23, the united states, months, germany, canada, britain, weeks, months, trump, jan. 20, obamas, just as thousands, the white house, costa rica, stafford fitzgerald haney, four, the united states, five months, the school year, the czech republic, andrew h. schapiro, prague, midyear, brussels, geneva, the united states, belgium, pamela hamamoto, the united nations, months, ronald e. neumann, the american academy of diplomacy, neumann, algeria, afghanistan, january, w. robert pearson, the middle east institute, washington, american, pearson, white house, obama, wednesday night, trump, melania, new york, american, rex w. tillerson, trumps, united states, finland, the state department, the day, jan. 20, months, bill clinton, george w. bush, obama, state, colin l. powell, marc grossman, the cohen group, washington, another couple of weeks, couple of months, grossman], 17392: [washington, donald j. trump, democrats, thursday, democrats, chuck schumer, trump, first, three, the day, obama, democrats, capitol hill, mike pence, republicans, trump, republicans, democrats, trumps, senate, republicans, thursday, russians, trump, russians, american, trump, wednesday, julian, united states, russian, trumps, tens of millions, americans, democrats, schumer, later thursday, schumer, capitol hill, trump, 20 million, americans, 21, 26, wednesday, republicans, dems, trump, wednesday, thursday, obama, americans, 30 million, americans, medicare, americans, obama, washington, trump, thursday, more than an hour, new york, jos, trump, the white house, andres, trumps, mexican, alan garten, garten], 17393: [jan. 20, washington, first, donald j. trump, 150 years ago, thursday, days, 58th, trump, dr., hawkins, mormon, trumps, trump, four years, trumps, dec. 30, two years, the united church of christ, decades, nikky finney, the university of south carolina, this week, trump, mexican, muslims, thursday, finney, james brown lyric, thursday, afternoon, more than 1, second, nearly 300, the united states of america, this week, tuesday, evening, jerome haynes, 18, ronald peterson, 21, republicans, thursday, afternoon, antonio phillips, 24, ken randolph, 20, finney, trump, randolph, 15, about an hours, birmingham, the n. a. a. c. p. president, william brooks, tuesday, jeff sessions, the alabama republican nominated, sessions, senate, 1986, congress, trump, medicaid, j. mason davis, birmingham, 1956, donavon jackson, 24, last year, about 1, only about five years old, jackson, houston, thursday, more than $60, one, wednesday, washington, trump, recent decades, bonquita mcclellan, 26, pit bbq, mcclellan, trump, randy, trump, dec. 5 christmas parade, roberts, roberts, roberts, 41, roberts, 48, the next four years, roberts], 17394: [more than five years, thursday, $5 million, jon s. corzine, 2011, more than $1 billion, the commodity futures trading commission, the waning days, this week, corzines, 2013, corzine, democratic, new jersey, corzine, 70, chicago, edith obrien, corzine, $5 million, many millions of dollars, corzine, obrien, recent weeks, 500, corzine, the commodity futures trading commission, corzine, the commodity futures trading commission enforcement division, the new york times, october, just last year, corzine, thursday, corzine, the c. e. o., 2011, several years ago, andrew j. levander, corzine, more than 10 days, two, the f. b. i. the s. e. c. the c. f. t. c. finra, congress, levander, corzine, his many hours, corzine, democrat, washington, $5 million, corzine, corzine, last year, the new york times, corzine, halloween, 2011, corzine, 2010, the previous three years, corzine, european, european, jpmorgan chase, one, minutes, corzine, obrien, that day, those final days, jpmorgan, corzine, obrien, corzine, obrien, corzine, jpmorgan, the years, corzine, america], 17395: [thursday, sears holdings, james m. loree, sears, sears, loree, more than $775 million, that day, sears, sears, nearly a century ago, edward s. lampert, sears, years, kohls, this week, macys, more than 10, 000, 100, sears, the season, sears, at least 12 percent, sears, lampert, sears, last september, 2016 fiscal year, 1, 5 billion, oct. 29, sears, $258 million, 3, 1 billion, thursday, morning, 1, 2 billion, sears, as much as 8 percent, thursday, 0, 3 percent, a day, sears, thursday, 150, up to $1 billion, $500 million, lamperts, today, lampert, today, only 10 percent, sears, craftsman, american, loree, months, loree, last spring, sears, one, several dozens, the summer, deutsche bank, newell brands tool business, october, late fall, sears, $525 million, an additional $250 million, the end of the third year, sears, 15 years, $900 million, months, loree], 17396: [brooklyn, wednesday, more than 100, thursday, more than 10 miles per hour, atlantic, 5 m. p. h., the national transportation safety board, morning, first, two, september, new jersey, over 100, thursday, turpin, turpin, turpin, 50, 1999, around midnight, tuesday, turpin, thomas gallagher, gallagher, thursday, friday, two, turpin, turpin, nearly two years ago, nearly $1 billion, 2018], 17397: [detroit, the united states, december, 2016, 17, 55 million, 17, 47 million, 2015, american, wednesday, annual, below 11 million, chrysler, an uncertain year, one, 2017, the year, michelle krebs, these days, last year, above $35, the united states, mexico, year, year, about 25 percent, the fourth quarter of 2016, the same period a year earlier, s. u. v. s., general motors, three, michigan, ohio, 1, 69 million, the month of december, about 3 percent, the same period a year earlier, 17, 55 million, the year, 0, 4 percent, s. u. v.s, december, 17 million, the united states, the coming year, stephanie brinkley, g. m., december, 10 percent, 319, annual, 2016, 1, 3 percent, 3, 04 million, s. u. v. s, chevrolet, nearly 17 percent, last year, g. m., g. m., s. u. v. lineup, detroit, 2017, the u. s. economy, mustafa mohatarem, g. m.s, ford, american, 237, december, the same month, 2015, the year, ford, 2, 61 million, 2015, american, 820, last year, about 12 percent, 2016, a year earlier, third, american, fiat chrysler, one, months, december, 10 percent, 192, the full year, 2, 24 million, less than 1 percent, the previous year, fiat chrysler, last year, chrysler, 200, s. u. v. s, months, december, toyota, 2 percent, the month, 2016, 2 percent, the full year, one, g. m., 579, chevrolet, december, its first month, more than 54], 17398: [another crucial holiday shopping season, wednesday, more than 10, 000, 100, 2. 1 percent, november and december, 2015, terry j. lundgren, t. j. maxx, wednesday, last january, about 4, 500, season, 730, august, 100, wednesday, 68, 1981, johnson city, n. y., wayne, n. j., 68, three, the middle of 2016, 63, the spring, two, the middle of 2017, three, about 30, the next few years, 3, an additional 6, 200, about 7 percent, about $550 million, 2017, lundgren, macys, 2, 95 to $3, 10, 2016 fiscal year, 3, 15 to $3, 40, nearly 10 percent, 32, 30, wednesday], 17399: [the year 2016, 2017, the coming months, washington, paris, washington, european, american, this month, melania, new years eve, american, the white house, dec. 31, alexander mcqueen, trump, jan. 20, first, france, april, italian, mumsy, this year, new york, week, february, new york, london, milan, february, kensington, london, diana, the 1980s and 90s, july, paris, christian, two, three, albert, london, anna sui, london, first, american, britain, the metropolitan museum of arts costume institute, the year, kawakubos, the year, 11, 8, jack oconnell, british, the spring, charles james, paul thomas, 2014, american, the third season, the year, o. k., williams, williamss, her b. f. f. status, american, anna wintour], 17400: [new york university, the university of massachusetts, boston, davin reed, n. y. u., americans, ellen, 1991, the next decade, the 2000s, 25 years ago, chicago, trump, 2016, washington, 50 percent, the previous years, july, 2015, years end, 17 percent, 1990, 2000, american, more than four million, the f. b. i. the scholars, ellen, ellen, ellen], 17401: [france, 37, months, dozens, herrou, africans, italy, herrou, 2 in the morning, herrou, wednesday, french, europe, france, european, first, paris, calais, the fall, this years, last summer, 85, jews, world war ii, herrou, britain, germany, hundreds, herrou, late in the evening, prtre, three, this week, feb. 10, herrous, herrou, the year last month, wednesday, herrou, herrou, french, french, zia oloumi, m. herrou, oloumi, three, oloumi, herrou, oloumi, prtre, oloumi, herrous, herrou, italian, first, august, herrous, first, august, herrou, last fall, summer, herrou, herrou, herrous, eric ciotti, the departmental council, prtre, herrou, prtre], 17402: [donald j. trump, nearly five years ago, charles f. feeney, manhattan, the end of 2016, feeney, 81, atlantic, about $1. 5 billion, last month, feeney, atlantic, $7 million, $8 billion, feeney, 85, last week, more than $2 million, thousands, helga, san francisco, one, feeney, 75, many years, new york, tommy makems irish pavilion on, east 57th street, american, 1982, feeney, 1, five, 2, 7 billion, years, feeneys, christopher g. oechsli, atlantic, the early 1990s, feeney, belfast, northern ireland, atlantic, vietnam, southern africa, about $600 million, atlantic, elizabeth, n. j. mr, feeney, the g. i. bill, 1960, feeney, 1984, 38, 75 percent, atlantic, 1997, atlantic, trump, trumps, two, years, trump, 400, feeney, atlantic, recent years, one, american, trump, day 1, 1989, five, trump, fifth, the early 1980s, feeney, first, feeney, last week, 20 years ago, chuck feeney, donald trump], 17403: [san francisco, late 2013, venezuela, india, american, european, donald j. trumps, gil luria, wedbush securities, these days, china, chinese, china, chinese, recent days, about 3 percent, china, today, about $1, 025, tuesday, about 140 percent, the beginning of 2016, only 21 million, one, about $1, 150, monday, the last year, late 2008, 2009, 1, late 2013, chinese, one, mt. gox, tokyo, 200, early 2015, chinese, november, india, indian, venezuelan, about $16 billion, american, indians, daily, only 10 percent, luria, webush securities], 17404: [chicago, four, wednesday, donald j. trump, eddie johnson, the chicago police department, chicago, tuesday, four, one, two, one, trump, johnson, two, two, thursday, johnson, wednesday, evening, chicago, this week, trump, 762, last year, johnson], 17406: [nearly 200, 450, peter shumlin, vermont, marijuana, this week, one, tuesday, 192, early last month, christmas, marijuana, shumlin, democrat, tuesday, shumilin, 2013, shumlin, marijuana, vermont, marijuana, phil scott, republican, thursday, 15, vermont, shumlin, 208, 2010], 17409: [a day, stevens, saturday night, march, two, reynolds, one, eddie fisher, elizabeth taylor, fisher, fisher, fisher, reynolds, 80s, second, stevens, perky, two, first, second, stevens, bloom, reynoldss, seven year, judy, fisher, fisher, one, nightclub act, fisher, six or so years, paul simon, reynolds, fisher, sister exchange]}\n"
          ]
        }
      ]
    },
    {
      "cell_type": "code",
      "source": [
        "def find_matching_articles(query, index):\n",
        "    # Extract entity texts from the query and convert them to lowercase\n",
        "    query_ents = set( nlp(query.lower()).ents)\n",
        "    print(\"Query entities:\", query_ents)\n",
        "    matching_articles = set()\n",
        "\n",
        "    # Iterate over each article ID and its associated entities in the index\n",
        "    for id, entities in index.items():\n",
        "        # Normalize the list of entities by converting them to lowercase and stripping extra quotes\n",
        "        normalized_entities = set(entities)\n",
        "        print(f\"Processing article ID {id} with entities {normalized_entities}\")\n",
        "\n",
        "        # Check if all query entities are present in the article's entities\n",
        "        if query_ents.issubset(normalized_entities):\n",
        "            matching_articles.add(id)\n",
        "            print(f\"Match found: {id}\")  # Debug: Match found\n",
        "        else:\n",
        "            print(f\"No match found: {id}\")  # Debug: No match found\n",
        "\n",
        "    print(\"Finished iterating over all items.\")  # Debug: Ensure loop completes\n",
        "    return matching_articles\n"
      ],
      "metadata": {
        "id": "71ccPSrBVVZX"
      },
      "id": "71ccPSrBVVZX",
      "execution_count": null,
      "outputs": []
    },
    {
      "cell_type": "code",
      "source": [
        "def build_inverted_index(df):\n",
        "  inverted_index = {}  # This will store the entity as the key and a list of document IDs as the value\n",
        "\n",
        "  for index, row in df.iterrows():\n",
        "    doc_id = row['id']\n",
        "    doc = nlp(row['article'].lower())  # Process the article text with nlp\n",
        "    for ent in doc.ents:\n",
        "      ent_text = ent.text.lower().strip()  # Normalize the entity text\n",
        "      if ent_text not in inverted_index:\n",
        "        inverted_index[ent_text] = [doc_id]\n",
        "      else:\n",
        "        inverted_index[ent_text].append(doc_id)\n",
        "\n",
        "    # Remove potential duplicates in document ID lists\n",
        "    for ent, doc_ids in inverted_index.items():\n",
        "      inverted_index[ent] = list(set(doc_ids))\n",
        "\n",
        "    return inverted_index\n",
        "\n",
        "# Call the function to build the inverted index\n",
        "inverted_index = build_inverted_index(df)\n",
        "\n"
      ],
      "metadata": {
        "colab": {
          "base_uri": "https://localhost:8080/"
        },
        "id": "Rn56saebvZYp",
        "outputId": "43d72bcc-4350-4bae-dd1a-487ce557e9f5"
      },
      "id": "Rn56saebvZYp",
      "execution_count": null,
      "outputs": [
        {
          "output_type": "stream",
          "name": "stdout",
          "text": [
            "paris: [18433, 17541, 18040, 18192, 18320, 18450, 17428, 18454, 17307, 17308, 18333, 17950, 17823, 18461, 17441, 18462, 17956, 18086, 17703, 18342, 17321, 18351, 18358, 17975, 17592, 18231, 18236, 17726, 17347, 17732, 17861, 18243, 18374, 17865, 18121, 17613, 17741, 18127, 17360, 18253, 17746, 18258, 18134, 18266, 18395, 18268, 17891, 18404, 17385, 17902, 18417, 18034, 18163, 17525, 17909, 17399, 18038, 17401, 18043, 18301, 17919]\n"
          ]
        }
      ]
    },
    {
      "cell_type": "code",
      "source": [
        "# Print out the inverted index for the entity 'paris'\n",
        "if 'samsung' in inverted_index:\n",
        "    print('samsung:', inverted_index['samsung'])\n",
        "else:\n",
        "    print('No documents found for paris')"
      ],
      "metadata": {
        "colab": {
          "base_uri": "https://localhost:8080/"
        },
        "id": "oZ-ckRRnxlOR",
        "outputId": "676dae6d-62db-4e5c-f719-b9e20346a535"
      },
      "id": "oZ-ckRRnxlOR",
      "execution_count": null,
      "outputs": [
        {
          "output_type": "stream",
          "name": "stdout",
          "text": [
            "samsung: [17312, 17764, 17734, 17574, 18375, 17487, 17657, 17851]\n"
          ]
        }
      ]
    },
    {
      "cell_type": "code",
      "source": [
        "# Example query\n",
        "query = \"where is Paris\"\n",
        "matched_articles = find_matching_articles(query, index)\n",
        "\n",
        "print(\"Matched articles:\", matched_articles)"
      ],
      "metadata": {
        "colab": {
          "base_uri": "https://localhost:8080/"
        },
        "id": "1XGClFRcO3Il",
        "outputId": "f5f47553-21c4-4ebf-dab1-1d055440b9ed"
      },
      "id": "1XGClFRcO3Il",
      "execution_count": null,
      "outputs": [
        {
          "output_type": "stream",
          "name": "stdout",
          "text": [
            "Query entities: {paris}\n",
            "Processing article ID 17307 with entities {ubelmann, paris, syria, more than 20 years, iraq, 40, islamic, first, ubelmann, two, syria, syria, syrian, syrian, syrian, paris, islamic, iraqi, saudi, ali, french, the last year, iraq, pascal butterlin, nimrud, jan. 9, france, $30 million, syrian, four, paris, syrian, hollande, the middle eastern, the first half of the 20th century, 2012, nimrud, assyrian, 2014, christian, syrian, 36, some 3, 000, years, yemen, syria, france, november, march, ubelmann, bashar, islamic, syria, 2015, paris, iraq, islamist, butterlin, paris, iraq, ubelmann, islamic, paris, some 20, france, $100 million, islamic, france, ali, hollande, four days, ubelmann, this past month, the middle east, damascus, iraq, today, europe, six, b. c., 150, several weeks ago, mari, syrian, france, syria, one}\n",
            "No match found: 17307\n",
            "Processing article ID 17292 with entities {august, new york, jos jr., december, puerto rico, jos, jos jr., jos jr., muiz, jesus, one, vietnam, 2, jesus, maria, muiz, muiz, muiz, six, first, muiz, 24, jos sr., 600, 14, new york, eight, 29, 3, bronx, the summer, jos, 2007, the new york, years, jos sr., manhattans, jesus, zoraida, 50, bronx, muiz, first, zoraida muiz, muiz, the summer, muizs, new york, second, 1983, jesus, 22, first, jos jr., eight, about $770, 1987, 245}\n",
            "No match found: 17292\n",
            "Processing article ID 17298 with entities {new york city, new years eve, march, about $4. 4 billion, washington, manhattans, 62, 2015, 77, three, first, the united states, sumana harihareswara, about an hour earlier, noon, south asian, braiths mosaic, at least three, 96th, 96th, 125th, manhattan, 86th, 472, george braith, thousands, first, 1948, first, harihareswara, nearly a century, 5, mosaic, manhattan, harihareswara, american, braith, another day, brooklyn, tallmer, 72nd, second, thomas f. prendergast, andrew m. cuomo, lexington avenue, recent years, 10 years, decades, the end of 2016 many years ago, around 3, first, second avenue subway, the first day of 2017, december 2016, 4, 2013, nearly a decade, three, the 1970s, 2007, midnight, one, first, the first day, 15, cuomos, braith, saturday, 91, 70, brooklyn, asia, manhattan, burgundy sari, 96th, jill tallmer, boston, harihareswara, 72nd, chef daniel boulud, ian ma, sunday, a few minutes, shortly before noon, sunday, more than eight and a half million, the 1920s, cuomo, first, second, astoria, decades, cuomo, betsy morris, sunday morning, second, three, washington, 6, bill de blasio, manhattan, new york, democrat, democrat, new york}\n",
            "No match found: 17298\n",
            "Processing article ID 17311 with entities {first, house, republicans, republicans, house, tuesday, the white house, democrats, republicans, today, republicans, republicans, house, november, republicans, american, senate, republican, tomorrow, republican, congress, obama, cory gardner, 2010, 2006, republicans, iraq, senate, republicans, democrats, four decades, republicans, democrats, house, supreme court, 2014, republicans, 115th, cole, senate, republican, annual, supreme court, merrick b. garland, republicans, senate, recent years, americans, republicans, republicans, the white house, senate, 1995, donald j. trump, congress, republican, democrats, oklahoma, senate, weekly, colorado, first, capitol hill, george w. bush, republican, republicans, trump, senate, the contemporary republican party, republicans, a tumultuous decade, republican, america, washington, republicans, congress, democrats, the united states, american, democrats, tom cole, republicans, republicans, the white house, the white house, bill clinton, republicans, saturday, republicans, senate, senate, eight years, republican, washington, republicans, republicans, republican, 2006, democrats}\n",
            "No match found: 17311\n",
            "Processing article ID 17339 with entities {trumps, kellys, 60 minutes, fox, rupert murdoch, fox news, donald j. trump, nightly, republican, months, lack, tuesday, fox, nbc, andrew lack, annual, kelly, last year, trump, fox news, $15 million, brian williams, kelly, americans, kelly, kellys, sunday, van susteren, kelly, kelly, her 12 years, kelly, republican, sunday nights, the weeks, daily, fox news, kelly, kelly, kelly, trumps, nbc, kelly, the final year, cbs, nbc news, 2015, a traditional daytime, nbc news, sunday, $20 million, kelly, daytime, lack, trump, daytime, jan. 20, fox, kelly, friday, last year, fox news, kelly, iraq, ailess, 21st century, the end of that, election day, kellys, lack, fox news, murdoch, tuesday, 14 years, kelly, msnbc, trump, kelly, nbc news, 46, daytime, more than $20 million, second, daytime hours, nbc news, as an hour, fox newss, nbc, fox news, msnbc, kelly, nbc news, fox news, lack, kelly, msnbc, sean, the last 15 years, abc news, douglas brunt, msnbc, nbc, cnn, nbc, many years, kellys, daytime, one, the wall street journal, monday through friday, kellys, 21st century}\n",
            "No match found: 17339\n",
            "Processing article ID 17340 with entities {daily, nbc, donald j. trump, nbc news, the national football league season, anderson cooper, fox news, tuesday, fox, nbc, cbs, sunday, 60 minutes, pauleys, greta van susteren, katie couric, kellys, 60 minutes, fox, just one year, two seasons, cnn, half, brian williams, jane pauley, daytime, tuesday, fox, one, oprah winfrey, election day, kelly, kelly, two, the 1980s, more than 14 million, kelly, fox news, fox business network shannon, five, one, cnn, friday, decades, the day, manhattan, 2005, fox newss 7 p. m. slot, 9 p. m., 25, 2016, lack, an hour, 7 p. m. eastern, kelly, trump, this season, 10 p. m., daytime, fox news, trish regan, nbc, nbc newss, her past few months, four, robert shapiro, kelly, sunday, sean, 46, kelly, 60 minutes, kelly, nbc, five weeks, 58, the 1990s, kellys, kelly, years, tuesday afternoon, one, tucker carlson, nbc, first, andrew lack, the wall street journal, sandra smith, charlie, noon, like days, barbara walters, daytime, about four million, the last 10 years, steve harvey, more than nine million, 60 minutes, nbc, sunday, fox news, a penny, morning, nbc news, martha maccallum, the supreme court, night, kellys, millions of dollars, nbc, 60 minutes, one, cbs, kelly, kellys, kellys, cnn, 2016, cnn, years, tuesday, 60 minutes, september, kelly, fox, kelly, trumps, meredith vieira}\n",
            "No match found: 17340\n",
            "Processing article ID 17342 with entities {silicon valley, five, bezoss, apple, america, american, the carlyle group, the f. c. c., jeff bezos, 10, last year, five, new year, five, five, five, the 1990s, last year, five, microsoft, 2017, five, donald j. trumps, five, the federal communications commission, genachowskis, five, south america, half, the last few years, genachowski, first, five, americans, 2017, europe, europe, five, american, last year, 2016, five, five, 2016, nearly a year ago, five, years, five, tom wheeler, the last half decade, alphabet, ibm, the obama years, trump, the u. s., the federal bureau of investigation, years, the washington post, five, microsoft, trump, the united states, the last year, the last 40 years, five, america, trump, last year, one, the united states, two, asia}\n",
            "No match found: 17342\n",
            "Processing article ID 17344 with entities {beijing, chinese, gunmans, the city party committee, zhang yan, last year, chen, china, chinese, communist party, panzhihua, panzhihua, sichuan, wednesday, sichuan province, li, chen zhongshu, 2006, chinese, the panzhihua government press office, china, li jianqin, daily, chen, zhang}\n",
            "No match found: 17344\n",
            "Processing article ID 17346 with entities {2016, about half a century ago, american, republican, americans, american, c. wright, lyndon johnson, sarah, british, 1952, eight years later, vermont, the american revolution, american, joseph mccarthy, barry goldwater, first, 2004, months, republicans, their day, united states, the 1990s, one, 2016, christopher lasch, ronald reagan, middle america, chris hayes, 2017, american, the white house, harvard, democrats, the late 19th century, 2008, the middle of the 20th century, new york, steve bannon, ohio, millss, 1964, middle america, 2012, trumps, 1955, first, william f. buckley jr., 1956, democrat, harvard, california, americans, jacksonians, american, yale, howard dean, american}\n",
            "No match found: 17346\n",
            "Processing article ID 17284 with entities {77, september, manhattan, this year, 63 percent, howard landesberg, that year, two, second, three days later, mott haven, one, bronx, fernandezs, three, bronx, this year, michael palladino, 17, manhattan, fernandez, fernandez, this summer, 76 percent, robert k. boyce, third, 40th, methadone clinics, five years, bill de blasio, graffiti, michael r. bloomberg, 40th, p. m., 2001, fernandez, bronx, 40th, new york city, 911, three, one, this year, last january, 911, four, one, fernandez, manhattan, 521, first, several dozen, the 40th precinct this year, bronx, gunmans, three years ago, the 40th, 40th, three, womans, fernandez, fernandez, fernandez, 1, new york city, fernandez, the same day, manhattan, only about two square miles, 2015, 40th, this year, bronx, manhattan, this year, manhattan, 54 percent, each this year, months, jeff, bronx, hispanic, oneill, nine, brooklyn, bronx, a week later, 10 days, two, one, fernandezs, four days, 25, 19, 36 hours, one, last years, brooklyn, 32, 300s, some months later, womans, 40th, fernandez, last year, 40th, st., 343, russell lewis, nine, two, 7, four, fernandez, 40, more than a third, 300, 40th, fernandez, fernandez, marijuana, one, four years, 40th, those years, one, fed, fernandez, 276, last year, fernandez, 67 percent, gola white, 150, first, more than a dozen, argenis rosado, 27, three, four, 184, about two, this year, p. m., around 6:30, 40th, this summer, this summer, 40th, washington, this year, 8:50, new york city, two, this year, first, d. clark, 2015, bronx, hundreds, more than a third, manhattan, 40th, 14, 72, 25 911, 42 percent, 8 hours 35 minutes, michael j. lopuzzo, 2010, osullivan, 2, marijuana, the late 1980s, 40th, last year, this year, 300, 40th, 7, bronx, one 911, five, 16, only a tenth, about 11, new york, four, 40th, james fernandez, 2012, fernandezs, bronx, new york, one, this year, one, 40th, 1991, chinese, alexander avenue, the residue of years, the last five years, august 2015, manhattans, nine, bronx, 15, 18, the same period, brooklyn, november, this year, manhattan, 66, five, the months, 31 percent, 40th, brooklyn, 911, brooklyn, 31 percent, 57 percent, fernandez, 40th, 14, 40th, 40th, 37, james p. oneill, 14 this year, 911, bronx, this summer, one, manhattan, 12 hours, one, 1, bronx, two, half, fernandez, one day this summer, 38, bronx, 40th, bronx, 40th, 40th, fernandez, 2015, 79, james fernandez, joseph l. giacalone, bronx, east 146th, about $700, bronx, one, jerry osullivan, 115, bronx, manhattan, 15 years ago, brian, the 1980s, years, 58, bronx, 14 to 21, more than one, fernandez, methadone clinics, 11, hours, early september, 65, more than 400, bronx, last january, 40th, two, one, bronx, october, 71 percent, bronx, two weeks later, 83, 62 percent, a month, bronx, 36, fernandez, manhattan, raymond w. kelly, new york, oct. 20, 2015, about eight, maria fernandez, the squad covering union square, two, this year, this year, the united states, 16, 40th, manhattan, today, ruben diaz jr.}\n",
            "No match found: 17284\n",
            "Processing article ID 17300 with entities {sixth, dozens, david i. bruck, wednesday, 2008, roof, bruck, two, bruck, roofs, last week, first, june 2015, dec. 16, hundreds, two days, the supreme court, wednesday, roof, roof, bruck, 10 days earlier, one, five, tuesday, november, peter d. greenspun, brucks request, tuesday, bruck, night, 10, emanuel a. m. e. church, roofs, nine, greenspun, three, roof, washington, jewish, indiana, gergel, 33, roofs, roof, roofs, monday, america, charleston, charleston, s. c., charleston, roof, john h. blume, two, joseph a. darby, second, roof, 2002, 2009, bruck, gergel, darby, roof, john a. muhammad, the 41 years, only one, roofs, the justice department, roof, roof, second, bruck, greenspun, 2015, faretta v. california, richard m. gergel, roof, roof, the supreme court, african, the f. b. i., six years later, roof, bruck, michael t. slager, 2003, roof, nine, only two hours, robert dunham, roof, muhammad}\n",
            "No match found: 17300\n",
            "Processing article ID 17302 with entities {asaad hashim, hollande, at least 20, baghdad, sadr city, iraqi, three days, monday, france, islamic, france, four, baghdad, 52, at least 70, sadr, third, late last month, iraq, iraqi, abadi, french, at least 36, 2003, monday, american, 2014, kurdish, the united states, islamic, islamic, the past year, islamic, iraqis, six million, 28, ali abbas, baghdad, hollande, monday, day, hashim, baghdad, fuad masum, iraqi, syria, iraq, france}\n",
            "No match found: 17302\n",
            "Processing article ID 17314 with entities {dec. 22, american, turkey, islamic, syrian, the first minutes of 2017, christians, 2017, turkish, russian, monday, november, jihadist, monday, syria, kyrgyzstan, islamic, jihadist, kurtulmus, islamic, years day, kurdish, kurtulmus, islamic, turkey, turkey, syria, numan kurtulmus, at least 39, kyrgyzstan, islamic, turkey, turkish, just days, islamic, turkey, just after midnight, turkey, monday, three days, islamic, august, islamic, islamic, asia, the foreign ministry, the last year, reina nightclub, islamic, two, morning, years, monday, turkey, sunday, bashar, the nashir media foundation, 38, years, turkey, islamic, winter, 39, syria, andrey g. karlov, aiymkan kulukeyeva, muslims, turkish, at least two dozen, sunday, syria, syrian, at least 22, eight, turkey, syria, american, millions, the russian news agency}\n",
            "No match found: 17314\n",
            "Processing article ID 17319 with entities {helena beilin, olmert, israeli, the zionist union, israeli, netanyahu, dozens, the obama administration, netanyahu, french, netanyahu, lauder, likud party, ehud olmert, netanyahu, jerusalem, february, netanyahu, israel, israeli, avichai, netanyahu, west bank, the 1990s, third, netanyahu, ronald s. lauder, the weekend, late last month, israeli, 2009, netanyahu, united nations security council, 2008, shimon peres, netanyahu, netanyahu, israeli, israeli, monday afternoon, first, last year, three hours, netanyahus, israel, the united states, netanyahus, germany, late september, lauder, david shimron, late 2019, east jerusalem, olmert, benjamin netanyahu, isaac, years, israeli, fourth, netanyahus, 433, israel, israel, israel, 2009, netanyahus, likud, netanyahus, israeli, netanyahus, herzog, barnea, monday evening, american, netanyahu, netanyahus, netanyahu, late monday, 2008, israeli, nahum barnea, two, netanyahu, israeli, israeli, israel, one, daniel b. shapiro, donald j. trump, the ministry of justice, german}\n",
            "No match found: 17319\n",
            "Processing article ID 17323 with entities {gronych, stacey, two, paul stacey, eight hours, canada, gronych, calgary international airport, miroslav gronych, 99, cancun, janine massey, six, canada, thursday, mexico, 7 a. m., toronto, calgary, the calgary police service, the calgary police services traffic, transport canada, one, 100, stacey, ken thrower, saturday, two, alberta, sunwings gate agents, 737, 37, more than 80}\n",
            "No match found: 17323\n",
            "Processing article ID 17325 with entities {florida, vandenberg air force base, early january, calif., monday, $200 million, 39a, second, 2018, december 2015, florida, september, three, 70, nasa, the kennedy space center, tex., a month ago, nasa, second, 9, 9, falcon, 9, less than a week later, two days later, one, the national transportation safety board, 340 degrees, monday, sept. 1, sunday, about eight minutes, california, africa, the united states, november, 65, this month, less than a tenth, 40 degrees, cnbc}\n",
            "No match found: 17325\n",
            "Processing article ID 17336 with entities {israeli, more than 60 years ago, the israel defense forces, hours, 19, the i. d. f., hebrew, naftali bennett, palestinian, tibi, arab, palestinian, israelis, israeli, avigdor lieberman, netanyahu, netanyahus, wednesdays, 49, israeli, lieberman, hebron, the west bank, up to 32 months, maya heller, sharif, israel, ilan katz, 11 minutes, more than one, palestinian, ahmad tibi, 50th, david enoch, israeli, palestinians, sharif, israelis, israeli, one, jerusalem, more than two and a, netanyahu, fifty years, israeli, jews, sharif, israeli, one, jerusalem, israeli, jewish, march, west bank, benjamin netanyahu, palestinians, tel aviv, about six minutes later, dozens, hebron, wednesday, wednesday, bay., sharifs, israeli, tom naaman, jewish, qassem, hebron, lieberman, hundreds, arab, first, two, jan. 15, 21, sharif}\n",
            "No match found: 17336\n",
            "Processing article ID 17345 with entities {2 a. m. the, 2015, the year before, new york, about a third, 42, 29, 129, 49, 2016, 762, kennedy, two, bill de blasio, five, david m. kennedy, eight, 2 a. m., more than half, zero, at least the early 1990s, manhattan, the year, last year, 2016, 12, last year, 49, this year, last year, dec. 28 of each year, brooklyn, the john jay college, new york city, 50, 2016, dec. 28, oneill, 560, 998 by years end, stephen p. davis, 22 percent, just under a third, the new york police department data offers, the year before, 2016, new york, the year before, the departments detective bureau, the new york times, 352, first, the last two years, 335, two, last year, 2016, new york city, three, chicago, 412, 1, 73, 2015, the internal police data, 57, 79, last year, wednesday, 1, the year before, james p. oneill, 138, forty percent, 19, 2015, 2016, new york city, the year before}\n",
            "No match found: 17345\n",
            "Processing article ID 17355 with entities {33, several days, nine, wednesday, three minutes, justice department lawyers, more than 30, pinckney, roof, one, first, roof, two or four or, two, first, first, first, the six weeks, june 2015, caribbean, thompson, 87, 10, williams, roof, s. c.     , susie jackson, williams, united states, thompsons, second, six days, united states, the end of the day, one, daily, wednesday, 15 years, dozens, sharonda, one, f. b. i. agents, 22, pinckney, roofs, malana, nine, clementa c. pinckney, cynthia hurd, hours later, an a. m. e. minister, eighteen, two, roof, roof, senate, pinckney, pinckney, myra thompson, evening, pinckney, two, julius n. richardson, dec. 15, african, charleston, at least one, 70, roof, 26, jennifer benjamin, charleston, two, 21, 13, pinckney, next week, kylon middleton, pinckney, ethel lee, 54, wednesday, pinckney, roof, pinckney, 49, two, roof, pinckney, last month, 45, the night of june 17, 2015, anthony b. thompson, roof, wednesday, 74, daniel lee, thompson, roof, 6, 59, roof, roof, nathan s. williams, five, roof}\n",
            "No match found: 17355\n",
            "Processing article ID 17285 with entities {1920, 1996, 1932, wong, wong, japanese, wong, austrian, chinese, the walt disney company, guangdong province, wong, wong, wong, march, christmas, 2015, ruth kim, the 20th century, wong, warner, dozens, 1941, 1938, chinese, first, wong, first, the museum of chinese in america, los angeles, wong, asians, more than 100 feet, calif, 2001, 1934, pamela tom, 1969, at least five years, wong, every day, two years, two, seven, a month, two, canemaker, a month, okubo, chester a. arthur, canemaker, paul klee, 1949, the years, wong, los angeles, wongs, second, one, tens of thousands, warner, san francisco bay, sunland, manhattan, decades, three, 2003, wong, 1955, wong, thousands, wong, jan. 27, 1921, angel island, see, wong, the united states, that year, oct. 25, 1910, 2016, san francisco, chinese, united states, three, angel island immigration station, california, 2014, kim, united states, fred macmurray, the chinese american museum, friday, two years later, 1946, chinese, the 1930s, the years, dec. 30, 1920, warner brothers, 1882, 1937, the late 1930s, walt disney, kay fong, los angeles, america, julie andrews, wong, wong, wong, wong, 50 cents, chinese, tom, wong, 1995, the last 15 years, los angeles, wong, later years, matisse, half, the art institute of chicago, today, san francisco, 1942, john canemaker, 1923, december 1941, wong, 1936 to 1938, 106, 1906, new york university, wong, the united states, more than nine decades earlier, world war ii, 1995, sacramento, canemaker, two, a. d. 960   1279, his 90s, wong, sacramento, chinese, asian, canemaker, disney, chinese, the 1960s, california, 1942, wongs, lisa see, 90, wong, san francisco, 1968, the 1930s, nearly a month, ruth, wong, angel island, 2015, american beat, 2013, chinese, los angeles, the west coast}\n",
            "No match found: 17285\n",
            "Processing article ID 17286 with entities {fidel castros, garry marshall, the year, all eight, overnight, leon russell, tex., alan rickman, john glenns, first, all year, major league, communists, william schallert, barney miller, n. b. a., american, daniel berrigan, cuban, nbc, the last half of the 20th century, decades, intel, ed, nancy, bobby hutcherson, lee, eliÿn gonzÿlez, 2016, u. n. c. l. e. ), 74, potomac, just two days, jim harrison, pat conroy, tammy grimes, months, phyllis schlaflys, his 83rd year, israel, manhattan, eight, 86, boutros, tens of thousands, paul, anita brookner, 53, 52, first, his sixth decade, paul kantner, two, peter shaffer, pat summitt, robert vaughn, dan haggerty, brian bedford, brady, 80s, tom hayden, french, poland, alan thicke, jews, david bowie, senate, henry j. heimlich, zsa zsa gabors celebrity, marc riboud, one, first, 1951, patty duke, the bleakest year, prince accidentally, rwanda, fifth, saskatchewan, west coast, iranian, vietnam, grant tinker, mans, 2016, jefferson airplane keith emerson, fisher, florence henderson, only days old, their day, 150, first, minneapolis, 1980s, just a day later, 81, clyde lovelette, the national hockey league, william trevor, one, gene wilder, 69, white house, 2016, the early days, a year, rogers nelson, harry potter movies, george martin, texas, 64, abbas kiarostami, andrew s. grove, astrophysics, alvin toffler, thurmond, latin, dutch, waco, the united nations, christmas, the 20th century, the year, ruth gruber, bobby thomson, reynolds, 90, 96, later years, the 1960s, gentlemans, jacques rivette, the vietnam war, gloria naylor, merle haggard, new york, new york, pierre boulez, the same year, the 1940s, so years ago, mindy, the national basketball association, supreme court, the early 1940s, louis stettner, national league, janet reno, nazi, first, only 90 miles, egyptian, shimon peres, noel neill, one, 1980s, george, french, 96, 57, juan gabriel, three, one, one, malik taylor, a few weeks ago, akira kurosawa, bosnia, 88, years, mose allison, anne jackson, hockey, george michael, ralph stanley, john, 84, antonin scalia, ralph branca, alan young, about three months later, john mclaughlin}\n",
            "No match found: 17286\n",
            "Processing article ID 17297 with entities {less than $2, 20, about $80, calif, google, 24x36, tokyo, more than two months, more than a dozen, 800, weeks, 37, an additional $15, 600, 1980s, 60 cents, first, 95, two, 34, 300, 145, the season, 36x54, minneapolis, 300, 10, 16, 99, one, 150, 300, 8 gb or, about 1, 8x12, minn., 12, 4 feet, the new year, 25, 259, half an hour, 65, irvine, 3 feet, 15, up to 8, first, one, photobarn, tokyo, thousands, tennessee, 4x4, japan, the new york times, asia, scan, each day}\n",
            "No match found: 17297\n",
            "Processing article ID 17306 with entities {new years eve, carey, sunday, one, the 1990s, the years, more than one million, robert goldstein, three, dick clarks, carey, maryland, carey, emoji, years eve, 34, sunday night, years, carey, carey, nicole perna, careys, sunday, dick clarks, stella bulochnikov, years, carey, abc, first, abc, sunday, us weekly magazine, bulochnikov, mike, goldstein, carey, years, the f. b. i. to investigate, one, the opening seconds, five, 1, 2017, manhattan, dick clark, sunday, new years eve}\n",
            "No match found: 17306\n",
            "Processing article ID 17308 with entities {michaels, george michael, more than 37 million, tomorrow, 10 years old, tatjana patitz, linda, mtv, 80s, tatjana, george in l. a., linda, the day, v. j. s., british, 1, lindas hair, london, 10, paris, george, george michael, those days, 3, naomi campbell, the morning, merton park, janet jackson, 90, cindy, one, six and a half minutes, camilla nickerson, those days, linda, 3, zac posen, linda, first, the day, 53 last sunday, london, 90, john pearson, first, george michaels, 1990, hairdresser, 90, this week, early winter, linda, new york, london, carol brown, the days, the day, five, first, christy turlington, three years, george michael fan., all day, the day, the 90s, america, george., a day, the end of the day, british, 80s, peter lindbergh, 76, one, wham, the day, george michael, five, david fincher, george michael, alan hunter, linda, linda, tatjana, 90, chris, john pearson, george, the day, one, london, michaels, the end of the day, n. y. c., a day, the night, cindy crawford, palau, the day, 40s and, 15, david fincher, david fincher, l. a. herb, linda evangelista, five, david fincher, george, george michaels, several days}\n",
            "No match found: 17308\n",
            "Processing article ID 17327 with entities {calif, lethem, jonathan lethem, american, yale university, more than 200, barton, two, lethems, 52, 1994, lethem, paul auster, jennifer egan, lethem, lethems, american, marilynne robinson, lethem, brooklyn, new york, about 15 years, about 2 a. m., 1978, today, one, suzanne vega, walt whitman, melissa barton, david, new york, glenn horowitz, lethems, samuel j. underberg, 100, david bowman, 2009, lethem, berkeley, alaska, lethem, 1970s, ed koch, philip k. dick novel, 2010, between ages 18 and 23, ursula k. le guin, october, claremont, three, manhattan, pomona college, 42nd street, lethems, 1979, 2003, james baldwin, lethem, donna tartt, thomas berger, lethem, lethem, 1999, graffiti, more recent years, calif, dozens, lethem, lethem, lethem, 2012}\n",
            "No match found: 17327\n",
            "Processing article ID 17347 with entities {july 3, manhattan, two, paris, 10 years to the day, july 2015, chinese, wilson, first, bronx, somerville, grossman, delaney, michelis, n. h. this time, march 11, 2015, mathiowetz, paris, new jersey, meagher, san francisco, may 2014, litman, stucky, three years, bay ridge, only 24 hours, 2015, 23, june 2014, february, may 2014, hundreds of thousands, august 2015, june 11, 2008, phillips, 6 a. m., obama, the united states, helmling, albertson, two, about $119, roth, powell, second, 20, turke, an hour, obama, 10, first, fall 2011, fogelman, new york, portsmouth, one, one, september 2013, nov. 13, washington, boston, six months later, manhattan, mathiowetz, the year, obama, eighth, purcell, the day, purcell, powell, every year, the new york times, manhattan, march 11, first, the golden gate bridge, marini, fallsgraff, 2003, washington, jan. 9, fogelman, three, mass, january 2015, michelis, mass., 195, married nov. 26, roth, 86th, marini, fallsgraff, later in the day, meagher, 100, marini, three months later, michelis, wilson, 110, a new years eve, spring, fallsgraff, today, this past year, turke, the horace mann school, nearly six hours, oct. 8, powell, albertson, powell, helmling, fallsgraff, june 2015, aug. 6, n. y., 1, stucky, fallsgraff, roth, sept. 4, bui, new york city, march 11, 2005, november 2015, one, meagher, stucky, bui, phillips, marini, gentlemans, obama, fallsgraff, june, fogelman, roughly $1, whelden, litman, fallsgraff, marini, phillips, obama, second, 2007, phillips, five, their first day, early 2011, august 2014, purcell, fallsgraff, powell, albertson, chinese, a full day, mathiowetz, stucky, turke, brooklyn}\n",
            "No match found: 17347\n",
            "Processing article ID 17296 with entities {5, three, this morning, each morning, our 20s, years, first, today, 266, three miles, 8, each morning, three miles, new mexico state university, at least three, 5, first, decades, the last decade, 2002, 20s, each day}\n",
            "No match found: 17296\n",
            "Processing article ID 17337 with entities {the next five and a half hours, the day, 30 minutes, 2017, six uninterrupted hours, all day, johnson, three, the university of colorado, all day, five minutes, jack groppel, five minutes every hour, the day, colorado, the other days, groppel, the six hours, johnson, more than eight or nine hours, early afternoon, years, five minutes every hour, johnson  johnson, daily, the start of the day, workday, the day, third, johnson, johnson, each day, november, each hour, 30}\n",
            "No match found: 17337\n",
            "Processing article ID 17318 with entities {laura cattano, roberson, a year, lowenheim, lowenheim, lowenheim, manhattan, lowenheim, roberson, lowenheim, half the year, 3, brooklyn, years, brooklyn, sharon lowenheim, one, wrap fragile, the end of the day, roberson, american, four, manhattan, lowenheim}\n",
            "No match found: 17318\n",
            "Processing article ID 17360 with entities {charles kingsmill, a few days, sarah nicole, 1, guyana, english, the hawker siddeley hs, 300 miles, one morning, kingston, quebec, toronto, first, three days, ottawa, first, a decade ago, canadian, this year, london, four, summer, one, kim fu, linda, diana, pierre berton, quebec, two, the royal canadian navy, seven, fourteen years later, five hours, this time of year, morning, the united states, madeleine thien, canada, american, 2013, november night, summer, german, ontario, avondale, kingston, five years ago, niagara, a week, 748, the next few weeks, today, west dawson, a little over a year later, burbank, david bearman, irish, carr, canada, 75 percent, one, kingston, canadian, years, alaska, stanford, annual, summer, first, german, years 52, 80s, the united states, paris, the 19th century, canada, three months, 25, a few years ago, barbara, november, 1849, first, today, two, sarah nicole prickett, canadian, first, british columbia, b. c., new england, sarah, first, five, one, grindstone island, 25 years, new york, hong kong, calif., first, world war ii, less than 60 miles, thousand, the vietnam war, two, one, today, hans johann, october, second, around west dawson, quebec, american, 1851, millions of square miles, canada, six, chemin st., four, second, almost every day, first, the 19th century, two, log loaders, more than three days, fourth, ottawa}\n",
            "No match found: 17360\n",
            "Processing article ID 17361 with entities {this year, 52places2017, hundreds, berlin, tokyo, 360, all year, first, one morning, this the year, 2017, the 12th straight year, toronto, the united states dollar, 360, annual, this years, the new york times, a spectacular 45 minutes, thousands, americans, london, 52, canada, 52, many wet days, josh haner, 360, alberta, 150th, 360, canada}\n",
            "No match found: 17361\n",
            "Processing article ID 17362 with entities {more than 100, 11, gustavo dudamel, march 11, 2017, two, monterey, 2016, all year, four, caribbean, 175th, 12th, henry maier, this year, november and december, vienna, nine, viennas schnbrunn palace, june 16 to 18, march 19 to 23, roger waters, 24, the same weekend, milwaukee, the year, jan. 18 to feb. 1, the days, latin, june 28 to july 9, jimi hendrix, monterey county, joe louis, salzburg, this year, 50 this year, michael kors, montreal, july 21 to aug. 30, three days, 375th, anna netrebko, calif., may 25, january, the mustique blues festival, hamburg, russian, germany, 1967, richard bona, nearly two weeks, michigan, past years, mustique, 800, austria, 1979, summer night}\n",
            "No match found: 17362\n",
            "Processing article ID 17363 with entities {august, west palm beach, canada, the summer, caribbean, june, switzerland, alaska, 16, florida, 2017, hokkaido shinkansen, midyear, march, peruvian, orlando, last june, two nights, france, march, british columbia, 2017, machu picchu, 32 sails, 2019, seven to 13 nights, mediterranean, tokyo, june, december, 45 minutes, last march, aug. 31, this spring, mediterranean, crystal, japanese, eight, miami, five, tokyo, 2017, 159, bingham, four, crystal, just over four hours, first, three hours, november, 150th, april, japan, crystal, two, 300, miami, french, 2017, miami, crystal river, 106, 27 days}\n",
            "No match found: 17363\n",
            "Processing article ID 17283 with entities {republican, house, house, phillip j. blando, republicans, republicans, billions of dollars, last month, white house, an estimated $13 billion, republicans, 2010, this month, republicans, congress, congress, 2015, trump, rosemary m. collyer, house, two, the united states court of appeals, republican, republicans, republicans, congress, handing house, americans, republicans, annual, republicans, republicans, republicans, republicans, the obama health care law,, john a. boehner, washington, jan. 20, 2017, republicans, congress, years, republicans, at least late february, the justice department, congress, house, republicans, collyer, millions, republicans, two, the white house, the white house, donald j. trumps administration, capitol hill}\n",
            "No match found: 17283\n",
            "Processing article ID 17287 with entities {trump, coming months, less than a month, 2016, north korea, north korea, kim, south korea, 300 pounds, first, this year, south korea, south korea, coming months, november, jan. 20, the last decade, years, the united states, annual, recent years, sunday, the united nations security council, more than 20, the united states, kim, sunday, kim, cheong, sept. 9, north korea, north koreas, trumps, south korean, the first new years, seoul, kim, kim, 100 to 1, april, years day, trumps, north korea, south korea, japan, first, 400 miles, north korea, north korea, north korea, kims, kim, kctv, dec. 9, february, the u. s. mainland, kims, kim, 1, the united states, north korea, sunday, the united states, the united states, trumps, more than 7, fifth, five, south korea, donald j. trump, south korea, american}\n",
            "No match found: 17287\n",
            "Processing article ID 17289 with entities {washington, fewer than two dozen, the coming months, american, taiwan, taiwan, the united states, tsai, american, taipei, taiwan, tsais, east asia, taiwan, taiwan, monday, tsai, taiwan, decades, recent weeks, the chinese ministry of foreign affairs, china, the west coast, beijing, thursday, tsai, tsai, trump, taiwan, asia, tsais vision, china, south china sea, bonnie s. glaser, china, donald j. trump, tsai, china, beijing, saturday, beijing, trump, tsai, taiwanese, two, january, the united states, beijing, washington, china, taiwan, 1949, china, washington, december, asia, richard c. bush, houston, taiwan, the united states, glaser, san francisco, africa, trumps, tsai, tom, tsai, billions of dollars, one, tsais words, beijing, taiwan, tsai}\n",
            "No match found: 17289\n",
            "Processing article ID 17295 with entities {carr, palm beach, rex w. tillerson, florida, trumps, saturday night, trumps, trump, trumps, trumps, trump, hurt, jupiter, first, two, donald jr., joseph p. kennedy, democratic, the new year this weekend, 1973, trump, trump, tex., trump, trump, white house, trump, two, new york city, harry hurt, the years, joe, trump, obama, joe, manhattan, florida, new york, robert k. kraft, annual, trump, less than $10 million, trump, new york times, last week, one, donald j. trump rang, maryland, palm beach, ireland, night, white house, jeff greene, melania, trump years ago, rudolph w. giuliani, exxon mobil, george w. bush, the past two weeks, swiss, the white house, november, maryland, trumps, hurt, six, trumps, trump, trump, the department of veteran affairs, evening, chris ruddy, trump, carr, saturday, west palm beach, jews, night, david h. koch, hawaii, sunday night, howie carr, crawford, winter, trumps, mickey mouse, senate, isaac perlmutter, trump, trump, all day, laura ingraham, ruddy, fla, trump, a little more than $500, trumps, eric, hillary clinton, mitt romney, palm beach, robin bernstein, trump, trump, trump, exxon, nearly 25 years, douglas brinkley, the new england patriots, 45th, trumps, david, the years, trump, trump, trumps, 2010, brinkley}\n",
            "No match found: 17295\n",
            "Processing article ID 17301 with entities {india, 100, modi, pant, india, 50 percent, modi, 11th, east delhi, donald j. trump, india, hundreds of millions, new york, friday, august, pant, daily, 100, modi, modi, recent years, kumar bindal, pant, nearly two months, cornell university, last year, india, s. prasad, nov. 8, pant, modi, indians, midnight, mohandas k. gandhi, new delhi, india, indian, more than 250, about $15, 500, xiao, indian, modis, 2014, about half, 86 percent, chechi, 2016, 2014, mahatma, modi, the centenary year, seven weeks, 65, his first two years, india, narendra modi, modi, the university of hong kong, modi, the last day, indians, daily, modis, modi, chechi, the days, the coming months, new delhi, india, americans, indian, mumbai, 42, the united states, today, modi, indians, nagender tiwari, only 60 percent, new years eve, about $8 and $15, gandhi, 1, mahatma gandhi, modi, gujarat, the next morning, geng xiao, 670, about $3, 200, first, new delhi, modis bet, two, 39, prasad, modi, an estimated $20, indians, new delhi, india, bhalla}\n",
            "No match found: 17301\n",
            "Processing article ID 17305 with entities {one, new orleans, week 16, nbc, 44, 1:05, early in the day, dallas, the n. f. l. s division champions, weeks, week 11, kansas, matt, 2, sunday, dallas, houston, 37, denver, texans, tennessee, two n. f. c. playoff, atlanta, philadelphia, 43, atlanta, the season, evening, sunday night, rookie connor cook, carr, the a. f. c., oakland, three, sunday, weeks, broncos, the n. f. c., 4, 5, just a week, the a. f. c. which, matt mcgloin, 3, tampa bay, 4:35 p. m. eastern, san francisco, earl thomas, p. m., 4:40, first, tom, next week, four, three, dallas, the n. f. c. north, tennessee, 5, sunday, washington, detroit, saturday, pittsburgh, kansas city, 3, the n. f. c., 5, dallas, texans, 5, weeks, sixth, 47, houston, ten, the a. f. c., new england, two, miami, the week, p. m. eastern, oakland, cbs, pundits, third, giants, the week, 6, earlier in the day, week 14, p. m. eastern, sunday, six, 4, the new england patriots, miami, philadelphia, detroit, carr, week 17s, 2, dallas, oakland, san diego, houston, 6, the de facto n. f. c. north, the a. f. c. to no. 5, matt moore, the n. f. c., atlanta, the a. f. c. it, two, green bay, the n. f. c. east, the a. f. c. west, 2, the n. f. c. all, week 17, last week, texans, saturday, giants}\n",
            "No match found: 17305\n",
            "Processing article ID 17309 with entities {republican, washington, republican, mcconnell, democrat, 10, wisconsin, jeff sessions, 48, republicans, republicans, republican, california, senate, russians, kentucky, lott, patty murray, 60 legislative days, russian, obama, the fiscal year, trumps, americans, republicans, new york, years, republicans, one day, supreme court, january, merrick b. garland, paul d. ryan, democrats, russia, the obama administration, congress, democrats, senate, senate, american, congress, trump, trumps, 20 years, medicare, last year, two, democrats, trump, republicans, tom mentzer, democratic, the senate finance committee, the health care law and, first, sessions, republicans, the senate judiciary committee, democrats, only 51, saturday, trump, republicans, democrats, late december, this month, congress, senate, washington, the white house, years, years, lott, the first 100 days, democrats, the obama administration, obamas, democrats, the years, two, congress, dozens, one, one, senate, mcconnells, bob dole, supreme court, senate, trumps, years, senate, trumps, alabama, congress, senate, republicans, the senate chamber, only 51, trump, jan. 20, trumps, senate, trumps, senate, republican, mitch mcconnell, newt gingrich, republicans, two years, trumps, 60, a quarter, senate, chuck schumer, last week, tuesday, one, republicans, supreme court, donald j. trump}\n",
            "No match found: 17309\n",
            "Processing article ID 17312 with entities {tibetan, new years day, the united states, american, supreme court, samsung, 20 years, richard m. nixon, somalia, washington, j. r. r. tolkien, mornings, china, japan, first, south koreas, morning, nearly a quarter, 55, benjamin netanyahu, mao zedong, israel, the new years holiday, washington, the u. s. election, the vietnam war, 1974, pan pan, american, meteor, indians, texas, no fewer than 12, baghdad, the early hours of wednesday, bill clinton, 12 miles per hour, months, brazil, iraq, house, israel, the new york times], republicans, 9 p. m., narendra modis, the new york times]  pakistan, september, about 60, today, the weekend, russia, donald j. trump, iraqi, last week, trump, the year, the new york times], american, 1968, chris stanford, 1944, 1973, american, 43 years ago this week, today, african, the new york times]  , sunday, weekday, 1995, istanbul, chois, opec cut, chinese, xi jinpings, the new york times], u. s. companies, the syrian war, the 20th century, decades, muslims, today, yanan, american tech giants, modis, european, sichuan province, 106, at least 39, nixon, north koreas, asia, first, congress, dozens, 9, 125 years ago, at least three, the united states, mogadishu, al jazeera], islamic, 85 m. p. h., janata party, arab, 1901, asia}\n",
            "No match found: 17312\n",
            "Processing article ID 17313 with entities {the iraq war, hatabs, 2003, american, american, hatab, trumps, iraq, midnight, days earlier, marine corps, 2, trump, the united states, first, red cross, iraq, trump, 2006, june 6, 2003, august 2010 to march 2013, vietnam, ralph dengler, british, the geneva conventions, guantÿnamo bay, one, late november, hatab, trump, first, hours, united states, american, the vietnam war, 2003, american, bush, one, united states, hatab, america, jessica lynch, the department of defense, iraqis, november, american, korea, trump, two, january 2004, american, taylor, hatab, 2001, 1969, afghanistan, hatab, iraqi, iraqi, iraq, new york, the united states, american, secret c. i. a. prisons, iraqi, senate armed services committee, trump, james n. mattis, sadoon hatab, donald j. guter, senate, the c. i. a. s, vietnam, six, 2015, americans, the united states, the united states central command, taylor, 2 million, p. o. w.s, cuba, united states, david h. petraeus, 50 minutes of each hour, arrived hours, t. g. taylor, iraq, up to 10 hours, american, two, the geneva conventions, iraq, william b. gallo, the years, eight, american, c. i. a. jails or, donald j. trumps, hatab, the new york times}\n",
            "No match found: 17313\n",
            "Processing article ID 17317 with entities {iraqi, karl w. eikenberry, iraq, july 2011, afghanistan, 2002, obama, obama, navy, the united states, the end of 2008, afghanistan, obama, johns hopkins school of advanced international, karzai, afghanistan, 17, 10 years, july 2008, afghanistan, afghanistan, afghan, more than 100, afghanistan, pentagon, august, the end of 2016, the united states, american, early august of that year, washington, david h. petraeus, obama, nearly 70, eikenberry, july, 2005, obama, obama, 20, afghanistan, obama, first, august 2010, iraq, islamic, 2008, american, january 2009, 10, obama, afghanistan, american, hamid karzai, bush, afghanistan, kandahar, iraq, obama, afghanistan, iraq, north africa, taliban, american, donald j. trump, iraq, american, kabul, 30, washington, afghanistan, may 1, 2012, midnight, september, daniel f. feldman, afghanistan, 000, kabul, that day, the united states, american, iraq, september, afghanistan, taliban, nuristan, taliban, may 2011, american, america, the united states, 10 years from now, warsaw, american, afghanistan, that year, afghanistan, democratic, iraq, hillary clinton, taliban, afghanistan, american, afghanistan, the united states, obama, kabul, asia, afghanistan, afghanistan, karzai, george w. bushs bad, obama, pakistan, afghanistan, 2011, american, sept. 11, american, an hour, iraq, rhodes, afghanistan, afghanistan, august 2015, joseph r. biden jr., iraq, al qaeda, afghan, eikenberry, 100, washington, american, afghan, american, american, obama, american, osama bin laden, israel, the united states, american, afghanistan, 2009, pakistan, obama, the fall of 2009, taliban, 2014, obama, obama, obama, obama, american, obama, islamic, ghani, tomorrow, pakistan, october 2002, afghanistan, national security council, afghanistan, afghanistan, 2014, iraq, the united states, libya, obama, more than 100, pakistan, obama, 2014, obama, afghanistan, american, billions of dollars, america, the university of chicago, 2009, american, afghanistan, the united states, thousands, al qaeda, obama, afghanistan, obama, obama, afghans, 2015, kabul, afghanistan, one year ago, a few months, 2010, the iraq war, afghanistan, 50, syria, west point, close to, r. nasr, the spring of 2010, one, americans, roughly 10, afghanistan, chicagos federal plaza, 14 years, obama, the united states, crocker, prior year, obama, american, afghanistan, benjamin j. rhodes, late 2009, taliban, american, obama, the united states, afghanistan, osama bin laden, martin e. dempsey, obamas, taliban, obama, 000, nasr, as many as 40, more than 2, afghanistan, karzai, at least two, afghanistan, that day, the national security council, fewer than 10, that summer, afghanistan, mike mullen, isil, the united states, months, afghan, two, a few weeks later, kandahar, the spring and summer of 2015, n. y., rhodes, the united states, one, the white house, 000, 2007, illinois, first, obama, nine, obama, afghan}\n",
            "No match found: 17317\n",
            "Processing article ID 17321 with entities {french, half, the 10 hours, between 9 p. m., 27 to 28 percent, french, french, france, 2019, french, french, labor, the new year, between 7 p. m., the 12 hours, sunday, hours, france, a. m., 100 percent, america, at least two, more than 50, french, nine years ago, italy, myriam el khomri, last year, ireland, catholic, 7 a. m., recent years, french, more than 8 percent, some quarters, hours, paris, days, each evening, france, french, french, more than 50 percent, 2017}\n",
            "No match found: 17321\n",
            "Processing article ID 17328 with entities {one, st., one, catholic, canunayon, god, the new york times neediest, one, new york city, canunayon, canunayons, 600, years, hankins, 45, eight, filipino, the united states, rey canunayon, canunayon, one, america, canunayon, 49, 2007, 46, canunayon, canunayon, canunayon, that day, canunayon, filipino, adalbert roman catholic church, september, brooklyn, new jersey, 641, october 2015}\n",
            "No match found: 17328\n",
            "Processing article ID 17330 with entities {midmorning, republican, republicans, about an hour later, democrat, republican, tuesday, 40 percent, republicans, kevin mccarthy, republicans, monday, first, republican, capitol hill, 68, the day, the house judiciary committee, illinois, less than 24 hours, goodlattes, republican, texas, mccarthy, mccarthy, monday night, north carolina, tuesday, bobby l. rush, washington, congress, 2008, senate, iowa, tuesday, goodlatte, congress, markwayne mullin, three, republican, 2009, ryan, new mexico, minutes later, south carolina, morning, melvin watt, 90 days, republicans, democrats, this week, 2013, donald j. trump, house, republican, google, mark sanford, california, tuesday, cathy mcmorris, washington, tuesday morning, mccarthy, congress millions of dollars, virginia, illinois, tuesday, luis v. gutirrez, house, republican, first, north carolina, azerbaijan, noon, thousands, republicans, washington, robert w. goodlatte, congress, mccarthy, 2011, oklahoma, two, monday, house, tuesday, republicans, roger williams, trump, democrat, republicans, recent years, republicans, republican, paul d. ryan, ryan, trump, house, steve king, washington, republicans, democrat, the house ethics committee, morning, house, ryan, republicans, washington, this summer, republicans, south carolina, nine, 2015, house, 21, one, congress}\n",
            "No match found: 17330\n",
            "Processing article ID 17332 with entities {texas, california, 2010, today, seven, republicans, donald j. trump, republicans, washington, trump, iowa, 2, a day, two, mike pence, morning, republican, tuesday, chuck schumer, democrats, congress, the judiciary committee, white house, paul d. ryan, tuesday, republicans, senate, last june, republican, congress, ryan, last year, james l. madara, this week, kentucky, tuesday, republican, charles e. grassley, washington, senate, some 20 million, senate, two, americans, next week, pelosi, the white house, democrats, weeks, four, the american medical association urged, republicans, senate, senate, joseph r. biden jr., new york, republicans, democratic, tuesday, mike enzi, monday, 2010, republicans, american, democrats, obama, mitch mcconnell, ryan, overnight, democrats, tuesday, jan. 27, republicans, wednesday, america, republicans, american, the obama administration, jeff, republicans, first, nancy pelosi, years, senate, trumps, gird, california, congress, democrats, republicans, jan. 27, republicans, senate, trumps, tuesday, republicans, republican, the senate budget committee, dick cheney, several years, democrat, washington, house, congress, 500, republicans, republicans, congress, alabama, wednesday, senate, trump, the spring, democrats}\n",
            "No match found: 17332\n",
            "Processing article ID 17333 with entities {american, trump, republicans, republicans, 2015, trumka, lighthizers, trump, japanese, senate, alan wolff, american, trump, canada, utah, republican, congress, lighthizer, wilbur ross, american, mexico, exxon mobil, trumps, trumps, the senate finance committee, trump, the a. f. l. ., democrats, arizona, recent years, republican, democrats, lighthizers, white house, trump, china, nine, orrin hatch, mexico, robert lighthizer, washington, peter navarro, hatch, mexican, mexico, iowa, china, the ronald reagan administration, the united states, lighthizer, early hours, lighthizer, nearly 20 years, trumka, japan, trumps, u. s. t. r., mexico, lincicome, 2008, trump, trump, ford, trump, trump, mexico, several decades, three years, ford, americans, scott lincicome, mich, lighthizer, trumps, trump, america, chevrolet, general motors, tuesday, recent decades, michigan, trump, north american, terry branstad, lighthizer, john mccain, the last few decades, china, lighthizer, tuesday, washington, trumps, gary d. cohn, china, morning, tuesday, flat rock, trump, tuesday, i. o. president, republicans, trump, united states, china, china, one, reagan, trump, donald j. trump, china, the united states, first, american steel, mexico, american, u. s. a. or, coahuila, hours later, tuesday, american, first, american, trump, wilbur ross, the national economic council rex w. tillerson, the united states, china, american, richard trumka, tuesday}\n",
            "No match found: 17333\n",
            "Processing article ID 17334 with entities {republicans, mich., one, russia, tuesday night, the d. n. c., republican, first, wednesday morning, trump, the securities and exchange commission, tens of millions, 2, 25 years, russian, republicans, obama, vermont, americans, house, mike, the senate armed services committee, chris, last month, wednesday, london, brazile, republican, george w. bush, wednesday, donald j. trump, john a. boehner, schumer, russian, john podesta, wednesday, 14 years, vladimir v. putin, american, bernie sanders, russia, pence, trump, trump, john mccain, russia, two, chuck schumer, trump, united states, russian, manigault, bill stepien, 100 percent, donna brazile, manigault, thursday, flint, congress, podesta, trumps, republican, medicaid, new york, sean, mike, calif, trump, capitol hill, assange, republicans, thursday, nancy, friday, assange, wednesday, rick, white house, republican, trump, new years eve, the white house office of public liaison, trump, friday, george bush, american, hillary clintons, two, hannity, trump, john destefano, russians, trump, russian, republicans, jay clayton, trumps, trump, new york, the white house, the republican national committee under reince priebus, manigault, friday, american, omarosa manigault, united states, priebus, americans, russian, thursday, george gigicos, july 27, the white house, the white house, iraq, assange, assange, assange, kellyanne conway, republicans, trump, 20 million, the democratic national committee, pence, first, new jersey, medicare, american, cnn, fox news, russia, democrats, 0, california, arizona, american, mike, one, assange, roanld reagan, assange, trump, joe hagin, friday, capitol hill, walsh, trumps, paul d. ryan, the republican party, first, tuesday, clinton, american, first, new york, capitol hill, trump, trump, russia, cnn, congress, russian, three, wednesday, trumps, next wednesday, trumps, wednesday, trumps, katie walsh, ryan, russia, trump}\n",
            "No match found: 17334\n",
            "Processing article ID 17335 with entities {washington, the past year, white house, trump, the next four years, california, 2009 to 2015, first, four years, trumps, kevin de len, eric h. holder jr., jerry browns, kamala d. harris, holder, california, washington, the coming years, california, democratic, california, the democratic party, washington, california, more than four million, donald j. trump, washington, senate, de len, de len, the united states, democratic, anthony rendon, hillary clinton, los angeles, california, trump, republican, holder, wednesday, holder, obamas, de len, washington, holder, becerra one, senate, senate, the billions of dollars, brown, democrats, united states, democratic, last month, holder, democratic, trump, california, de len, democrat}\n",
            "No match found: 17335\n",
            "Processing article ID 17349 with entities {republicans, democrats, democrats, republicans, obama, several days, capitol hill, the health care law, republicans, dems, senate, america, democrat, democrats, republicans, senate, 2017, the years, washington, congress, republicans, michigan, donald j. trump, chris collins, republicans, trump, senate, texas, american, obama, 51 to 48, senate, wednesday, georgia, one, democrat, 2, democrats, republicans, donald trumps, republicans, republican, schumer, john cornyn, mike pence, johnson, republicans, republican, wednesday, paul d., medicaid, first, schumer, democrats, republicans, millions, democratic, republican, six years, american, congress, new york, about 90 minutes, republicans, democrats, trumps, republicans, cornyn, trump, first, new york, debbie stabenow, jeff merkley, democratic, schumer, millions, democrats, chuck schumer, a year, the white house, oregon, trump, hank johnson, about 20 million, senate, republicans, democrats, texas, first, republicans, republicans, pence, trumps, congress, wednesday, collins, congress, democrat}\n",
            "No match found: 17349\n",
            "Processing article ID 17350 with entities {q., twenty, medicare, congress, the age of 26, 1980, the senate a., obama, congress, bill clinton, west virginia, 1996, last january, senate, republicans, congress, 1974, 2003, democrat, 20 hours, republicans, reagan, obama, the past 35 years, congress, senate, senate, washington, 1997, medicare, medicaid, senate, medicaid, senate, process a., donald j. trump, q., medicaid, each year, one, 24, 2001, 1981, clinton, democrats, congress, congress, congress, tens of billions of dollars, the same day in 1997, republicans, congress, january 2016, obama, robert c. byrd, senate, congress, congress, 2010, six decades, obama, george w. bush, republicans, four, republicans, senate, bush, republicans, congress, congress, this year}\n",
            "No match found: 17350\n",
            "Processing article ID 17352 with entities {democrats, congress, trump, john feehery, trumps, democrats, republicans, democrat, 2008, tom, later this year, house, trump, republicans, house, republicans, california, republicans, monday night, tuesday, congress, ryan, walter b. jones, jones, capitol hill, 2005, republicans, north carolina, house, republicans, donald j. trump, washington, republicans, congress, house, ryan, california, capitol hill, washington, day 1, republicans, republicans, trumps, first, house, republican, democrats, mccarthy, republicans, republicans, republicans, the white house, nancy pelosi, republican, the next year, trump, kevin mccarthy, republicans, democrats, congress, congress, the very first day, trump, paul d. ryan, house, republicans, trumps, one, republican, republican, ryan, ryan, washington}\n",
            "No match found: 17352\n",
            "Processing article ID 17353 with entities {rapoport, three, obama, russia, trump, washington, 1971, navalny, russian, washington, rapoport, two, kushner, the united states, aleksei a. navalny, vladimir v. putin, first, washington, 5 million, the white house, podesta, jared kushner, washington, donald j. trump, damgard, russia, washington, one, tony podesta, kiev, latvia, trump, wednesday, the podesta group, less than two miles, wednesday, the white house, trump, trumps, trump, first, 2010, trump, kushner, belmont, belmont, russian, france, washingtonian, zlotnick kraft, washington, william f. x. moody, ukraine, trumps, democrats, kushner, john damgard, russian, 5, the white house, several decades, december, kushner, riga, washington, vladimir ashurkov, moscow, dan k. rapoport, obama, podesta, ashurkov, afternoon}\n",
            "No match found: 17353\n",
            "Processing article ID 17354 with entities {harvey pitt, laura s. unger, the s. e. c. over, dec. 22, clayton, a decade ago, democrat, clayton, mary jo white, clayton, 2015, one, two, the university of pennsylvania law school, today, african, $400 million, 1, the s. e. c. hes a, trump, cohen, sullivan  cromwell, clayton, the s. e. c. nomination, 2011, the new york city bar association committee, $5 billion, donald j. trump, america, treasury, the securities and exchange commission, chinese, walter j. clayton, clayton, clayton, claytons, richard truesdell, kenneth d. lewis, clayton, 2008, $25 billion, the s. e. c. oversees, gary d. cohn, clayton, clayton, obama, the u. s. capital markets, september, 2009, the securities and exchange commission, 2007, clayton, the s. e. c., clayton, 2, trumps, more than $100 million, clayton, trump, cohen, 2 billion, george w. bush, clayton, sullivan  cromwell, the university of cambridge, china, morgan stanley, trumps, warren e. buffetts, u. s. regulated companies, claytons, 2013, the university of pennsylvania, ohio, clayton, davis, the s. e. c., steven t. mnuchin, bank of america, clayton, rodgin cohen, sullivan  cromwell, many years, sherrod brown, pitt, brad whitman, claytons, claytons, more than a century, stephen k. bannon, clayton, mitt romney, trumps}\n",
            "No match found: 17354\n",
            "Processing article ID 17356 with entities {last month, erdogan, first, the united states, yildirim, last summer, turkey, santa claus, this week, this week, kurdish, cia, erdogan, turkey, moscow, daily, metro, reina attack, erdogans, about half, turkey, the united states, islamic, turkish, aydin engin, islamic, vladimir v. putin, nato, first, 79 million, americans, united states, 1980, the turkish press, night, turkish, the wall street journal, dozens, istanbul, islamist, daily, syria, one, pennsylvania, turkish, turkish, america, years, gulen, world war, today, islamic, the united states, turkey, american, the united states, the united states, the washington institute for near east, wednesday, luis buuel, turkey, erdogan, russian, this week, syria, tens of thousands, the syrian civil war, spanish, turkey, three months, last summer, islamist, sunday morning, the united states, american, the united states, wednesday, erdogan, the days, one, istanbul, kurdish, muslim, the turkish press, islamic, last year, the united states, washington, erdogan, the united states, early on new years day, erdogan, donald j. trump, erdogan, russian, today, turkey}\n",
            "No match found: 17356\n",
            "Processing article ID 17358 with entities {last week, winter, hundreds of thousands, jens laerke, 10 days, one, the united nations, 1. 5 million, syrian, damascus, monday, syrians, turkey, more than 100, damascus, nearly two weeks, syrian, dec. 22, the united nations, syria, syria, malik, united nations, damascus, 5 million, damascus, laerke, bashar, syria, 22 million, two, damascus, the spring, astana, malik, syrian, jan. 23, geneva, syrian, hezbollah, russian, beirut, the spring, four million, thousands, lebanon, syrian, 15, kazakhstan, britain, the united nations humanitarian office, millions, 120, wednesday, assad, wednesday, about half, last month, roughly 400, tuesday, first, the barada valley, 10 days, jihadist, 5, russia}\n",
            "No match found: 17358\n",
            "Processing article ID 17364 with entities {sharon, blanchetts, burton lane, jan. 29, the 19th century, a few more days, a week, russia, platonov, the brooklyn academy, 1979, andrew upton, fourth, the past decade, martin, jan. 19, australian, jan. 11, the hill district, the late 20th century, platonov, a dozen years ago, this year, errico, first, first, stephen karams, irish, sunday, the 1970s, charlotte moore, two, e. y. harburg, first, the end of the year, sunday, this year, 600, manhattan, jan. 15, last seasons, russia, samuel j. friedman theater., 122s, pittsburgh, richard roxburgh, marie mullen, january, new york, august, irish, blanchett}\n",
            "No match found: 17364\n",
            "Processing article ID 17365 with entities {john j. degnan, tuesday, la guardia, 000, cuomo, cuomo, cuomo, cuomo, prendergast, new jersey, j. f. k., sunday, manhattan, wednesday, cuomo, the recent years, city hall, new york, the van wyck expressway, new york, democrat, $4 billion, new york, degnan, as much as $2 billion, newark liberty international airport, cuomo, j. f. k. kennedy, john f. kennedy, citys other airport, j. f. k., 2, j. f. k., cuomo, la guardia, manhattan, last year, new jersey, new york, thomas f. prendergast, 2015, driscoll, 5 billion, wednesday, la guardia, cuomos, $30 billion, j. f. k. to, manhattan, j. f. k., donald j. trump, the new york, j. f. k. and, cuomos, 2, j. f. k. matthew driscoll, $600 million, andrew m. cuomo, new york, thursday, delta air lines, republican, new york city, j. f., bill de blasio, more than $10 billion, cuomos, more than $1 billion, wednesday, degnan, la guardia airport, j. f. k., chris, 5, cuomo, la guardia, new york, new york, only about $1 billion, 2008, new york, cuomo, la guardia, second, $7 billion, j. f. k. travelers, wednesday, about $4 billion, 250, melissa grace, the months}\n",
            "No match found: 17365\n",
            "Processing article ID 17294 with entities {sheldon whitehouse, daniel mccarthy, trump, 338, 81 miles, heidi heitkamp, 50 miles, 1, petra nova, one, one, january, david knox, clean coal and carbon management, nova, trump, rodney allam, 50 megawatt, houston, about 300 barrels, jeff erikson, bill brown, julio friedmann, 214, one, 700 megawatts, knox, $140 million, the billions of dollars, 20 percent, have c. c. s. the chance, today, 8, heitkamp, sierra club, california, 15, nova, 90 percent, about $50, a tower hundreds, 6 million tons, nova, the federal energy department, last month, 3, one, 240 megawatts, toshiba, nova, donald j. trump, the obama administration, a quarter, $190 million, british, la porte, fatima maria ahmad, tex., petra nova, the united states, decades, rhode island, fig, nova, david mohler, trumps, more than $1 billion, have c. c. s. the chance, first, mark brownstein, democrat, a republican congress, zero, 5 billion miles, heitkamp, the environmental defense fund, about 30 miles, the united states, john coequyt, nova, trumps}\n",
            "No match found: 17294\n",
            "Processing article ID 17303 with entities {the summer, 86, boxshall, two, sydney, sam riley, the height of summer, between 24 and 48 hours, the day, annual, anthony boxshall, 21, summer, boxshall, monday}\n",
            "No match found: 17303\n",
            "Processing article ID 17331 with entities {first, donald j. trump, john quincy, american, first, turkish, nbc, palestinian, last weekend, israeli, state, 360, this month, the u. s., eric h. holder jr., america, india, weeks, irish, tuesday, republicans, today, 2008, morning, this week, robert lighthizer, chinese, ford, netanyahu, 72, trumps, 1775, adiga, israel, tuesday, trump, obama, english, indian, today, mexico, british, daytime, the u. s., michigan, two, all morning, first day, john colone, the u. s., english, washington, the white house, about $1, the u. s. louisa adams, more than a year ago, monday, kelly, mike, mexico, the day, congress, benjamin netanyahu, london, democrats, at least 39, 1795, 1852, trumps, democratic, 30 years, american, 1825, hassan, the white house, mich., 1797, one, europe, hours later, b. j. miller, sunday, republican, the new year, second, u. s. stocks, congress, 140 percent, fox news, 6 a. m. eastern, john adams, 025, 1801, republicans, democrats, california}\n",
            "No match found: 17331\n",
            "Processing article ID 17326 with entities {s. a. r. wound, gavarin, goalies, hundreds, kolbs, last month, years, n. j. a, manhattans, two, 65, jared kushner, five, kushner, gordie, yeshiva university high school to, five, between long hours, recent years, falkenstein, 22, two, friday, n. j., gordie, a recent weeknight, jewish, bronx, donald j. trump, summer day, 2014, the late 1970s, israeli, manhattan, the spring season, first, the years, american, the next day, gordon, david yeshivah, summer, one night, the hebrew, the s. a. r. team, late october through march, two, jordan, 1979, hebrew, 12, the 1990s, two, 12 minutes, r. t. m. a., n. j., stone, jewish, elizabeth, new york city, falkenstein, david kolb, livingston, the late 1970s, 15, jersey yeshivas, brooklyn, zizit, one, 18, as many as 1, paramus, nick fotiu, several miles, three, the s. a. r. stings, pennsylvania, four, last month, one, god, seth gordon, bronx, one, jewish, second, summer, falkenstein, season, five, s. a. r., jewish, the d. r. s. yeshiva high, n. y., israeli, sixth}\n",
            "No match found: 17326\n",
            "Processing article ID 17341 with entities {zhang lu, year, midday, wilson, fifa, 70, last week, 16, chinese, the last two weeks, 2015, a recent afternoon, chinese, chinese, tens of thousands, 2025, up to about $8, china, dai, last year, the end of 2020, about $300 million, the chinese national squad, china, last month, south american, hundreds of millions of dollars, europe, 800, xi jinping, years, david beckham, fifa, the communist party, chinese, britain, seven or eight years, the university of salford, super league, henan province, sergio zarco diaz, tens of thousands, cameron wilson, one, 2012, english, chinese, china, daily, 2017, antonio conte, morning, beijing, 30 million, year, half, spanish, last month, european, september, scottish, an early age, 16, $105 million, china, 2009, beijing, chinese, fewer than 50, portuguese, ireland, liu jiangnan, r., nearly $120 million, 50 million, beijing, the last two years, chinese, past decades, as much as $40 million, chinese, south america, tens of millions, dai wei, chinese, 5, zhang, xu yun, 90 minutes, chinese, 1999, this morning, 2012, zhang, spanish, the faroe islands, decades, china, chinese, three years, 700, 2018, 50, 2015, 2, chinese, beijing, xi, spanish, wang kai, the 1980s and 1990s, nearly every day, under 11, china, european, simon chadwick, shanghai, 1, lin yanling, 83rd, 24, 48, china}\n",
            "No match found: 17341\n",
            "Processing article ID 17291 with entities {ben schneider, va, katherine power, lesbian, kerr, first, leahy, leahy, leahys, new york, kerr, jen atkin, leahy, first, hundreds of thousands, leahy, kerr, new hampshire, 2000, five years ago, leahy, leahy, dec. 10, leahy, kauai, hillary kerr, leahy, 38, kerr, ronald reagan, tom wolfe, kerr, just minutes, catholic, kirk douglas, kerr, 1936, kerrs, nine months, jack antonoff, kerr, leahy, lena dunham, jan. 1, 2016, leahy, kerr, 2005, catholic, leahy, kerr, kerr, minneapolis, dunhams, elle, new york, 2011, los angeles, jonathan leahy, december, the west coast, first, john, leahy, hillary, leahy, dunham, that night, a d. j., almost a year, several hours, palm springs, ray, william, leahy, a few months later, palm springs, kerr, calif., these days, early 2014, kerr, leahy, kerr, 125, andy warhol, marie leahy, hillary kerr, kerr, later that year, leahy, kerr, hawaii, kerr, n. h. graduated, christmas, leahy, kerr, leahy, leahy, #imwithkerr and, leahy, john newman, marshall goldsmith, laconia, los angeles, power, eva chen, kerrs, four, joey maalouf, kerr, 4100, zsa zsa gabor, hawaiian, leahys favorite tom, los angeles, mary oliver, al wertheimer, 2000, kerr, german, dec. 10, 2016, kerr, san diego, williamsburg, kerr, kerr, leahy, the university of southern california, leahy, monthly, 13 million, kerr, los angeles, kerr, months, 2015, calif, kerr, night}\n",
            "No match found: 17291\n",
            "Processing article ID 17366 with entities {earth, another year, 2014, the r. c. s. through, joel brenner, one, july 2015, egyptian, 2011, more than a year later, google, the f. b. i. contract, the h. t. contract., roughly 74 percent, egypt, mexican, the r. c. s. to, abdel fattah, as little as $200, mexico, iran, turkey, rafael micalco, between 2012 and 2014, morocco, saudi arabia, mexican, american, one, russia, the south pacific, american, alexandria, hong kong, american, russia, madrid, colombia, italian, va, german, ukraine, the white house, 2012, latin american, one, italian, russian, maderos campaign, at least one, two, nearly one million, italian, philadelphia, hell week, 48, italy, london, microsoft, the united nations, luis fernando garc­a, atlanta, 2013, election day, nineteen, the united arab emirates, 2014, at least two, three, david vincenzetti, egyptian, the r. c. s. discreetly, alessandro scarafile, one, a week, russia, one, 33, r. c. s., ernesto aroche, each passing year, o. k. so am i. so, hillary clintons, p4ssword, his senior year, ecuador, one, british, mexican, jimmy page, egypt, two, lado, 420, one, mexico, the end of the year, the mexican press, r. c. s., last year, three, italian, aroche, the university of torontos munk school of global affairs, 2014, between 2012 and 2014, the south china sea, three, more than $700, r. c. s. captured, six years, several months, aroche, hundredth, italian, nearly half a million, italian, john podesta, jimmy pages dell, libyan, north korean, mexican, madero, clinton, the united states, 64, two, 40, pdf, rafael moreno valle, fewer than 50, first, this past september, pan allies, the r. c. s. three, the d. e. a., singapore, a couple of months later, one, nearly two years later, ethiopia, ethiopia, two, iran, mexican, harry potter, one, one, keyser, iran, italy, at least 47, eric rabe, 2018, 792, i. e. a, this fall, all morning, south korea, morocco, first, the n. s. a. s   , morocco, china, passw0rd, years, gustavo madero, sony, italian, europe, the university of milan, arab, 57 percent, the united states, fourth, four, c. i. a. and f. b. i., seven, one, amsterdam, one, quito, fernando maldonado, the 90s, more than a dozen, bashar, one, third, fourth, one, one, 1, lado bs, the r. c. s., 2011, 162, eric rabe, the r. c. s. acquires, ronald deibert, 2008, roughly 120, 2009, three, 2004, 2015, the morning, trovicor, the morning of may 18, 2014, american, jalisco, second, giulio regeni, the f. b. i. beginning, david vincenzetti, the european union, egypt, election day, aroche, italian, these early days, 451, first, 2014, 2003, muammar  s, 400, 2010, the f. s. b. one, the day before}\n",
            "No match found: 17366\n",
            "Processing article ID 17367 with entities {96 percent, womans, lawrence katz, american, one, about 90 percent, 50 an hour, a year ago, 10, david autor, china, 18, 98 percent, jon ray, u. c. hastings, mexico, america, donald j. trump, 3, dawson, one, mo., st. clair, american, johns hopkins, more than a fifth, dill, 22 percent, andrew cherlin, autor, m. i. t. i, one, joan williams, 31, 50 percent, harvard, april, the bureau of labor, dawson, 1, dawson, 53, 3, janette dill, two, 70 percent, 2014 to 2024, the university of akron, 10 percent, 8}\n",
            "No match found: 17367\n",
            "Processing article ID 17368 with entities {the weeks, china, china, chinese, chinese, china, china, apple, cook, apps, later that day, the new york times, timothy d. cook, dec. 23, chinese, 2012, marbridge consulting, murphy, chinese, american, the wall street journal, just six months, the united states, chinese, chinese, chinese, china, china, natkin, taiwan, june 2016, china, 2012, one, 2012, foxconn, dec. 22, farzana aslam, the new york times app, dec. 29, china, apple, china, david barboza, chinese, the university of hong kong, the new york times of that country, china, recent months, wen jiabao, mark natkin, beijing, dec. 23, july 2015, china, chinese, the billions of dollars, early 2016, apps, murphy, china, late last month, one, barboza, eileen murphy, china, apple, beijing, china, chinese, chinese, the new york times app, april, new york, apps, sainz, chinese, china, hong kong, one, china, china, aslam, china, apps, communist party}\n",
            "No match found: 17368\n",
            "Processing article ID 17369 with entities {december, the minutes, last year, 17, fed, fed, trump, fed, just 4, yellen, the next several years, fed, the next several years, federal reserve, trump, janet l. yellen, trumps, american, december, 0, alan maceachin, trumps, december, john williams, 75 percent, 5 percent, fed, the feds   committee, three, james marple, fed, the federal reserve bank, san francisco, trump, wednesday, recent months, washington, congress, 1, 10, last month, michael gapen, 2008, fed, 2017, 0, fed, this year, second, two percent, navy federal credit union, fed, wednesday, fed, 6 percent, the western united states, donald j. trumps, fed, 5, fed, monthly, fed, november, fed}\n",
            "No match found: 17369\n",
            "Processing article ID 17370 with entities {hundreds, $200 million, the rockefeller foundation, the rockefeller foundation, rodin, africa, 100, more than $17 billion, shah, recent years, shah, 43, rockefeller, u. s. a. i. d., roughly $200 million, american, haiti, republicans, tens of thousands, rodin, this week, the american red cross, shah, his years, 12 years, rodin, shah, millions, the rockefeller foundation board, parsons, the rockefeller foundation, this week, 100, senate, u. s. a. i. d., shah, shah, 2014, rodins, john d. rockefeller, years, the rockefeller foundation board, shah, the united states, rodin, shah, judith rodin, hamilton, first, one, rodin, 2010, richard parsons, today, the rockefeller foundation, shah, about six months ago, rockefeller, 2009 to 2015, each year, clinton, 1913, the university of pennsylvania, nearly a decade, west africa, shah, shah, first, melinda, 2015, rajiv j. shah, recent years, one, 10 or 15 years ago, shah, shah, rodin, thursday}\n",
            "No match found: 17370\n",
            "Processing article ID 17371 with entities {eight years ago, north cotabato district, bungat, islamic, three, early wednesday, one, three, peter bungat, bungat, north cotabato district, last august, derbie, moro islamic liberation, at least a dozen, muslim, one, manila, rodrigo, kidapawan city, the philippine bureau of jail management, derbie, ernesto abella, bungat, more than 150, five, 158, derbie, abu misry, bungat, wednesday, xavier solda}\n",
            "No match found: 17371\n",
            "Processing article ID 17374 with entities {david beckel, recent months, 15 years, millions, 17 percent, roughly 7, 2015, miami, 2013, walt disney, arnold w. donald, padgett, 2 million, more than 100, one, thursday, a record $1. 4 billion, the same period a year earlier, abc, john padgett, padgett, one, josh garcia, about 24, 2014, 18 years, donald, las vegas, this year, brooks, $1 billion, the most recent quarter, michael g. jungen, padgett, beckel, robin m. farley, one, the hundreds of millions of dollars, three, about 2 percent, fla, 10, jungen, two, donald, thursday, nbc, donald, rico, at least 80, 2016}\n",
            "No match found: 17374\n",
            "Processing article ID 17376 with entities {$3 million, more than $200, 2 million, 13, 2015, tuesday, equifax, july 2011, atlanta, 31, 93 million, 3, chicago, 5 million, only $1, between july 2011 and march 2014, david blumberg, 2, more than $23, 8 million}\n",
            "No match found: 17376\n",
            "Processing article ID 17378 with entities {belfast, molonys, molony, midnight, 500, british, the 1950s, egyptian, london, 1955, molonys, hundreds, more than 1, about four years ago, one, molony, april 15, 1912, molony, smithsonian, irish, southampton, richard de kerbrech, more than 30 years, two, the united states, 4, new york, molony, fed, david hill, britain, two, april 14, 1912, southwest england, british, 40 minutes, 1912, mummy, irish, irish, london, two hours, irish, england, one, as long as three weeks, german, more than 104 years ago, de kerbrech, china, 12, molony, molony, daily, senan molony, new years day, more than a century, january 21}\n",
            "No match found: 17378\n",
            "Processing article ID 17379 with entities {jpmorgan chase, 500, three, the first three months, 450, 1, each year, half, first, the last day, jan. 12, march 12, 300, annual, ashley e. dodd, 4, $200 million to $300 million, a few years, last summer}\n",
            "No match found: 17379\n",
            "Processing article ID 17381 with entities {1, an estimated 60, 1, 17, the week, the previous week, 2016, 17, last year, last week, 1, the week ending jan. 1, 1903, 310, february, the same week the previous year, thirteen, 3 million, three, last week, 3 million, the best week, tuesday, 5 million, a holiday season, more than a century ago, sunday, 911, the previous year, hamilton, over $100, 1812, 815, 1, the   week, 63 percent, the current season, jan. 15, nine, several years, hamilton, the holiday, three, christmas, 58, 3, last week 25, chicago, 49, hamilton, bronx, 359, new york city, 24, $3 million, three, 9 million, five, the last week, late winter, charlotte st, more than $1 million, 7 million, broadway rang, 998, january, sunday, christopher, more than $2 million, months, 15 percent, between dec. 31 and jan. 29, martin, first, 9 million, 8 million, eight, evan hansen, jan. 15, its best week, seven, 495, 33, last year, the   week, 9 million, last week, first}\n",
            "No match found: 17381\n",
            "Processing article ID 17382 with entities {russo, milan, rizzo, one, five, second, rizzo, first, 43, the 1970s, marco albanese, the university of turin, gianvito rizzo, nearly 75 acres, four years earlier, thousands, italy, albanese, a recent afternoon, albanese, vineyards, rizzo, rizzo, eight lessons, first, albanese, italian, zara, georgia zara, the bocconi university business school, 53, albanese, milan, two, 30, rita russo, lecce, three, the coming year, first, 19 years, first, italian, one, three, all day, italy, italy, three decades ago, 16, italy}\n",
            "No match found: 17382\n",
            "Processing article ID 17383 with entities {the 1980s and 90s, isabella gomez, abc, 70s       , afghanistan, hispanic, 1975, america, one, one day, british, pat harrington, alex, one, penelope, lear, 70s, american, americans, six feet, lear, just five years, lears, lears, los angeles, two, two, mike, the season, netflix, the 1970s, sanford, penelope, ann romano, dramedy, one day, the era, first, friday, machado, shirley, one day, 1973, gloria estefan, third, bonnie franklin, justina machado, penelope, sanford, gloria caldern kellett, echo park, hispanic}\n",
            "No match found: 17383\n",
            "Processing article ID 17384 with entities {washington, the united negro college fund, $25 million, white america, america, white america, the united states, $25 million, the united negro college fund, martin luther king jr.}\n",
            "No match found: 17384\n",
            "Processing article ID 17385 with entities {more than 100 years, first, june, the 1920s, shaw, paddle8, john rawlings, two, shaw, october, 2015, charlotte, 15th, 700, 76, dec. 17, 1892, los angeles, paris, annie leibovitz, 189, irving penn, n. c., 48, shaw, all day, 121, shaw, elgort, camilla nickerson, california, one, 95, manhattan, shaw, edward steichen, cond, diana, 1970s, 15 years, shaw, 325, 1957, one, arthur elgort, shaw, shaws, new york, edward steichen, bert stern, some eight million, 1999, ivan shaw, vogue, helmut newton, may 2, 2016, george   herbert matter, shaw, the 1960s, three, robert frank, horst p., cathy hoffman glosser, vogue, 2}\n",
            "No match found: 17385\n",
            "Processing article ID 17386 with entities {c. i. a. director, fbi, russia, trumps, clapper, 16, trump, r., flynn, clapper, the senate intelligence committee, russian, democrats, clapper, republican, thursday, dan coats, joe donnelly, trump, united states, russian, julian, claire mccaskill, democratic, trump, graham, the sept. 11, 2001, republican, mccain, assange, cotton, mccaskill, indiana, tom cotton, fourth, trumps, thursday, trump, trump, hillary clintons, kaine, putin, friday, clapper, thursday, russian, early next week, thursday, russia, republican, democrat, trump, michael s. rogers, the democratic national committee, democrat, russian, russians, democrat, republicans, trumps, night, south carolina, later this month, 1961, a united front, vladimir v. putin, american, clapper, russia, american, republican, coats, washington, trump, the same day, the marine corps, one, cotton, senate, john mccain, trump, democrat, russia, clintons, assange, missouri, trump, clapper, thursday, trump, russian, russian, the senate armed services committee, early thursday, trump, james r. clapper jr, democrats, flynn, iraq, republican, mccain, virginia, the white house, republican, a day, senate, lindsey graham, the f. b. i. s, arizona, michael t. flynn, indiana, trumps, julian, only one, russia, clapper, republicans, clapper, cotton, trumps, obama, tim kaine, clapper, james woolsey, arkansas, donald j. trumps, clinton}\n",
            "No match found: 17386\n",
            "Processing article ID 17387 with entities {democrats, only three days, a day earlier, cory gardner, 1988, republican, republican, germany, coats, leon e. panetta, wheaton, 16, evan, colorado, coats, james r. clapper jr, last year, that day, coats, coats, mitch mcconnell, donald h. rumsfeld, illinois, congress, c. i. a. director, 1980, sept. 11, 2001, coats, one, quayle, george w. bush, congress, panetta, coats, coats, republican, this month, blair, quayle, robert h. mckinney school, republican, fort wayne, american, the c. i. a., many years later, obama, coats, dick cheney, germany, the year, republican, senate, coats, the c. i. a., first, 2001, coats, coats, eastern europe, 2009, the indiana university, senate, white house, quayles, 1998, democrats, dan quayle, 2004, senate, the senate armed services, coats, coats, dan coats, six years later, congress, coats, donald j. trump, september, senate, blairs, january 2011, 73, kentucky, coats, indiana, second, bushs, sept. 11, 2010, washington, senate, the year, dennis c. blair}\n",
            "No match found: 17387\n",
            "Processing article ID 17388 with entities {alperovitch, russian, three days, republicans, georgia, the d. n. c. investigators believe, the democratic national convention, 2014, nearly seven months, the f. b. i. we need, victoria nuland, russian, d. n. c. files, the d. n. c. s, democrats, bob woodward, the d. n. c. s, april, ukraine, ukraine, the f. b. i. he, podestas, the united states, k. g. b., russian, ukraine, podesta, this years, microsoft, sulmeyer, july 22, tamene, clinton, russian, four, podesta, the u. s. infrastructure, the d. n. c. s, thomas rid, thousands, montana, illuminati, 2012, russian, two, october, cleveland, the united states, the d. n. c., second, the f. b. i., andrew brown, the f. b. i. has, russia, trump, syria, two, first, the f. b. i. director, the d. n. c., 1, democratic, sussmann, romanian, first, american, bernie, clinton, state, the d. n. c. system     , first, russia, the d. n. c., the d. n. c., the f. b. i. declined, democrat, romanian, the d. n. c. the f. b. i. observed, wasserman schultz, one, the last few years, f. b. i., the next several weeks, philadelphia, the d. n. c. computer system, 3, vermont, handles d. n. c. political matters, half a dozen, the d. n. c. the committee, harvard, romanian, maria zakharova, russian, the d. n. c., russian, the c. i. a., michael sulmeyer, trump, the united states, the f. b. i. meant, russians, the f. b. i. thinks, oct. 7, 1996, dozens, the f. b. i. it, at least one, russians, 0, the washington post on, american, russian, henry, trumps, russians, wasserman schultz, the d. n. c., the new york times, some d. n. c. officials, dozen, the d. n. c. network, march 19, the white house, tamenes memo, american, one, nine months, first, decades, trump, 2016, n. c., the d. n. c. s, a. p. t. 28, alperovitch, clintons, chuck schumer, chinese, d. n. c. email, nato, putin, russian, sanders, alperovitch, the d. n. c. may, colorado, half, washington, george soros, zeros, american, john mccain, the d. n. c. s, the f. b. i. knew, first, the white house correspondents association dinner, 0, russian, the d. n. c. nor, september 2015, july 6, 12 days, tamenes, the f. b. i. wanted, the department of justice, second, march, dozens, 2, march 2016, n. c. email, state department, 2015, chinese, john, seven months, the united states, 2, the department of energy, the f. b. i. meant, the eve of the convention, russians, moscow, 2014, first, democrats, russians, two decades, d. n. c. officials, hundreds, brown, the d. n. c., russian, one, june, the six weeks, east coast, november, google, russian, charles delavan, obama, moscow, europe, american, 2, tamene, sussmann, sussmann, the state department, the d. n. c., rinehart, clinton, the weekend, geoffrey pyatt, tamene, democrats, sa hawkins, two, at least one, democrats, the d. n. c., nasa, the d. n. c., russia, months later, tanden, the d. n. c., first, billy rinehart, russians, the d. n. c., russian, michael s. rogers, nato, this week, george w. bush, russians, working hours, the united states, a decade, michael sussmann, american, a. m., russia, the russian foreign ministry, 2, sanders, the d. n. c. s, washington, nuland, podesta, tamenes, first, washington, sussmann, podestas, the d. n. c., a period of weeks, recent days, two, months, mccain, state, march 22, 2007, two years, the f. b. i. agent, hillary clinton, georgia, tamene, russian, washington, russians, a couple of months, russian, the d. n. c. executives, 2, the d. n. c. s sister organization, last summer, congress, american, two decades later, soviet republic, russian, the united states, a night, american, the republican national convention, 0, estonia, the f. b. i. office, russians, john d. podesta, russian, podesta, russians, 2, 5, tamene, clinton, lindsey graham, putin, the d. n. c. s computer, clintons, the summer of 2015, chinese, washington, first, months later, the democratic national committee, john kerry, russian, april 29, romanian, neera tanden, cozy bear, tamene, first, first, one, 0, ukraine, 37, a weekend, the f. b. i., the u. s. intelligence community, trumps, weeks later, donald j. trump, french, russians, dacey, tamene, republicans, russian, the d. n. c. switchboard, google, a. p. t. 29, democrats, the democratic national committee, the d. n. c. immediately, the state department, last year, ukraine, soviet, republican, the d. n. c. or send an, the d. n. c., the d. n. c., one, the d. n. c. hacker, republican, russian, clintons, the f. b. i.     , first, the d. n. c., vladimir v. putin, democratic, the day, clintons, brown, the very next day, sanders, february 2014, one, russian, russians, 2014, first, brown, three, a day, dmitri alperovitch, russians, decades, jack reed, united states, iran, the f. b. i. s cyber, 2, philadelphia, the d. n. c., the united states, american, tuesday, clintons, wasserman schultz, nearly a decade, kevin mandia, c. memos, april, democrats, the f. b. i., the middle of april, navy, shawn henry, half a mile, 44 years ago, american, russians, 44, two, russian, 2, years, sussmann, 2008, 2, the next year, 2, russian, leon e. panetta, delavan, russia, trump, washington, russia, the f. b. i., google, russians, james b. comey, florida, russia, clinton, the d. n. c. s battle, the united states, tamene, congress, 053 d. n. c., june 19, 1972, colin l. powell, d. n. c. regional, 17, american, gop, the f. s. b., tamene, 2, the d. n. c. s chairwoman, russia, months, d. n. c. leaders, the f. b. i. takes, one, american, the d. n. c. they, two, the white house, clintons, russian, russian, romanian, the white house, the d. n. c., russian, the d. n. c., russia, a d. n. c. computer, kremlin, tamene, first, russian, about 60, 761, trumps, the f. b. i. knew, dacey, brown, the d. n. c., russia, obama, russia, april, carl bernstein, the g. r. u. russias military intelligence agency, brown, ben buchanan, clinton, the night, google, london, the federal bureau of investigation, wasserman schultz, the d. n. c. including}\n",
            "No match found: 17388\n",
            "Processing article ID 17389 with entities {the united states, ben ali, russian, bush, sveaass, the u. s. openly, 1978, trump, november, this year, gambia, lima, olga sadovskaya, mattis, melzer, the united nations special rapporteur, 200, nora sveaass, 1964 to 1982, juan e. mndez, trump, early 1980s, carlos jibaja, trump, americans, omar graffigna, james n. mattis, uganda, two, putin, the university of oslo, graffigna, argentina, russia, islamic, the new york times, mendez, tunisia, americans, mendez, the countrys air force, 2011, pentagon, november, november, two years ago, the u. s., trump, united nations special rapporteur, patricia roisinblit, the united nations, jos manuel prez rojo, one, trump, the white house, the u. s., trump, trump, the united states, 2012, first, the united nations committee, the african center for treatment and rehabilitation, september, december, trumps, the united nations, uganda, argentina, arab, peru, the united nations, mendez, trumps, the united states, melzer, 1955, trump, argentina, trump, jos miguel vivanco, the united states, donald j. trumps, russia, samuel herbert nsubuga}\n",
            "No match found: 17389\n",
            "Processing article ID 17390 with entities {congress, senate, democratic, trump, the white house, the urban institute, republicans, senate, days, democrats, mike, millions, senate, two, obama, two, senate, medicaid, more than 60, wednesday, congress, republicans, congress, four, jan. 27, republicans, republicans, wednesday, democratic, house, senate, pence, 51, the american heart association, republicans, new york, americans, republican, next week, donald j. trump, senate, 1974, pence, chuck schumer, republicans, the congressional budget act, just a few weeks, 20 million, republicans, next week, four, republicans, the last few years, republican, 10 years, democrats, democrats, wednesday, washington, senate, 2011, republican, at least $1 billion, american, tens of billions of dollars, senate, each year, california, senate, jan. 15, nancy, congress, two to four years, march 2010, 2010, next week}\n",
            "No match found: 17390\n",
            "Processing article ID 17391 with entities {obamas, the united states, five months, afghanistan, costa rica, the cohen group, canada, another couple of weeks, the united states, the state department, american, just as thousands, wednesday night, months, couple of months, pamela hamamoto, washington, grossman, trump, germany, george w. bush, ronald e. neumann, marc grossman, the united states, the united nations, prague, obama, britain, the day, white house, jan. 20, midyear, dec. 23, trump, pearson, jan. 20, the school year, months, months, january, melania, washington, new york, brussels, the middle east institute, stafford fitzgerald haney, american, donald j. trumps, weeks, the white house, decades, trumps, colin l. powell, american, four, obama, washington, the american academy of diplomacy, w. robert pearson, finland, belgium, united states, state, the czech republic, rex w. tillerson, months, bill clinton, geneva, neumann, algeria, andrew h. schapiro}\n",
            "No match found: 17391\n",
            "Processing article ID 17392 with entities {obama, russians, democrats, jos, republicans, donald j. trump, schumer, trump, americans, new york, the white house, garten, united states, trump, the day, trump, first, americans, 20 million, trump, thursday, republicans, thursday, american, alan garten, trumps, mike pence, obama, democrats, democrats, trumps, trump, 30 million, andres, tens of millions, dems, capitol hill, thursday, schumer, wednesday, democrats, trumps, americans, republicans, russians, americans, more than an hour, democrats, russian, wednesday, thursday, americans, mexican, senate, capitol hill, washington, wednesday, washington, trump, trump, three, later thursday, 21, republicans, chuck schumer, 26, medicare, obama, trump, julian}\n",
            "No match found: 17392\n",
            "Processing article ID 17393 with entities {randy, medicaid, pit bbq, roberts, more than 1, 58th, 26, dr., the united church of christ, donald j. trump, dec. 5 christmas parade, thursday, afternoon, the alabama republican nominated, finney, william brooks, mormon, this week, wednesday, trump, sessions, 15, tuesday, jackson, 41, last year, more than $60, roberts, first, 24, two years, this week, about an hours, recent decades, jan. 20, roberts, afternoon, roberts, four years, roberts, washington, the united states of america, muslims, thursday, nikky finney, washington, republicans, bonquita mcclellan, 150 years ago, dec. 30, birmingham, 1986, the university of south carolina, trump, mexican, the n. a. a. c. p. president, finney, mcclellan, tuesday, trump, second, randolph, 18, houston, jeff sessions, j. mason davis, 21, 1956, thursday, trump, 20, senate, thursday, trump, ken randolph, nearly 300, trump, antonio phillips, ronald peterson, donavon jackson, trump, jerome haynes, only about five years old, one, 48, james brown lyric, congress, trumps, decades, thursday, trumps, about 1, evening, trump, the next four years, 24, birmingham, days, hawkins}\n",
            "No match found: 17393\n",
            "Processing article ID 17394 with entities {obrien, the waning days, levander, the commodity futures trading commission, corzine, new jersey, corzine, minutes, european, $5 million, corzine, thursday, corzine, corzine, corzine, corzine, 2010, corzine, america, last year, democratic, corzine, obrien, european, corzine, 2011, more than 10 days, the previous three years, more than five years, the c. e. o., the commodity futures trading commission enforcement division, corzine, $5 million, his many hours, corzine, those final days, chicago, recent weeks, several years ago, that day, andrew j. levander, congress, jpmorgan chase, many millions of dollars, october, the f. b. i. the s. e. c. the c. f. t. c. finra, corzine, 500, the years, this week, washington, corzine, one, obrien, the new york times, corzine, corzine, corzine, 2011, corzine, 70, jon s. corzine, corzines, obrien, $5 million, more than $1 billion, corzine, 2011, the new york times, halloween, the commodity futures trading commission, 2013, corzine, edith obrien, just last year, jpmorgan, thursday, corzine, two, jpmorgan, democrat}\n",
            "No match found: 17394\n",
            "Processing article ID 17395 with entities {more than $775 million, $500 million, sears, james m. loree, sears, sears, a day, kohls, 2 billion, sears, sears, loree, as much as 8 percent, sears, the summer, craftsman, sears, oct. 29, 3, $900 million, that day, lampert, loree, more than 10, loree, sears, up to $1 billion, sears, 0, sears holdings, thursday, 1, sears, lampert, 150, october, the end of the third year, thursday, late fall, sears, years, several dozens, macys, an additional $250 million, this week, $525 million, months, american, edward s. lampert, sears, 2016 fiscal year, morning, sears, 15 years, 5 billion, newell brands tool business, lamperts, 1, sears, months, 100, nearly a century ago, last september, $258 million, loree, thursday, today, one, 1 billion, the season, sears, today, 000, thursday, last spring, deutsche bank, at least 12 percent, 3 percent, only 10 percent, sears}\n",
            "No match found: 17395\n",
            "Processing article ID 17396 with entities {50, turpin, september, friday, turpin, thursday, turpin, two, atlantic, wednesday, gallagher, new jersey, morning, nearly $1 billion, more than 100, 2018, brooklyn, turpin, around midnight, thomas gallagher, thursday, more than 10 miles per hour, turpin, over 100, two, tuesday, first, 5 m. p. h., thursday, turpin, 1999, nearly two years ago, the national transportation safety board}\n",
            "No match found: 17396\n",
            "Processing article ID 17397 with entities {fiat chrysler, above $35, 17, michigan, 1, a year earlier, 2017, one, the same period a year earlier, year, 4 percent, detroit, the same period a year earlier, 2016, months, wednesday, 0, months, about 3 percent, the year, 192, 04 million, american, nearly 17 percent, s. u. v. s., g. m., the month, the full year, third, one, year, annual, 47 million, 2017, g. m., 17, 17 million, these days, ohio, 2015, its first month, the united states, about 12 percent, 10 percent, 237, 820, 24 million, december, toyota, last year, the coming year, 69 million, less than 1 percent, more than 54, ford, the month of december, chevrolet, detroit, 2015, ford, g. m., american, the united states, g. m., 2016, annual, 319, december, the year, 2 percent, 200, the same month, s. u. v. lineup, 2, 579, general motors, 61 million, michelle krebs, s. u. v. s, american, s. u. v. s, 2016, chevrolet, december, 10 percent, s. u. v.s, stephanie brinkley, mexico, last year, the year, the u. s. economy, 17, about 25 percent, chrysler, last year, 3 percent, below 11 million, 2 percent, december, 2016, the full year, 2015, 1, december, last year, 55 million, the previous year, three, the united states, american, the fourth quarter of 2016, 55 million, mustafa mohatarem, fiat chrysler, 2, g. m.s, chrysler, december, one, december, an uncertain year, 3}\n",
            "No match found: 17397\n",
            "Processing article ID 17398 with entities {lundgren, about 30, wednesday, 100, 3, 68, 200, 63, the middle of 2017, an additional 6, season, macys, 2015, johnson city, august, terry j. lundgren, 2016 fiscal year, another crucial holiday shopping season, n. j., two, t. j. maxx, n. y., 95 to $3, 2. 1 percent, wednesday, wednesday, the middle of 2016, 000, three, more than 10, three, november and december, 3, 100, last january, 2, 30, 1981, about 7 percent, 40, 500, 15 to $3, about 4, wayne, the next few years, 2017, about $550 million, 68, 10, 32, 730, wednesday, the spring, nearly 10 percent}\n",
            "No match found: 17398\n",
            "Processing article ID 17399 with entities {new years eve, london, the 1980s and 90s, washington, american, new york, the year, the year, diana, this year, kawakubos, london, week, paul thomas, her b. f. f. status, first, anna wintour, first, london, this month, charles james, anna sui, kensington, washington, london, american, jack oconnell, mumsy, american, 2017, february, three, 8, france, 2014, alexander mcqueen, trump, british, two, american, williams, the third season, italian, the white house, july, o. k., jan. 20, 11, dec. 31, european, the spring, the metropolitan museum of arts costume institute, the coming months, april, albert, february, paris, melania, britain, milan, williamss, new york, christian, the year 2016, paris, the year, american}\n",
            "No match found: 17399\n",
            "Processing article ID 17400 with entities {the university of massachusetts, new york university, 1991, americans, 50 percent, years end, ellen, boston, 1990, the previous years, july, 25 years ago, ellen, more than four million, 2000, the f. b. i. the scholars, 17 percent, the next decade, american, chicago, 2015, n. y. u., ellen, ellen, the 2000s, 2016, davin reed, trump, washington}\n",
            "No match found: 17400\n",
            "Processing article ID 17401 with entities {french, herrou, french, m. herrou, herrous, the fall, late in the evening, 2 in the morning, germany, the year last month, italian, first, august, the departmental council, dozens, french, herrou, 85, herrou, herrous, herrou, herrou, herrou, european, herrou, eric ciotti, first, herrou, first, oloumi, this week, august, zia oloumi, prtre, oloumi, france, herrou, last fall, europe, italy, months, feb. 10, herrou, herrou, africans, calais, world war ii, herrous, hundreds, prtre, herrous, 37, herrou, three, herrou, herrou, paris, france, wednesday, jews, prtre, last summer, oloumi, oloumi, prtre, wednesday, three, this years, summer, britain}\n",
            "No match found: 17401\n",
            "Processing article ID 17402 with entities {atlantic, five, east 57th street, helga, many years, 38, 1984, thousands, donald j. trump, san francisco, atlantic, donald trump, feeney, trumps, one, chuck feeney, the end of 2016, atlantic, one, about $1. 5 billion, feeney, day 1, northern ireland, atlantic, feeney, atlantic, 1982, new york, southern africa, nearly five years ago, the g. i. bill, trump, trump, american, feeneys, fifth, 1960, 81, the early 1980s, $8 billion, more than $2 million, recent years, manhattan, last week, feeney, 7 billion, two, 75, christopher g. oechsli, vietnam, trump, atlantic, charles f. feeney, feeney, last month, elizabeth, atlantic, feeney, the early 1990s, years, american, 1989, 20 years ago, feeney, $7 million, tommy makems irish pavilion on, first, feeney, 2, feeney, last week, five, 1997, about $600 million, 75 percent, atlantic, trump, belfast, 400, feeney, 1, feeney, 85, n. j. mr, years}\n",
            "No match found: 17402\n",
            "Processing article ID 17403 with entities {luria, india, donald j. trumps, daily, late 2013, one, monday, china, chinese, today, venezuelan, china, chinese, early 2015, 200, american, mt. gox, venezuela, wedbush securities, tuesday, san francisco, 2009, indian, european, late 2008, late 2013, 150, about $1, about $16 billion, webush securities, only 21 million, chinese, indians, chinese, about $1, india, the last year, the beginning of 2016, 025, 1, china, about 3 percent, about 140 percent, one, november, recent days, gil luria, tokyo, only 10 percent, american, these days}\n",
            "No match found: 17403\n",
            "Processing article ID 17404 with entities {donald j. trump, johnson, chicago, two, wednesday, johnson, trump, chicago, the chicago police department, 762, tuesday, eddie johnson, two, last year, wednesday, chicago, trump, one, four, evening, johnson, one, two, thursday, four, this week}\n",
            "No match found: 17404\n",
            "Processing article ID 17406 with entities {tuesday, shumlin, democrat, phil scott, republican, christmas, vermont, marijuana, tuesday, vermont, shumilin, marijuana, nearly 200, marijuana, marijuana, vermont, 192, 208, shumlin, 15, peter shumlin, thursday, 450, this week, 2013, shumlin, one, early last month, 2010}\n",
            "No match found: 17406\n",
            "Processing article ID 17409 with entities {two, reynoldss, saturday night, one, seven year, march, reynolds, bloom, 80s, fisher, judy, eddie fisher, first, two, paul simon, second, reynolds, stevens, fisher, reynolds, fisher, fisher, perky, one, a day, second, fisher, sister exchange, elizabeth taylor, stevens, stevens, nightclub act, fisher, six or so years, fisher}\n",
            "No match found: 17409\n",
            "Finished iterating over all items.\n",
            "Matched articles: set()\n"
          ]
        }
      ]
    },
    {
      "cell_type": "code",
      "source": [
        "# !pip install spacy"
      ],
      "metadata": {
        "id": "gvqNCnaBrUbo"
      },
      "id": "gvqNCnaBrUbo",
      "execution_count": null,
      "outputs": []
    },
    {
      "cell_type": "markdown",
      "source": [
        "### Information Retrieval"
      ],
      "metadata": {
        "id": "n1rYpVlNnGb-"
      },
      "id": "n1rYpVlNnGb-"
    },
    {
      "cell_type": "markdown",
      "source": [
        "#### BM25"
      ],
      "metadata": {
        "id": "058cBuRx2wjR"
      },
      "id": "058cBuRx2wjR"
    },
    {
      "cell_type": "code",
      "source": [
        "query= 'Who is the vice chairman of Samsung?'"
      ],
      "metadata": {
        "id": "vY-W2YUW4URx"
      },
      "id": "vY-W2YUW4URx",
      "execution_count": null,
      "outputs": []
    },
    {
      "cell_type": "code",
      "source": [
        "# pip install rank_bm25"
      ],
      "metadata": {
        "id": "A6pq6BNf81fs"
      },
      "id": "A6pq6BNf81fs",
      "execution_count": null,
      "outputs": []
    },
    {
      "cell_type": "code",
      "source": [
        "from rank_bm25 import BM25Okapi"
      ],
      "metadata": {
        "id": "Yxvpv7JD8u6f"
      },
      "id": "Yxvpv7JD8u6f",
      "execution_count": null,
      "outputs": []
    },
    {
      "cell_type": "code",
      "source": [
        "nltk.download('punkt')\n",
        "from nltk.tokenize import word_tokenize"
      ],
      "metadata": {
        "colab": {
          "base_uri": "https://localhost:8080/"
        },
        "id": "_lL1BT6N-zTe",
        "outputId": "fd5ae940-9678-4fb2-aaf5-f0e7df99b65e"
      },
      "id": "_lL1BT6N-zTe",
      "execution_count": null,
      "outputs": [
        {
          "output_type": "stream",
          "name": "stderr",
          "text": [
            "[nltk_data] Downloading package punkt to /root/nltk_data...\n",
            "[nltk_data]   Package punkt is already up-to-date!\n"
          ]
        }
      ]
    },
    {
      "cell_type": "code",
      "source": [
        "tokenized_query = word_tokenize(query)\n",
        "tokenized_query"
      ],
      "metadata": {
        "colab": {
          "base_uri": "https://localhost:8080/"
        },
        "id": "dGG45Iy18Cv_",
        "outputId": "5a7592db-dd06-46c5-ef55-3ab8a68837c2"
      },
      "id": "dGG45Iy18Cv_",
      "execution_count": null,
      "outputs": [
        {
          "output_type": "execute_result",
          "data": {
            "text/plain": [
              "['Who', 'is', 'the', 'vice', 'chairman', 'of', 'Samsung', '?']"
            ]
          },
          "metadata": {},
          "execution_count": 15
        }
      ]
    },
    {
      "cell_type": "code",
      "source": [
        "df['article_tokenized']= df['article'].apply(lambda x:word_tokenize(x))\n"
      ],
      "metadata": {
        "id": "o-fr8k5W8mwb"
      },
      "id": "o-fr8k5W8mwb",
      "execution_count": null,
      "outputs": []
    },
    {
      "cell_type": "code",
      "source": [
        "corpus=df"
      ],
      "metadata": {
        "id": "guH-rQJJ_Ruj"
      },
      "id": "guH-rQJJ_Ruj",
      "execution_count": null,
      "outputs": []
    },
    {
      "cell_type": "code",
      "source": [
        "bm25 = BM25Okapi(df['article_tokenized'])\n",
        "doc_scores = bm25.get_scores(tokenized_query)"
      ],
      "metadata": {
        "id": "v2X5DbEP-_7p"
      },
      "id": "v2X5DbEP-_7p",
      "execution_count": null,
      "outputs": []
    },
    {
      "cell_type": "code",
      "source": [
        "top_5_doc=bm25.get_top_n(tokenized_query, df['article_tokenized'], n=5) #ranked in order of relevance, with the most relevant document first"
      ],
      "metadata": {
        "id": "9zweo-33ASE0"
      },
      "id": "9zweo-33ASE0",
      "execution_count": null,
      "outputs": []
    },
    {
      "cell_type": "code",
      "source": [
        "for doc in top_5_doc:\n",
        "  print(\" \".join(doc))"
      ],
      "metadata": {
        "colab": {
          "base_uri": "https://localhost:8080/"
        },
        "id": "PlMssCHjo-aD",
        "outputId": "39713eb2-a822-4b7a-e7c7-377e3422d313"
      },
      "id": "PlMssCHjo-aD",
      "execution_count": null,
      "outputs": [
        {
          "output_type": "stream",
          "name": "stdout",
          "text": [
            "SEOUL , South Korea ? A special prosecutor investigating the corruption scandal that led to President Park ? s impeachment summoned the de facto head of Samsung for questioning on Wednesday , calling him a bribery suspect . The de facto leader , Jay Y. Lee , the vice chairman of Samsung , will be questioned on Thursday , according to the special prosecutor ? s office , which recommended that he also be investigated on suspicion of perjury . Mr. Lee effectively runs Samsung , South Korea ? s largest conglomerate he is the son of its chairman , Lee who has been incapacitated with health problems . He is expected to be asked whether donations that Samsung made to two foundations controlled by Choi a longtime friend of the president , amounted to bribes , and what role , if any , he played in the decision to give the money . Investigators at the special prosecutor ? s office have questioned other senior Samsung executives as suspects about the bribery accusations . Neither Samsung nor Mr. Lee responded immediately to the announcement on Wednesday . Allegations that Ms. Park helped Ms. Choi extort millions in bribes from Samsung and other companies are at the heart of the corruption scandal that led to the National Assembly ? s vote to impeach her last month . Since then , Ms. Park ? s powers have been suspended , and she is on trial at the Constitutional Court , which will ultimately decide whether to end her presidency . Last month , Mr. Lee testified at a National Assembly hearing that he was not involved in the decision by Samsung to make the donations . He also said that the donations were not voluntary , suggesting that the company was a victim of extortion , not a participant in bribery . The reference on Wednesday to possible perjury charges against Mr. Lee stemmed from that testimony . The special prosecutor ? s office said it had evidence that Mr. Lee had ? received a request for bribery from the president and ordered Samsung subsidiaries to send bribes to destinations designated by the president . ? It asked the National Assembly to file a perjury complaint against Mr. Lee , which would authorize the special prosecutor to open an investigation of that charge . Asked whether investigators would seek to arrest Mr. Lee on bribery charges , a spokesman for the special prosecutor ? s office , Lee said , ? All possibilities are open . ? In November , state prosecutors indicted Ms. Choi on charges of coercing 53 big businesses , including Samsung , to contribute $ 69 million to her two foundations . They identified Ms. Park as an accomplice but stopped short of filing any charges against the businesses , all of which insisted that they were under government pressure to donate . In its impeachment bill , the National Assembly asserted that the donations were bribes , made with the expectation of political favors from the president . The special prosecutor , which took over the investigations from the state prosecutors last month , has been looking into possible bribery charges against not only Ms. Park but the businesses , particularly Samsung . Ms. Park can not be indicted while in office . Samsung gave the largest donations to Ms. Choi ? s foundations , totaling $ 17 million . Unlike the other corporate contributors , it went beyond support for the foundations , signing an $ 18 million contract with a sports management company that Ms. Choi ran in Germany , to fund a program for training Korean equestrians , which mainly benefited Ms. Choi ? s daughter . Samsung also contributed $ 1 . 3 million to a winter sports program for young athletes that Ms. Choi and her nephew ran . Also on Wednesday , the special prosecutor ? s office said it had acquired a tablet computer used by Ms. Choi that contained emails she exchanged with a Samsung executive . The emails contained information about the financial support provided by Samsung , the prosecutor ? s office said . The special prosecutor has been investigating whether Samsung gave its support to Ms. Choi in exchange for a decision by the National Pension Service to support a contentious merger of two Samsung affiliates in 2015 . Moon chairman of the pension fund , was arrested last month on charges that he illegally pressured the fund to back that merger when he was South Korea ? s health and welfare minister . The national pension fund ? s support was crucial for the merger , which analysts said helped Mr. Lee inherit control of Samsung from his father .\n",
            "SEOUL , South Korea ? A South Korean court on Thursday blocked a prosecutor ? s attempt to arrest Jay Y. Lee , the leader of Samsung , saying there was not enough evidence that Mr. Lee had bribed President Park in a scandal that led to her impeachment . A justice on the Central District Court in Seoul , Cho rejected the prosecutor ? s request to issue an arrest warrant , saying said it was ? difficult to recognize the need ? to incarcerate Mr. Lee . Mr. Lee , a scion and vice chairman of Samsung , one of the world ? s biggest conglomerates , was immediately released from a detention center outside Seoul , where he had been waiting for the court to decide whether he should be formally arrested . South Koreans have paid keen attention to the fate of Mr. Lee . Some analysts said his case was a test of whether the country ? s relatively youthful democracy and judicial system are ready to crack down on the crimes of conglomerates . No Samsung leader has ever been jailed , though the company has been investigated many times for corruption . The court ? s decision is likely to anger many South Koreans who have held weekend rallies calling for Ms. Park ? s ouster and the arrest of business tycoons on corruption charges . The special prosecutor called the court decision ? very regrettable . ? But he has yet to announce whether he will offer more evidence in a renewed effort to have Mr. Lee arrested . He can also indict Mr. Lee on bribery or lesser charges without arresting him . ? We will take necessary steps and persist in our investigation without wavering , ? said Lee a spokesman for the special prosecutor , without elaborating . Samsung welcomed the court ? s decision . For now , the ruling allows Mr. Lee to continue to lead Samsung . It dealt a blow to the special prosecutor who had tried to build a bribery case against Mr. Lee and Ms. Park . Mr. Lee ? s father has twice been convicted of bribery and tax evasion but has never spent a day in prison . Each time , he received a presidential pardon and returned to management . Mr. Lee , 48 , was accused of paying $ 36 million to Ms. Park ? s secretive confidante , Choi . The special prosecutor and Mr. Lee ? s lawyers have been arguing over how to characterize the money . In November , state prosecutors indicted Ms. Choi on extortion charges , saying she leveraged her connections with Ms. Park to coerce Samsung and scores of other big businesses to contribute tens of millions of dollars to two foundations Ms. Choi controlled or to companies run by her or her associates . They identified Ms. Park as an accomplice , but they brought no charges against the businesses , which they saw as victims of extortion . But the special prosecutor , Park who took over the investigation from state prosecutors last month , has called Samsung ? s contributions bribes that were exchanged for political favors from Ms. Park . That includes government support for a merger of two Samsung affiliates in 2015 , which helped Mr. Lee inherit corporate control from his incapacitated father , the chairman , Lee according to the prosecutor . groups accused the prosecutor of overreaching in an attempt to find a scapegoat to soothe a public infuriated over Ms. Park ? s corruption scandal and fed up with decades of collusive ties between the government and the chaebol . Mr. Lee was the most prominent businessman to be ensnared in the special prosecutor ? s broadening investigation into the corruption scandal that led to Ms. Park ? s impeachment by Parliament last month . Ms. Park ? s presidential powers remained suspended , while the Constitutional Court is expected to rule in coming weeks whether she should be reinstated or formally removed from office . ? We have been too lenient toward chaebol corruption , ? said Moon an opposition politician who leads in polls on contenders to replace Ms. Park if she is removed . Speaking to a group of foreign reporters hours before the court ? s decision , Mr . Moon said Samsung was typical of a chaebol whose top boss wielded ? imperial powers ? over his sprawling business group but was ? seldom held accountable ? for corruption or managerial failures . Ms. Park denies any wrongdoing . Mr. Lee and Samsung have also denied bribery they argued that the ? donations ? Samsung paid out to Ms. Choi were coerced , not meant as a quid pro quo for political favors from Ms. Park .\n",
            "ESCONDIDO , Calif. ? In Southern California in the fall of 2015 , a giant natural gas leak not only caused one of the worst environmental disasters in the nation ? s history , it also knocked out a critical fuel source for regional power plants . Energy regulators needed a quick fix . But rather than sticking with gas , they turned to a technology more closely associated with flashlights : batteries . They freed up the utilities to start installing batteries ? and lots of them . It is a solution that ? s audacious and risky . The idea is that the batteries can store electricity during daylight hours ( when the state ? s many solar panels are flooding the grid with power ) then release it as demand peaks ( early evening , when people get home ) . In effect , the rechargeable batteries are like an power plant , and , in theory , able to replace an actual plant . Utilities have been studying batteries nationwide . But none have moved ahead with the gusto of those in Southern California . This idea has potential . But the challenge of storing electricity has vexed engineers , researchers , policy makers and entrepreneurs for centuries . Even as countless technologies have raced ahead , batteries haven ? t yet fulfilled their promise . And the most powerful new designs come with their own risks , such as fire or explosion if poorly made or maintained . It ? s the same problem that forced Samsung to recall 2 . 5 million Galaxy Note 7 smartphones in September because of fire risk . After racing for months , engineers here in California have brought three sites close to completion to begin serving the Southern California electric grid within the next month . They are made up of thousands of oversize versions of the batteries now widely used in smartphones , laptop computers and other digital devices . One of the installations , at a San Diego Gas Electric operations center surrounded by industrial parks in Escondido , Calif. 30 miles north of San Diego , will be the largest of its kind in the world , developers say . It represents the most crucial test yet of an technology that many experts see as fundamental to a future . Here , about 130 miles southeast of Aliso Canyon , the site of the immense gas leak in 2015 ? the equivalent of operating about 1 . 7 million cars over the course of a year ? 19 , 000 battery modules the size of a kitchen drawer are being wired together in racks . They will operate out of two dozen beige , trailers . Made by Samsung , the batteries are meant to store enough energy to serve as a backup in cases of fuel shortages . They are also designed to absorb energy , particularly solar power , during the day and feed it back to the grid after dusk . They in effect can fill in for the plants that might lack the fuel to fully operate because of the disastrous leak . ? California is giving batteries the opportunity to show what they can do , ? said Andr ? s Gluski , chief executive of AES , which is installing the storage systems . AES is installing a smaller array for the electric utility in El Cajon , a suburb east of San Diego . And separately Tesla , the company perhaps better known for its electric cars , has built an array for a different utility on the grid , Southern California Edison , near Chino , Calif . The stakes are high for both energy storage companies . If their projects struggle or fail , it could jeopardize not only the stability of Southern California ? s grid but also interest in the technology over all . After a smaller , but pioneering battery project at a wind farm on Oahu in Hawaii went up in flames in 2012 , investment in battery storage all but dried up for a few years . That installation , which used 12 , 000 batteries to help even out fluctuations in the power flow , caught fire three times in its first 18 months of operation . The storage developer , Xtreme , eventually went bankrupt . The wind farm turned to a different technology to smooth its output . Keeping a close eye on the Southern California battery efforts is Susan Kennedy , who helped shepherd California ? s energy policy for more than a decade as a state utility regulator and operative for two governors ? Gray Davis , a Democrat , and Arnold Schwarzenegger , a Republican . She now runs an energy storage one not involved in the response to the Aliso Canyon gas leak . ? The moment one fails , ? Ms. Kennedy said of the big bet on batteries , ? they won ? t build any more . ? As soon as AES ? s chief executive , Mr. Gluski , learned last June that San Diego Gas Electric had awarded AES the big battery contract , he leapt out of his chair and interrupted a meeting in his board room at the company ? s headquarters in Arlington , Va. As employees watched in astonishment , he barreled down two flights of stairs , grabbed a mallet and , with a ceremonial flourish , banged a gong that one of his executives kept on hand for big news . Mr. Gluski had not had much occasion to celebrate since he had taken the AES reins five years earlier . The company was struggling with debt and trying to coax profits from projects around the developing world that are buffeted by instability in politics , currency and commodity prices . His first steps included an austerity program in which he gave up many of his own executive perks : No more membership . No more corporate Audi A8 , with driver . But the more part of his plan would be AES ? s battery division , which was then fledgling . The unit had roots in two midlevel executives who had been speculating about a future over beers . Those two men , John Zahurancik , a science fiction fan , and Chris Shelton , a former physics teacher , had started talking about batteries a decade ago , before electric cars became fashionable or even feasible . In 2006 , Mr. Shelton had come across a professor ? s paper that predicted a future dominated by electric cars that , when parked , could be connected to the power grid so their batteries could act as storage devices to help balance electricity demand . He and Mr. Zahurancik bounced the idea off some AES colleagues , who said it was at least theoretically feasible . So the two continued their bull sessions but decided that stationary battery arrays may make more sense than relying on electric cars . At the time , batteries , the standard in consumer products , were widely in use in the transportation and power tool industries , but no one had paired them with the technology necessary to serve the power grid . Earlier experiments with and other types of batteries worked only for a year or two before conking out . A different technology , ? flow batteries , ? which use chemicals dissolved in liquids in tanks , were considered even more experimental . But lithium packs more energy per weight than other metals , offering the promise of greater energy density and longevity . The trick would be to figure out how to harness all that power , which creates heat , while avoiding the fires such batteries have caused in any number of vehicles and gadgets , including Teslas , HP computers , hoverboards and , most recently , Samsung Galaxy Note 7s . The two hit upon a design and persuaded executives to begin a pilot project in 2008 . That eventually led to the first commercial battery on a grid . Mr. Zahurancik , who owns the gong , is now president of AES Energy Storage . Mr. Shelton is now the company ? s vice president and chief technology officer . AES does not actually make its batteries but buys them , along with other equipment , from manufacturers like Samsung , LG Chem and Panasonic . It designs and assembles the arrays , stacking the boxy batteries into racks inside containers . In Escondido , where local radio stations still carry public service announcements about the shortage , the AES battery packs are being installed at a critical spot on the regional electrical grid : the place where the giant wires from power plants and wind and solar arrays connect to the network of local wires . The batteries are intended to relieve the pressure on the system . Mainly , they will serve as a kind of sponge , soaking up excess or solar energy during the day and then squeezing it back into the grid in the evening , when demand surges as the sun sets . There is enough capacity in the containers full of batteries to power about 20 , 000 homes for four hours . The idea is that they help the utility lessen its dependence on the type of natural gas plants known as ? peakers , ? which can turn on and off quickly to meet sudden peaks of demand but are generally used only for short periods and at great expense . And peakers , by burning fossil fuel , are also at odds with California ? s goals . The project is also being watched closely by advocates for renewable energy . The reason : If battery installations work as designed , they would help wind or solar generators to act more like conventional power plants by working steadily even when the sun isn ? t shining or the wind isn ? t blowing . ? Energy storage is really the tool to do renewables integration for a utility infrastructure company like us , ? said Josh Gerber , advanced technology integration manager of SDGE , as workers smoothed the concrete pads that support the containers at the Escondido site . ? Without it , you have more risk that the variability of renewables is going to cause reliability problems . ? Under the contract , AES is responsible for making sure the batteries perform for 10 years , after which SDGE will take over . One potential downside is that if the batteries are fully charged and discharged each day , they could degrade more quickly . The executives involved expressed confidence in the design and reliability , despite Samsung ? s recent smartphone problems . Not only are these batteries a different configuration than the smartphone units , executives said , but the larger footprint allows for the inclusion of sophisticated monitoring as well as industrial safety and cooling and ventilation equipment . The project , along with the smaller array AES has installed in El Cajon , could provide the leap Mr. Gluski has been striving for . AES has a deal for an even bigger installation in a $ 1 billion project in Long Beach with Southern California Edison that is not part of the Aliso Canyon remediation effort it is projected to go online by the end of 2020 . The electric company plans to use batteries as part of a plan to replace an aging gas plant along the San Gabriel River . Long term , Mr. Gluski plans to shift the company ? s portfolio ? still heavily based on coal and natural gas ? toward more renewable energy . He sees the storage systems as vital components in turning solar and wind energy into a dominant power source in the parts of Latin America , Asia and Africa where AES is active . Whatever progress it has made , AES still has its share of problems , with $ 20 billion in debt and a stock price less than the value that it had at the start of the century . It faces wary , if not outright skeptical , treatment by Wall Street utility analysts and energy experts , who say the technology AES is peddling on such a large scale in California remains untested and financially risky . ? The problem comes if there is a hiccup with the battery storage business in California , ? said Charles Fishman , a utilities analyst at Morningstar . ? You don ? t have the parent that can push money to it and keep it out of trouble . ? Despite all the battery activity in California , executives around the utility industry remain cautious . ? The reason we don ? t have widespread batteries on our system is because it is not for us , ? said Alice Jackson , vice president for strategic revenue initiatives at Xcel , a giant electricity and gas utility serving eight Western and Midwestern states . Xcel has been testing batteries about as long as AES , but almost exclusively in small pilots . ? It ? s fair to say we don ? t have experience with this technology to say that it is perfect , or a nirvana , ? Ms. Jackson said . ? It ? s something we ? ll observe as California goes through its experience . ? California ? s latest experiment with batteries is but the latest bout in the state ? s long struggle to match its energy needs with its environmental sensibilities . In the early 2000s , after market deregulation and Enron ? s notorious manipulation of gas supplies led to blackouts and financial instability among the power companies , state officials decided to lessen reliance on natural gas by encouraging the development of wind and solar . Under Mr. Schwarzenegger , who was governor until 2011 , officials pushed through a raft of overlapping regulations that created a boom in renewables , especially solar . But that upended the traditional patterns of supply and demand , making the overall energy system technically and economically difficult to manage . Batteries were the logical solution . But the technology wasn ? t fully developed and was still too expensive . In order for companies to make the necessary investments , they needed a signal that there would be a big enough market for their products . So in 2010 , the state approved one of the first mandates , ultimately requiring utilities to install some form of storage equipment in their territories . That set off a flurry of new investment and innovation and , after the sudden closure of the San Onofre nuclear plant on the coast in northwest San Diego County in 2012 when a steam generator tube sprung a leak , new contracts for battery installations . But the Aliso Canyon accident , which began on Oct. 23 , 2015 , when the Southern California Gas Company first detected the leak , put that process on . The gas and intermittent oily mist that spewed forth over almost four months traveled into the surrounding neighborhoods on the strong winds that sweep down from the Santa Susana Mountains . At the same time , it forced the battery strategy into its most test yet . Now it ? s showtime , and the pressure to succeed is high all around . For AES , it could signify an important step for a relic that is seeking to revitalize itself as a powerhouse in battery storage and other advanced technologies . For advocates ? including residents of the Porter Ranch section of Los Angeles , so that Steven Spielberg chose it as the setting for the 1982 movie ? E . T. , ? but where many still complain of the rashes , headaches and other debilitating symptoms that drove thousands from their homes during the leak ? it could be a powerful weapon in the fight to keep the gas depot closed . But the pressure may be highest for the Southern California utilities , their reputations still blackened by waves of forced electricity cuts that followed the Enron debacle . No one wants to contemplate a repeat of that chapter , when blackouts affected factories and even some hospitals . ? When the power goes out , people die , ? said Ms. Kennedy , the former state official . ? Failure is not an option here on any level . ?\n",
            "Good morning . Here ? s what you need to know : ? President Obama commuted most of the sentence of Chelsea Manning , the army intelligence analyst convicted of an enormous 2010 leak to WikiLeaks that revealed U. S. military and diplomatic activities around the world . She will be free in five months . The decision will likely come up at Mr. Obama ? s final news conference today , along with other legacy issues , like the fight to preserve the Affordable Care Act . A report found that repealing major provisions of Obamacare would cost 18 million people medical insurance in the first year , a number that could increase to 32 million in 10 years . _____ ? President Xi Jinping of China continues a visit to Switzerland , with stops at the U. N. in Geneva and the International Olympic Committee in Lausanne . Mr. Xi , who made a forceful argument for free trade , international integration and climate responsibility at the World Economic Forum on Tuesday , appears to be positioning China as a global leader in sharp contrast to the incoming U. S. president , Donald J. Trump . _____ ? ? Rigged . ? Mr. Trump hit back at a poll that put his favorability rating at 40 percent , compared with President Obama ? s 79 percent before inauguration and George W. Bush ? s 62 percent . Senate hearings for Mr. Trump ? s cabinet picks continue on a packed schedule . And officials are putting the final touches on days of celebrations for his inauguration on Friday , which will also be surrounded by protests . Security costs could top $ 100 million . _____ ? Australia ? s transport minister did not rule out future underwater searches for missing Malaysia Airlines Flight 370 , but said that investigators were certain the jet is not on the seabed in the area that searchers had scoured for nearly three years . The decision , while expected , drew criticism from families of the 239 people who were on board _____ ? Jay Y. Lee , the Samsung vice chairman , is expected to attend a hearing and then be held in detention ? possibly overnight ? to await the decision of a judge in Seoul on whether he should be arrested . Mr. Lee has denied accusations that he paid more than $ 36 million in bribes to organizations linked to Choi the unofficial adviser at the center of the corruption scandal that engulfed President Park . ? British American Tobacco is buying all of Reynolds American that it did not already own . The $ 49 billion deal , if approved by shareholders and regulators , will reshape the global tobacco industry . ? General Motors became the latest company to highlight initiatives following Mr. Trump ? s pressure to bolster U. S. manufacturing , announcing a $ 1 billion investment in American factories . ? the maker of aircraft engines and turbines , agreed to pay $ 817 million to resolve corruption inquiries by Britain , the U. S. and Brazil , including accusations of wrongdoing in Indonesia and China . ? The New York Times released a review of its newsroom and a blueprint for the future created by a team of seven of its journalists . ? U. S. stocks were lower . Here ? s a snapshot of global markets . ? Prime Minister Theresa May charted a ? clean break ? for Britain from the European Union and stressed her country ? s determination to regain control of migration . [ The New York Times ] ? A Nigerian fighter jet that meant to strike Boko Haram militants bombed a refugee camp . Doctors Without Borders counted more than 50 dead and 200 injured . [ The New York Times ] ? The widow of the gunman who killed 49 people at an Orlando , Fla. nightclub last year was charged under antiterrorism laws . ? She knew he was going to conduct the attack , ? a federal prosecutor asserted . [ The New York Times ] ? NASA and the National Oceanic and Atmospheric Administration are expected to announce that 2016 set the record for the hottest year globally . [ Climate Central ] ? The head of Air India was quoted as saying that the carrier planned to set aside seats to allow more protection for women traveling alone . [ The Economist ] ? Cambodia canceled military exercises with the U. S. for two years , a decision announced weeks after its exercises with China . [ The Cambodia Daily ] ? Bhutan has struggled to persuade other nations to adopt its Gross National Happiness index as a measure of social ills . [ The New York Times ] ? Fifty years ago this month , Vo Thi Mo led three commando squads against a U. S. Army battalion in the Vietnam War . Here is her story of resilience and survival . [ The New York Times ] ? Maybe don ? t skip your workout this morning ? it just might help your brain grow stronger . ? Here is a guide to help you teach young people about philanthropy and offer them the tools to give . ? Recipe of the day : For a simple side dish , try braised greens spiced with red pepper flakes . ? India ? s democracy includes 287 million illiterate people , so party symbols matter . This week , a feud over the image of a bicycle that had split a powerful political dynasty was resolved . ? Each spring , poplar trees planted by the millions under Mao blanket Chinese cities with cottonlike balls of fluff . In Beijing , the government hopes to eliminate the fuzz forever . ? And we introduce The Long View , in which the historian Jon Meacham looks at books that speak to historical and cultural moments . This first installment looks at the chaotic U. S. of the 1930s . The Oval Office is often used as shorthand for the U. S. presidency , but did you know that fewer than half of the presidents have worked there ? During President Theodore Roosevelt ? s term ( ) the West Wing was added to hold the executive branch ? s growing staff . He had a office in the addition ( now called the Roosevelt Room ) . Earlier leaders worked in the residence , mostly in what is known as the Lincoln Bedroom . Roosevelt ? s successor , William H. Taft , had the Oval Office built and was its first occupant . The design wasn ? t novel . George Washington had rooms in Philadelphia in 1791 , allowing him to greet guests circled around him . The pomp mimics an English court tradition called the lev ? e . There was a White House precursor , too . The Blue Room is rounded and used for diplomatic receptions . In the family quarters , there ? s a Yellow Oval Room . On Christmas Eve in 1929 , the Oval Office was badly damaged in a fire . President Franklin Roosevelt renovated it , moving it closer to the residence . The ? commute ? is under a minute . Presidents can redecorate , but there are limits . One is that the presidential seal must remain on the ceiling . And there ? s an other tradition : the outgoing president leaves a letter on the desk for his successor . Adeel Hassan contributed reporting . _____ Your Morning Briefing is published weekday mornings . What would you like to see here ? Contact us at asiabriefing @ nytimes . com .\n",
            "SAN FRANCISCO ? By mastering some tough computer chip technology and then pulling off an audacious business strategy based on selling its smartphone knowledge , Qualcomm has made billions of dollars and seized influence in the tech industry . Some days that is a real drag . On Friday , Apple , its longtime partner , sued Qualcomm over what it said was $ 1 billion in withheld rebates . In the lawsuit , filed in Federal District Court for the Southern District of California , in San Diego , Apple said the money had been promised in conjunction with an agreement not to buy chips from other suppliers or to divulge Qualcomm ? s intellectual property licensing practices . The suit seeks the rebates , among other things . Apple sued three days after the Federal Trade Commission accused Qualcomm of using anticompetitive practices to guarantee its high royalty payments for advanced wireless technology . The commission cited Qualcomm ? s deals with Taiwanese companies that manufacture Apple iPhones over semiconductors it sells for the iPhone . In its complaint , the commission described Qualcomm as ? the world ? s dominant supplier ? of semiconductors that manage smartphone communications . The commission said Qualcomm had obtained ? elevated royalties ? for its patented intellectual property on wireless communications . Other smartphone chip makers have to pay Qualcomm for that intellectual property , too . The commission and Apple complaints follow several other problems , including a $ 975 million fine by Chinese regulators in 2015 and activist shareholder complaints later that year that forced layoffs at Qualcomm . Last month , Qualcomm was fined $ 850 million in South Korea for unfair patent licensing . When Apple provided information to South Korean regulators in that case , and sought competing chips from Intel , Qualcomm refused to pay Apple its promised money , Apple said . Qualcomm has vowed to fight the South Korean charge and the F. T. C. suit . ? Apple has intentionally mischaracterized our agreements and negotiations , ? Qualcomm said in a statement , adding that it would fight that lawsuit , too . Few expect Qualcomm to back down . It was shaped by its founders to be brainy , combative and profitable . ? They are seasoned , and equipped to fight , ? said Mark Hung , an analyst at Gartner . ? But when such a big company is so reliant on the way it sells its intellectual property , and under the microscope in various geographies , it ? s tough . ? Qualcomm , which is based in San Diego , far from Silicon Valley , was founded in 1985 by seven people , including Irwin Jacobs and Andrew Viterbi . The two were electrical engineering professors who had formed a military satellite communications company . Qualcomm ? s engineers work at a campus between a park and the University of California , San Diego . They have earned thousands of patents , including for the airplane mode on smartphones and the way apps are downloaded from stores . Companies like Samsung and Apple need Qualcomm for the technology that enables things like wireless video for millions of people at once . Its major technology is spread spectrum , which harnesses lots of computation and clever radio engineering for use in the various functions of smartphones . Qualcomm ? s radio technology is called CDMA , for code division multiple access , a way voice calls work more efficiently over cellphone networks . And the company ? s influence grew over the last several years with the advent of or 3G , phones as people started downloading lots of mobile data as well as making calls . At the time , many thought Qualcomm ? s success would be limited to that transition . Instead , Qualcomm innovated in 4G wireless for the new smartphones from Samsung and Apple that toppled Nokia and Motorola . In its last fiscal year , Qualcomm had revenue of $ 23 . 6 billion and a profit of $ 5 . 7 billion . Qualcomm ? s ventures in phones and network gear helped promote CDMA but did not make much money because older companies did not need CDMA until the success of wireless began to tax the capacity of their networks . Qualcomm turned to Asian companies that wanted to get into wireless . ? You ? d never have seen the Koreans or the Chinese in wireless if not for Qualcomm and CDMA , ? said Clint McClellan , a employee of Qualcomm who now runs a wireless health business . ? We enabled those markets . ? South Korea , in particular , made CDMA an industrial policy , which carried Qualcomm for years . More recently , China accounted for half of Qualcomm ? s revenue . Apple ? s Taiwanese manufacturers , which pay Qualcomm royalties for iPhones , are another big profit center . Qualcomm would not say what it charges for its intellectual property , but analysts figure the fee usually amounts to 5 percent of the selling price of a phone ? at least it did , until the 2015 Chinese fine , which included an agreement that Chinese manufacturers pay only about half the old Qualcomm royalty . That , and problems collecting Chinese royalties even before the agreement , hurt Qualcomm ? s share price . In 2015 , Jana Partners , an activist hedge fund , stepped in and pressed for a breakup of the company into separate intellectual property and chip businesses . That did not happen , but Qualcomm cut about 15 percent of its staff , cut executive pay and gave Jana three board seats . The stock has recovered to about where it was just before the fine , but not to the heights it reached before the problems . By helping to create today ? s smartphone giants , Qualcomm may have engineered its current woes . Qualcomm executives say they see a connection between the China discounts , which Qualcomm had hoped would be limited to that country , and the latest regulatory attacks . ? We believe Samsung had a major role to play in the Korean decision , ? said Don Rosenberg , a lawyer for Qualcomm . The regulators , he said , ? were prodded and misled by commercial interests . ? In an email , Jee , a spokeswoman for Samsung , said it ? was one of many multinational corporations ? that responded to questions from South Korean regulators . Qualcomm ? s lawyer figures the Korean case may take years to move through the courts . And recent events , including the impeachment of South Korea ? s president and a bribery scandal at Samsung , could complicate , or eliminate , Qualcomm ? s regulatory issues there . Additionally , the F. T. C. has just three of its normal five commissioners . One of those , Maureen Ohlhausen , a Republican , voted against the suit . She may be named chairwoman when the current chairwoman , Edith Ramirez , a Democrat , steps down on Feb. 10 . Neither the F. T. C. nor Apple would comment on the United States case against Qualcomm . ? It ? s disappointing when our partners want to pay less after we ? ve contributed to their success , ? said Derek Aberle , Qualcomm ? s president . Now it must get out ahead of other technology inventors in 5G , possibly while paying billions in fines and dealing with a painful restructuring and fraying relationships with its biggest customers . ? We ? re not sitting still ? while the problems are sorted , Mr. Aberle said . ? You have to invest , and invent cool stuff that will change the way people live their lives . ? In other words , create unique technology so people will keep paying for Qualcomm ? s expensive intellectual property .\n"
          ]
        }
      ]
    },
    {
      "cell_type": "markdown",
      "source": [
        "#### BERT"
      ],
      "metadata": {
        "id": "pnu8i47T26fD"
      },
      "id": "pnu8i47T26fD"
    },
    {
      "cell_type": "code",
      "source": [
        "# pip install transformers"
      ],
      "metadata": {
        "id": "jYDtrvlEZ5NA"
      },
      "id": "jYDtrvlEZ5NA",
      "execution_count": null,
      "outputs": []
    },
    {
      "cell_type": "code",
      "source": [
        "from transformers import BertTokenizer, BertModel\n",
        "import torch\n",
        "\n",
        "# Initialize the tokenizer and model\n",
        "tokenizer = BertTokenizer.from_pretrained('bert-base-uncased')\n",
        "model = BertModel.from_pretrained('bert-base-uncased')\n",
        "\n",
        "# Function to encode pairs of query and document using BERT\n",
        "def encode_pairs(tokenized_query, tokenized_documents, tokenizer, model):\n",
        "  query = \" \".join(tokenized_query)\n",
        "  cls_embeddings = []\n",
        "  for tokenized_doc in tokenized_documents:\n",
        "      document = \" \".join(tokenized_doc)\n",
        "      # Tokenize and encode the sequences as a pair\n",
        "      inputs = tokenizer.encode_plus(query, document, return_tensors='pt', padding='max_length', truncation=True, max_length=512)\n",
        "      outputs = model(**inputs)\n",
        "      # Retrieve the [CLS] token's embeddings\n",
        "      cls_embedding = outputs.last_hidden_state[:, 0, :]\n",
        "      cls_embeddings.append(cls_embedding)\n",
        "  return cls_embeddings\n",
        "\n",
        "\n",
        "\n",
        "# Encode each query-document pair\n",
        "pair_embeddings = encode_pairs(tokenized_query, top_5_doc, tokenizer, model)\n",
        "\n",
        "# Flatten the embeddings tensor to 1D for scoring\n",
        "pair_scores = [torch.flatten(embed).detach().numpy() for embed in pair_embeddings]\n",
        "\n",
        "# Rank the documents based on the scores\n",
        "# The score here could be the sum of the embeddings or any other metric you determine to be relevant\n",
        "sorted_doc_indices = sorted(range(len(pair_scores)), key=lambda i: pair_scores[i].sum())\n",
        "\n",
        "# Sort the documents according to the scores\n",
        "sorted_docs = [top_5_doc[i] for i in sorted_doc_indices]\n",
        "\n",
        "# Print out the sorted documents\n",
        "print(\"Sorted documents based on BERT [CLS] embeddings:\")\n",
        "for doc in sorted_docs:\n",
        "    print(f\"Document: {' '.join(doc)}\")"
      ],
      "metadata": {
        "colab": {
          "base_uri": "https://localhost:8080/"
        },
        "id": "oHWGWLyGIlbc",
        "outputId": "b01ef510-481e-47c3-8131-f5299998dfa7"
      },
      "id": "oHWGWLyGIlbc",
      "execution_count": null,
      "outputs": [
        {
          "output_type": "stream",
          "name": "stderr",
          "text": [
            "/usr/local/lib/python3.10/dist-packages/huggingface_hub/utils/_token.py:89: UserWarning: \n",
            "The secret `HF_TOKEN` does not exist in your Colab secrets.\n",
            "To authenticate with the Hugging Face Hub, create a token in your settings tab (https://huggingface.co/settings/tokens), set it as secret in your Google Colab and restart your session.\n",
            "You will be able to reuse this secret in all of your notebooks.\n",
            "Please note that authentication is recommended but still optional to access public models or datasets.\n",
            "  warnings.warn(\n",
            "Be aware, overflowing tokens are not returned for the setting you have chosen, i.e. sequence pairs with the 'longest_first' truncation strategy. So the returned list will always be empty even if some tokens have been removed.\n",
            "Be aware, overflowing tokens are not returned for the setting you have chosen, i.e. sequence pairs with the 'longest_first' truncation strategy. So the returned list will always be empty even if some tokens have been removed.\n",
            "Be aware, overflowing tokens are not returned for the setting you have chosen, i.e. sequence pairs with the 'longest_first' truncation strategy. So the returned list will always be empty even if some tokens have been removed.\n",
            "Be aware, overflowing tokens are not returned for the setting you have chosen, i.e. sequence pairs with the 'longest_first' truncation strategy. So the returned list will always be empty even if some tokens have been removed.\n",
            "Be aware, overflowing tokens are not returned for the setting you have chosen, i.e. sequence pairs with the 'longest_first' truncation strategy. So the returned list will always be empty even if some tokens have been removed.\n"
          ]
        },
        {
          "output_type": "stream",
          "name": "stdout",
          "text": [
            "Sorted documents based on BERT [CLS] embeddings:\n",
            "Document: SEOUL , South Korea ? A special prosecutor investigating the corruption scandal that led to President Park ? s impeachment summoned the de facto head of Samsung for questioning on Wednesday , calling him a bribery suspect . The de facto leader , Jay Y. Lee , the vice chairman of Samsung , will be questioned on Thursday , according to the special prosecutor ? s office , which recommended that he also be investigated on suspicion of perjury . Mr. Lee effectively runs Samsung , South Korea ? s largest conglomerate he is the son of its chairman , Lee who has been incapacitated with health problems . He is expected to be asked whether donations that Samsung made to two foundations controlled by Choi a longtime friend of the president , amounted to bribes , and what role , if any , he played in the decision to give the money . Investigators at the special prosecutor ? s office have questioned other senior Samsung executives as suspects about the bribery accusations . Neither Samsung nor Mr. Lee responded immediately to the announcement on Wednesday . Allegations that Ms. Park helped Ms. Choi extort millions in bribes from Samsung and other companies are at the heart of the corruption scandal that led to the National Assembly ? s vote to impeach her last month . Since then , Ms. Park ? s powers have been suspended , and she is on trial at the Constitutional Court , which will ultimately decide whether to end her presidency . Last month , Mr. Lee testified at a National Assembly hearing that he was not involved in the decision by Samsung to make the donations . He also said that the donations were not voluntary , suggesting that the company was a victim of extortion , not a participant in bribery . The reference on Wednesday to possible perjury charges against Mr. Lee stemmed from that testimony . The special prosecutor ? s office said it had evidence that Mr. Lee had ? received a request for bribery from the president and ordered Samsung subsidiaries to send bribes to destinations designated by the president . ? It asked the National Assembly to file a perjury complaint against Mr. Lee , which would authorize the special prosecutor to open an investigation of that charge . Asked whether investigators would seek to arrest Mr. Lee on bribery charges , a spokesman for the special prosecutor ? s office , Lee said , ? All possibilities are open . ? In November , state prosecutors indicted Ms. Choi on charges of coercing 53 big businesses , including Samsung , to contribute $ 69 million to her two foundations . They identified Ms. Park as an accomplice but stopped short of filing any charges against the businesses , all of which insisted that they were under government pressure to donate . In its impeachment bill , the National Assembly asserted that the donations were bribes , made with the expectation of political favors from the president . The special prosecutor , which took over the investigations from the state prosecutors last month , has been looking into possible bribery charges against not only Ms. Park but the businesses , particularly Samsung . Ms. Park can not be indicted while in office . Samsung gave the largest donations to Ms. Choi ? s foundations , totaling $ 17 million . Unlike the other corporate contributors , it went beyond support for the foundations , signing an $ 18 million contract with a sports management company that Ms. Choi ran in Germany , to fund a program for training Korean equestrians , which mainly benefited Ms. Choi ? s daughter . Samsung also contributed $ 1 . 3 million to a winter sports program for young athletes that Ms. Choi and her nephew ran . Also on Wednesday , the special prosecutor ? s office said it had acquired a tablet computer used by Ms. Choi that contained emails she exchanged with a Samsung executive . The emails contained information about the financial support provided by Samsung , the prosecutor ? s office said . The special prosecutor has been investigating whether Samsung gave its support to Ms. Choi in exchange for a decision by the National Pension Service to support a contentious merger of two Samsung affiliates in 2015 . Moon chairman of the pension fund , was arrested last month on charges that he illegally pressured the fund to back that merger when he was South Korea ? s health and welfare minister . The national pension fund ? s support was crucial for the merger , which analysts said helped Mr. Lee inherit control of Samsung from his father .\n",
            "Document: ESCONDIDO , Calif. ? In Southern California in the fall of 2015 , a giant natural gas leak not only caused one of the worst environmental disasters in the nation ? s history , it also knocked out a critical fuel source for regional power plants . Energy regulators needed a quick fix . But rather than sticking with gas , they turned to a technology more closely associated with flashlights : batteries . They freed up the utilities to start installing batteries ? and lots of them . It is a solution that ? s audacious and risky . The idea is that the batteries can store electricity during daylight hours ( when the state ? s many solar panels are flooding the grid with power ) then release it as demand peaks ( early evening , when people get home ) . In effect , the rechargeable batteries are like an power plant , and , in theory , able to replace an actual plant . Utilities have been studying batteries nationwide . But none have moved ahead with the gusto of those in Southern California . This idea has potential . But the challenge of storing electricity has vexed engineers , researchers , policy makers and entrepreneurs for centuries . Even as countless technologies have raced ahead , batteries haven ? t yet fulfilled their promise . And the most powerful new designs come with their own risks , such as fire or explosion if poorly made or maintained . It ? s the same problem that forced Samsung to recall 2 . 5 million Galaxy Note 7 smartphones in September because of fire risk . After racing for months , engineers here in California have brought three sites close to completion to begin serving the Southern California electric grid within the next month . They are made up of thousands of oversize versions of the batteries now widely used in smartphones , laptop computers and other digital devices . One of the installations , at a San Diego Gas Electric operations center surrounded by industrial parks in Escondido , Calif. 30 miles north of San Diego , will be the largest of its kind in the world , developers say . It represents the most crucial test yet of an technology that many experts see as fundamental to a future . Here , about 130 miles southeast of Aliso Canyon , the site of the immense gas leak in 2015 ? the equivalent of operating about 1 . 7 million cars over the course of a year ? 19 , 000 battery modules the size of a kitchen drawer are being wired together in racks . They will operate out of two dozen beige , trailers . Made by Samsung , the batteries are meant to store enough energy to serve as a backup in cases of fuel shortages . They are also designed to absorb energy , particularly solar power , during the day and feed it back to the grid after dusk . They in effect can fill in for the plants that might lack the fuel to fully operate because of the disastrous leak . ? California is giving batteries the opportunity to show what they can do , ? said Andr ? s Gluski , chief executive of AES , which is installing the storage systems . AES is installing a smaller array for the electric utility in El Cajon , a suburb east of San Diego . And separately Tesla , the company perhaps better known for its electric cars , has built an array for a different utility on the grid , Southern California Edison , near Chino , Calif . The stakes are high for both energy storage companies . If their projects struggle or fail , it could jeopardize not only the stability of Southern California ? s grid but also interest in the technology over all . After a smaller , but pioneering battery project at a wind farm on Oahu in Hawaii went up in flames in 2012 , investment in battery storage all but dried up for a few years . That installation , which used 12 , 000 batteries to help even out fluctuations in the power flow , caught fire three times in its first 18 months of operation . The storage developer , Xtreme , eventually went bankrupt . The wind farm turned to a different technology to smooth its output . Keeping a close eye on the Southern California battery efforts is Susan Kennedy , who helped shepherd California ? s energy policy for more than a decade as a state utility regulator and operative for two governors ? Gray Davis , a Democrat , and Arnold Schwarzenegger , a Republican . She now runs an energy storage one not involved in the response to the Aliso Canyon gas leak . ? The moment one fails , ? Ms. Kennedy said of the big bet on batteries , ? they won ? t build any more . ? As soon as AES ? s chief executive , Mr. Gluski , learned last June that San Diego Gas Electric had awarded AES the big battery contract , he leapt out of his chair and interrupted a meeting in his board room at the company ? s headquarters in Arlington , Va. As employees watched in astonishment , he barreled down two flights of stairs , grabbed a mallet and , with a ceremonial flourish , banged a gong that one of his executives kept on hand for big news . Mr. Gluski had not had much occasion to celebrate since he had taken the AES reins five years earlier . The company was struggling with debt and trying to coax profits from projects around the developing world that are buffeted by instability in politics , currency and commodity prices . His first steps included an austerity program in which he gave up many of his own executive perks : No more membership . No more corporate Audi A8 , with driver . But the more part of his plan would be AES ? s battery division , which was then fledgling . The unit had roots in two midlevel executives who had been speculating about a future over beers . Those two men , John Zahurancik , a science fiction fan , and Chris Shelton , a former physics teacher , had started talking about batteries a decade ago , before electric cars became fashionable or even feasible . In 2006 , Mr. Shelton had come across a professor ? s paper that predicted a future dominated by electric cars that , when parked , could be connected to the power grid so their batteries could act as storage devices to help balance electricity demand . He and Mr. Zahurancik bounced the idea off some AES colleagues , who said it was at least theoretically feasible . So the two continued their bull sessions but decided that stationary battery arrays may make more sense than relying on electric cars . At the time , batteries , the standard in consumer products , were widely in use in the transportation and power tool industries , but no one had paired them with the technology necessary to serve the power grid . Earlier experiments with and other types of batteries worked only for a year or two before conking out . A different technology , ? flow batteries , ? which use chemicals dissolved in liquids in tanks , were considered even more experimental . But lithium packs more energy per weight than other metals , offering the promise of greater energy density and longevity . The trick would be to figure out how to harness all that power , which creates heat , while avoiding the fires such batteries have caused in any number of vehicles and gadgets , including Teslas , HP computers , hoverboards and , most recently , Samsung Galaxy Note 7s . The two hit upon a design and persuaded executives to begin a pilot project in 2008 . That eventually led to the first commercial battery on a grid . Mr. Zahurancik , who owns the gong , is now president of AES Energy Storage . Mr. Shelton is now the company ? s vice president and chief technology officer . AES does not actually make its batteries but buys them , along with other equipment , from manufacturers like Samsung , LG Chem and Panasonic . It designs and assembles the arrays , stacking the boxy batteries into racks inside containers . In Escondido , where local radio stations still carry public service announcements about the shortage , the AES battery packs are being installed at a critical spot on the regional electrical grid : the place where the giant wires from power plants and wind and solar arrays connect to the network of local wires . The batteries are intended to relieve the pressure on the system . Mainly , they will serve as a kind of sponge , soaking up excess or solar energy during the day and then squeezing it back into the grid in the evening , when demand surges as the sun sets . There is enough capacity in the containers full of batteries to power about 20 , 000 homes for four hours . The idea is that they help the utility lessen its dependence on the type of natural gas plants known as ? peakers , ? which can turn on and off quickly to meet sudden peaks of demand but are generally used only for short periods and at great expense . And peakers , by burning fossil fuel , are also at odds with California ? s goals . The project is also being watched closely by advocates for renewable energy . The reason : If battery installations work as designed , they would help wind or solar generators to act more like conventional power plants by working steadily even when the sun isn ? t shining or the wind isn ? t blowing . ? Energy storage is really the tool to do renewables integration for a utility infrastructure company like us , ? said Josh Gerber , advanced technology integration manager of SDGE , as workers smoothed the concrete pads that support the containers at the Escondido site . ? Without it , you have more risk that the variability of renewables is going to cause reliability problems . ? Under the contract , AES is responsible for making sure the batteries perform for 10 years , after which SDGE will take over . One potential downside is that if the batteries are fully charged and discharged each day , they could degrade more quickly . The executives involved expressed confidence in the design and reliability , despite Samsung ? s recent smartphone problems . Not only are these batteries a different configuration than the smartphone units , executives said , but the larger footprint allows for the inclusion of sophisticated monitoring as well as industrial safety and cooling and ventilation equipment . The project , along with the smaller array AES has installed in El Cajon , could provide the leap Mr. Gluski has been striving for . AES has a deal for an even bigger installation in a $ 1 billion project in Long Beach with Southern California Edison that is not part of the Aliso Canyon remediation effort it is projected to go online by the end of 2020 . The electric company plans to use batteries as part of a plan to replace an aging gas plant along the San Gabriel River . Long term , Mr. Gluski plans to shift the company ? s portfolio ? still heavily based on coal and natural gas ? toward more renewable energy . He sees the storage systems as vital components in turning solar and wind energy into a dominant power source in the parts of Latin America , Asia and Africa where AES is active . Whatever progress it has made , AES still has its share of problems , with $ 20 billion in debt and a stock price less than the value that it had at the start of the century . It faces wary , if not outright skeptical , treatment by Wall Street utility analysts and energy experts , who say the technology AES is peddling on such a large scale in California remains untested and financially risky . ? The problem comes if there is a hiccup with the battery storage business in California , ? said Charles Fishman , a utilities analyst at Morningstar . ? You don ? t have the parent that can push money to it and keep it out of trouble . ? Despite all the battery activity in California , executives around the utility industry remain cautious . ? The reason we don ? t have widespread batteries on our system is because it is not for us , ? said Alice Jackson , vice president for strategic revenue initiatives at Xcel , a giant electricity and gas utility serving eight Western and Midwestern states . Xcel has been testing batteries about as long as AES , but almost exclusively in small pilots . ? It ? s fair to say we don ? t have experience with this technology to say that it is perfect , or a nirvana , ? Ms. Jackson said . ? It ? s something we ? ll observe as California goes through its experience . ? California ? s latest experiment with batteries is but the latest bout in the state ? s long struggle to match its energy needs with its environmental sensibilities . In the early 2000s , after market deregulation and Enron ? s notorious manipulation of gas supplies led to blackouts and financial instability among the power companies , state officials decided to lessen reliance on natural gas by encouraging the development of wind and solar . Under Mr. Schwarzenegger , who was governor until 2011 , officials pushed through a raft of overlapping regulations that created a boom in renewables , especially solar . But that upended the traditional patterns of supply and demand , making the overall energy system technically and economically difficult to manage . Batteries were the logical solution . But the technology wasn ? t fully developed and was still too expensive . In order for companies to make the necessary investments , they needed a signal that there would be a big enough market for their products . So in 2010 , the state approved one of the first mandates , ultimately requiring utilities to install some form of storage equipment in their territories . That set off a flurry of new investment and innovation and , after the sudden closure of the San Onofre nuclear plant on the coast in northwest San Diego County in 2012 when a steam generator tube sprung a leak , new contracts for battery installations . But the Aliso Canyon accident , which began on Oct. 23 , 2015 , when the Southern California Gas Company first detected the leak , put that process on . The gas and intermittent oily mist that spewed forth over almost four months traveled into the surrounding neighborhoods on the strong winds that sweep down from the Santa Susana Mountains . At the same time , it forced the battery strategy into its most test yet . Now it ? s showtime , and the pressure to succeed is high all around . For AES , it could signify an important step for a relic that is seeking to revitalize itself as a powerhouse in battery storage and other advanced technologies . For advocates ? including residents of the Porter Ranch section of Los Angeles , so that Steven Spielberg chose it as the setting for the 1982 movie ? E . T. , ? but where many still complain of the rashes , headaches and other debilitating symptoms that drove thousands from their homes during the leak ? it could be a powerful weapon in the fight to keep the gas depot closed . But the pressure may be highest for the Southern California utilities , their reputations still blackened by waves of forced electricity cuts that followed the Enron debacle . No one wants to contemplate a repeat of that chapter , when blackouts affected factories and even some hospitals . ? When the power goes out , people die , ? said Ms. Kennedy , the former state official . ? Failure is not an option here on any level . ?\n",
            "Document: SEOUL , South Korea ? A South Korean court on Thursday blocked a prosecutor ? s attempt to arrest Jay Y. Lee , the leader of Samsung , saying there was not enough evidence that Mr. Lee had bribed President Park in a scandal that led to her impeachment . A justice on the Central District Court in Seoul , Cho rejected the prosecutor ? s request to issue an arrest warrant , saying said it was ? difficult to recognize the need ? to incarcerate Mr. Lee . Mr. Lee , a scion and vice chairman of Samsung , one of the world ? s biggest conglomerates , was immediately released from a detention center outside Seoul , where he had been waiting for the court to decide whether he should be formally arrested . South Koreans have paid keen attention to the fate of Mr. Lee . Some analysts said his case was a test of whether the country ? s relatively youthful democracy and judicial system are ready to crack down on the crimes of conglomerates . No Samsung leader has ever been jailed , though the company has been investigated many times for corruption . The court ? s decision is likely to anger many South Koreans who have held weekend rallies calling for Ms. Park ? s ouster and the arrest of business tycoons on corruption charges . The special prosecutor called the court decision ? very regrettable . ? But he has yet to announce whether he will offer more evidence in a renewed effort to have Mr. Lee arrested . He can also indict Mr. Lee on bribery or lesser charges without arresting him . ? We will take necessary steps and persist in our investigation without wavering , ? said Lee a spokesman for the special prosecutor , without elaborating . Samsung welcomed the court ? s decision . For now , the ruling allows Mr. Lee to continue to lead Samsung . It dealt a blow to the special prosecutor who had tried to build a bribery case against Mr. Lee and Ms. Park . Mr. Lee ? s father has twice been convicted of bribery and tax evasion but has never spent a day in prison . Each time , he received a presidential pardon and returned to management . Mr. Lee , 48 , was accused of paying $ 36 million to Ms. Park ? s secretive confidante , Choi . The special prosecutor and Mr. Lee ? s lawyers have been arguing over how to characterize the money . In November , state prosecutors indicted Ms. Choi on extortion charges , saying she leveraged her connections with Ms. Park to coerce Samsung and scores of other big businesses to contribute tens of millions of dollars to two foundations Ms. Choi controlled or to companies run by her or her associates . They identified Ms. Park as an accomplice , but they brought no charges against the businesses , which they saw as victims of extortion . But the special prosecutor , Park who took over the investigation from state prosecutors last month , has called Samsung ? s contributions bribes that were exchanged for political favors from Ms. Park . That includes government support for a merger of two Samsung affiliates in 2015 , which helped Mr. Lee inherit corporate control from his incapacitated father , the chairman , Lee according to the prosecutor . groups accused the prosecutor of overreaching in an attempt to find a scapegoat to soothe a public infuriated over Ms. Park ? s corruption scandal and fed up with decades of collusive ties between the government and the chaebol . Mr. Lee was the most prominent businessman to be ensnared in the special prosecutor ? s broadening investigation into the corruption scandal that led to Ms. Park ? s impeachment by Parliament last month . Ms. Park ? s presidential powers remained suspended , while the Constitutional Court is expected to rule in coming weeks whether she should be reinstated or formally removed from office . ? We have been too lenient toward chaebol corruption , ? said Moon an opposition politician who leads in polls on contenders to replace Ms. Park if she is removed . Speaking to a group of foreign reporters hours before the court ? s decision , Mr . Moon said Samsung was typical of a chaebol whose top boss wielded ? imperial powers ? over his sprawling business group but was ? seldom held accountable ? for corruption or managerial failures . Ms. Park denies any wrongdoing . Mr. Lee and Samsung have also denied bribery they argued that the ? donations ? Samsung paid out to Ms. Choi were coerced , not meant as a quid pro quo for political favors from Ms. Park .\n",
            "Document: Good morning . Here ? s what you need to know : ? President Obama commuted most of the sentence of Chelsea Manning , the army intelligence analyst convicted of an enormous 2010 leak to WikiLeaks that revealed U. S. military and diplomatic activities around the world . She will be free in five months . The decision will likely come up at Mr. Obama ? s final news conference today , along with other legacy issues , like the fight to preserve the Affordable Care Act . A report found that repealing major provisions of Obamacare would cost 18 million people medical insurance in the first year , a number that could increase to 32 million in 10 years . _____ ? President Xi Jinping of China continues a visit to Switzerland , with stops at the U. N. in Geneva and the International Olympic Committee in Lausanne . Mr. Xi , who made a forceful argument for free trade , international integration and climate responsibility at the World Economic Forum on Tuesday , appears to be positioning China as a global leader in sharp contrast to the incoming U. S. president , Donald J. Trump . _____ ? ? Rigged . ? Mr. Trump hit back at a poll that put his favorability rating at 40 percent , compared with President Obama ? s 79 percent before inauguration and George W. Bush ? s 62 percent . Senate hearings for Mr. Trump ? s cabinet picks continue on a packed schedule . And officials are putting the final touches on days of celebrations for his inauguration on Friday , which will also be surrounded by protests . Security costs could top $ 100 million . _____ ? Australia ? s transport minister did not rule out future underwater searches for missing Malaysia Airlines Flight 370 , but said that investigators were certain the jet is not on the seabed in the area that searchers had scoured for nearly three years . The decision , while expected , drew criticism from families of the 239 people who were on board _____ ? Jay Y. Lee , the Samsung vice chairman , is expected to attend a hearing and then be held in detention ? possibly overnight ? to await the decision of a judge in Seoul on whether he should be arrested . Mr. Lee has denied accusations that he paid more than $ 36 million in bribes to organizations linked to Choi the unofficial adviser at the center of the corruption scandal that engulfed President Park . ? British American Tobacco is buying all of Reynolds American that it did not already own . The $ 49 billion deal , if approved by shareholders and regulators , will reshape the global tobacco industry . ? General Motors became the latest company to highlight initiatives following Mr. Trump ? s pressure to bolster U. S. manufacturing , announcing a $ 1 billion investment in American factories . ? the maker of aircraft engines and turbines , agreed to pay $ 817 million to resolve corruption inquiries by Britain , the U. S. and Brazil , including accusations of wrongdoing in Indonesia and China . ? The New York Times released a review of its newsroom and a blueprint for the future created by a team of seven of its journalists . ? U. S. stocks were lower . Here ? s a snapshot of global markets . ? Prime Minister Theresa May charted a ? clean break ? for Britain from the European Union and stressed her country ? s determination to regain control of migration . [ The New York Times ] ? A Nigerian fighter jet that meant to strike Boko Haram militants bombed a refugee camp . Doctors Without Borders counted more than 50 dead and 200 injured . [ The New York Times ] ? The widow of the gunman who killed 49 people at an Orlando , Fla. nightclub last year was charged under antiterrorism laws . ? She knew he was going to conduct the attack , ? a federal prosecutor asserted . [ The New York Times ] ? NASA and the National Oceanic and Atmospheric Administration are expected to announce that 2016 set the record for the hottest year globally . [ Climate Central ] ? The head of Air India was quoted as saying that the carrier planned to set aside seats to allow more protection for women traveling alone . [ The Economist ] ? Cambodia canceled military exercises with the U. S. for two years , a decision announced weeks after its exercises with China . [ The Cambodia Daily ] ? Bhutan has struggled to persuade other nations to adopt its Gross National Happiness index as a measure of social ills . [ The New York Times ] ? Fifty years ago this month , Vo Thi Mo led three commando squads against a U. S. Army battalion in the Vietnam War . Here is her story of resilience and survival . [ The New York Times ] ? Maybe don ? t skip your workout this morning ? it just might help your brain grow stronger . ? Here is a guide to help you teach young people about philanthropy and offer them the tools to give . ? Recipe of the day : For a simple side dish , try braised greens spiced with red pepper flakes . ? India ? s democracy includes 287 million illiterate people , so party symbols matter . This week , a feud over the image of a bicycle that had split a powerful political dynasty was resolved . ? Each spring , poplar trees planted by the millions under Mao blanket Chinese cities with cottonlike balls of fluff . In Beijing , the government hopes to eliminate the fuzz forever . ? And we introduce The Long View , in which the historian Jon Meacham looks at books that speak to historical and cultural moments . This first installment looks at the chaotic U. S. of the 1930s . The Oval Office is often used as shorthand for the U. S. presidency , but did you know that fewer than half of the presidents have worked there ? During President Theodore Roosevelt ? s term ( ) the West Wing was added to hold the executive branch ? s growing staff . He had a office in the addition ( now called the Roosevelt Room ) . Earlier leaders worked in the residence , mostly in what is known as the Lincoln Bedroom . Roosevelt ? s successor , William H. Taft , had the Oval Office built and was its first occupant . The design wasn ? t novel . George Washington had rooms in Philadelphia in 1791 , allowing him to greet guests circled around him . The pomp mimics an English court tradition called the lev ? e . There was a White House precursor , too . The Blue Room is rounded and used for diplomatic receptions . In the family quarters , there ? s a Yellow Oval Room . On Christmas Eve in 1929 , the Oval Office was badly damaged in a fire . President Franklin Roosevelt renovated it , moving it closer to the residence . The ? commute ? is under a minute . Presidents can redecorate , but there are limits . One is that the presidential seal must remain on the ceiling . And there ? s an other tradition : the outgoing president leaves a letter on the desk for his successor . Adeel Hassan contributed reporting . _____ Your Morning Briefing is published weekday mornings . What would you like to see here ? Contact us at asiabriefing @ nytimes . com .\n",
            "Document: SAN FRANCISCO ? By mastering some tough computer chip technology and then pulling off an audacious business strategy based on selling its smartphone knowledge , Qualcomm has made billions of dollars and seized influence in the tech industry . Some days that is a real drag . On Friday , Apple , its longtime partner , sued Qualcomm over what it said was $ 1 billion in withheld rebates . In the lawsuit , filed in Federal District Court for the Southern District of California , in San Diego , Apple said the money had been promised in conjunction with an agreement not to buy chips from other suppliers or to divulge Qualcomm ? s intellectual property licensing practices . The suit seeks the rebates , among other things . Apple sued three days after the Federal Trade Commission accused Qualcomm of using anticompetitive practices to guarantee its high royalty payments for advanced wireless technology . The commission cited Qualcomm ? s deals with Taiwanese companies that manufacture Apple iPhones over semiconductors it sells for the iPhone . In its complaint , the commission described Qualcomm as ? the world ? s dominant supplier ? of semiconductors that manage smartphone communications . The commission said Qualcomm had obtained ? elevated royalties ? for its patented intellectual property on wireless communications . Other smartphone chip makers have to pay Qualcomm for that intellectual property , too . The commission and Apple complaints follow several other problems , including a $ 975 million fine by Chinese regulators in 2015 and activist shareholder complaints later that year that forced layoffs at Qualcomm . Last month , Qualcomm was fined $ 850 million in South Korea for unfair patent licensing . When Apple provided information to South Korean regulators in that case , and sought competing chips from Intel , Qualcomm refused to pay Apple its promised money , Apple said . Qualcomm has vowed to fight the South Korean charge and the F. T. C. suit . ? Apple has intentionally mischaracterized our agreements and negotiations , ? Qualcomm said in a statement , adding that it would fight that lawsuit , too . Few expect Qualcomm to back down . It was shaped by its founders to be brainy , combative and profitable . ? They are seasoned , and equipped to fight , ? said Mark Hung , an analyst at Gartner . ? But when such a big company is so reliant on the way it sells its intellectual property , and under the microscope in various geographies , it ? s tough . ? Qualcomm , which is based in San Diego , far from Silicon Valley , was founded in 1985 by seven people , including Irwin Jacobs and Andrew Viterbi . The two were electrical engineering professors who had formed a military satellite communications company . Qualcomm ? s engineers work at a campus between a park and the University of California , San Diego . They have earned thousands of patents , including for the airplane mode on smartphones and the way apps are downloaded from stores . Companies like Samsung and Apple need Qualcomm for the technology that enables things like wireless video for millions of people at once . Its major technology is spread spectrum , which harnesses lots of computation and clever radio engineering for use in the various functions of smartphones . Qualcomm ? s radio technology is called CDMA , for code division multiple access , a way voice calls work more efficiently over cellphone networks . And the company ? s influence grew over the last several years with the advent of or 3G , phones as people started downloading lots of mobile data as well as making calls . At the time , many thought Qualcomm ? s success would be limited to that transition . Instead , Qualcomm innovated in 4G wireless for the new smartphones from Samsung and Apple that toppled Nokia and Motorola . In its last fiscal year , Qualcomm had revenue of $ 23 . 6 billion and a profit of $ 5 . 7 billion . Qualcomm ? s ventures in phones and network gear helped promote CDMA but did not make much money because older companies did not need CDMA until the success of wireless began to tax the capacity of their networks . Qualcomm turned to Asian companies that wanted to get into wireless . ? You ? d never have seen the Koreans or the Chinese in wireless if not for Qualcomm and CDMA , ? said Clint McClellan , a employee of Qualcomm who now runs a wireless health business . ? We enabled those markets . ? South Korea , in particular , made CDMA an industrial policy , which carried Qualcomm for years . More recently , China accounted for half of Qualcomm ? s revenue . Apple ? s Taiwanese manufacturers , which pay Qualcomm royalties for iPhones , are another big profit center . Qualcomm would not say what it charges for its intellectual property , but analysts figure the fee usually amounts to 5 percent of the selling price of a phone ? at least it did , until the 2015 Chinese fine , which included an agreement that Chinese manufacturers pay only about half the old Qualcomm royalty . That , and problems collecting Chinese royalties even before the agreement , hurt Qualcomm ? s share price . In 2015 , Jana Partners , an activist hedge fund , stepped in and pressed for a breakup of the company into separate intellectual property and chip businesses . That did not happen , but Qualcomm cut about 15 percent of its staff , cut executive pay and gave Jana three board seats . The stock has recovered to about where it was just before the fine , but not to the heights it reached before the problems . By helping to create today ? s smartphone giants , Qualcomm may have engineered its current woes . Qualcomm executives say they see a connection between the China discounts , which Qualcomm had hoped would be limited to that country , and the latest regulatory attacks . ? We believe Samsung had a major role to play in the Korean decision , ? said Don Rosenberg , a lawyer for Qualcomm . The regulators , he said , ? were prodded and misled by commercial interests . ? In an email , Jee , a spokeswoman for Samsung , said it ? was one of many multinational corporations ? that responded to questions from South Korean regulators . Qualcomm ? s lawyer figures the Korean case may take years to move through the courts . And recent events , including the impeachment of South Korea ? s president and a bribery scandal at Samsung , could complicate , or eliminate , Qualcomm ? s regulatory issues there . Additionally , the F. T. C. has just three of its normal five commissioners . One of those , Maureen Ohlhausen , a Republican , voted against the suit . She may be named chairwoman when the current chairwoman , Edith Ramirez , a Democrat , steps down on Feb. 10 . Neither the F. T. C. nor Apple would comment on the United States case against Qualcomm . ? It ? s disappointing when our partners want to pay less after we ? ve contributed to their success , ? said Derek Aberle , Qualcomm ? s president . Now it must get out ahead of other technology inventors in 5G , possibly while paying billions in fines and dealing with a painful restructuring and fraying relationships with its biggest customers . ? We ? re not sitting still ? while the problems are sorted , Mr. Aberle said . ? You have to invest , and invent cool stuff that will change the way people live their lives . ? In other words , create unique technology so people will keep paying for Qualcomm ? s expensive intellectual property .\n"
          ]
        }
      ]
    },
    {
      "cell_type": "markdown",
      "source": [
        "### Answer Span Extraction"
      ],
      "metadata": {
        "id": "huUFkWRGnTn4"
      },
      "id": "huUFkWRGnTn4"
    },
    {
      "cell_type": "code",
      "source": [
        "!pip install sentence-transformers"
      ],
      "metadata": {
        "colab": {
          "base_uri": "https://localhost:8080/"
        },
        "id": "ODSim-wMnuDu",
        "outputId": "68e086c5-b758-4b73-ff1e-c4ad4fcb60b7"
      },
      "id": "ODSim-wMnuDu",
      "execution_count": null,
      "outputs": [
        {
          "output_type": "stream",
          "name": "stdout",
          "text": [
            "Collecting sentence-transformers\n",
            "  Downloading sentence_transformers-2.7.0-py3-none-any.whl.metadata (11 kB)\n",
            "Requirement already satisfied: transformers<5.0.0,>=4.34.0 in /usr/local/lib/python3.10/dist-packages (from sentence-transformers) (4.38.2)\n",
            "Requirement already satisfied: tqdm in /usr/local/lib/python3.10/dist-packages (from sentence-transformers) (4.66.2)\n",
            "Requirement already satisfied: torch>=1.11.0 in /usr/local/lib/python3.10/dist-packages (from sentence-transformers) (1.13.1)\n",
            "Requirement already satisfied: numpy in /usr/local/lib/python3.10/dist-packages (from sentence-transformers) (1.25.2)\n",
            "Requirement already satisfied: scikit-learn in /usr/local/lib/python3.10/dist-packages (from sentence-transformers) (1.2.2)\n",
            "Requirement already satisfied: scipy in /usr/local/lib/python3.10/dist-packages (from sentence-transformers) (1.11.4)\n",
            "Requirement already satisfied: huggingface-hub>=0.15.1 in /usr/local/lib/python3.10/dist-packages (from sentence-transformers) (0.22.2)\n",
            "Requirement already satisfied: Pillow in /usr/local/lib/python3.10/dist-packages (from sentence-transformers) (9.4.0)\n",
            "Requirement already satisfied: filelock in /usr/local/lib/python3.10/dist-packages (from huggingface-hub>=0.15.1->sentence-transformers) (3.13.4)\n",
            "Requirement already satisfied: fsspec>=2023.5.0 in /usr/local/lib/python3.10/dist-packages (from huggingface-hub>=0.15.1->sentence-transformers) (2023.6.0)\n",
            "Requirement already satisfied: packaging>=20.9 in /usr/local/lib/python3.10/dist-packages (from huggingface-hub>=0.15.1->sentence-transformers) (24.0)\n",
            "Requirement already satisfied: pyyaml>=5.1 in /usr/local/lib/python3.10/dist-packages (from huggingface-hub>=0.15.1->sentence-transformers) (6.0.1)\n",
            "Requirement already satisfied: requests in /usr/local/lib/python3.10/dist-packages (from huggingface-hub>=0.15.1->sentence-transformers) (2.31.0)\n",
            "Requirement already satisfied: typing-extensions>=3.7.4.3 in /usr/local/lib/python3.10/dist-packages (from huggingface-hub>=0.15.1->sentence-transformers) (4.11.0)\n",
            "Requirement already satisfied: nvidia-cuda-runtime-cu11==11.7.99 in /usr/local/lib/python3.10/dist-packages (from torch>=1.11.0->sentence-transformers) (11.7.99)\n",
            "Requirement already satisfied: nvidia-cudnn-cu11==8.5.0.96 in /usr/local/lib/python3.10/dist-packages (from torch>=1.11.0->sentence-transformers) (8.5.0.96)\n",
            "Requirement already satisfied: nvidia-cublas-cu11==11.10.3.66 in /usr/local/lib/python3.10/dist-packages (from torch>=1.11.0->sentence-transformers) (11.10.3.66)\n",
            "Requirement already satisfied: nvidia-cuda-nvrtc-cu11==11.7.99 in /usr/local/lib/python3.10/dist-packages (from torch>=1.11.0->sentence-transformers) (11.7.99)\n",
            "Requirement already satisfied: setuptools in /usr/local/lib/python3.10/dist-packages (from nvidia-cublas-cu11==11.10.3.66->torch>=1.11.0->sentence-transformers) (67.7.2)\n",
            "Requirement already satisfied: wheel in /usr/local/lib/python3.10/dist-packages (from nvidia-cublas-cu11==11.10.3.66->torch>=1.11.0->sentence-transformers) (0.43.0)\n",
            "Requirement already satisfied: regex!=2019.12.17 in /usr/local/lib/python3.10/dist-packages (from transformers<5.0.0,>=4.34.0->sentence-transformers) (2023.12.25)\n",
            "Requirement already satisfied: tokenizers<0.19,>=0.14 in /usr/local/lib/python3.10/dist-packages (from transformers<5.0.0,>=4.34.0->sentence-transformers) (0.15.2)\n",
            "Requirement already satisfied: safetensors>=0.4.1 in /usr/local/lib/python3.10/dist-packages (from transformers<5.0.0,>=4.34.0->sentence-transformers) (0.4.3)\n",
            "Requirement already satisfied: joblib>=1.1.1 in /usr/local/lib/python3.10/dist-packages (from scikit-learn->sentence-transformers) (1.4.0)\n",
            "Requirement already satisfied: threadpoolctl>=2.0.0 in /usr/local/lib/python3.10/dist-packages (from scikit-learn->sentence-transformers) (3.4.0)\n",
            "Requirement already satisfied: charset-normalizer<4,>=2 in /usr/local/lib/python3.10/dist-packages (from requests->huggingface-hub>=0.15.1->sentence-transformers) (3.3.2)\n",
            "Requirement already satisfied: idna<4,>=2.5 in /usr/local/lib/python3.10/dist-packages (from requests->huggingface-hub>=0.15.1->sentence-transformers) (3.7)\n",
            "Requirement already satisfied: urllib3<3,>=1.21.1 in /usr/local/lib/python3.10/dist-packages (from requests->huggingface-hub>=0.15.1->sentence-transformers) (2.0.7)\n",
            "Requirement already satisfied: certifi>=2017.4.17 in /usr/local/lib/python3.10/dist-packages (from requests->huggingface-hub>=0.15.1->sentence-transformers) (2024.2.2)\n",
            "Downloading sentence_transformers-2.7.0-py3-none-any.whl (171 kB)\n",
            "\u001b[2K   \u001b[90m━━━━━━━━━━━━━━━━━━━━━━━━━━━━━━━━━━━━━━━━\u001b[0m \u001b[32m171.5/171.5 kB\u001b[0m \u001b[31m1.6 MB/s\u001b[0m eta \u001b[36m0:00:00\u001b[0m\n",
            "\u001b[?25hInstalling collected packages: sentence-transformers\n",
            "Successfully installed sentence-transformers-2.7.0\n",
            "\u001b[33mWARNING: Running pip as the 'root' user can result in broken permissions and conflicting behaviour with the system package manager. It is recommended to use a virtual environment instead: https://pip.pypa.io/warnings/venv\u001b[0m\u001b[33m\n",
            "\u001b[0m"
          ]
        }
      ]
    },
    {
      "cell_type": "code",
      "source": [
        "tokenizer = nltk.data.load('tokenizers/punkt/PY3/english.pickle')"
      ],
      "metadata": {
        "id": "pu6H3G4OupLk"
      },
      "id": "pu6H3G4OupLk",
      "execution_count": null,
      "outputs": []
    },
    {
      "cell_type": "code",
      "source": [
        "from sentence_transformers import SentenceTransformer"
      ],
      "metadata": {
        "id": "mWVvVMM7vQ4P"
      },
      "id": "mWVvVMM7vQ4P",
      "execution_count": null,
      "outputs": []
    },
    {
      "cell_type": "code",
      "source": [
        "import nltk\n",
        "import torch\n",
        "from transformers import BertTokenizer, BertModel\n",
        "from sklearn.metrics.pairwise import cosine_similarity"
      ],
      "metadata": {
        "id": "HKiON6KbwzuK"
      },
      "id": "HKiON6KbwzuK",
      "execution_count": null,
      "outputs": []
    },
    {
      "cell_type": "code",
      "source": [
        "nltk.download('punkt')"
      ],
      "metadata": {
        "colab": {
          "base_uri": "https://localhost:8080/"
        },
        "id": "q6fKpPF_w3FC",
        "outputId": "e02e2655-5153-41ff-fa6c-2e746872d10f"
      },
      "id": "q6fKpPF_w3FC",
      "execution_count": null,
      "outputs": [
        {
          "output_type": "stream",
          "name": "stderr",
          "text": [
            "[nltk_data] Downloading package punkt to /root/nltk_data...\n",
            "[nltk_data]   Package punkt is already up-to-date!\n"
          ]
        },
        {
          "output_type": "execute_result",
          "data": {
            "text/plain": [
              "True"
            ]
          },
          "metadata": {},
          "execution_count": 27
        }
      ]
    },
    {
      "cell_type": "code",
      "source": [
        "from nltk.util import ngrams"
      ],
      "metadata": {
        "id": "m7WAGoVfxDXs"
      },
      "id": "m7WAGoVfxDXs",
      "execution_count": null,
      "outputs": []
    },
    {
      "cell_type": "code",
      "source": [
        "# Function to create n-grams from word tokens\n",
        "def create_ngrams(word_tokens, n=10):\n",
        "  # Generate n-grams\n",
        "  ngram_list = list(ngrams(word_tokens, n))\n",
        "\n",
        "  # Convert n-grams to string format\n",
        "  ngram_strings = [' '.join(ngram) for ngram in ngram_list]\n",
        "\n",
        "  return ngram_strings"
      ],
      "metadata": {
        "id": "gvDmGs1Dxg0v"
      },
      "id": "gvDmGs1Dxg0v",
      "execution_count": null,
      "outputs": []
    },
    {
      "cell_type": "code",
      "source": [
        "# Define a function which returns the cosine similarity between 2 vectors\n",
        "def cosine(query, document):\n",
        "  return np.dot(query,document) / (np.linalg.norm(query) * np.linalg.norm(document))"
      ],
      "metadata": {
        "id": "Qwab5x72x6tI"
      },
      "id": "Qwab5x72x6tI",
      "execution_count": null,
      "outputs": []
    },
    {
      "cell_type": "code",
      "source": [
        "\n",
        "# List to store tuples of (sentence, similarity)\n",
        "similarities = []\n",
        "\n",
        "# Loop through each tokenized sentence in the 'split_sentence' column\n",
        "for sent_list in article['10_grams']:\n",
        "    #Encode each tokenized sentence using SBERT model\n",
        "  for tokenized_sent in sent_list:\n",
        "    sent_embedding = sbert_model.encode([tokenized_sent])[0]\n",
        "\n",
        "    # Calculate similarity between query vector and sentence embedding\n",
        "    sim = cosine(query_vec, sent_embedding)\n",
        "\n",
        "    # Append the tuple of (sentence, similarity) to the list\n",
        "    similarities.append((tokenized_sent, sim))\n",
        "\n",
        "# Sort the list based on similarities in descending order\n",
        "similarities.sort(key=lambda x: x[1], reverse=True)\n",
        "\n",
        "# Get the top 5 entries\n",
        "top_5_sentences = similarities[:5]\n",
        "\n",
        "# Print the top 5 sentences with their cosine similarities\n",
        "for i, (sent, sim) in enumerate(top_5_sentences, start=1):\n",
        "  print(f\"Top {i} Sentence = {sent}; similarity = {sim}\")"
      ],
      "metadata": {
        "id": "fMCtAPRHxf8A"
      },
      "id": "fMCtAPRHxf8A",
      "execution_count": null,
      "outputs": []
    },
    {
      "cell_type": "markdown",
      "source": [
        "## Test"
      ],
      "metadata": {
        "id": "rbye8qeknwtw"
      },
      "id": "rbye8qeknwtw"
    },
    {
      "cell_type": "markdown",
      "source": [
        "### Information retrieval"
      ],
      "metadata": {
        "id": "vXdp69s0ppL_"
      },
      "id": "vXdp69s0ppL_"
    },
    {
      "cell_type": "code",
      "source": [],
      "metadata": {
        "id": "cWi7EFannzOn"
      },
      "id": "cWi7EFannzOn",
      "execution_count": null,
      "outputs": []
    },
    {
      "cell_type": "markdown",
      "source": [
        "### Answer Span Extraction"
      ],
      "metadata": {
        "id": "j8_481Lwpt4d"
      },
      "id": "j8_481Lwpt4d"
    },
    {
      "cell_type": "code",
      "source": [],
      "metadata": {
        "id": "X18ruXMLpuVp"
      },
      "id": "X18ruXMLpuVp",
      "execution_count": null,
      "outputs": []
    },
    {
      "cell_type": "markdown",
      "source": [
        "## Proposal"
      ],
      "metadata": {
        "id": "NFh0tAtHpPSD"
      },
      "id": "NFh0tAtHpPSD"
    },
    {
      "cell_type": "code",
      "source": [
        "import numpy as np\n",
        "from nltk.tokenize import word_tokenize\n",
        "from rank_bm25 import BM25Okapi\n",
        "from sentence_transformers import SentenceTransformer\n",
        "from scipy.spatial.distance import cosine\n",
        "from nltk.util import ngrams\n",
        "\n",
        "def cosine_similarity(query, document):\n",
        "  return np.dot(query, document) / (np.linalg.norm(query) * np.linalg.norm(document))\n",
        "\n",
        "def create_ngrams(word_tokens, n=10):\n",
        "  if len(word_tokens) < n:\n",
        "    return []  # Return empty list if not enough tokens for one n-gram\n",
        "  ngram_list = list(ngrams(word_tokens, n))\n",
        "  ngram_strings = [' '.join(ngram) for ngram in ngram_list]\n",
        "  return ngram_strings\n",
        "\n",
        "def question_answer(query):\n",
        "\n",
        "  tokenized_query = word_tokenize(query)\n",
        "  corpus=df['article'].apply(lambda x:word_tokenize(x))\n",
        "\n",
        "  # Information Retrieval with BM25\n",
        "  bm25 = BM25Okapi(corpus)\n",
        "  doc_scores = bm25.get_scores(tokenized_query)\n",
        "  top_doc=bm25.get_top_n(tokenized_query, corpus, n=1)\n",
        "  first=\" \". join(top_doc[0])\n",
        "\n",
        "  # Answer Sentence Extraction using Sentence Embeddings\n",
        "  sbert_model = SentenceTransformer('bert-base-nli-mean-tokens')\n",
        "  query_vec = sbert_model.encode([' '.join(tokenized_query)])[0]\n",
        "  article_10_grams = create_ngrams(word_tokenize(first), n=10)\n",
        "\n",
        "  similarities = []\n",
        "  for gram in article_10_grams:\n",
        "    gram_vec = sbert_model.encode([gram])[0]\n",
        "    sim = cosine_similarity(query_vec, gram_vec)\n",
        "    similarities.append((gram, sim))\n",
        "\n",
        "    # Sort and return the highest similarity n-gram\n",
        "    if not similarities:\n",
        "      return None  # Handle case where no n-grams are generated\n",
        "    similarities.sort(key=lambda x: x[1], reverse=True)\n",
        "  return similarities[0]\n"
      ],
      "metadata": {
        "id": "yss1y3lj6hgf"
      },
      "id": "yss1y3lj6hgf",
      "execution_count": null,
      "outputs": []
    },
    {
      "cell_type": "code",
      "source": [
        "question_answer('Who is the vice chairman of Samsung')"
      ],
      "metadata": {
        "colab": {
          "base_uri": "https://localhost:8080/"
        },
        "id": "LgFWvTsdzxqO",
        "outputId": "4de4c8aa-e920-48d2-b809-eb3085814527"
      },
      "id": "LgFWvTsdzxqO",
      "execution_count": null,
      "outputs": [
        {
          "output_type": "execute_result",
          "data": {
            "text/plain": [
              "(', Jay Y. Lee , the vice chairman of Samsung', 0.9505648)"
            ]
          },
          "metadata": {},
          "execution_count": 58
        }
      ]
    },
    {
      "cell_type": "code",
      "source": [
        "question_answer('How many charges of coercing on Ms. Choi')"
      ],
      "metadata": {
        "colab": {
          "base_uri": "https://localhost:8080/"
        },
        "id": "zO3-z2Wj9J1p",
        "outputId": "0d41f080-3470-4003-db12-1cd22046047e"
      },
      "id": "zO3-z2Wj9J1p",
      "execution_count": null,
      "outputs": [
        {
          "output_type": "execute_result",
          "data": {
            "text/plain": [
              "(', state prosecutors indicted Ms. Choi on charges of coercing', 0.79896456)"
            ]
          },
          "metadata": {},
          "execution_count": 59
        }
      ]
    },
    {
      "cell_type": "code",
      "source": [
        "while True:\n",
        "  user_question = input(\"Enter your question (or type 'quit' to exit): \")\n",
        "\n",
        "  if user_question.lower() == 'quit':\n",
        "      break\n",
        "\n",
        "  # Get and print the answer\n",
        "  print(\"Answer:\", question_answer(user_question))\n"
      ],
      "metadata": {
        "id": "9Eaw_lKBqRZn"
      },
      "id": "9Eaw_lKBqRZn",
      "execution_count": null,
      "outputs": []
    },
    {
      "cell_type": "markdown",
      "id": "9d3a91b4",
      "metadata": {
        "id": "9d3a91b4"
      },
      "source": [
        "# B. References"
      ]
    },
    {
      "cell_type": "markdown",
      "id": "cf7553c1",
      "metadata": {
        "id": "cf7553c1"
      },
      "source": [
        "# C. Appendix"
      ]
    }
  ],
  "metadata": {
    "kernelspec": {
      "display_name": "Python 3",
      "name": "python3"
    },
    "language_info": {
      "codemirror_mode": {
        "name": "ipython",
        "version": 3
      },
      "file_extension": ".py",
      "mimetype": "text/x-python",
      "name": "python",
      "nbconvert_exporter": "python",
      "pygments_lexer": "ipython3",
      "version": "3.9.7"
    },
    "colab": {
      "provenance": [],
      "toc_visible": true,
      "include_colab_link": true
    }
  },
  "nbformat": 4,
  "nbformat_minor": 5
}